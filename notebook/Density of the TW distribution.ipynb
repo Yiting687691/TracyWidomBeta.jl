{
 "cells": [
  {
   "cell_type": "markdown",
   "id": "6c944e48",
   "metadata": {},
   "source": [
    "The following waterfall plot shows the density of the Tracy-Widom distribution for $\\beta=1,2,\\cdots,10$ over the domain $x\\in [-6,5]$ using finite-difference discretization with trapezoidal method with default values for the parameters."
   ]
  },
  {
   "cell_type": "code",
   "execution_count": null,
   "id": "390e9ed4",
   "metadata": {},
   "outputs": [],
   "source": [
    "using TracyWidomBeta,LinearAlgebra,Statistics,SparseArrays,Distributions,Trapz,ApproxFun,SpecialFunctions\n",
    "using RandomMatrices,Plots,LaTeXStrings,TypedTables,StatsBase,FFTW"
   ]
  },
  {
   "cell_type": "code",
   "execution_count": null,
   "id": "bb827722",
   "metadata": {},
   "outputs": [],
   "source": [
    "function water_TW(B)\n",
    "    x=-6:0.01:4\n",
    "    dd = zeros(length(B),length(x))\n",
    "    for i=1:length(B)\n",
    "        global β=B[i]\n",
    "        f=TW(β;pdf=true)\n",
    "        for j=1:length(x)\n",
    "            dd[i,j]=f(x[j])\n",
    "        end\n",
    "    end\n",
    "\n",
    "    δ= 0.8\n",
    "    m = length(B)\n",
    "    slope = 4\n",
    "    dx = 1\n",
    "    dt = 1\n",
    "    sc = 8\n",
    "    up = 12\n",
    "    C = 4\n",
    "\n",
    "    X1 = x[1]:dx:x[end]\n",
    "    X2 = B.-B[1]\n",
    "    tick_shift = 0.05\n",
    "    axis_shift = 0.05\n",
    "    X2 = X2/X2[end]*(δ*(m-1)).+ tick_shift\n",
    "    X3 = X2/slope\n",
    "    x_range = [x[1],x[end]+ δ/slope*m]\n",
    "\n",
    "    p=Plots.plot()\n",
    "    for j = m:-1:1\n",
    "        Plots.plot!(x .+ δ*(j-1)/slope, sc*dd[j,:] .+ δ*(j-1) .+ C, grid = false, legend = false, lw = 5, color = :black, \n",
    "            fillrange = δ*(j-1), fillcolor = :white, seriesalpha = 2, alpha = 0.9,xtickfontsize=15,ytickfontsize=15,legendfontsize=10)\n",
    "    end\n",
    "\n",
    "    ## draws the x axis\n",
    "    Plots.plot!(X1, 0*X1.+0.5.+3, color = :black, yticks = false, xticks = false, xaxis = (false,x_range), \n",
    "        yaxis =(false,[0,δ*(m+5) + up]),xtickfontsize=15,ytickfontsize=15,legendfontsize=10)\n",
    "\n",
    "    ## draws the t axis\n",
    "Plots.plot!(X3 .+ x[end].+0.1, X2.+axis_shift.+0.8.+3, color = :black, yticks = false, xticks = false, xaxis = (false,x_range), \n",
    "        yaxis = (false,[0,δ*(m+5) + up]),xtickfontsize=15,ytickfontsize=15,legendfontsize=10)\n",
    "\n",
    "    ## labelling for the t axis\n",
    "    for j = 1:2:length(X3)\n",
    "    Plots.annotate!(X3[j].+ x[end].+0.1, X2[j]+0.1+0.95+3, Plots.text(\"-\"),xtickfontsize=15,ytickfontsize=15,legendfontsize=10)\n",
    "    Plots.annotate!(X3[j].+ x[end].+0.3, X2[j]+0.9+3, Plots.text(B[j], :left,15),xtickfontsize=15,ytickfontsize=15,legendfontsize=10)\n",
    "    end\n",
    "\n",
    "    ## labelling for the x axis\n",
    "\n",
    "    for j = 2:2:length(X1)\n",
    "        Plots.annotate!(X1[j], 0.5+3, Plots.text(\"|\",7),xtickfontsize=15,ytickfontsize=15,legendfontsize=10)\n",
    "        Plots.annotate!(X1[j], -.4+3, Plots.text(round(X1[j]),15,:below),xtickfontsize=15,ytickfontsize=15,legendfontsize=10)\n",
    "    end\n",
    "    return p\n",
    "end"
   ]
  },
  {
   "cell_type": "code",
   "execution_count": null,
   "id": "3a9e9fd8",
   "metadata": {},
   "outputs": [],
   "source": [
    "B=1:1:10;\n",
    "p=water_TW(B)"
   ]
  },
  {
   "cell_type": "markdown",
   "id": "294cd9b3",
   "metadata": {},
   "source": [
    "The following plot shows the density of the Tracy-Widom distribution for $\\beta=1$ to $\\beta=4$ with step size$=0.2$."
   ]
  },
  {
   "cell_type": "code",
   "execution_count": null,
   "id": "5595617d",
   "metadata": {},
   "outputs": [],
   "source": [
    "p=Plots.plot();\n",
    "B=1:0.2:4;\n",
    "for i=1:length(B)\n",
    "    β=B[i]\n",
    "    F_pdf=TW(β;pdf=true)\n",
    "    if β==1 || β==2 || β==4\n",
    "        p=plot!(F_pdf,lw=5,c=:red,xlim=(-5,5),legend = false,xtickfontsize=11,ytickfontsize=15)\n",
    "    else\n",
    "        p=plot!(F_pdf,lw=2,c=:black,xlim=(-5,5),legend = false,xtickfontsize=11,ytickfontsize=15)\n",
    "    end\n",
    "end\n",
    "p"
   ]
  }
 ],
 "metadata": {
  "@webio": {
   "lastCommId": null,
   "lastKernelId": null
  },
  "kernelspec": {
   "display_name": "Julia 1.8.3",
   "language": "julia",
   "name": "julia-1.8"
  },
  "language_info": {
   "file_extension": ".jl",
   "mimetype": "application/julia",
   "name": "julia",
   "version": "1.8.3"
  }
 },
 "nbformat": 4,
 "nbformat_minor": 5
}
