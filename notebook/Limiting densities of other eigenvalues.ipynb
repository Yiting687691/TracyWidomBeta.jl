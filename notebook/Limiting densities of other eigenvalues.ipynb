{
 "cells": [
  {
   "cell_type": "markdown",
   "id": "47f330b6",
   "metadata": {},
   "source": [
    "The following plots show the limiting distributions of other eigenvalues."
   ]
  },
  {
   "cell_type": "code",
   "execution_count": null,
   "id": "ac3c782c",
   "metadata": {},
   "outputs": [],
   "source": [
    "using TracyWidomBeta,LinearAlgebra,Statistics,SparseArrays,Distributions,Trapz,ApproxFun,SpecialFunctions\n",
    "using RandomMatrices,Plots,LaTeXStrings,TypedTables,StatsBase,FFTW"
   ]
  },
  {
   "cell_type": "code",
   "execution_count": null,
   "id": "431c62b7",
   "metadata": {},
   "outputs": [],
   "source": [
    "function other(β)\n",
    "    p=Plots.plot()\n",
    "    L=1:3\n",
    "    M=10^3\n",
    "    # Set up the time domain\n",
    "    x0=13.0/sqrt(β);xN=-10.0;Δx=-0.001;x=floor(x0):Δx:floor(xN);xl=length(x)\n",
    "    \n",
    "    Φ = x -> erf.(x/sqrt(2))/2 + 0.5\n",
    "    dϕ = x -> exp.(-x^2/2)*1/sqrt(2pi)\n",
    "    g = (x0,β,t) -> Φ( (x0 - cot(t).^2)./sqrt.(4/β * cot.(t)) )\n",
    "    h0 = (x0,β,t) -> t < pi/2 ? g(x0,β,t) : 1.0\n",
    "    mgrid=(n,L) -> L*(1:n)/n\n",
    "    \n",
    "    for i=1:length(L)\n",
    "        \n",
    "        # Set up the initial condition\n",
    "        θ=mgrid(M,L[i]*pi)\n",
    "        h=(1/M)*L[i]*pi\n",
    "        c0=map(t -> h0(x0,β,t),θ)\n",
    "        final_pdf=zeros(xl,1)\n",
    "        final_pdf[1]=0\n",
    "\n",
    "        # Set up the discretization matrices\n",
    "        T=spdiagm(0=>fill(-2.0,M),1=>fill(1.0,M-1),-1=>fill(1.0,M-1))\n",
    "        tt=(-2*(sin.(θ)).^4)/(β*(h^2))\n",
    "        T=spdiagm(0=>vec(tt))*T\n",
    "        um1=ones(Int64,M-2,1);um1=vcat(um1,4);ud=zeros(Int64,M-1,1);ud=vcat(ud,-3);um2=zeros(Int64,M-3,1);um2=vcat(um2,-1)\n",
    "        U=spdiagm(0=>vec(ud),1=>fill(-1.0,M-1),-1=>vec(um1),-2=>vec(um2))\n",
    "\n",
    "        # Step forward with trapezoidal rule\n",
    "        for j=1:xl-1\n",
    "            u1=(1/(2*h))*((x[j].+(2*sin.(2*θ))/β).*(sin.(θ)).^2-(cos.(θ)).^2)\n",
    "            U1=spdiagm(0=>vec(u1))*U\n",
    "            u2=(1/(2*h))*((x[j+1].+(2*sin.(2*θ))/β).*(sin.(θ)).^2-(cos.(θ)).^2)\n",
    "            U2=spdiagm(0=>vec(u2))*U\n",
    "            rhs=(I+(Δx/2)*T+(Δx/2)*U1)*c0\n",
    "            lhs=I-(Δx/2)*T-(Δx/2)*U2\n",
    "            c0=lhs\\rhs;\n",
    "            final=T*c0+U2*c0\n",
    "            final_pdf[j+1]=final[end]\n",
    "        end\n",
    "        left=findall(x->x==-9,x)[1]\n",
    "        right=findall(x->x==3,x)[1]\n",
    "        if i==1\n",
    "            p=plot!(x[right:left],final_pdf[right:left],lw=5,label=\"Largest\",xtickfontsize=15,ytickfontsize=15,\n",
    "                legendfontsize=12)\n",
    "        elseif i==2\n",
    "            p=plot!(x[right:left],final_pdf[right:left],lw=5,label=\"Second Largest\",xtickfontsize=15,ytickfontsize=15,\n",
    "                legendfontsize=12)\n",
    "        elseif i==3\n",
    "            p=plot!(x[right:left],final_pdf[right:left],lw=5,label=\"Third Largest\",xtickfontsize=15,ytickfontsize=15,\n",
    "                legendfontsize=12)\n",
    "        end\n",
    "    end\n",
    "    return p\n",
    "end"
   ]
  },
  {
   "cell_type": "markdown",
   "id": "c2e12f62",
   "metadata": {},
   "source": [
    "For $\\beta=3$, we have"
   ]
  },
  {
   "cell_type": "code",
   "execution_count": null,
   "id": "854fe395",
   "metadata": {},
   "outputs": [],
   "source": [
    "o3=other(3)"
   ]
  },
  {
   "cell_type": "markdown",
   "id": "a35cdbce",
   "metadata": {},
   "source": [
    "For $\\beta=5$, we have"
   ]
  },
  {
   "cell_type": "code",
   "execution_count": null,
   "id": "d92ba4d6",
   "metadata": {},
   "outputs": [],
   "source": [
    "o5=other(5)"
   ]
  },
  {
   "cell_type": "markdown",
   "id": "cb9c7321",
   "metadata": {},
   "source": [
    "For $\\beta=6$, we have"
   ]
  },
  {
   "cell_type": "code",
   "execution_count": null,
   "id": "fcf8983d",
   "metadata": {},
   "outputs": [],
   "source": [
    "o6=other(6)"
   ]
  },
  {
   "cell_type": "markdown",
   "id": "68f91d68",
   "metadata": {},
   "source": [
    "For $\\beta=7$, we have"
   ]
  },
  {
   "cell_type": "code",
   "execution_count": null,
   "id": "fa9997c8",
   "metadata": {},
   "outputs": [],
   "source": [
    "o7=other(7)"
   ]
  }
 ],
 "metadata": {
  "@webio": {
   "lastCommId": null,
   "lastKernelId": null
  },
  "kernelspec": {
   "display_name": "Julia 1.8.3",
   "language": "julia",
   "name": "julia-1.8"
  },
  "language_info": {
   "file_extension": ".jl",
   "mimetype": "application/julia",
   "name": "julia",
   "version": "1.8.3"
  }
 },
 "nbformat": 4,
 "nbformat_minor": 5
}
