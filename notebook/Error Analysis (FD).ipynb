{
 "cells": [
  {
   "cell_type": "markdown",
   "id": "6c65dfed",
   "metadata": {},
   "source": [
    "## Error plot with respect to $\\beta$"
   ]
  },
  {
   "cell_type": "code",
   "execution_count": null,
   "id": "52943638",
   "metadata": {},
   "outputs": [],
   "source": [
    "using TracyWidomBeta,LinearAlgebra,Statistics,SparseArrays,Distributions,Trapz,ApproxFun,SpecialFunctions\n",
    "using RandomMatrices,Plots,LaTeXStrings,TypedTables,StatsBase,FFTW"
   ]
  },
  {
   "cell_type": "markdown",
   "id": "88d8f227",
   "metadata": {},
   "source": [
    "To compute the errors, we treat the following as the ground truths."
   ]
  },
  {
   "cell_type": "code",
   "execution_count": null,
   "id": "220b621b",
   "metadata": {},
   "outputs": [],
   "source": [
    "TW2=TracyWidom;\n",
    "F1=Fun(x->cdf(TW2,x; beta=1,num_points=300),-10..13);\n",
    "F2=Fun(x->cdf(TW2,x; beta=2,num_points=300),-10..13);\n",
    "F4=Fun(x->cdf(TW2,x; beta=4,num_points=300),-10..13);\n",
    "f1=F1';\n",
    "f2=F2';\n",
    "f4=F4';"
   ]
  },
  {
   "cell_type": "markdown",
   "id": "ff029565",
   "metadata": {},
   "source": [
    "The following plot shows how the absolute error (CDF) over the entire domain $x\\in\\left[-10,13/\\sqrt{\\beta}\\right]$ changes with respect to $\\beta=1,2,4$. $\\Delta x=-0.001$ and $M=1000$ are used."
   ]
  },
  {
   "cell_type": "code",
   "execution_count": null,
   "id": "a1747cf2",
   "metadata": {},
   "outputs": [],
   "source": [
    "function err_cdf(D1,D2,D4)\n",
    "    er_cdf=Plots.plot();\n",
    "    beta=[1,2,4];\n",
    "    err1=zeros(length(D1),1);\n",
    "    err2=zeros(length(D2),1);\n",
    "    err4=zeros(length(D4),1);\n",
    "    for j=1:length(beta)\n",
    "        global β=beta[j]\n",
    "        F_cdf=TW(β;Δx_f=-0.001)\n",
    "        if β==1\n",
    "            for i=1:length(D1)\n",
    "                temp=D1[i]\n",
    "                err1[i]=abs(F_cdf(temp)-cdf(TW2,temp;beta=1,num_points=300))\n",
    "            end\n",
    "        elseif β==2\n",
    "            for i=1:length(D2)\n",
    "                temp=D2[i]\n",
    "                err2[i]=abs(F_cdf(temp)-cdf(TW2,temp;beta=2,num_points=300))\n",
    "            end\n",
    "        elseif β==4\n",
    "            for i=1:length(D4)\n",
    "                temp=D4[i]\n",
    "                err4[i]=abs(F_cdf(temp/(2^(1/6)))-cdf(TW2,temp;beta=4,num_points=300))\n",
    "            end\n",
    "        end\n",
    "        for i=1:length(D1)\n",
    "            if err1[i]<10^(-16)\n",
    "                err1[i]=10^(-16)\n",
    "            end\n",
    "        end\n",
    "        for i=1:length(D2)\n",
    "            if err2[i]<10^(-16)\n",
    "                err2[i]=10^(-16)\n",
    "            end\n",
    "        end\n",
    "        for i=1:length(D4)\n",
    "            if err4[i]<10^(-16)\n",
    "                err4[i]=10^(-16)\n",
    "            end\n",
    "        end\n",
    "        if β==1\n",
    "            er_cdf=Plots.plot!(D1,err1,lw=5,label=L\"$\\beta=1$\",yaxis=:log10,xtickfontsize=15,ytickfontsize=15,legendfontsize=15,\n",
    "                yticks=[10^(-16),10^(-14),10^(-12),10^(-10),10^(-8),10^(-6),10^(-4)],\n",
    "                xticks=D1[end]:2:D1[1],legend=:topright)\n",
    "        elseif β==2\n",
    "            er_cdf=Plots.plot!(D2,err2,lw=5,label=L\"$\\beta=2$\",yaxis=:log10,xtickfontsize=15,ytickfontsize=15,legendfontsize=15,\n",
    "                yticks=[10^(-16),10^(-14),10^(-12),10^(-10),10^(-8),10^(-6),10^(-4)],\n",
    "                xticks=D1[end]:2:D1[1],legend=:topright)\n",
    "        elseif β==4\n",
    "            er_cdf=Plots.plot!(D4,err4,lw=5,label=L\"$\\beta=4$\",yaxis=:log10,xtickfontsize=15,ytickfontsize=15,legendfontsize=15,\n",
    "                yticks=[10^(-16),10^(-14),10^(-12),10^(-10),10^(-8),10^(-6),10^(-4)],\n",
    "                xticks=D1[end]:2:D1[1],legend=:topright)\n",
    "        end\n",
    "    end\n",
    "    return er_cdf\n",
    "end"
   ]
  },
  {
   "cell_type": "code",
   "execution_count": null,
   "id": "f0be5790",
   "metadata": {},
   "outputs": [],
   "source": [
    "D1=(13/sqrt(1)):-0.05:-10;\n",
    "D2=(13/sqrt(2)):-0.05:-10;\n",
    "D4=6.5:-0.05:-10;\n",
    "er_cdf=err_cdf(D1,D2,D4)"
   ]
  },
  {
   "cell_type": "markdown",
   "id": "d7de53b6",
   "metadata": {},
   "source": [
    "The following table shows the absolute errors for $x=0,\\pm 2,\\pm 4,\\pm 6, \\pm 8$, $\\beta=1,2,4$."
   ]
  },
  {
   "cell_type": "code",
   "execution_count": null,
   "id": "dd89ae08",
   "metadata": {},
   "outputs": [],
   "source": [
    "X=-8:2:6;\n",
    "err=zeros(length(X),3);\n",
    "B=[1,2,4];\n",
    "for i=1:length(B)\n",
    "    global β=B[i]\n",
    "    F_cdf=TW(β)\n",
    "    for j=1:length(X)\n",
    "        temp=X[j]\n",
    "        if β==4\n",
    "            err[j,3]=abs(F_cdf(temp/(2^(1/6)))-cdf(TW2,temp;beta=4,num_points=300))\n",
    "        elseif β==1\n",
    "            err[j,1]=abs(F_cdf(temp)-cdf(TW2,temp;beta=1,num_points=300))\n",
    "        elseif β==2\n",
    "            err[j,2]=abs(F_cdf(temp)-cdf(TW2,temp;beta=2,num_points=300))\n",
    "        end\n",
    "    end\n",
    "end\n",
    "err1=err[:,1];err2=err[:,2];err4=err[:,3];"
   ]
  },
  {
   "cell_type": "code",
   "execution_count": null,
   "id": "e9950868",
   "metadata": {},
   "outputs": [],
   "source": [
    "Table(x=X,β1=err1,β2=err2,β4=err4)"
   ]
  },
  {
   "cell_type": "markdown",
   "id": "46386918",
   "metadata": {},
   "source": [
    "Similarly, the following plot is for the PDF."
   ]
  },
  {
   "cell_type": "code",
   "execution_count": null,
   "id": "76cb383e",
   "metadata": {},
   "outputs": [],
   "source": [
    "function err_pdf(D1,D2,D4)\n",
    "    er_pdf=Plots.plot();\n",
    "    beta=[1,2,4];\n",
    "    err1=zeros(length(D1),1);\n",
    "    err2=zeros(length(D2),1);\n",
    "    err4=zeros(length(D4),1);\n",
    "    for j=1:length(beta)\n",
    "        global β=beta[j]\n",
    "        F_pdf=TW(β;pdf=true,Δx_f=-0.001)\n",
    "        if β==1\n",
    "            for i=1:length(D1)\n",
    "                temp=D1[i]\n",
    "                err1[i]=abs(F_pdf(temp)-f1(temp))\n",
    "            end\n",
    "        elseif β==2\n",
    "            for i=1:length(D2)\n",
    "                temp=D2[i]\n",
    "                err2[i]=abs(F_pdf(temp)-f2(temp))\n",
    "            end\n",
    "        elseif β==4\n",
    "            for i=1:length(D4)\n",
    "                temp=D4[i]\n",
    "                err4[i]=abs(F_pdf(temp/(2^(1/6)))*(2^(-1/6))-f4(temp))\n",
    "            end\n",
    "        end\n",
    "        for i=1:length(D1)\n",
    "            if err1[i]<10^(-16)\n",
    "                err1[i]=10^(-16)\n",
    "            end\n",
    "        end\n",
    "        for i=1:length(D2)\n",
    "            if err2[i]<10^(-16)\n",
    "                err2[i]=10^(-16)\n",
    "            end\n",
    "        end\n",
    "        for i=1:length(D4)\n",
    "            if err4[i]<10^(-16)\n",
    "                err4[i]=10^(-16)\n",
    "            end\n",
    "        end\n",
    "        if β==1\n",
    "            er_pdf=Plots.plot!(D1,err1,lw=5,label=L\"$\\beta=1$\",yaxis=:log10,xtickfontsize=15,ytickfontsize=15,legendfontsize=10,\n",
    "                yticks=[10^(-16),10^(-14),10^(-12),10^(-10),10^(-8),10^(-6),10^(-4)],\n",
    "                xticks=D1[end]:2:D1[1],legend=:topright)\n",
    "        elseif β==2\n",
    "            er_pdf=Plots.plot!(D2,err2,lw=5,label=L\"$\\beta=2$\",yaxis=:log10,xtickfontsize=15,ytickfontsize=15,legendfontsize=10,\n",
    "                yticks=[10^(-16),10^(-14),10^(-12),10^(-10),10^(-8),10^(-6),10^(-4)],\n",
    "                xticks=D1[end]:2:D1[1],legend=:topright)\n",
    "        elseif β==4\n",
    "            er_pdf=Plots.plot!(D4,err4,lw=5,label=L\"$\\beta=4$\",yaxis=:log10,xtickfontsize=15,ytickfontsize=15,legendfontsize=10,\n",
    "                yticks=[10^(-16),10^(-14),10^(-12),10^(-10),10^(-8),10^(-6),10^(-4)],\n",
    "                xticks=D1[end]:2:D1[1],legend=:topright)\n",
    "        end\n",
    "    end\n",
    "    return er_pdf\n",
    "end"
   ]
  },
  {
   "cell_type": "code",
   "execution_count": null,
   "id": "64106170",
   "metadata": {},
   "outputs": [],
   "source": [
    "D1=(13/sqrt(1)):-0.05:-10;\n",
    "D2=(13/sqrt(2)):-0.05:-10;\n",
    "D4=6.5:-0.05:-10;\n",
    "er_pdf=err_pdf(D1,D2,D4)"
   ]
  },
  {
   "cell_type": "markdown",
   "id": "2832715e",
   "metadata": {},
   "source": [
    "## Error plot with respect to $\\left|\\Delta x\\right|$ and $M$"
   ]
  },
  {
   "cell_type": "markdown",
   "id": "1d0f8e67",
   "metadata": {},
   "source": [
    "The following plots show how the absolute error (CDF) over the entire domain $x\\in\\left[-10,13/\\sqrt{\\beta}\\right]$ changes when $\\left|\\Delta x\\right|$ decreases and $M$ increases for a fixed $\\beta$-value. $\\Delta x=-0.004,-0.002,-0.001$ and $M=\\lfloor -1/\\Delta x\\rfloor$ are used."
   ]
  },
  {
   "cell_type": "code",
   "execution_count": null,
   "id": "9f39ec37",
   "metadata": {},
   "outputs": [],
   "source": [
    "function err_cdfc(β,D)\n",
    "    er_cdfc=Plots.plot();\n",
    "    delta_x=[-0.004,-0.002,-0.001];\n",
    "    for j=1:length(delta_x)\n",
    "        err=zeros(length(D),1)\n",
    "        dx=delta_x[j];\n",
    "        F_cdf=TW(β;Δx_f=dx)\n",
    "        for i=1:length(D)\n",
    "            temp=D[i]\n",
    "            if β==4\n",
    "                err[i]=abs(F_cdf(temp/(2^(1/6)))-cdf(TW2,temp;beta=4,num_points=300))\n",
    "            elseif β==1\n",
    "                err[i]=abs(F_cdf(temp)-cdf(TW2,temp;beta=1,num_points=300))\n",
    "            elseif β==2\n",
    "                err[i]=abs(F_cdf(temp)-cdf(TW2,temp;beta=2,num_points=300))\n",
    "            end\n",
    "        end\n",
    "        for i=1:length(D)\n",
    "            if err[i]<10^(-16)\n",
    "                err[i]=10^(-16)\n",
    "            end\n",
    "        end\n",
    "        if j==1\n",
    "            er_cdfc=Plots.plot!(D,err,lw=5,label=L\"$\\Delta x=-0.004$\",yaxis=:log10,xtickfontsize=15,ytickfontsize=15,legendfontsize=15,\n",
    "                yticks=[10^(-16),10^(-14),10^(-12),10^(-10),10^(-8),10^(-6),10^(-4),10^(-3),10^(-2)],\n",
    "                xticks=ceil(D[end]):2:floor(D[1]),legend=:bottom)\n",
    "        elseif j==2\n",
    "            er_cdfc=Plots.plot!(D,err,lw=5,label=L\"$\\Delta x=-0.002$\",yaxis=:log10,xtickfontsize=15,ytickfontsize=15,legendfontsize=15,\n",
    "                yticks=[10^(-16),10^(-14),10^(-12),10^(-10),10^(-8),10^(-6),10^(-4),10^(-3),10^(-2)],\n",
    "                xticks=ceil(D[end]):2:floor(D[1]),legend=:bottom)\n",
    "        elseif j==3\n",
    "            er_cdfc=Plots.plot!(D,err,lw=5,label=L\"$\\Delta x=-0.001$\",yaxis=:log10,xtickfontsize=15,ytickfontsize=15,legendfontsize=15,\n",
    "                yticks=[10^(-16),10^(-14),10^(-12),10^(-10),10^(-8),10^(-6),10^(-4),10^(-3),10^(-2)],\n",
    "                xticks=ceil(D[end]):2:floor(D[1]),legend=:bottom)\n",
    "        end\n",
    "    end\n",
    "    return er_cdfc\n",
    "end"
   ]
  },
  {
   "cell_type": "markdown",
   "id": "2fda7ac4",
   "metadata": {},
   "source": [
    "For $\\beta=1$, we have"
   ]
  },
  {
   "cell_type": "code",
   "execution_count": null,
   "id": "1f936d77",
   "metadata": {},
   "outputs": [],
   "source": [
    "D=13:-0.05:-10;\n",
    "er_cdfc=err_cdfc(1,D)"
   ]
  },
  {
   "cell_type": "markdown",
   "id": "c302c594",
   "metadata": {},
   "source": [
    "For $\\beta=2$, we have"
   ]
  },
  {
   "cell_type": "code",
   "execution_count": null,
   "id": "844a6af0",
   "metadata": {},
   "outputs": [],
   "source": [
    "D=13/sqrt(2):-0.05:-10;\n",
    "er_cdfc=err_cdfc(2,D)"
   ]
  },
  {
   "cell_type": "markdown",
   "id": "30622ce6",
   "metadata": {},
   "source": [
    "For $\\beta=4$, we have"
   ]
  },
  {
   "cell_type": "code",
   "execution_count": null,
   "id": "903f1903",
   "metadata": {},
   "outputs": [],
   "source": [
    "D=6.5:-0.05:-10;\n",
    "er_cdfc=err_cdfc(4,D)"
   ]
  },
  {
   "cell_type": "markdown",
   "id": "b732a8fa",
   "metadata": {},
   "source": [
    "Similarly, the following plots are for the PDF."
   ]
  },
  {
   "cell_type": "code",
   "execution_count": null,
   "id": "e7bbc148",
   "metadata": {},
   "outputs": [],
   "source": [
    "function err_pdfc(β,D)\n",
    "    er_pdfc=Plots.plot();\n",
    "    delta_x=[-0.004,-0.002,-0.001];\n",
    "    for j=1:length(delta_x)\n",
    "        err=zeros(length(D),1)\n",
    "        dx=delta_x[j];\n",
    "        F_pdf=TW(β;pdf=true,Δx_f=dx)\n",
    "        for i=1:length(D)\n",
    "            temp=D[i]\n",
    "            if β==4\n",
    "                err[i]=abs(F_pdf(temp/(2^(1/6)))*(2^(-1/6))-f4(temp))\n",
    "            elseif β==1\n",
    "                err[i]=abs(F_pdf(temp)-f1(temp))\n",
    "            elseif β==2\n",
    "                err[i]=abs(F_pdf(temp)-f2(temp))\n",
    "            end\n",
    "        end\n",
    "        for i=1:length(D)\n",
    "            if err[i]<10^(-16)\n",
    "                err[i]=10^(-16)\n",
    "            end\n",
    "        end\n",
    "        if j==1\n",
    "            er_pdfc=Plots.plot!(D,err,lw=5,label=L\"$\\Delta x=-0.004$\",yaxis=:log10,xtickfontsize=15,ytickfontsize=15,legendfontsize=15,\n",
    "                yticks=[10^(-16),10^(-14),10^(-12),10^(-10),10^(-8),10^(-6),10^(-4),10^(-3),10^(-2)],\n",
    "                xticks=ceil(D[end]):2:floor(D[1]),legend=:bottom)\n",
    "        elseif j==2\n",
    "            er_pdfc=Plots.plot!(D,err,lw=5,label=L\"$\\Delta x=-0.002$\",yaxis=:log10,xtickfontsize=15,ytickfontsize=15,legendfontsize=15,\n",
    "                yticks=[10^(-16),10^(-14),10^(-12),10^(-10),10^(-8),10^(-6),10^(-4),10^(-3),10^(-2)],\n",
    "                xticks=ceil(D[end]):2:floor(D[1]),legend=:bottom)\n",
    "        elseif j==3\n",
    "            er_pdfc=Plots.plot!(D,err,lw=5,label=L\"$\\Delta x=-0.001$\",yaxis=:log10,xtickfontsize=15,ytickfontsize=15,legendfontsize=15,\n",
    "                yticks=[10^(-16),10^(-14),10^(-12),10^(-10),10^(-8),10^(-6),10^(-4),10^(-3),10^(-2)],\n",
    "                xticks=ceil(D[end]):2:floor(D[1]),legend=:bottom)\n",
    "        end\n",
    "    end\n",
    "    return er_pdfc\n",
    "end"
   ]
  },
  {
   "cell_type": "markdown",
   "id": "f2023879",
   "metadata": {},
   "source": [
    "For $\\beta=1$, we have"
   ]
  },
  {
   "cell_type": "code",
   "execution_count": null,
   "id": "6f90ff0f",
   "metadata": {},
   "outputs": [],
   "source": [
    "D=13:-0.05:-10;\n",
    "er_pdfc=err_pdfc(1,D)"
   ]
  },
  {
   "cell_type": "markdown",
   "id": "f97f0454",
   "metadata": {},
   "source": [
    "For $\\beta=2$, we have"
   ]
  },
  {
   "cell_type": "code",
   "execution_count": null,
   "id": "0ca4445e",
   "metadata": {},
   "outputs": [],
   "source": [
    "D=13/sqrt(2):-0.05:-10;\n",
    "er_pdfc=err_pdfc(2,D)"
   ]
  },
  {
   "cell_type": "markdown",
   "id": "32f5fe12",
   "metadata": {},
   "source": [
    "For $\\beta=4$, we have"
   ]
  },
  {
   "cell_type": "code",
   "execution_count": null,
   "id": "c8a64288",
   "metadata": {},
   "outputs": [],
   "source": [
    "D=6.5:-0.05:-10;\n",
    "er_pdfc=err_pdfc(4,D)"
   ]
  },
  {
   "cell_type": "markdown",
   "id": "bf6d9d3c",
   "metadata": {},
   "source": [
    "## Order of error plot"
   ]
  },
  {
   "cell_type": "markdown",
   "id": "2d0ac88c",
   "metadata": {},
   "source": [
    "The following plot shows the order of error of the finite-difference discretization (CDF) using trapezoidal method for $\\beta=2$, $x_{0}=\\lceil 13/\\sqrt{\\beta}\\rceil$, at $x=-2$ before interpolation with $M=100$. We treat the case $\\Delta x=-0.001$ as the reference to compare with. $\\Delta x=-0.02,-0.01,-0.005$ are used."
   ]
  },
  {
   "cell_type": "code",
   "execution_count": null,
   "id": "7f1b51c9",
   "metadata": {},
   "outputs": [],
   "source": [
    "β=2;\n",
    "xx=-2;\n",
    "result_ref=TW(β;x0=ceil(13/sqrt(β)),interp=false,Δx_f=-0.001,M_f=100);\n",
    "x_ref=result_ref[1];F_ref=result_ref[2];ind=findall(x -> x == xx, x_ref)[1];"
   ]
  },
  {
   "cell_type": "code",
   "execution_count": null,
   "id": "b1794e52",
   "metadata": {},
   "outputs": [],
   "source": [
    "del_x=[-0.02,-0.01,-0.005];\n",
    "err=zeros(1,length(del_x));\n",
    "for i=1:length(del_x)\n",
    "    dx=del_x[i];\n",
    "    result_cdf=TW(β;x0=ceil(13/sqrt(β)),interp=false,Δx_f=dx,M_f=100);\n",
    "    x_cdf=result_cdf[1];F_cdf=result_cdf[2];\n",
    "    ind2=findall(x -> x == xx, x_cdf)[1];\n",
    "    err[i]=abs(F_cdf[ind2]-F_ref[ind]);\n",
    "end"
   ]
  },
  {
   "cell_type": "code",
   "execution_count": null,
   "id": "99bbd56e",
   "metadata": {},
   "outputs": [],
   "source": [
    "p=Plots.plot();\n",
    "p=plot!(del_x.*(-1),vec(err),lw=5,label=\"FD(Trapz)\",legend=:outerright,yaxis=:log10,xaxis=:log10,yticks=[10^(-16),10^(-15),10^(-14),\n",
    "        10^(-13),10^(-12),10^(-11),10^(-10),10^(-9),10^(-8),10^(-7),10^(-6),10^(-5),10^(-4),10^(-3),10^(-2),10^(-1),1,10],\n",
    "    marker=(:circle,5),xtickfontsize=15,ytickfontsize=15,legendfontsize=12)\n",
    "p=plot!(del_x.*(-1),10^(-1.2)*(del_x.*(-1)).^(2),lw=5,label=\"Slope=2\",yaxis=:log10,xaxis=:log10,ls=:dot,legend=:outerright)"
   ]
  },
  {
   "cell_type": "markdown",
   "id": "08c9a925",
   "metadata": {},
   "source": [
    "The following plot shows the order of error of the finite-difference discretization (CDF) using BDF3 for $\\beta=2$, $x_{0}=\\lfloor 13/\\sqrt{\\beta}\\rfloor$, at $x=-2$ before interpolation with $M=100$. We treat the case $\\Delta x=-0.001$ as the reference to compare with. $\\Delta x=-0.02,-0.01,-0.005$ are used."
   ]
  },
  {
   "cell_type": "code",
   "execution_count": null,
   "id": "bbc31eda",
   "metadata": {},
   "outputs": [],
   "source": [
    "β=2;\n",
    "xx=-2;\n",
    "result_ref3=TW(β;x0=ceil(13/sqrt(β)),step=\"bdf3\",interp=false,Δx_f=-0.001,M_f=100);\n",
    "x_ref3=result_ref3[1];F_ref3=result_ref3[2];ind3=findall(x -> x == xx, x_ref3)[1];"
   ]
  },
  {
   "cell_type": "code",
   "execution_count": null,
   "id": "7e774172",
   "metadata": {},
   "outputs": [],
   "source": [
    "del_x=[-0.02,-0.01,-0.005];\n",
    "err3=zeros(1,length(del_x));\n",
    "for i=1:length(del_x)\n",
    "    dx=del_x[i];\n",
    "    result_cdf3=TW(β;x0=ceil(13/sqrt(β)),step=\"bdf3\",interp=false,Δx_f=dx,M_f=100);\n",
    "    x_cdf3=result_cdf3[1];F_cdf3=result_cdf3[2];\n",
    "    ind32=findall(x -> x == xx, x_cdf3)[1];\n",
    "    err3[i]=abs(F_cdf3[ind32]-F_ref3[ind3]);\n",
    "end"
   ]
  },
  {
   "cell_type": "code",
   "execution_count": null,
   "id": "fbadff33",
   "metadata": {},
   "outputs": [],
   "source": [
    "p=plot!(del_x.*(-1),vec(err3),lw=5,label=\"FD(BDF3)\",legend=:outerright,yaxis=:log10,xaxis=:log10,yticks=[10^(-16),10^(-15),10^(-14),\n",
    "        10^(-13),10^(-12),10^(-11),10^(-10),10^(-9),10^(-8),10^(-7),10^(-6),10^(-5),10^(-4),10^(-3),10^(-2),10^(-1),1,10],\n",
    "    marker=(:circle,5),xtickfontsize=15,ytickfontsize=15,legendfontsize=12)\n",
    "p=plot!(del_x.*(-1),10^(-1.2)*(del_x.*(-1)).^(3),lw=5,label=\"Slope=3\",yaxis=:log10,xaxis=:log10,ls=:dot,legend=:outerright)"
   ]
  },
  {
   "cell_type": "markdown",
   "id": "96715e8f",
   "metadata": {},
   "source": [
    "The following plot shows the order of error of the finite-difference discretization (CDF) using BDF4 for $\\beta=2$, $x_{0}=\\lceil 13/\\sqrt{\\beta}\\rceil$, at $x=-2$ before interpolation with $M=100$. We treat the case $\\Delta x=-0.001$ as the reference to compare with. $\\Delta x=-0.02,-0.01,-0.005$ are used."
   ]
  },
  {
   "cell_type": "code",
   "execution_count": null,
   "id": "166c8914",
   "metadata": {},
   "outputs": [],
   "source": [
    "β=2;\n",
    "xx=-2;\n",
    "result_ref4=TW(β;x0=ceil(13/sqrt(β)),step=\"bdf4\",interp=false,Δx_f=-0.001,M_f=100);\n",
    "x_ref4=result_ref4[1];F_ref4=result_ref4[2];ind4=findall(x -> x == xx, x_ref4)[1];"
   ]
  },
  {
   "cell_type": "code",
   "execution_count": null,
   "id": "411e0ba5",
   "metadata": {},
   "outputs": [],
   "source": [
    "del_x=[-0.02,-0.01,-0.005];\n",
    "err4=zeros(1,length(del_x));\n",
    "for i=1:length(del_x)\n",
    "    dx=del_x[i];\n",
    "    result_cdf4=TW(β;x0=ceil(13/sqrt(β)),step=\"bdf4\",interp=false,Δx_f=dx,M_f=100);\n",
    "    x_cdf4=result_cdf4[1];F_cdf4=result_cdf4[2];\n",
    "    ind42=findall(x -> x == xx, x_cdf4)[1];\n",
    "    err4[i]=abs(F_cdf4[ind42]-F_ref4[ind4]);\n",
    "end"
   ]
  },
  {
   "cell_type": "code",
   "execution_count": null,
   "id": "155bdb20",
   "metadata": {},
   "outputs": [],
   "source": [
    "p=plot!(del_x.*(-1),vec(err4),lw=5,label=\"FD(BDF4)\",legend=:outerright,yaxis=:log10,xaxis=:log10,yticks=[10^(-16),10^(-15),10^(-14),\n",
    "        10^(-13),10^(-12),10^(-11),10^(-10),10^(-9),10^(-8),10^(-7),10^(-6),10^(-5),10^(-4),10^(-3),10^(-2),10^(-1),1,10],\n",
    "    marker=(:circle,5),xtickfontsize=15,ytickfontsize=15,legendfontsize=12)\n",
    "p=plot!(del_x.*(-1),10^(-0.3)*(del_x.*(-1)).^(4),lw=5,label=\"Slope=4\",yaxis=:log10,xaxis=:log10,ls=:dot,legend=:outerright)"
   ]
  },
  {
   "cell_type": "markdown",
   "id": "bccefc57",
   "metadata": {},
   "source": [
    "The following plot shows the order of error of the finite-difference discretization (CDF) using BDF5 for $\\beta=2$, $x_{0}=\\lceil 13/\\sqrt{\\beta}\\rceil$, at $x=-2$ before interpolation with $M=100$. We treat the case $\\Delta x=-0.001$ as the reference to compare with. $\\Delta x=-0.03,-0.025,-0.02$ are used."
   ]
  },
  {
   "cell_type": "code",
   "execution_count": null,
   "id": "c65748fb",
   "metadata": {},
   "outputs": [],
   "source": [
    "β=2;\n",
    "xx=-2;\n",
    "result_ref5=TW(β;x0=ceil(13/sqrt(β)),step=\"bdf5\",interp=false,Δx_f=-0.001,M_f=100);\n",
    "x_ref5=result_ref5[1];F_ref5=result_ref5[2];ind5=findall(x -> x == xx, x_ref5)[1];"
   ]
  },
  {
   "cell_type": "code",
   "execution_count": null,
   "id": "791585c5",
   "metadata": {},
   "outputs": [],
   "source": [
    "del_x=[-0.03,-0.025,-0.02];\n",
    "err5=zeros(1,length(del_x));\n",
    "for i=1:length(del_x)\n",
    "    dx=del_x[i];\n",
    "    result_cdf5=TW(β;x0=ceil(13/sqrt(β)),step=\"bdf5\",interp=false,Δx_f=dx,M_f=100);\n",
    "    x_cdf5=result_cdf5[1];F_cdf5=result_cdf5[2];\n",
    "    ind52=findall(x -> x == xx, x_cdf5)[1];\n",
    "    err5[i]=abs(F_cdf5[ind52]-F_ref5[ind5]);\n",
    "end"
   ]
  },
  {
   "cell_type": "code",
   "execution_count": null,
   "id": "e67ef1c5",
   "metadata": {},
   "outputs": [],
   "source": [
    "p=Plots.plot();\n",
    "p=plot!(del_x.*(-1),vec(err5),lw=5,label=\"FD(BDF5)\",legend=:bottomright,yaxis=:log10,xaxis=:log10,yticks=[10^(-16),10^(-15),10^(-14),\n",
    "        10^(-13),10^(-12),10^(-11),10^(-10),10^(-9),10^(-8),10^(-7),10^(-6),10^(-5),10^(-4),10^(-3),10^(-2),10^(-1),1,10],\n",
    "    marker=(:circle,5),xtickfontsize=15,ytickfontsize=15,legendfontsize=15)\n",
    "p=plot!(del_x.*(-1),10^(-0.45)*(del_x.*(-1)).^(5),lw=5,label=\"Slope=5\",yaxis=:log10,xaxis=:log10,ls=:dot,legend=:bottomright)"
   ]
  },
  {
   "cell_type": "markdown",
   "id": "8484f8e5",
   "metadata": {},
   "source": [
    "The following plot shows the order of error of the finite-difference discretization (CDF) using BDF6 for $\\beta=2$, $x_{0}=\\lceil 13/\\sqrt{\\beta}\\rceil$, at $x=-2$ before interpolation with $M=60$. We treat the case $\\Delta x=-0.001$ as the reference to compare with. $\\Delta x=-0.05,-0.04,-0.03$ are used."
   ]
  },
  {
   "cell_type": "code",
   "execution_count": null,
   "id": "9f3e1215",
   "metadata": {},
   "outputs": [],
   "source": [
    "β=2;\n",
    "xx=-2;\n",
    "result_ref6=TW(β;x0=ceil(13/sqrt(β)),step=\"bdf6\",interp=false,Δx_f=-0.001,M_f=60);\n",
    "x_ref6=result_ref6[1];F_ref6=result_ref6[2];ind6=findall(x -> x == xx, x_ref6)[1];"
   ]
  },
  {
   "cell_type": "code",
   "execution_count": null,
   "id": "fca231e7",
   "metadata": {},
   "outputs": [],
   "source": [
    "del_x=[-0.05,-0.04,-0.03];\n",
    "err6=zeros(1,length(del_x));\n",
    "for i=1:length(del_x)\n",
    "    dx=del_x[i];\n",
    "    result_cdf6=TW(β;x0=ceil(13/sqrt(β)),step=\"bdf6\",interp=false,Δx_f=dx,M_f=60);\n",
    "    x_cdf6=result_cdf6[1];F_cdf6=result_cdf6[2];\n",
    "    ind62=findall(x -> x == xx, x_cdf6)[1];\n",
    "    err6[i]=abs(F_cdf6[ind62]-F_ref6[ind6]);\n",
    "end"
   ]
  },
  {
   "cell_type": "code",
   "execution_count": null,
   "id": "501d65ad",
   "metadata": {},
   "outputs": [],
   "source": [
    "p=Plots,plot();\n",
    "p=plot!(del_x.*(-1),vec(err6),lw=5,label=\"FD(BDF6)\",legend=:bottomright,yaxis=:log10,xaxis=:log10,yticks=[10^(-16),10^(-15),10^(-14),\n",
    "        10^(-13),10^(-12),10^(-11),10^(-10),10^(-9),10^(-8),10^(-7),10^(-6),10^(-5),10^(-4),10^(-3),10^(-2),10^(-1),1,10],\n",
    "    marker=(:circle,5),xtickfontsize=15,ytickfontsize=15,legendfontsize=15)\n",
    "p=plot!(del_x.*(-1),10^(0.15)*(del_x.*(-1)).^(6),lw=5,label=\"Slope=6\",yaxis=:log10,xaxis=:log10,ls=:dot,legend=:bottomright)"
   ]
  },
  {
   "cell_type": "markdown",
   "id": "90c61a08",
   "metadata": {},
   "source": [
    "## Error plot with respect to $x_{0}$"
   ]
  },
  {
   "cell_type": "markdown",
   "id": "48a2f4e1",
   "metadata": {},
   "source": [
    "The following plot shows the absolute error (CDF) using trapezoidal method after interpolation over $x=-8,-7,\\cdots,x_{0}$ with respect to $x_{0}$. $\\beta=1,2,4$, $x_{0}=13,12,11,10,9,8,7,6,5,4,3,2$."
   ]
  },
  {
   "cell_type": "code",
   "execution_count": null,
   "id": "d09fb645",
   "metadata": {},
   "outputs": [],
   "source": [
    "Beta=[1,2,4];\n",
    "X=[13,12,11,10,9,8,7,6,5,4,3,2];\n",
    "p=Plots.plot();\n",
    "for i=1:length(Beta)\n",
    "    global β=Beta[i];\n",
    "    err=zeros(1,length(X));\n",
    "    for j=1:length(X)\n",
    "        x00=X[j];\n",
    "        xx=-8:1:x00\n",
    "        E=zeros(1,length(xx));\n",
    "        F_cdf=TW(β;x0=x00);\n",
    "        if β==4\n",
    "            for k=1:length(xx)\n",
    "                temp=xx[k]\n",
    "                E[k]=abs(F_cdf(temp/(2^(1/6)))-cdf(TW2,temp;beta=β,num_points=300));\n",
    "            end\n",
    "            err[j]=maximum(E);\n",
    "        else\n",
    "            for k=1:length(xx)\n",
    "                temp=xx[k]\n",
    "                E[k]=abs(F_cdf(temp)-cdf(TW2,temp;beta=β,num_points=300));\n",
    "            end\n",
    "            err[j]=maximum(E);\n",
    "        end\n",
    "    end\n",
    "    if β==1\n",
    "        p=plot!(X,vec(err),lw=5,label=L\"$\\beta=1$\",legend=:topright,yaxis=:log10,xticks=X,yticks=[10^(-16),10^(-14),\n",
    "            10^(-12),10^(-10),10^(-8),10^(-6),10^(-4),10^(-2)],marker=(:circle,5),xtickfontsize=15,ytickfontsize=15,legendfontsize=15)\n",
    "    elseif β==2\n",
    "        p=plot!(X,vec(err),lw=5,label=L\"$\\beta=2$\",legend=:topright,yaxis=:log10,xticks=X,yticks=[10^(-16),10^(-14),\n",
    "            10^(-12),10^(-10),10^(-8),10^(-6),10^(-4),10^(-2)],marker=(:circle,5),xtickfontsize=15,ytickfontsize=15,legendfontsize=15)\n",
    "    elseif β==4\n",
    "        p=plot!(X,vec(err),lw=5,label=L\"$\\beta=4$\",legend=:topright,yaxis=:log10,xticks=X,yticks=[10^(-16),10^(-14),\n",
    "            10^(-12),10^(-10),10^(-8),10^(-6),10^(-4),10^(-2)],marker=(:circle,5),xtickfontsize=15,ytickfontsize=15,legendfontsize=15)\n",
    "    end\n",
    "end\n",
    "p"
   ]
  }
 ],
 "metadata": {
  "@webio": {
   "lastCommId": null,
   "lastKernelId": null
  },
  "kernelspec": {
   "display_name": "Julia 1.8.3",
   "language": "julia",
   "name": "julia-1.8"
  },
  "language_info": {
   "file_extension": ".jl",
   "mimetype": "application/julia",
   "name": "julia",
   "version": "1.8.3"
  }
 },
 "nbformat": 4,
 "nbformat_minor": 5
}
