{
 "cells": [
  {
   "cell_type": "markdown",
   "id": "d2309583",
   "metadata": {},
   "source": [
    "# Introduction"
   ]
  },
  {
   "cell_type": "markdown",
   "id": "f8506362",
   "metadata": {},
   "source": [
    "<br>"
   ]
  },
  {
   "cell_type": "markdown",
   "id": "ddd99a2f",
   "metadata": {},
   "source": [
    "Tracy and Widom introduced the Tracy-Widom distribution that gives the limiting distribution of the rescaled largest eigenvalue of a random matrix taken from an appropriate symmetry class. More precisely, the largest eigenvalue $\\lambda_{\\max}$ satisfies the following fundamental limit:"
   ]
  },
  {
   "cell_type": "markdown",
   "id": "633d48bf",
   "metadata": {},
   "source": [
    "\\begin{equation*}\n",
    "\\lim_{n\\to \\infty}\\mathbb {P}\\left(n^{1/6}\\left(\\lambda_{\\max}\\left(A_{n}\\right)-2\\sqrt{n}\\right)\\leq x\\right)= F_{\\beta}(x)\\text{ for all }x\\in \\mathbb {R},\n",
    "\\end{equation*}"
   ]
  },
  {
   "cell_type": "markdown",
   "id": "4af35348",
   "metadata": {},
   "source": [
    "where $F_{\\beta}$ is the Tracy-Widom distribution and $\\beta=1$, $2$, $4$ if $A_{n}\\sim$ Gaussian Orthogonal Ensemble (GOE), Gaussian Unitary Ensemble (GUE), Gaussian Symplectic Ensemble (GSE), respectively. "
   ]
  },
  {
   "cell_type": "markdown",
   "id": "57b324ba",
   "metadata": {},
   "source": [
    "For an $n\\times n$ Gaussian ensemble $X$ with eigenvalues $\\{\\lambda_{j}\\}_{j=1}^{n}$, the joint probability density function (jpdf) for its eigenvalues is given by"
   ]
  },
  {
   "cell_type": "markdown",
   "id": "9aa9b67a",
   "metadata": {},
   "source": [
    "\\begin{equation*}\n",
    "    \\rho(\\lambda_{1},\\lambda_{2},\\cdots,\\lambda_{n})=Z^{-1}_{n,\\beta}\\prod_{i}e^{-\\beta \\lambda^{2}_{i}/4}\\prod_{i<j}\\left|\\lambda_{j}-\\lambda_{i}\\right|^{\\beta},\\text{ }\\lambda_{1}\\geq \\lambda_{2}\\geq \\cdots\\geq \\lambda_{n},\n",
    "\\end{equation*}"
   ]
  },
  {
   "cell_type": "markdown",
   "id": "547d15fc",
   "metadata": {},
   "source": [
    "where $Z_{n,\\beta}$ is the normalization factor."
   ]
  },
  {
   "cell_type": "markdown",
   "id": "6ffaafaf",
   "metadata": {},
   "source": [
    "Dumitriu and Edelman established that a family of symmetric tridiagonal (Jacobi) matrix models have the above formula as their eigenvalue density for any $\\beta> 0$. More specifically, the matrix given by"
   ]
  },
  {
   "cell_type": "markdown",
   "id": "676b773c",
   "metadata": {},
   "source": [
    "\\begin{equation*}\n",
    "    H_{n}^{\\beta}=\\frac {1}{\\sqrt{\\beta}}\\begin{bmatrix}\n",
    "    g & \\chi_{(n-1)\\beta} & & & \\\\\n",
    "    \\chi_{(n-1)\\beta} & g & \\chi_{(n-2)\\beta} & & \\\\\n",
    "     & \\chi_{(n-2)\\beta} & g & \\ddots & \\\\\n",
    "      & & \\ddots & \\ddots & \\chi_{\\beta}\\\\\n",
    "      & & & \\chi_{\\beta} & g\n",
    "      \\end{bmatrix}\n",
    "\\end{equation*}"
   ]
  },
  {
   "cell_type": "markdown",
   "id": "16b96cf4",
   "metadata": {},
   "source": [
    "has the above density as the jpdf of its eigenvalues. Here the entries are independent random variables, up to symmetry, $g\\sim N(0, 2)$ and $\\chi_{k}\\sim$ Chi($k$). We call $H^{\\beta}_{n}$ the $\\beta$-Hermite ensemble."
   ]
  },
  {
   "cell_type": "markdown",
   "id": "5c2f3aa5",
   "metadata": {},
   "source": [
    "Sutton and Edelman then presented a heuristic argument that the spectrum of the rescaled operator"
   ]
  },
  {
   "cell_type": "markdown",
   "id": "960e3c1d",
   "metadata": {},
   "source": [
    "\\begin{equation*}\n",
    "    \\tilde{H}_{n}^{\\beta}=n^{1/6}\\left(2\\sqrt{n}I-H_{n}^{\\beta}\\right)\n",
    "\\end{equation*}"
   ]
  },
  {
   "cell_type": "markdown",
   "id": "c6528e98",
   "metadata": {},
   "source": [
    "should be described by the spectrum of the stochastic Airy operator"
   ]
  },
  {
   "cell_type": "markdown",
   "id": "1920cc1b",
   "metadata": {},
   "source": [
    "\\begin{equation*}\n",
    "        \\mathcal {H}_{\\beta}=-\\frac {d^2}{dx^2}+x+\\frac {2}{\\sqrt{\\beta}}b'_{x},\n",
    "\\end{equation*}"
   ]
  },
  {
   "cell_type": "markdown",
   "id": "0f3262cf",
   "metadata": {},
   "source": [
    "as $n\\to \\infty$, where $b'_{x}$ is standard Gaussian white noise. "
   ]
  },
  {
   "cell_type": "markdown",
   "id": "8a9c0bc2",
   "metadata": {},
   "source": [
    "As a result, the following eigenvalue problem was considered by Ramirez, Rider, and Virag"
   ]
  },
  {
   "cell_type": "markdown",
   "id": "4ae8000e",
   "metadata": {},
   "source": [
    "\\begin{equation*}\n",
    "    \\mathcal {H}_{\\beta}f=\\Lambda f\\text{ on }L^{2}\\left(\\mathbb {R}_{+}\\right)\n",
    "\\end{equation*}"
   ]
  },
  {
   "cell_type": "markdown",
   "id": "83c04683",
   "metadata": {},
   "source": [
    "with Dirichlet boundary condition $f(0)=0$."
   ]
  },
  {
   "cell_type": "markdown",
   "id": "1121d4ee",
   "metadata": {},
   "source": [
    "Ramirez, Rider, and Virag showed that the distribution of $-\\Lambda_{0}$ may be taken as a definition of Tracy-Widom($\\cdot$) for general $\\beta>0$."
   ]
  },
  {
   "cell_type": "markdown",
   "id": "2a80b365",
   "metadata": {},
   "source": [
    "Based on their work, Bloemendal and Virag considered a more general eigenvalue problem"
   ]
  },
  {
   "cell_type": "markdown",
   "id": "0b088600",
   "metadata": {},
   "source": [
    "\\begin{equation*}\n",
    "        \\mathcal {H}_{\\beta}f=\\Lambda f\\text{ on }L^{2}\\left(\\mathbb {R}_{+}\\right)\n",
    "\\end{equation*}"
   ]
  },
  {
   "cell_type": "markdown",
   "id": "c85b6f7f",
   "metadata": {},
   "source": [
    "with boundary condition $f'(0)=\\omega f(0)$, where $\\omega\\in \\mathbb {R}$ represents a scaling parameter. Let $\\mathcal {H}_{\\beta,\\omega}$ denote $\\mathcal {H}_{\\beta}$ together with this boundary condition. According to Ramirez, Rider, and Virag, the distribution $F_{\\beta,\\omega}$ of $-\\Lambda_{0}$ in the case $\\omega=+\\infty$ thus coincides with Tracy-Widom($\\cdot$) for general $\\beta>0$. "
   ]
  },
  {
   "cell_type": "markdown",
   "id": "cedcb960",
   "metadata": {},
   "source": [
    "Bloemendal and Virag further showed that $F(=F_{\\beta,\\omega})$ can be characterized using the solution of a boundary value problem, as we now discuss in the following section. Bloemendal provided $\\texttt{Mathematica}$ code to approximate $F_{\\beta,\\omega}$. The goal of the current work is to expand and improve upon this scheme. "
   ]
  },
  {
   "cell_type": "markdown",
   "id": "933f8214",
   "metadata": {},
   "source": [
    "# Problem setup"
   ]
  },
  {
   "cell_type": "markdown",
   "id": "33247686",
   "metadata": {},
   "source": [
    "<br>"
   ]
  },
  {
   "cell_type": "markdown",
   "id": "9ce9c9ac",
   "metadata": {},
   "source": [
    "The Tracy-Widom distribution $F_{\\beta}$ can be characterized as follows. Consider"
   ]
  },
  {
   "cell_type": "markdown",
   "id": "fcf22ccb",
   "metadata": {},
   "source": [
    "\\begin{equation*}\n",
    "\\frac {\\partial F}{\\partial x}+\\frac {2}{\\beta}\\frac {\\partial^{2} F}{\\partial \\omega^{2}}+\\left(x-\\omega^2\\right)\\frac {\\partial F}{\\partial \\omega}=0\\quad \\text{for }(x,\\omega)\\in \\mathbb {R}^{2},\n",
    "\\end{equation*}"
   ]
  },
  {
   "cell_type": "markdown",
   "id": "3bfd63b8",
   "metadata": {},
   "source": [
    "with boundary conditions given by"
   ]
  },
  {
   "cell_type": "markdown",
   "id": "367c9ede",
   "metadata": {},
   "source": [
    "$$\\begin{align*}\n",
    "&F(x,\\omega)\\to 1\\quad \\text{as }x,\\omega\\to \\infty\\text{ together,}\\\\\n",
    "&F(x,\\omega)\\to 0\\quad \\text{as }\\omega\\to -\\infty\\text{ with }x\\text{ bounded above.}\n",
    "\\end{align*}$$"
   ]
  },
  {
   "cell_type": "markdown",
   "id": "b1d72abd",
   "metadata": {},
   "source": [
    "Then"
   ]
  },
  {
   "cell_type": "markdown",
   "id": "4ad96563",
   "metadata": {},
   "source": [
    "$$\\begin{equation*}\n",
    "    F_{\\beta}(x)=\\lim_{\\omega\\to \\infty}F(x,\\omega).\n",
    "\\end{equation*}$$"
   ]
  },
  {
   "cell_type": "markdown",
   "id": "ccbbd3d4",
   "metadata": {},
   "source": [
    "Using $\\omega=-\\cot \\theta$, we rewrite the given equation as"
   ]
  },
  {
   "cell_type": "markdown",
   "id": "2822bc29",
   "metadata": {},
   "source": [
    "$$\\begin{equation*}\n",
    "\\frac {\\partial H}{\\partial x}+\\left(\\frac {2}{\\beta}\\sin^{4} \\theta\\right)\\frac {\\partial^{2} H}{\\partial \\theta^{2}}+\\left[\\left(x+\\frac {2}{\\beta}\\sin 2\\theta\\right)\\sin^{2}\\theta-\\cos^{2}\\theta\\right]\\frac {\\partial H}{\\partial \\theta}=0,\n",
    "\\end{equation*}$$"
   ]
  },
  {
   "cell_type": "markdown",
   "id": "0208e306",
   "metadata": {},
   "source": [
    "with boundary condition"
   ]
  },
  {
   "cell_type": "markdown",
   "id": "ee7cd5b1",
   "metadata": {},
   "source": [
    "$$\\begin{align*}\n",
    "H(x,0)=0,\n",
    "\\end{align*}$$"
   ]
  },
  {
   "cell_type": "markdown",
   "id": "5cd200cc",
   "metadata": {},
   "source": [
    "and the approximate asymptotic initial condition"
   ]
  },
  {
   "cell_type": "markdown",
   "id": "9ef71010",
   "metadata": {},
   "source": [
    "$$H(x_{0},\\theta)=\\begin{cases}\n",
    "\\Phi\\left(\\frac {x_{0}-\\cot^{2}\\theta}{\\sqrt{\\left(4/\\beta\\right)\\cot \\theta}}\\right) & \\text{if } 0\\leq \\theta\\leq \\pi/2,\\\\\n",
    "1 & \\text{if } \\pi/2\\leq \\theta.\\end{cases}$$"
   ]
  },
  {
   "cell_type": "markdown",
   "id": "d95df799",
   "metadata": {},
   "source": [
    "$$X(m,n) = \\left\\{\\begin{array}{lr}\n",
    "        x(n), & \\text{for } 0\\leq n\\leq 1\\\\\n",
    "        x(n-1), & \\text{for } 0\\leq n\\leq 1\\\\\n",
    "        x(n-1), & \\text{for } 0\\leq n\\leq 1\n",
    "        \\end{array}\\right\\} = xy$$"
   ]
  },
  {
   "cell_type": "markdown",
   "id": "c9bb4d6c",
   "metadata": {},
   "source": [
    "Here $\\Phi$ denotes the standard normal distribution function. One finds the undeformed Tracy-Widom distribution $F_{\\beta}$ at $\\theta=\\pi$, i.e., $F_{\\beta}(x)\\approx H(x,\\pi)$."
   ]
  }
 ],
 "metadata": {
  "kernelspec": {
   "display_name": "Julia 1.8.3",
   "language": "julia",
   "name": "julia-1.8"
  },
  "language_info": {
   "file_extension": ".jl",
   "mimetype": "application/julia",
   "name": "julia",
   "version": "1.8.3"
  }
 },
 "nbformat": 4,
 "nbformat_minor": 5
}
