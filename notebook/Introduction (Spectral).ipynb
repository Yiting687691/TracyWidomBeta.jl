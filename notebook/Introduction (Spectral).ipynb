{
 "cells": [
  {
   "cell_type": "markdown",
   "id": "12e402cd",
   "metadata": {},
   "source": [
    "# Spectral Discretization"
   ]
  },
  {
   "cell_type": "markdown",
   "id": "79c90d36",
   "metadata": {},
   "source": [
    "<br>"
   ]
  },
  {
   "cell_type": "markdown",
   "id": "772df362",
   "metadata": {},
   "source": [
    "Suppose $H(x,\\theta)=\\int_{0}^{\\theta} \\rho(x,\\theta')\\, d\\theta'$, then we can rewrite the original equation as"
   ]
  },
  {
   "cell_type": "markdown",
   "id": "4132f49f",
   "metadata": {},
   "source": [
    "$$\\begin{equation*}\n",
    "    \\frac {\\partial H}{\\partial x}+\\left(\\frac {2}{\\beta}\\sin^{4} \\theta\\right)\\frac {\\partial \\rho}{\\partial \\theta}+\\left[\\left(x+\\frac {2}{\\beta}\\sin 2\\theta\\right)\\sin^{2}\\theta-\\cos^{2}\\theta\\right]\\rho=0.\n",
    "\\end{equation*}$$"
   ]
  },
  {
   "cell_type": "markdown",
   "id": "efbbc1c5",
   "metadata": {},
   "source": [
    "Upon taking the derivative with respect to $\\theta$ on both sides, we arrive at a partial differential equation for $\\rho(x,\\theta)$,"
   ]
  },
  {
   "cell_type": "markdown",
   "id": "ab1c2866",
   "metadata": {},
   "source": [
    "$$\\begin{align*}\n",
    "\\frac {\\partial \\rho}{\\partial x}&+\\left(\\frac {8}{\\beta}\\sin^{3}\\theta \\cos\\theta\\right)\\frac {\\partial \\rho}{\\partial \\theta}+\\left(\\frac {2}{\\beta}\\sin^{4} \\theta\\right)\\frac {\\partial^{2} \\rho}{\\partial \\theta^{2}}+\\left[\\left(2x+1\\right)\\sin \\theta \\cos \\theta+\\frac {2}{\\beta}\\left(2\\sin^{2}\\theta \\cos {2\\theta}+2\\sin \\theta\\cos \\theta \\sin {2\\theta}\\right)\\right]\\rho+\\left[\\left(x+\\frac {2}{\\beta}\\sin 2\\theta\\right)\\sin^{2}\\theta-\\cos^{2}\\theta\\right]\\frac {\\partial \\rho}{\\partial \\theta}=0.\n",
    "\\end{align*}$$"
   ]
  },
  {
   "cell_type": "markdown",
   "id": "cb7ab426",
   "metadata": {},
   "source": [
    "Now, suppose "
   ]
  },
  {
   "cell_type": "markdown",
   "id": "6431a334",
   "metadata": {},
   "source": [
    "$$\\begin{equation*}\n",
    "    \\rho(x,\\theta)\\approx \\sum_{m=-M}^{M}a_{m}(x)e^{2im\\theta/l},\\quad \\theta\\in[0,l\\pi),\\quad \\theta_{M}=l\\pi.\n",
    "\\end{equation*}$$"
   ]
  },
  {
   "cell_type": "markdown",
   "id": "c7973c61",
   "metadata": {},
   "source": [
    "Substituting it in the above equation gives a system of ordinary differential equations for $a_{m}(x)$, $m=-M,\\cdots,M$, after truncation,"
   ]
  },
  {
   "cell_type": "markdown",
   "id": "1fcf1ee8",
   "metadata": {},
   "source": [
    "$$\\begin{equation*}\n",
    "\\frac {d \\textbf{a}_{M}(x)}{d x}=\\left(A+xB\\right)\\textbf{a}_{M}(x),\\text{ }\\textbf{a}_{M}(x)=\\begin{bmatrix}\n",
    "a_{-M}(x)\\\\\n",
    "\\vdots\\\\\n",
    "a_{M}(x) \\end{bmatrix},\n",
    "\\end{equation*}$$"
   ]
  },
  {
   "cell_type": "markdown",
   "id": "b2c08390",
   "metadata": {},
   "source": [
    "where"
   ]
  },
  {
   "cell_type": "markdown",
   "id": "f84c5b54",
   "metadata": {},
   "source": [
    "$$\\begin{align*}\n",
    "A=-\\frac {2}{\\beta}\\left(\\frac {3}{8}I-\\frac {1}{4}S_{-l}-\\frac {1}{4}S_{+l}+\\frac {1}{16}S_{+2l}+\\frac {1}{16}S_{-2l}\\right)D_{2}+\\left[\\frac {1}{2}I+\\frac {1}{4}S_{-l}+\\frac {1}{4}S_{+l}-\\frac {2}{\\beta}\\left(\\frac {1}{2i}S_{-l}-\\frac {1}{2i}S_{+l}\\right)\\left(\\frac {1}{2}I-\\frac {1}{4}S_{+l}-\\frac {1}{4}S_{-l}\\right)\\right]D_{1}-\\left[\\frac {8}{\\beta}\\left(\\frac {1}{-8i}S_{+3l/2}+\\frac {1}{8i}S_{-3l/2}+\\frac {3}{8i}S_{-l/2}-\\frac {3}{8i}S_{+l/2}\\right)\\left(\\frac {1}{2}S_{-l/2}+\\frac {1}{2}S_{+l/2}\\right)\\right]D_{1}-\\frac {4}{\\beta}\\left(\\frac {1}{2}I-\\frac {1}{4}S_{+l}-\\frac {1}{4}S_{-l}\\right)\\left(\\frac {1}{2}S_{+l}+\\frac {1}{2}S_{-l}\\right)-\\frac {4}{\\beta}\\left(\\frac {1}{2i}S_{-l/2}-\\frac {1}{2i}S_{+l/2}\\right)\\left(\\frac {1}{2}S_{+l/2}+\\frac {1}{2}S_{-l/2}\\right)\\left(\\frac {1}{2i}S_{-l}-\\frac {1}{2i}S_{+l}\\right)-2\\left(\\frac {1}{2i}S_{-l/2}-\\frac {1}{2i}S_{+l/2}\\right)\\left(\\frac {1}{2}S_{+l/2}+\\frac {1}{2}S_{-l/2}\\right),\n",
    "\\end{align*}$$"
   ]
  },
  {
   "cell_type": "markdown",
   "id": "2186d416",
   "metadata": {},
   "source": [
    "and"
   ]
  },
  {
   "cell_type": "markdown",
   "id": "92ecae25",
   "metadata": {},
   "source": [
    "$$\\begin{align*}\n",
    "B=\\left(-\\frac {1}{2}I+\\frac {1}{4}S_{-l}+\\frac {1}{4}S_{+l}\\right)D_{1}-2\\left(\\frac {1}{2i}S_{-l/2}-\\frac {1}{2i}S_{+l/2}\\right)\\left(\\frac {1}{2}S_{+l/2}+\\frac {1}{2}S_{-l/2}\\right).\n",
    "\\end{align*}$$"
   ]
  },
  {
   "cell_type": "markdown",
   "id": "3097c57d",
   "metadata": {},
   "source": [
    "Here $S_{\\pm k}$ represent the shift matrices, $S_{\\pm k}=S^{k}_{\\pm 1}$, where"
   ]
  },
  {
   "cell_type": "markdown",
   "id": "e9875bfc",
   "metadata": {},
   "source": [
    "$$\\begin{align*}\n",
    "    S_{+1}=\\begin{bmatrix}\n",
    "0  & 1 & & & & 0\\\\\n",
    "& 0 & 1 \\\\\n",
    "&  & 0 & 1\\\\\n",
    "&&  & \\ddots & \\ddots \\\\\n",
    "&&& & 0 & 1 \\\\\n",
    "1&&&&  & 0 \\end{bmatrix},\\quad S_{-1}=\\begin{bmatrix}\n",
    "0  &&&&& 1\\\\\n",
    "1 & 0 &  &&\\\\\n",
    "0 &1   & 0 &  &\\\\\n",
    "&& \\ddots & \\ddots &  \\\\\n",
    "&&&1 & 0 & 0 \\\\\n",
    "0&&&& 1 & 0 \\end{bmatrix}.\n",
    "\\end{align*}$$"
   ]
  },
  {
   "cell_type": "markdown",
   "id": "787aa90b",
   "metadata": {},
   "source": [
    "$D_{1}$ and $D_{2}$ represent the first and second-order differentiation matrices in the Fourier space, i.e., $D_{2}=D^{2}_{1}$, where"
   ]
  },
  {
   "cell_type": "markdown",
   "id": "719f93fc",
   "metadata": {},
   "source": [
    "$$\\begin{align*}\n",
    "    D_{1}=\\begin{bmatrix}\n",
    "-2iM/l  &&&& \\\\\n",
    " & -2i(M-1)/l &  &&\\\\\n",
    "&&  \\ddots & & \\\\\n",
    "&&& 2i(M-1)/l &  \\\\\n",
    "&&&&  & 2iM/l \\end{bmatrix}.\n",
    "\\end{align*}$$"
   ]
  },
  {
   "cell_type": "markdown",
   "id": "6644f896",
   "metadata": {},
   "source": [
    "The initial condition in the Fourier space can be obtained by"
   ]
  },
  {
   "cell_type": "markdown",
   "id": "6f52d7de",
   "metadata": {},
   "source": [
    "$$\\begin{equation*}\n",
    "    a_{m}(x_{0})=\\frac {1}{l\\pi}\\int_{0}^{l\\pi}\\rho(x_{0},\\theta)e^{-2im\\theta/l}\\, d\\theta.\n",
    "\\end{equation*}$$"
   ]
  },
  {
   "cell_type": "markdown",
   "id": "902e75a2",
   "metadata": {},
   "source": [
    "Instead of applying the second-order accurate trapezoidal rule to integrate the system of ODEs for $\\rho(x,\\theta)$, we apply a five-step backward differentiation formula method (BDF5). To use BDF5, we need four more starting conditions, i.e., $\\textbf{a}_{M}(x_{0}-i\\Delta x)$, $i=1,2,3,4$."
   ]
  },
  {
   "cell_type": "markdown",
   "id": "7cb165e8",
   "metadata": {},
   "source": [
    "We then proceed with BDF5 to solve for $\\textbf{a}^{n}_{M}\\approx\\textbf{a}_{M}(x)$"
   ]
  },
  {
   "cell_type": "markdown",
   "id": "a57349fb",
   "metadata": {},
   "source": [
    "$$\\begin{align*}\n",
    "    \\left[137I-60\\Delta x \\left(A+x_{n}B\\right)\\right]\\textbf{a}^{n}_{M}= 300\\textbf{a}^{n-1}_{M}&-300\\textbf{a}^{n-2}_{M}\n",
    "    +200\\textbf{a}^{n-3}_{M}\n",
    "   -75\\textbf{a}^{n-4}_{M}+12\\textbf{a}^{n-5}_{M}.\n",
    "\\end{align*}$$"
   ]
  },
  {
   "cell_type": "markdown",
   "id": "46adce3a",
   "metadata": {},
   "source": [
    "Finally, the value of $H(x,\\theta)$ can be recovered from"
   ]
  },
  {
   "cell_type": "markdown",
   "id": "b5ac1631",
   "metadata": {},
   "source": [
    "$$\\begin{equation*}\n",
    "    H(x,\\theta)\\approx\\int_{0}^{\\theta}\\sum_{m=-M}^{M}a_{m}(x)e^{2im\\theta'/l}\\, d\\theta'=\\sum_{m=-M}^{M}a_{m}(x)\\int_{0}^{\\theta}e^{2im\\theta'/l}\\, d\\theta'.\n",
    "\\end{equation*}$$"
   ]
  },
  {
   "cell_type": "markdown",
   "id": "1d8ee531",
   "metadata": {},
   "source": [
    "The Tracy-Widom distribution can then be approximated by setting $\\theta=\\pi$,"
   ]
  },
  {
   "cell_type": "markdown",
   "id": "05c24346",
   "metadata": {},
   "source": [
    "$$\\begin{equation*}\n",
    "F_{\\beta}(x)\\approx\\tilde{F}_{\\beta}(x)=\\sum_{m=-M}^{M}a_{m}(x)\\int_{0}^{\\pi}e^{2im\\theta'/l}\\, d\\theta'=\\sum_{m=-M}^{M}a_{m}(x)\\frac {l}{2im}\\left(e^{2im\\pi/l}-1\\right),\n",
    "\\end{equation*}$$"
   ]
  },
  {
   "cell_type": "markdown",
   "id": "262718c8",
   "metadata": {},
   "source": [
    "which is approximated by"
   ]
  },
  {
   "cell_type": "markdown",
   "id": "f525b2cb",
   "metadata": {},
   "source": [
    "$$\\sum_{m=-M}^{M}a^{n}_{m}\\frac {l}{2im}\\left(e^{2im\\pi/l}-1\\right),\\quad n=0,1,\\cdots,N.$$"
   ]
  },
  {
   "cell_type": "markdown",
   "id": "cbc3cbc9",
   "metadata": {},
   "source": [
    "A linear interpolation can then be applied on these discrete values to obtain a useful interpolant. "
   ]
  }
 ],
 "metadata": {
  "kernelspec": {
   "display_name": "Julia 1.8.3",
   "language": "julia",
   "name": "julia-1.8"
  },
  "language_info": {
   "file_extension": ".jl",
   "mimetype": "application/julia",
   "name": "julia",
   "version": "1.8.3"
  }
 },
 "nbformat": 4,
 "nbformat_minor": 5
}
