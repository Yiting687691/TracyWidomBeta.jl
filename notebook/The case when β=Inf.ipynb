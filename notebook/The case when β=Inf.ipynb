{
 "cells": [
  {
   "cell_type": "markdown",
   "id": "20569829",
   "metadata": {},
   "source": [
    "The following contour plot shows the characteristic curves with respect to $x\\in [-10,10]$ and $\\theta\\in [0,\\pi]$."
   ]
  },
  {
   "cell_type": "code",
   "execution_count": null,
   "id": "18c9cdf8",
   "metadata": {},
   "outputs": [],
   "source": [
    "using LinearAlgebra,Statistics,SparseArrays,Distributions,Trapz,ApproxFun,SpecialFunctions\n",
    "using RandomMatrices,Plots,LaTeXStrings,TypedTables,StatsBase,FFTW"
   ]
  },
  {
   "cell_type": "code",
   "execution_count": null,
   "id": "63e5bb00",
   "metadata": {},
   "outputs": [],
   "source": [
    "function xi(x,θ)\n",
    "    f=(airyaiprime(x)+cot(θ)*airyai(x))  \n",
    "    return f\n",
    "end"
   ]
  },
  {
   "cell_type": "code",
   "execution_count": null,
   "id": "114b4a0c",
   "metadata": {},
   "outputs": [],
   "source": [
    "p=Plots.contourf();\n",
    "x=10:-0.01:-10;\n",
    "t=0:0.001*pi:pi;\n",
    "F=zeros(length(x),length(t));\n",
    "for i=1:length(x)\n",
    "    for j=1:length(t)\n",
    "            F[end-i+1,j]=xi(x[i],t[j])\n",
    "    end\n",
    "end\n",
    "x=reverse(x)\n",
    "p = Plots.contourf(t, x, F,levels=[-10^(20),-10,-9,-8,-7,-6,-5,-4,-3,-2,-1,0,1,2,3,4,5,6,7,8,9,10,10^(20)],label=L\"$\\xi=0$\",lw=3,\n",
    "    legend=false,xtickfontsize=15,ytickfontsize=15)\n",
    "p = Plots.contour!(t, x, F,levels=[0],color=:red,lw=5,legend=false,xtickfontsize=15,ytickfontsize=15)"
   ]
  }
 ],
 "metadata": {
  "@webio": {
   "lastCommId": null,
   "lastKernelId": null
  },
  "kernelspec": {
   "display_name": "Julia 1.8.3",
   "language": "julia",
   "name": "julia-1.8"
  },
  "language_info": {
   "file_extension": ".jl",
   "mimetype": "application/julia",
   "name": "julia",
   "version": "1.8.3"
  }
 },
 "nbformat": 4,
 "nbformat_minor": 5
}
