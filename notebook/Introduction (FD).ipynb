{
 "cells": [
  {
   "cell_type": "markdown",
   "id": "94259f60",
   "metadata": {},
   "source": [
    "# Finite-Difference Discretization"
   ]
  },
  {
   "cell_type": "markdown",
   "id": "8f366bc4",
   "metadata": {},
   "source": [
    "<br>"
   ]
  },
  {
   "cell_type": "markdown",
   "id": "f32c3175",
   "metadata": {},
   "source": [
    "One way to solve this boundary value problem is by discretizing it using finite differences. For $0\\leq n\\leq N,0\\leq m\\leq M$, define"
   ]
  },
  {
   "cell_type": "markdown",
   "id": "b51f7eca",
   "metadata": {},
   "source": [
    "$$\\begin{equation*}\n",
    "x_{n}=x_{0}+n\\Delta x,\\quad \\theta_m=\\theta_{0}+m h=mh.\n",
    "\\end{equation*}$$"
   ]
  },
  {
   "cell_type": "markdown",
   "id": "0d48e3d9",
   "metadata": {},
   "source": [
    "Denote the approximation of $H(x,\\theta_{m})$ by $H_{m}(x)$. We then replace partial derivatives of $H$ with respect to $\\theta$ by centered differences, with grid spacing $h$. The method of lines formulation reads"
   ]
  },
  {
   "cell_type": "markdown",
   "id": "8f9a943f",
   "metadata": {},
   "source": [
    "$$\\begin{equation*}\n",
    "    \\frac {\\partial \\textbf{H}_{M}}{\\partial x}=-\\left(\\frac {2\\sin^{4} \\theta}{\\beta h^2}\\right)T\\textbf{H}_{M}+\\frac {\\left[\\left(x+\\frac {2}{\\beta}\\sin 2\\theta\\right)\\sin^{2}\\theta-\\cos^{2}\\theta\\right]}{2h}U\\textbf{H}_{M},\n",
    "\\end{equation*}$$"
   ]
  },
  {
   "cell_type": "markdown",
   "id": "384cc641",
   "metadata": {},
   "source": [
    "where $\\textbf{H}_{M}=\\left[H_{1},H_{2},\\cdots,H_{M}\\right]^T$, $Mh=\\theta_{M}$, and"
   ]
  },
  {
   "cell_type": "markdown",
   "id": "cf40f984",
   "metadata": {},
   "source": [
    "\\begin{equation*}\n",
    "    T=\\begin{bmatrix}\n",
    "-2  & 1\\\\\n",
    "1 & -2 & 1 \\\\\n",
    "& 1 & -2 & 1\\\\\n",
    "&& \\ddots & \\ddots & \\ddots \\\\\n",
    "&&&1 & -2 & 1 \\\\\n",
    "&&&& 1 & -2 \\end{bmatrix},\\text{ }U=\\begin{bmatrix}\n",
    "0  & -1\\\\\n",
    "1 & 0 & -1 \\\\\n",
    "& 1 & 0 & -1\\\\\n",
    "&& \\ddots & \\ddots & \\ddots \\\\\n",
    "&&&1 & 0 & -1 \\\\\n",
    "&&&-1 & 4 & -3 \\end{bmatrix}.\n",
    "\\end{equation*}"
   ]
  },
  {
   "cell_type": "markdown",
   "id": "7bc636e0",
   "metadata": {},
   "source": [
    "$\\textbf{H}_{M}$ excludes $H_{0}$ since $H_{0}(x)=0$ by the boundary condition. The coefficients in the last row of $U$ come from the parameters of the two-step backward difference formula (BDF2). Note that there is no need to replace the last row of $T$ using backward difference formula since for finite-difference discretization, we set $\\theta_{M}=\\pi$ for computational convenience (mathematically, there is no need to set an additional boundary condition at $\\theta_{M}$ since at $\\theta=k\\pi$, the original PDE has vanishing diffusivity)."
   ]
  },
  {
   "cell_type": "markdown",
   "id": "e44d9487",
   "metadata": {},
   "source": [
    "Let"
   ]
  },
  {
   "cell_type": "markdown",
   "id": "46c02157",
   "metadata": {},
   "source": [
    "\\begin{equation*}\n",
    "    T(\\beta,\\pmb{\\theta}_{M},h):=-\\left(\\frac {2\\sin^{4} \\pmb{\\theta}_{M}}{\\beta h^2}\\right)T=\\begin{bmatrix}\n",
    "\\frac{-2\\sin^{4} \\theta_{1}}{\\beta h^2}  & &\\\\\n",
    " & \\ddots &  \\\\\n",
    "&  & \\frac{-2\\sin^{4} \\theta_{M}}{\\beta h^2} \\end{bmatrix}T\n",
    "\\end{equation*}"
   ]
  },
  {
   "cell_type": "markdown",
   "id": "157693b9",
   "metadata": {},
   "source": [
    "and"
   ]
  },
  {
   "cell_type": "markdown",
   "id": "38f4ade5",
   "metadata": {},
   "source": [
    "$$\\begin{align*}\n",
    "    U(\\beta,x,\\pmb{\\theta}_{M},h):=\\frac {\\left[\\left(x+\\frac {2}{\\beta}\\sin 2\\pmb{\\theta}_{M}\\right)\\sin^{2}\\pmb{\\theta}_{M}-\\cos^{2}\\pmb{\\theta}_{M}\\right]}{2h}U\n",
    "    =\\begin{bmatrix}\n",
    "\\frac{\\left(x+\\frac {2}{\\beta}\\sin 2\\theta_1\\right)\\sin^{2}\\theta_{1}-\\cos^{2}\\theta_{1}}{2h}  & &\\\\\n",
    " & \\ddots &  \\\\\n",
    "&  & \\frac{\\left(x+\\frac {2}{\\beta}\\sin 2\\theta_M\\right)\\sin^{2}\\theta_{M}-\\cos^{2}\\theta_{M}}{2h} \\end{bmatrix}U,\n",
    "\\end{align*}$$"
   ]
  },
  {
   "cell_type": "markdown",
   "id": "00b9655b",
   "metadata": {},
   "source": [
    "where $\\pmb{\\theta}_{M}=\\left[\\theta_{1},\\theta_{2},\\cdots,\\theta_{M}\\right]^T$. Then we have"
   ]
  },
  {
   "cell_type": "markdown",
   "id": "e52c05bc",
   "metadata": {},
   "source": [
    "$$\\begin{equation*}\n",
    "\\frac {\\partial \\textbf{H}_{M}}{\\partial x}=T(\\beta,\\pmb{\\theta}_{M},h)\\textbf{H}_{M}+U(\\beta,x,\\pmb{\\theta}_{M},h)\\textbf{H}_{M}.\n",
    "\\end{equation*}$$"
   ]
  },
  {
   "cell_type": "markdown",
   "id": "66a608f6",
   "metadata": {},
   "source": [
    "Noting that $x$ is the time-like variable, we apply the trapezoidal rule with time step $\\Delta x<0$ yielding,"
   ]
  },
  {
   "cell_type": "markdown",
   "id": "1035d7f6",
   "metadata": {},
   "source": [
    "$$\\begin{align*}\n",
    "    \\frac {\\textbf{H}^{n+1}_{M}-\\textbf{H}^{n}_{M}}{\\Delta x}= \\frac {1}{2}\\left[T(\\beta,\\pmb{\\theta}_{M},h)\\textbf{H}^{n}_{M}+U(\\beta,x_{n},\\pmb{\\theta}_{M},h)\\textbf{H}^{n}_{M}\n",
    "    +T(\\beta,\\pmb{\\theta}_{M},h)\\textbf{H}^{n+1}_{M}+U(\\beta,x_{n+1},\\pmb{\\theta}_{M},h)\\textbf{H}^{n+1}_{M}\\right],\n",
    "\\end{align*}$$"
   ]
  },
  {
   "cell_type": "markdown",
   "id": "40dd6ed0",
   "metadata": {},
   "source": [
    "where $\\textbf{H}^{n}_{M}\\approx \\textbf{H}_{M}(x_{n})$. Upon rearranging, this gives"
   ]
  },
  {
   "cell_type": "markdown",
   "id": "8bcf8b9c",
   "metadata": {},
   "source": [
    "$$\\begin{align*}\n",
    "    \\left[I-\\frac {\\Delta x}{2}T(\\beta,\\pmb{\\theta}_{M},h)-\\frac {\\Delta x}{2}U(\\beta,x_{n+1},\\pmb{\\theta}_{M},h) \\right] \\textbf{H}^{n+1}_{M}\n",
    "    = \\left[I+\\frac {\\Delta x}{2}T(\\beta,\\pmb{\\theta}_{M},h)+\\frac {\\Delta x}{2}U(\\beta,x_{n},\\pmb{\\theta}_{M},h)\\right]\\textbf{H}^{n}_{M}.\n",
    "\\end{align*}$$"
   ]
  },
  {
   "cell_type": "markdown",
   "id": "aa318a29",
   "metadata": {},
   "source": [
    "Finally, we obtain $F_{\\beta}(x)\\approx \\tilde{F}_{\\beta}(x):=H_{M}(x)$, which is approximated by $H^{n}_{M}$, $n=0,1,\\cdots, N$. A linear interpolation can then be applied on $H^{n}_{M}$, $n=0,1,\\cdots, N$, to obtain a useful interpolant. "
   ]
  }
 ],
 "metadata": {
  "kernelspec": {
   "display_name": "Julia 1.8.3",
   "language": "julia",
   "name": "julia-1.8"
  },
  "language_info": {
   "file_extension": ".jl",
   "mimetype": "application/julia",
   "name": "julia",
   "version": "1.8.3"
  }
 },
 "nbformat": 4,
 "nbformat_minor": 5
}
