{
 "cells": [
  {
   "cell_type": "markdown",
   "id": "661bcbfb",
   "metadata": {},
   "source": [
    "## Error plot with respect to $\\beta$"
   ]
  },
  {
   "cell_type": "code",
   "execution_count": 1,
   "id": "e73247ea",
   "metadata": {},
   "outputs": [],
   "source": [
    "using LinearAlgebra,Statistics,SparseArrays,Distributions,Trapz,ApproxFun,SpecialFunctions\n",
    "using RandomMatrices,Plots,LaTeXStrings,TypedTables,StatsBase,FFTW"
   ]
  },
  {
   "cell_type": "markdown",
   "id": "ea83e309",
   "metadata": {},
   "source": [
    "To compute the errors, we treat the following as the ground truths."
   ]
  },
  {
   "cell_type": "code",
   "execution_count": 2,
   "id": "92f99720",
   "metadata": {},
   "outputs": [],
   "source": [
    "TW2=TracyWidom;\n",
    "F1=Fun(x->cdf(TW2,x; beta=1,num_points=300),-10..13);\n",
    "F2=Fun(x->cdf(TW2,x; beta=2,num_points=300),-10..13);\n",
    "F4=Fun(x->cdf(TW2,x; beta=4,num_points=300),-10..13);\n",
    "f1=F1';\n",
    "f2=F2';\n",
    "f4=F4';"
   ]
  },
  {
   "cell_type": "code",
   "execution_count": 3,
   "id": "359434f4",
   "metadata": {},
   "outputs": [
    {
     "data": {
      "text/plain": [
       "TW (generic function with 1 method)"
      ]
     },
     "execution_count": 3,
     "metadata": {},
     "output_type": "execute_result"
    }
   ],
   "source": [
    "function TW(β;cheb=10^3,method=\"finite\",interp=true,step=\"trapz\",pdf=false,x0=13.0/(sqrt(β)),xN=-10.0,Δx_f=-0.001,Δx_s=-0.001,M_f=Int(floor(-1/(Δx_f))),M_s=8000,l=10)\n",
    "    \n",
    "    # Set up the time domain\n",
    "    if method==\"finite\"\n",
    "        xs=time_gen(x0,xN,Δx_f)\n",
    "    elseif method==\"spectral\"\n",
    "        xs=time_gen(x0,xN,Δx_s)\n",
    "    end\n",
    "    xl=length(xs)\n",
    "    \n",
    "    # Set up the initial conditions\n",
    "    (c0,c1,c2,c3,c4,c5,h,θ)=initial_gen(β;method,x0,Δx_f,Δx_s,M_f,M_s,l)\n",
    "\n",
    "    # Set up the matrices\n",
    "    (A,B)=matrix_gen(β;method,M_f,M_s,h,θ,l)\n",
    "\n",
    "    # Step forward in time\n",
    "    (TW_cdf,TW_pdf)=step_for(method,step,A,B,x0,M_s,xs,xl,c0,c1,c2,c3,c4,c5,l)\n",
    "\n",
    "    # Interpolation\n",
    "    (cdf_cheb,pdf_cheb)=Fourier_interp(xs,cheb,TW_cdf,TW_pdf)\n",
    "    \n",
    "    if interp && pdf==false\n",
    "        return cdf_cheb\n",
    "    elseif interp && pdf\n",
    "        return pdf_cheb\n",
    "    elseif interp==false && pdf==false\n",
    "        return xs,TW_cdf\n",
    "    elseif interp==false && pdf\n",
    "        return xs,TW_pdf\n",
    "    else\n",
    "        return \"Input valid arguments\"\n",
    "    end\n",
    "end"
   ]
  },
  {
   "cell_type": "code",
   "execution_count": 4,
   "id": "3790d357",
   "metadata": {},
   "outputs": [
    {
     "data": {
      "text/plain": [
       "time_gen (generic function with 1 method)"
      ]
     },
     "execution_count": 4,
     "metadata": {},
     "output_type": "execute_result"
    }
   ],
   "source": [
    "function time_gen(x1,x2,Δx)\n",
    "    xs=x1:Δx:x2 |> Array\n",
    "    if abs(xs[end])<abs(x2)\n",
    "        xs=x1:Δx:(x2+Δx) |> Array\n",
    "    end\n",
    "    return xs\n",
    "end"
   ]
  },
  {
   "cell_type": "code",
   "execution_count": 5,
   "id": "b2f8c6cd",
   "metadata": {},
   "outputs": [
    {
     "data": {
      "text/plain": [
       "initial_gen (generic function with 1 method)"
      ]
     },
     "execution_count": 5,
     "metadata": {},
     "output_type": "execute_result"
    }
   ],
   "source": [
    "function initial_gen(β;method,x0,Δx_f,Δx_s,M_f,M_s,l)\n",
    "    Φ = x -> erf.(x/sqrt(2))/2 + 0.5\n",
    "    dϕ = x -> exp.(-x^2/2)*1/sqrt(2pi)\n",
    "    g = (x0,β,t) -> Φ( (x0 - cot(t).^2)./sqrt.(4/β * cot.(t)) )\n",
    "    h0 = (x0,β,t) -> t < pi/2 ? g(x0,β,t) : 1.0\n",
    "    chain = (x0,β,t) -> (x0 + 3*cot.(t).^2).*csc.(t).*sec.(t)./sqrt.(16/β * cot.(t))\n",
    "    dg = (x0,β,t) -> t ≈ 0.0 ? 0.0 : dϕ((x0 - cot(t).^2)./sqrt(4/β * cot.(t))).*chain(x0,β,t)\n",
    "    dh0 = (x0,β,t) -> t < pi/2 ? dg(x0,β,t) : 0.0\n",
    "    mfft = x -> fftshift(fft(x))/length(x)\n",
    "\n",
    "    if method==\"finite\"\n",
    "        mgrid=(n,L) -> L*(1:n)/n\n",
    "        θ=mgrid(M_f,pi)\n",
    "        h=(1/M_f)*pi\n",
    "        c0=map(t -> h0(x0,β,t),θ)\n",
    "        c1=map(t -> h0(x0-Δx_f,β,t),θ)\n",
    "        c2=map(t -> h0(x0-2*Δx_f,β,t),θ)\n",
    "        c3=map(t -> h0(x0-3*Δx_f,β,t),θ)\n",
    "        c4=map(t -> h0(x0-4*Δx_f,β,t),θ)\n",
    "        c5=map(t -> h0(x0-5*Δx_f,β,t),θ)\n",
    "    elseif method==\"spectral\"\n",
    "        mgrid = (n,L) -> 2*L*(0:n-1)/n\n",
    "        θ=mgrid(M_s,l*pi)\n",
    "        h=(1/M_s)*2*l*pi\n",
    "        c0=map(t -> dh0(x0,β,t),θ)|>mfft\n",
    "        c1=map(t -> dh0(x0-Δx_s,β,t),θ)|>mfft\n",
    "        c2=map(t -> dh0(x0-2*Δx_s,β,t),θ)|>mfft\n",
    "        c3=map(t -> dh0(x0-3*Δx_s,β,t),θ)|>mfft\n",
    "        c4=map(t -> dh0(x0-4*Δx_s,β,t),θ)|>mfft\n",
    "        c5=map(t -> dh0(x0-5*Δx_s,β,t),θ)|>mfft\n",
    "    end\n",
    "    return c0,c1,c2,c3,c4,c5,h,θ\n",
    "end"
   ]
  },
  {
   "cell_type": "code",
   "execution_count": 6,
   "id": "633755fe",
   "metadata": {},
   "outputs": [
    {
     "data": {
      "text/plain": [
       "matrix_gen (generic function with 1 method)"
      ]
     },
     "execution_count": 6,
     "metadata": {},
     "output_type": "execute_result"
    }
   ],
   "source": [
    "function matrix_gen(β;method,M_f,M_s,h,θ,l)\n",
    "    diffvec = (L,m,j) -> ((-floor(m/2):1:floor((m-1)/2))*(1im*pi/L)).^j\n",
    "    function 𝒟(L,m,j)\n",
    "        spdiagm(diffvec(L,m,j))\n",
    "    end\n",
    "    if method==\"finite\"\n",
    "        T=spdiagm(0=>fill(-2.0,M_f),1=>fill(1.0,M_f-1),-1=>fill(1.0,M_f-1))\n",
    "        tt=(-2*(sin.(θ)).^4)/(β*(h^2))\n",
    "        T=spdiagm(0=>vec(tt))*T\n",
    "        um1=ones(Int64,M_f-2,1);um1=vcat(um1,4);ud=zeros(Int64,M_f-1,1);ud=vcat(ud,-3);um2=zeros(Int64,M_f-3,1);um2=vcat(um2,-1)\n",
    "        U=spdiagm(0=>vec(ud),1=>fill(-1.0,M_f-1),-1=>vec(um1),-2=>vec(um2))\n",
    "        tt2=(1/(2*h))*((2*sin.(2*θ)/β).*(sin.(θ)).^2-(cos.(θ)).^2)\n",
    "        A=T+spdiagm(0=>vec(tt2))*U\n",
    "        uu=(1/(2*h))*(sin.(θ)).^2\n",
    "        B=spdiagm(0=>vec(uu))*U\n",
    "    elseif method==\"spectral\"\n",
    "        mme = spdiagm( l => fill(1.0,M_s-l), l-M_s => fill(1.0,l))\n",
    "        me = spdiagm( -l => fill(1.0,M_s-l), M_s-l => fill(1.0,l))\n",
    "        ms = (me - mme)/2im;\n",
    "        ms2 = (me^2 - mme^2)/2im;\n",
    "        mc = (me + mme)/2;\n",
    "        mc2 = (me^2 + mme^2)/2;\n",
    "        DD = 𝒟(l*pi,M_s,1) |> sparse;\n",
    "        A = (-2/β)*ms^4*DD^2 - (8/β)*ms^3*mc*DD - (2/β)*ms2*ms^2*DD + mc^2*DD - (4/β)*(ms*mc*ms2 + ms^2*mc2) - 2*mc*ms;\n",
    "        B = -ms^2*DD - 2*ms*mc\n",
    "    end\n",
    "    return A,B\n",
    "end"
   ]
  },
  {
   "cell_type": "code",
   "execution_count": 7,
   "id": "09bb2eb7",
   "metadata": {},
   "outputs": [
    {
     "data": {
      "text/plain": [
       "step_for (generic function with 1 method)"
      ]
     },
     "execution_count": 7,
     "metadata": {},
     "output_type": "execute_result"
    }
   ],
   "source": [
    "function step_for(method,step,A,B,x0,M_s,xs,xl,c0,c1,c2,c3,c4,c5,l;x33=0.4358665215,α=(2/sqrt(3))*cos(π/18),x34=1.06858)\n",
    "    TW_cdf=zeros(xl,1)\n",
    "    TW_pdf=zeros(xl,1)\n",
    "    TW_cdf[1]=1\n",
    "    TW_pdf[1]=0\n",
    "    Δx=xs[2]-xs[1]\n",
    "    N=-floor(M_s/2):1:floor((M_s-1)/2)\n",
    "    integ=zeros(ComplexF64,length(N))\n",
    "    for j=1:length(N)\n",
    "        if N[j]==0\n",
    "            integ[j]=pi\n",
    "        else\n",
    "            integ[j]=l/(im*N[j])*(exp(im*N[j]*pi/l)-1)\n",
    "        end\n",
    "    end\n",
    "    if step==\"trapz\"\n",
    "        for i=1:xl-1\n",
    "            rhs=(I+(Δx/2)*(A+xs[i]*B))*c0\n",
    "            lhs=I-(Δx/2)*(A+xs[i+1]*B)\n",
    "            c0=lhs\\rhs\n",
    "            c0_pdf=(A+xs[i+1]*B)*c0\n",
    "            if method==\"spectral\"\n",
    "                TW_cdf[i+1] = sum(c0.*integ)|> real\n",
    "                TW_pdf[i+1] = sum(c0_pdf.*integ)|> real\n",
    "            elseif method==\"finite\"\n",
    "                TW_cdf[i+1] = c0[end]\n",
    "                TW_pdf[i+1] = c0_pdf[end]\n",
    "            end\n",
    "        end\n",
    "    elseif step==\"irk22\"    #TR-BDF2\n",
    "        for i=1:xl-1\n",
    "            rhs=(I+(Δx/4)*(A+xs[i]*B))*c0\n",
    "            lhs=I-(Δx/4)*(A+(xs[i]+(Δx/2))*B)\n",
    "            temp=lhs\\rhs\n",
    "            rhs=(4/3)*temp-(1/3)*c0\n",
    "            lhs=I-(Δx/3)*(A+xs[i+1]*B)\n",
    "            c0=lhs\\rhs\n",
    "            c0_pdf=(A+xs[i+1]*B)*c0\n",
    "            if method==\"spectral\"\n",
    "                TW_cdf[i+1] = sum(c0.*integ)|> real\n",
    "                TW_pdf[i+1] = sum(c0_pdf.*integ)|> real\n",
    "            elseif method==\"finite\"\n",
    "                TW_cdf[i+1] = c0[end]\n",
    "                TW_pdf[i+1] = c0_pdf[end]\n",
    "            end\n",
    "        end\n",
    "    elseif step==\"irk23\"   #Two-stage third-order\n",
    "        for i=1:xl-1\n",
    "            rhs1=c0\n",
    "            lhs1=I-Δx*(1/2+sqrt(3)/6)*(A+(xs[i]+Δx*(1/2+sqrt(3)/6))*B)\n",
    "            temp1=lhs1\\rhs1\n",
    "            rhs2=c0-(sqrt(3)/3)*Δx*(A+(xs[i]+Δx*(1/2+sqrt(3)/6))*B)*temp1\n",
    "            lhs2=I-Δx*(1/2+sqrt(3)/6)*(A+(xs[i]+Δx*(1/2-sqrt(3)/6))*B)\n",
    "            temp2=lhs2\\rhs2\n",
    "            c0=c0+(Δx/2)*((A+(xs[i]+Δx*(1/2+sqrt(3)/6))*B)*temp1+(A+(xs[i]+Δx*(1/2-sqrt(3)/6))*B)*temp2)\n",
    "            c0_pdf=(A+xs[i+1]*B)*c0\n",
    "            if method==\"spectral\"\n",
    "                TW_cdf[i+1] = sum(c0.*integ)|> real\n",
    "                TW_pdf[i+1] = sum(c0_pdf.*integ)|> real\n",
    "            elseif method==\"finite\"\n",
    "                TW_cdf[i+1] = c0[end]\n",
    "                TW_pdf[i+1] = c0_pdf[end]\n",
    "            end\n",
    "        end\n",
    "    elseif step==\"irk33\"    #Three-stage third-order\n",
    "        for i = 1:xl - 1\n",
    "            rhs1 = c0 \n",
    "            lhs1 = I-x33*Δx*(A+(xs[i]+x33*Δx)*B)\n",
    "            temp1 = lhs1\\rhs1\n",
    "            rhs2 = c0+Δx*((1-x33)/2)*(A+(xs[i]+x33*Δx)*B)*temp1\n",
    "            lhs2 = I-x33*Δx*(A+(xs[i]+((1+x33)/2)*Δx)*B)\n",
    "            temp2 = lhs2\\rhs2\n",
    "            rhs3 = c0+Δx*(-3*x33^2/2+4*x33-1/4)*(A+(xs[i]+x33*Δx)*B)*temp1+Δx*(3*x33^2/2-5*x33+5/4)*(A+(xs[i]+((1+x33)/2)*Δx)*B)*temp2\n",
    "            lhs3 = I-x33*Δx*(A+xs[i+1]*B)\n",
    "            c0 = lhs3\\rhs3\n",
    "            c0_pdf=(A+xs[i+1]*B)*c0\n",
    "            if method==\"spectral\"\n",
    "                TW_cdf[i+1] = sum(c0.*integ)|> real\n",
    "                TW_pdf[i+1] = sum(c0_pdf.*integ)|> real\n",
    "            elseif method==\"finite\"\n",
    "                TW_cdf[i+1] = c0[end]\n",
    "                TW_pdf[i+1] = c0_pdf[end]\n",
    "            end\n",
    "        end\n",
    "    elseif step==\"irk43\"     #Four-stage third-order\n",
    "        for i=1:xl-1\n",
    "            rhs1=c0\n",
    "            lhs1=I-(Δx/2)*(A+(xs[i]+Δx/2)*B)\n",
    "            temp1=lhs1\\rhs1\n",
    "            rhs2=c0+(Δx/6)*(A+(xs[i]+Δx/2)*B)*temp1\n",
    "            lhs2=I-(Δx/2)*(A+(xs[i]+2*Δx/3)*B)\n",
    "            temp2=lhs2\\rhs2\n",
    "            rhs3=c0-(Δx/2)*(A+(xs[i]+Δx/2)*B)*temp1+(Δx/2)*(A+(xs[i]+2*Δx/3)*B)*temp2\n",
    "            lhs3=I-(Δx/2)*(A+(xs[i]+Δx/2)*B)\n",
    "            temp3=lhs3\\rhs3\n",
    "            rhs4=c0+(3*Δx/2)*(A+(xs[i]+Δx/2)*B)*temp1-(3*Δx/2)*(A+(xs[i]+2*Δx/3)*B)*temp2+(Δx/2)*(A+(xs[i]+Δx/2)*B)*temp3\n",
    "            lhs4=I-(Δx/2)*(A+xs[i+1]*B)\n",
    "            c0=lhs4\\rhs4\n",
    "            c0_pdf=(A+xs[i+1]*B)*c0\n",
    "            if method==\"spectral\"\n",
    "                TW_cdf[i+1] = sum(c0.*integ)|> real\n",
    "                TW_pdf[i+1] = sum(c0_pdf.*integ)|> real\n",
    "            elseif method==\"finite\"\n",
    "                TW_cdf[i+1] = c0[end]\n",
    "                TW_pdf[i+1] = c0_pdf[end]\n",
    "            end\n",
    "        end\n",
    "    elseif step==\"irk34\"       #Three-stage fourth-order\n",
    "        for i=1:xl-1\n",
    "            rhs1 = c0\n",
    "            lhs1 = I-Δx*((1+α)/2)*(A+(xs[i]+((1+α)/2)*Δx)*B)\n",
    "            temp1 = lhs1\\rhs1\n",
    "            rhs2 = c0-(α/2)*Δx*(A+(xs[i]+Δx*((1+α)/2))*B)*temp1\n",
    "            lhs2 = I-Δx*((1+α)/2)*(A+(xs[i]+Δx/2)*B)\n",
    "            temp2 = lhs2\\rhs2\n",
    "            rhs3 = c0+Δx*(1+α)*(A+(xs[i]+Δx*((1+α)/2))*B)*temp1-Δx*(1+2*α)*(A+(xs[i]+Δx/2)*B)*temp2\n",
    "            lhs3 = I-Δx*((1+α)/2)*(A+(xs[i]+((1-α)/2)*Δx)*B)\n",
    "            temp3 = lhs3\\rhs3\n",
    "            c0 = c0+(Δx/(6*α^2))*(A+(xs[i]+((1+α)/2)*Δx)*B)*temp1+Δx*(1-(1/(3*α^2)))*(A+(xs[i]+Δx/2)*B)*temp2+(Δx/(6*α^2))*(A+(xs[i]+((1-α)/2)*Δx)*B)*temp3\n",
    "            c0_pdf=(A+xs[i+1]*B)*c0    \n",
    "            if method==\"spectral\"\n",
    "                TW_cdf[i+1] = sum(c0.*integ)|> real\n",
    "                TW_pdf[i+1] = sum(c0_pdf.*integ)|> real\n",
    "            elseif method==\"finite\"\n",
    "                TW_cdf[i+1] = c0[end]\n",
    "                TW_pdf[i+1] = c0_pdf[end]\n",
    "            end\n",
    "        end\n",
    "    elseif step==\"irkn34\"       #Three-stage fourth-order \n",
    "        for i=1:xl-1 \n",
    "            rhs1 = c0\n",
    "            lhs1 = I-Δx*x34*(A+(xs[i]+x34*Δx)*B)\n",
    "            temp1 = lhs1\\rhs1\n",
    "            rhs2 = c0+(1/2-x34)*Δx*(A+(xs[i]+Δx*x34)*B)*temp1\n",
    "            lhs2 = I-Δx*x34*(A+(xs[i]+Δx/2)*B)\n",
    "            temp2 = lhs2\\rhs2\n",
    "            rhs3 = c0+Δx*2*x34*(A+(xs[i]+Δx*x34)*B)*temp1+Δx*(1-4*x34)*(A+(xs[i]+Δx/2)*B)*temp2\n",
    "            lhs3 = I-Δx*x34*(A+(xs[i]+(1-x34)*Δx)*B)\n",
    "            temp3 = lhs3\\rhs3\n",
    "            c0 = c0+(Δx/(6*(1-2*x34)^2))*(A+(xs[i]+x34*Δx)*B)*temp1+Δx*(((3*(1-2*x34)^2)-1)/(3*(1-2*x34)^2))*(A+(xs[i]+Δx/2)*B)*temp2+(Δx/(6*(1-2*x34)^2))*(A+(xs[i]+(1-x34)*Δx)*B)*temp3\n",
    "            c0_pdf = (A+xs[i+1]*B)*c0\n",
    "            if method==\"spectral\"\n",
    "                TW_cdf[i+1] = sum(c0.*integ)|> real\n",
    "                TW_pdf[i+1] = sum(c0_pdf.*integ)|> real\n",
    "            elseif method==\"finite\"\n",
    "                TW_cdf[i+1] = c0[end]\n",
    "                TW_pdf[i+1] = c0_pdf[end]\n",
    "            end\n",
    "        end\n",
    "    elseif step==\"bdf3\"\n",
    "        RR = (A+(x0*B))*(6Δx)\n",
    "        IRR = 11I - RR\n",
    "        ΔRR = (6Δx^2)*B\n",
    "        for i = 1:xl-1\n",
    "            temp = 18c0 - 9c1 + 2c2\n",
    "            c2 = c1\n",
    "            c1 = c0\n",
    "            IRR -= ΔRR\n",
    "            c0 = IRR\\temp\n",
    "            c0_pdf=(A+xs[i+1]*B)*c0\n",
    "            if method==\"spectral\"\n",
    "                TW_cdf[i+1] = sum(c0.*integ)|> real\n",
    "                TW_pdf[i+1] = sum(c0_pdf.*integ)|> real\n",
    "            elseif method==\"finite\"\n",
    "                TW_cdf[i+1]=c0[end]\n",
    "                TW_pdf[i+1]=c0_pdf[end]\n",
    "            end\n",
    "        end\n",
    "    elseif step==\"bdf4\"\n",
    "        RR = (A+(x0*B))*(12Δx)\n",
    "        IRR = 25I - RR\n",
    "        ΔRR = (12Δx^2)*B\n",
    "        for i = 1:xl-1\n",
    "            temp = 48c0 - 36c1 + 16c2 - 3c3\n",
    "            c3 = c2\n",
    "            c2 = c1\n",
    "            c1 = c0\n",
    "            IRR -= ΔRR\n",
    "            c0 = IRR\\temp\n",
    "            c0_pdf=(A+xs[i+1]*B)*c0\n",
    "            if method==\"spectral\"\n",
    "                TW_cdf[i+1] = sum(c0.*integ)|> real\n",
    "                TW_pdf[i+1] = sum(c0_pdf.*integ)|> real\n",
    "            elseif method==\"finite\"\n",
    "                TW_cdf[i+1]=c0[end]\n",
    "                TW_pdf[i+1]=c0_pdf[end]\n",
    "            end\n",
    "        end\n",
    "    elseif step==\"bdf5\"\n",
    "        RR = (A+(x0*B))*(60Δx)\n",
    "        IRR = 137I - RR\n",
    "        ΔRR = (60Δx^2)*B\n",
    "        for i = 1:xl-1\n",
    "            temp = 300c0 - 300c1 + 200c2 - 75c3 + 12c4\n",
    "            c4 = c3\n",
    "            c3 = c2\n",
    "            c2 = c1\n",
    "            c1 = c0\n",
    "            IRR -= ΔRR\n",
    "            c0 = IRR\\temp\n",
    "            c0_pdf=(A+xs[i+1]*B)*c0\n",
    "            if method==\"spectral\"\n",
    "                TW_cdf[i+1] = sum(c0.*integ)|> real\n",
    "                TW_pdf[i+1] = sum(c0_pdf.*integ)|> real\n",
    "            elseif method==\"finite\"\n",
    "                TW_cdf[i+1]=c0[end]\n",
    "                TW_pdf[i+1]=c0_pdf[end]\n",
    "            end\n",
    "        end\n",
    "    elseif step==\"bdf6\"\n",
    "        RR = (A+(x0*B))*(60Δx)\n",
    "        IRR = 147I - RR\n",
    "        ΔRR = (60Δx^2)*B\n",
    "        for i = 1:xl-1\n",
    "            temp = 360c0 - 450c1 + 400c2 - 225c3 + 72c4 - 10c5\n",
    "            c5 = c4\n",
    "            c4 = c3\n",
    "            c3 = c2\n",
    "            c2 = c1\n",
    "            c1 = c0\n",
    "            IRR -= ΔRR\n",
    "            c0 = IRR\\temp\n",
    "            c0_pdf=(A+xs[i+1]*B)*c0\n",
    "            if method==\"spectral\"\n",
    "                TW_cdf[i+1] = sum(c0.*integ)|> real\n",
    "                TW_pdf[i+1] = sum(c0_pdf.*integ)|> real\n",
    "            elseif method==\"finite\"\n",
    "                TW_cdf[i+1]=c0[end]\n",
    "                TW_pdf[i+1]=c0_pdf[end]\n",
    "            end\n",
    "        end\n",
    "    end\n",
    "    return TW_cdf,TW_pdf\n",
    "end"
   ]
  },
  {
   "cell_type": "code",
   "execution_count": 8,
   "id": "58e845ac",
   "metadata": {},
   "outputs": [
    {
     "data": {
      "text/plain": [
       "Fourier_interp (generic function with 1 method)"
      ]
     },
     "execution_count": 8,
     "metadata": {},
     "output_type": "execute_result"
    }
   ],
   "source": [
    "function Fourier_interp(xs,cheb,TW_cdf,TW_pdf)  \n",
    "    ϕ = x -> (erf.(x) .+ 1.0)/2\n",
    "    j=PeriodicSegment(xs[end],xs[1])\n",
    "    S=Laurent(j)\n",
    "    final_pdf=TW_pdf[2:end] |> reverse\n",
    "    final_cdf=TW_cdf[2:end] |> reverse\n",
    "    xx=xs[2:end] |> reverse\n",
    "    f_pdf=Fun(S,ApproxFun.transform(S,final_pdf))\n",
    "    f_cdf=Fun(S,ApproxFun.transform(S,final_cdf-ϕ(xx)))\n",
    "    S2=xs[end]..xs[1] |> Chebyshev\n",
    "    pdf_cheb=Fun(f_pdf,S2,cheb) |> real\n",
    "    cdf_cheb=Fun(f_cdf,S2,cheb) + Fun(ϕ,S2) |> real\n",
    "    return cdf_cheb,pdf_cheb\n",
    "end"
   ]
  },
  {
   "cell_type": "markdown",
   "id": "3838300d",
   "metadata": {},
   "source": [
    "The following plot shows how the absolute error (CDF) over the entire domain $x\\in\\left[-10,13/\\sqrt{\\beta}\\right]$ changes with respect $\\beta=1,2,4$. $\\Delta x=-0.001$ and $M=8000$ are used."
   ]
  },
  {
   "cell_type": "code",
   "execution_count": null,
   "id": "1f4882ba",
   "metadata": {},
   "outputs": [],
   "source": [
    "function errs_cdf(D1,D2,D4)\n",
    "    ers_cdf=Plots.plot();\n",
    "    beta=[1,2,4];\n",
    "    err1=zeros(length(D1),1);\n",
    "    err2=zeros(length(D2),1);\n",
    "    err4=zeros(length(D4),1);\n",
    "    for j=1:length(beta)\n",
    "        global β=beta[j]\n",
    "        F_cdf=TW(β;method=\"spectral\",step=\"bdf5\")\n",
    "        if β==1\n",
    "            for i=1:length(D1)\n",
    "                temp=D1[i]\n",
    "                err1[i]=abs(F_cdf(temp)-cdf(TW2,temp;beta=1,num_points=300))\n",
    "            end\n",
    "        elseif β==2\n",
    "            for i=1:length(D2)\n",
    "                temp=D2[i]\n",
    "                err2[i]=abs(F_cdf(temp)-cdf(TW2,temp;beta=2,num_points=300))\n",
    "            end\n",
    "        elseif β==4\n",
    "            for i=1:length(D4)\n",
    "                temp=D4[i]\n",
    "                err4[i]=abs(F_cdf(temp/(2^(1/6)))-cdf(TW2,temp;beta=4,num_points=300))\n",
    "            end\n",
    "        end\n",
    "        for i=1:length(D1)\n",
    "            if err1[i]<10^(-16)\n",
    "                err1[i]=10^(-16)\n",
    "            end\n",
    "        end\n",
    "        for i=1:length(D2)\n",
    "            if err2[i]<10^(-16)\n",
    "                err2[i]=10^(-16)\n",
    "            end\n",
    "        end\n",
    "        for i=1:length(D4)\n",
    "            if err4[i]<10^(-16)\n",
    "                err4[i]=10^(-16)\n",
    "            end\n",
    "        end\n",
    "        if β==1\n",
    "            ers_cdf=Plots.plot!(D1,err1,lw=5,label=L\"$\\beta=1$\",yaxis=:log10,xtickfontsize=15,ytickfontsize=15,legendfontsize=10,\n",
    "                yticks=[10^(-16),10^(-15),10^(-14),10^(-13),10^(-12),10^(-11),10^(-10),10^(-9),10^(-8),10^(-7),\n",
    "                    10^(-6),10^(-5)],\n",
    "                xticks=D1[end]:2:D1[1],legend=:bottomleft)\n",
    "        elseif β==2\n",
    "            ers_cdf=Plots.plot!(D2,err2,lw=5,label=L\"$\\beta=2$\",yaxis=:log10,xtickfontsize=15,ytickfontsize=15,legendfontsize=10,\n",
    "                yticks=[10^(-16),10^(-15),10^(-14),10^(-13),10^(-12),10^(-11),10^(-10),10^(-9),10^(-8),10^(-7),\n",
    "                    10^(-6),10^(-5)],\n",
    "                xticks=D1[end]:2:D1[1],legend=:bottomleft)\n",
    "        elseif β==4\n",
    "            ers_cdf=Plots.plot!(D4,err4,lw=5,label=L\"$\\beta=4$\",yaxis=:log10,xtickfontsize=15,ytickfontsize=15,legendfontsize=10,\n",
    "                yticks=[10^(-16),10^(-15),10^(-14),10^(-13),10^(-12),10^(-11),10^(-10),10^(-9),10^(-8),10^(-7),\n",
    "                    10^(-6),10^(-5)],\n",
    "                xticks=D1[end]:2:D1[1],legend=:bottomleft)\n",
    "        end\n",
    "    end\n",
    "    return ers_cdf\n",
    "end"
   ]
  },
  {
   "cell_type": "code",
   "execution_count": null,
   "id": "b286d3f2",
   "metadata": {},
   "outputs": [],
   "source": [
    "D1=(13/sqrt(1)):-0.05:-10;\n",
    "D2=(13/sqrt(2)):-0.05:-10;\n",
    "D4=6.5:-0.05:-10;\n",
    "ers_cdf=errs_cdf(D1,D2,D4)"
   ]
  },
  {
   "cell_type": "markdown",
   "id": "35c39c2a",
   "metadata": {},
   "source": [
    "The following code outputs a table showing the absolute errors of BDF5 for $x=0,\\pm 2,\\pm 4,\\pm 6, \\pm 8$, $\\beta=1,2,4$, $\\Delta x=-0.001$, $M=8000$."
   ]
  },
  {
   "cell_type": "code",
   "execution_count": null,
   "id": "d5e9b49a",
   "metadata": {},
   "outputs": [],
   "source": [
    "X=-8:2:6;\n",
    "err=zeros(length(X),3);\n",
    "B=[1,2,4];\n",
    "for i=1:length(B)\n",
    "    global β=B[i]\n",
    "    F_cdf=TW(β;method=\"spectral\",step=\"bdf5\")\n",
    "    for j=1:length(X)\n",
    "        temp=X[j]\n",
    "        if β==4\n",
    "            err[j,3]=abs(F_cdf(temp/(2^(1/6)))-cdf(TW2,temp;beta=4,num_points=300))\n",
    "        elseif β==1\n",
    "            err[j,1]=abs(F_cdf(temp)-cdf(TW2,temp;beta=1,num_points=300))\n",
    "        elseif β==2\n",
    "            err[j,2]=abs(F_cdf(temp)-cdf(TW2,temp;beta=2,num_points=300))\n",
    "        end\n",
    "    end\n",
    "end\n",
    "err1=err[:,1];err2=err[:,2];err4=err[:,3];"
   ]
  },
  {
   "cell_type": "code",
   "execution_count": null,
   "id": "0df1662a",
   "metadata": {},
   "outputs": [],
   "source": [
    "Table(x=X,β1=err1,β2=err2,β4=err4)"
   ]
  },
  {
   "cell_type": "markdown",
   "id": "92cd51aa",
   "metadata": {},
   "source": [
    "Similarly, the following plot is for the PDF."
   ]
  },
  {
   "cell_type": "code",
   "execution_count": null,
   "id": "fa4069b6",
   "metadata": {},
   "outputs": [],
   "source": [
    "function errs_pdf(D1,D2,D4)\n",
    "    ers_pdf=Plots.plot();\n",
    "    beta=[1,2,4];\n",
    "    err1=zeros(length(D1),1);\n",
    "    err2=zeros(length(D2),1);\n",
    "    err4=zeros(length(D4),1);\n",
    "    for j=1:length(beta)\n",
    "        global β=beta[j]\n",
    "        F_pdf=TW(β;method=\"spectral\",step=\"bdf5\",pdf=true,Δx_f=-0.001)\n",
    "        if β==1\n",
    "            for i=1:length(D1)\n",
    "                temp=D1[i]\n",
    "                err1[i]=abs(F_pdf(temp)-f1(temp))\n",
    "            end\n",
    "        elseif β==2\n",
    "            for i=1:length(D2)\n",
    "                temp=D2[i]\n",
    "                err2[i]=abs(F_pdf(temp)-f2(temp))\n",
    "            end\n",
    "        elseif β==4\n",
    "            for i=1:length(D4)\n",
    "                temp=D4[i]\n",
    "                err4[i]=abs(F_pdf(temp/(2^(1/6)))*(2^(-1/6))-f4(temp))\n",
    "            end\n",
    "        end\n",
    "        for i=1:length(D1)\n",
    "            if err1[i]<10^(-16)\n",
    "                err1[i]=10^(-16)\n",
    "            end\n",
    "        end\n",
    "        for i=1:length(D2)\n",
    "            if err2[i]<10^(-16)\n",
    "                err2[i]=10^(-16)\n",
    "            end\n",
    "        end\n",
    "        for i=1:length(D4)\n",
    "            if err4[i]<10^(-16)\n",
    "                err4[i]=10^(-16)\n",
    "            end\n",
    "        end\n",
    "        if β==1\n",
    "            ers_pdf=Plots.plot!(D1,err1,lw=5,label=L\"$\\beta=1$\",yaxis=:log10,xtickfontsize=15,ytickfontsize=15,legendfontsize=10,\n",
    "                yticks=[10^(-16),10^(-14),10^(-12),10^(-10),10^(-8),10^(-6),10^(-4)],\n",
    "                xticks=D1[end]:2:D1[1],legend=:topright)\n",
    "        elseif β==2\n",
    "            ers_pdf=Plots.plot!(D2,err2,lw=5,label=L\"$\\beta=2$\",yaxis=:log10,xtickfontsize=15,ytickfontsize=15,legendfontsize=10,\n",
    "                yticks=[10^(-16),10^(-14),10^(-12),10^(-10),10^(-8),10^(-6),10^(-4)],\n",
    "                xticks=D1[end]:2:D1[1],legend=:topright)\n",
    "        elseif β==4\n",
    "            ers_pdf=Plots.plot!(D4,err4,lw=5,label=L\"$\\beta=4$\",yaxis=:log10,xtickfontsize=15,ytickfontsize=15,legendfontsize=10,\n",
    "                yticks=[10^(-16),10^(-14),10^(-12),10^(-10),10^(-8),10^(-6),10^(-4)],\n",
    "                xticks=D1[end]:2:D1[1],legend=:topright)\n",
    "        end\n",
    "    end\n",
    "    return ers_pdf\n",
    "end"
   ]
  },
  {
   "cell_type": "code",
   "execution_count": null,
   "id": "a51d0ab0",
   "metadata": {},
   "outputs": [],
   "source": [
    "D1=(13/sqrt(1)):-0.05:-10;\n",
    "D2=(13/sqrt(2)):-0.05:-10;\n",
    "D4=6.5:-0.05:-10;\n",
    "ers_pdf=errs_pdf(D1,D2,D4)"
   ]
  },
  {
   "cell_type": "markdown",
   "id": "da8ddd00",
   "metadata": {},
   "source": [
    "## Error plots with respect to $\\left|\\Delta x\\right|$ and $M$"
   ]
  },
  {
   "cell_type": "markdown",
   "id": "292a761d",
   "metadata": {},
   "source": [
    "The following plots show how the absolute error (CDF) over the entire domain $x\\in\\left[-10,13/\\sqrt{\\beta}\\right]$ changes when $\\left|\\Delta x\\right|$ decreases and $M$ increases for a fixed $\\beta$-value. $\\Delta x=-0.2,-0.1,-0.05$ and $M=8000$ are used."
   ]
  },
  {
   "cell_type": "code",
   "execution_count": null,
   "id": "0197c390",
   "metadata": {},
   "outputs": [],
   "source": [
    "function errs_cdfc(β,D)\n",
    "    ers_cdfc=Plots.plot();\n",
    "    delta_x=[-0.2,-0.1,-0.05];\n",
    "    for j=1:length(delta_x)\n",
    "        err=zeros(length(D),1)\n",
    "        dx=delta_x[j];\n",
    "        F_cdf=TW(β;method=\"spectral\",step=\"bdf5\",Δx_s=dx)\n",
    "        for i=1:length(D)\n",
    "            temp=D[i]\n",
    "            if β==4\n",
    "                err[i]=abs(F_cdf(temp/(2^(1/6)))-cdf(TW2,temp;beta=4,num_points=300))\n",
    "            elseif β==1\n",
    "                err[i]=abs(F_cdf(temp)-cdf(TW2,temp;beta=1,num_points=300))\n",
    "            elseif β==2\n",
    "                err[i]=abs(F_cdf(temp)-cdf(TW2,temp;beta=2,num_points=300))\n",
    "            end\n",
    "        end\n",
    "        for i=1:length(D)\n",
    "            if err[i]<10^(-16)\n",
    "                err[i]=10^(-16)\n",
    "            end\n",
    "        end\n",
    "        if j==1\n",
    "            ers_cdfc=Plots.plot!(D,err,lw=5,label=L\"$\\Delta x=-0.2$\",yaxis=:log10,xtickfontsize=15,ytickfontsize=15,legendfontsize=15,\n",
    "                yticks=[10^(-16),10^(-14),10^(-12),10^(-10),10^(-8),10^(-6),10^(-4),10^(-2),10^(0),10^(2),10^(4),10^(6),10^(8),\n",
    "                    10^(10),10^(12),10^(14),10^(16)],xticks=ceil(D[end]):2:floor(D[1]),legend=:bottom)\n",
    "        elseif j==2\n",
    "            ers_cdfc=Plots.plot!(D,err,lw=5,label=L\"$\\Delta x=-0.1$\",yaxis=:log10,xtickfontsize=15,ytickfontsize=15,legendfontsize=15,\n",
    "                yticks=[10^(-16),10^(-14),10^(-12),10^(-10),10^(-8),10^(-6),10^(-4),10^(-2),10^(0),10^(2),10^(4),10^(6),10^(8),\n",
    "                    10^(10),10^(12),10^(14),10^(16)],xticks=ceil(D[end]):2:floor(D[1]),legend=:bottom)\n",
    "        elseif j==3\n",
    "            ers_cdfc=Plots.plot!(D,err,lw=5,label=L\"$\\Delta x=-0.05$\",yaxis=:log10,xtickfontsize=15,ytickfontsize=15,\n",
    "                legendfontsize=15,yticks=[10^(-16),10^(-14),10^(-12),10^(-10),10^(-8),10^(-6),10^(-4),10^(-2),10^(0),10^(2),10^(4),\n",
    "                    10^(6),10^(8),10^(10),10^(12),10^(14),10^(16)],xticks=ceil(D[end]):2:floor(D[1]),legend=:bottom)\n",
    "        end\n",
    "    end\n",
    "    return ers_cdfc\n",
    "end"
   ]
  },
  {
   "cell_type": "markdown",
   "id": "5dc90b9b",
   "metadata": {},
   "source": [
    "For $\\beta=1$, we have"
   ]
  },
  {
   "cell_type": "code",
   "execution_count": null,
   "id": "5f190569",
   "metadata": {},
   "outputs": [],
   "source": [
    "D=13:-0.05:-10;\n",
    "ers_cdfc=errs_cdfc(1,D)"
   ]
  },
  {
   "cell_type": "markdown",
   "id": "a5a00d59",
   "metadata": {},
   "source": [
    "For $\\beta=2$, we have"
   ]
  },
  {
   "cell_type": "code",
   "execution_count": null,
   "id": "3691322b",
   "metadata": {},
   "outputs": [],
   "source": [
    "D=13/sqrt(2):-0.05:-10;\n",
    "ers_cdfc=errs_cdfc(2,D)"
   ]
  },
  {
   "cell_type": "markdown",
   "id": "9e7432a7",
   "metadata": {},
   "source": [
    "For $\\beta=4$, we have"
   ]
  },
  {
   "cell_type": "code",
   "execution_count": null,
   "id": "ace3aaf6",
   "metadata": {},
   "outputs": [],
   "source": [
    "D=6.5:-0.05:-10;\n",
    "ers_cdfc=errs_cdfc(4,D)"
   ]
  },
  {
   "cell_type": "markdown",
   "id": "5221d074",
   "metadata": {},
   "source": [
    "Similarly, the following algorithm is for the PDF."
   ]
  },
  {
   "cell_type": "code",
   "execution_count": null,
   "id": "31abcf94",
   "metadata": {},
   "outputs": [],
   "source": [
    "function errs_pdfc(β,D)\n",
    "    ers_pdfc=Plots.plot();\n",
    "    delta_x=[-0.2,-0.1,-0.05];\n",
    "    for j=1:length(delta_x)\n",
    "        err=zeros(length(D),1)\n",
    "        dx=delta_x[j];\n",
    "        F_pdf=TW(β;pdf=true,method=\"spectral\",step=\"bdf5\",Δx_s=dx)\n",
    "        for i=1:length(D)\n",
    "            temp=D[i]\n",
    "            if β==4\n",
    "                err[i]=abs(F_pdf(temp/(2^(1/6)))*(2^(-1/6))-f4(temp))\n",
    "            elseif β==1\n",
    "                err[i]=abs(F_pdf(temp)-f1(temp))\n",
    "            elseif β==2\n",
    "                err[i]=abs(F_pdf(temp)-f2(temp))\n",
    "            end\n",
    "        end\n",
    "        for i=1:length(D)\n",
    "            if err[i]<10^(-16)\n",
    "                err[i]=10^(-16)\n",
    "            end\n",
    "        end\n",
    "        if j==1\n",
    "            ers_pdfc=Plots.plot!(D,err,lw=5,label=L\"$\\Delta x=-0.2$\",yaxis=:log10,xtickfontsize=15,ytickfontsize=15,legendfontsize=15,\n",
    "                yticks=[10^(-16),10^(-14),10^(-12),10^(-10),10^(-8),10^(-6),10^(-4),10^(-2),10^(0),10^(2),10^(4),10^(6),10^(8),\n",
    "                    10^(10)],xticks=ceil(D[end]):2:floor(D[1]),legend=:bottom)\n",
    "        elseif j==2\n",
    "            ers_pdfc=Plots.plot!(D,err,lw=5,label=L\"$\\Delta x=-0.1$\",yaxis=:log10,xtickfontsize=15,ytickfontsize=15,legendfontsize=15,\n",
    "                yticks=[10^(-16),10^(-14),10^(-12),10^(-10),10^(-8),10^(-6),10^(-4),10^(-2),10^(0),10^(2),10^(4),10^(6),10^(8),\n",
    "                    10^(10)],xticks=ceil(D[end]):2:floor(D[1]),legend=:bottom)\n",
    "        elseif j==3\n",
    "            ers_pdfc=Plots.plot!(D,err,lw=5,label=L\"$\\Delta x=-0.05$\",yaxis=:log10,xtickfontsize=15,ytickfontsize=15,legendfontsize=15,\n",
    "                yticks=[10^(-16),10^(-14),10^(-12),10^(-10),10^(-8),10^(-6),10^(-4),10^(-2),10^(0),10^(2),10^(4),10^(6),10^(8),\n",
    "                    10^(10)],xticks=ceil(D[end]):2:floor(D[1]),legend=:bottom)\n",
    "        end\n",
    "    end\n",
    "    return ers_pdfc\n",
    "end"
   ]
  },
  {
   "cell_type": "markdown",
   "id": "89afd722",
   "metadata": {},
   "source": [
    "For $\\beta=1$, we have"
   ]
  },
  {
   "cell_type": "code",
   "execution_count": null,
   "id": "4cf50155",
   "metadata": {},
   "outputs": [],
   "source": [
    "D=13:-0.05:-10;\n",
    "ers_pdfc=errs_pdfc(1,D)"
   ]
  },
  {
   "cell_type": "markdown",
   "id": "c87280a0",
   "metadata": {},
   "source": [
    "For $\\beta=2$, we have"
   ]
  },
  {
   "cell_type": "code",
   "execution_count": null,
   "id": "631ee150",
   "metadata": {},
   "outputs": [],
   "source": [
    "D=13/sqrt(2):-0.05:-10;\n",
    "ers_pdfc=errs_pdfc(2,D)"
   ]
  },
  {
   "cell_type": "markdown",
   "id": "bf0f4b85",
   "metadata": {},
   "source": [
    "For $\\beta=4$, we have"
   ]
  },
  {
   "cell_type": "code",
   "execution_count": null,
   "id": "7e399eab",
   "metadata": {},
   "outputs": [],
   "source": [
    "D=6.5:-0.05:-10;\n",
    "ers_pdfc=errs_pdfc(4,D)"
   ]
  },
  {
   "cell_type": "markdown",
   "id": "04bc315b",
   "metadata": {},
   "source": [
    "## Order of error plot"
   ]
  },
  {
   "cell_type": "markdown",
   "id": "5409f6bf",
   "metadata": {},
   "source": [
    "The following plot shows the order of error of the spectral discretization (CDF) using trapezoidal method for $\\beta=2$, $x_{0}=\\lceil 13/\\sqrt{\\beta}\\rceil$, at $x=-2$ before interpolation with $M=8000$. We treat the case $\\Delta x=-0.001$ as the reference to compare with. $\\Delta x=-0.05,-0.04,-0.025$ are used."
   ]
  },
  {
   "cell_type": "code",
   "execution_count": 9,
   "id": "13596e7b",
   "metadata": {},
   "outputs": [],
   "source": [
    "β=2;\n",
    "xx=-2;\n",
    "result_ref=TW(β;x0=ceil(13/sqrt(β)),method=\"spectral\",step=\"trapz\",interp=false,Δx_s=-0.001);\n",
    "x_ref=result_ref[1];F_ref=result_ref[2];ind=findall(x -> x == xx, x_ref)[1];"
   ]
  },
  {
   "cell_type": "code",
   "execution_count": 10,
   "id": "71a9ccad",
   "metadata": {},
   "outputs": [],
   "source": [
    "del_x=[-0.05,-0.04,-0.025];\n",
    "err=zeros(1,length(del_x));\n",
    "for i=1:length(del_x)\n",
    "    dx=del_x[i];\n",
    "    result_cdf=TW(β;x0=ceil(13/sqrt(β)),method=\"spectral\",step=\"trapz\",interp=false,Δx_s=dx);\n",
    "    x_cdf=result_cdf[1];F_cdf=result_cdf[2];\n",
    "    ind2=findall(x -> x == xx, x_cdf)[1];\n",
    "    err[i]=abs(F_cdf[ind2]-F_ref[ind]);\n",
    "end"
   ]
  },
  {
   "cell_type": "code",
   "execution_count": 57,
   "id": "acfa6f3e",
   "metadata": {},
   "outputs": [
    {
     "data": {
      "image/svg+xml": [
       "<?xml version=\"1.0\" encoding=\"utf-8\"?>\n",
       "<svg xmlns=\"http://www.w3.org/2000/svg\" xmlns:xlink=\"http://www.w3.org/1999/xlink\" width=\"600\" height=\"400\" viewBox=\"0 0 2400 1600\">\n",
       "<defs>\n",
       "  <clipPath id=\"clip890\">\n",
       "    <rect x=\"0\" y=\"0\" width=\"2400\" height=\"1600\"/>\n",
       "  </clipPath>\n",
       "</defs>\n",
       "<path clip-path=\"url(#clip890)\" d=\"M0 1600 L2400 1600 L2400 0 L0 0  Z\" fill=\"#ffffff\" fill-rule=\"evenodd\" fill-opacity=\"1\"/>\n",
       "<defs>\n",
       "  <clipPath id=\"clip891\">\n",
       "    <rect x=\"480\" y=\"0\" width=\"1681\" height=\"1600\"/>\n",
       "  </clipPath>\n",
       "</defs>\n",
       "<path clip-path=\"url(#clip890)\" d=\"M279.187 1433.18 L1743.43 1433.18 L1743.43 47.2441 L279.187 47.2441  Z\" fill=\"#ffffff\" fill-rule=\"evenodd\" fill-opacity=\"1\"/>\n",
       "<defs>\n",
       "  <clipPath id=\"clip892\">\n",
       "    <rect x=\"279\" y=\"47\" width=\"1465\" height=\"1387\"/>\n",
       "  </clipPath>\n",
       "</defs>\n",
       "<polyline clip-path=\"url(#clip892)\" style=\"stroke:#000000; stroke-linecap:round; stroke-linejoin:round; stroke-width:2; stroke-opacity:0.1; fill:none\" points=\"330.081,1433.18 330.081,47.2441 \"/>\n",
       "<polyline clip-path=\"url(#clip892)\" style=\"stroke:#000000; stroke-linecap:round; stroke-linejoin:round; stroke-width:2; stroke-opacity:0.1; fill:none\" points=\"1247.84,1433.18 1247.84,47.2441 \"/>\n",
       "<polyline clip-path=\"url(#clip890)\" style=\"stroke:#000000; stroke-linecap:round; stroke-linejoin:round; stroke-width:4; stroke-opacity:1; fill:none\" points=\"279.187,1433.18 1743.43,1433.18 \"/>\n",
       "<polyline clip-path=\"url(#clip890)\" style=\"stroke:#000000; stroke-linecap:round; stroke-linejoin:round; stroke-width:4; stroke-opacity:1; fill:none\" points=\"330.081,1433.18 330.081,1414.28 \"/>\n",
       "<polyline clip-path=\"url(#clip890)\" style=\"stroke:#000000; stroke-linecap:round; stroke-linejoin:round; stroke-width:4; stroke-opacity:1; fill:none\" points=\"1247.84,1433.18 1247.84,1414.28 \"/>\n",
       "<path clip-path=\"url(#clip890)\" d=\"M201.035 1555.36 L215.358 1555.36 L215.358 1505.93 L199.777 1509.05 L199.777 1501.06 L215.271 1497.94 L224.039 1497.94 L224.039 1555.36 L238.362 1555.36 L238.362 1562.74 L201.035 1562.74 L201.035 1555.36 Z\" fill=\"#000000\" fill-rule=\"nonzero\" fill-opacity=\"1\" /><path clip-path=\"url(#clip890)\" d=\"M274.82 1503.71 Q268.049 1503.71 264.62 1510.4 Q261.235 1517.04 261.235 1530.4 Q261.235 1543.73 264.62 1550.41 Q268.049 1557.05 274.82 1557.05 Q281.634 1557.05 285.019 1550.41 Q288.448 1543.73 288.448 1530.4 Q288.448 1517.04 285.019 1510.4 Q281.634 1503.71 274.82 1503.71 M274.82 1496.77 Q285.714 1496.77 291.443 1505.4 Q297.215 1514 297.215 1530.4 Q297.215 1546.77 291.443 1555.4 Q285.714 1564 274.82 1564 Q263.926 1564 258.153 1555.4 Q252.424 1546.77 252.424 1530.4 Q252.424 1514 258.153 1505.4 Q263.926 1496.77 274.82 1496.77 Z\" fill=\"#000000\" fill-rule=\"nonzero\" fill-opacity=\"1\" /><path clip-path=\"url(#clip890)\" d=\"M297.215 1485.71 L342.425 1485.71 L342.425 1491.7 L297.215 1491.7 L297.215 1485.71 Z\" fill=\"#000000\" fill-rule=\"nonzero\" fill-opacity=\"1\" /><path clip-path=\"url(#clip890)\" d=\"M359.034 1505.35 L370.671 1505.35 L370.671 1465.18 L358.011 1467.72 L358.011 1461.23 L370.601 1458.69 L377.724 1458.69 L377.724 1505.35 L389.362 1505.35 L389.362 1511.34 L359.034 1511.34 L359.034 1505.35 Z\" fill=\"#000000\" fill-rule=\"nonzero\" fill-opacity=\"1\" /><path clip-path=\"url(#clip890)\" d=\"M403.75 1502.39 L411.19 1502.39 L411.19 1511.34 L403.75 1511.34 L403.75 1502.39 Z\" fill=\"#000000\" fill-rule=\"nonzero\" fill-opacity=\"1\" /><path clip-path=\"url(#clip890)\" d=\"M442.823 1482.18 Q438.027 1482.18 435.206 1485.46 Q432.42 1488.74 432.42 1494.45 Q432.42 1500.13 435.206 1503.45 Q438.027 1506.73 442.823 1506.73 Q447.619 1506.73 450.405 1503.45 Q453.226 1500.13 453.226 1494.45 Q453.226 1488.74 450.405 1485.46 Q447.619 1482.18 442.823 1482.18 M456.964 1459.86 L456.964 1466.35 Q454.284 1465.08 451.533 1464.41 Q448.818 1463.74 446.138 1463.74 Q439.085 1463.74 435.347 1468.5 Q431.644 1473.26 431.115 1482.89 Q433.196 1479.82 436.334 1478.2 Q439.473 1476.54 443.246 1476.54 Q451.18 1476.54 455.765 1481.37 Q460.385 1486.17 460.385 1494.45 Q460.385 1502.56 455.589 1507.47 Q450.793 1512.37 442.823 1512.37 Q433.689 1512.37 428.858 1505.39 Q424.027 1498.37 424.027 1485.07 Q424.027 1472.59 429.951 1465.18 Q435.876 1457.74 445.856 1457.74 Q448.536 1457.74 451.251 1458.27 Q454.002 1458.8 456.964 1459.86 Z\" fill=\"#000000\" fill-rule=\"nonzero\" fill-opacity=\"1\" /><path clip-path=\"url(#clip890)\" d=\"M1118.55 1555.36 L1132.87 1555.36 L1132.87 1505.93 L1117.29 1509.05 L1117.29 1501.06 L1132.78 1497.94 L1141.55 1497.94 L1141.55 1555.36 L1155.87 1555.36 L1155.87 1562.74 L1118.55 1562.74 L1118.55 1555.36 Z\" fill=\"#000000\" fill-rule=\"nonzero\" fill-opacity=\"1\" /><path clip-path=\"url(#clip890)\" d=\"M1192.33 1503.71 Q1185.56 1503.71 1182.13 1510.4 Q1178.75 1517.04 1178.75 1530.4 Q1178.75 1543.73 1182.13 1550.41 Q1185.56 1557.05 1192.33 1557.05 Q1199.15 1557.05 1202.53 1550.41 Q1205.96 1543.73 1205.96 1530.4 Q1205.96 1517.04 1202.53 1510.4 Q1199.15 1503.71 1192.33 1503.71 M1192.33 1496.77 Q1203.23 1496.77 1208.96 1505.4 Q1214.73 1514 1214.73 1530.4 Q1214.73 1546.77 1208.96 1555.4 Q1203.23 1564 1192.33 1564 Q1181.44 1564 1175.67 1555.4 Q1169.94 1546.77 1169.94 1530.4 Q1169.94 1514 1175.67 1505.4 Q1181.44 1496.77 1192.33 1496.77 Z\" fill=\"#000000\" fill-rule=\"nonzero\" fill-opacity=\"1\" /><path clip-path=\"url(#clip890)\" d=\"M1214.73 1485.71 L1259.94 1485.71 L1259.94 1491.7 L1214.73 1491.7 L1214.73 1485.71 Z\" fill=\"#000000\" fill-rule=\"nonzero\" fill-opacity=\"1\" /><path clip-path=\"url(#clip890)\" d=\"M1276.55 1505.35 L1288.18 1505.35 L1288.18 1465.18 L1275.52 1467.72 L1275.52 1461.23 L1288.11 1458.69 L1295.24 1458.69 L1295.24 1505.35 L1306.87 1505.35 L1306.87 1511.34 L1276.55 1511.34 L1276.55 1505.35 Z\" fill=\"#000000\" fill-rule=\"nonzero\" fill-opacity=\"1\" /><path clip-path=\"url(#clip890)\" d=\"M1321.26 1502.39 L1328.7 1502.39 L1328.7 1511.34 L1321.26 1511.34 L1321.26 1502.39 Z\" fill=\"#000000\" fill-rule=\"nonzero\" fill-opacity=\"1\" /><path clip-path=\"url(#clip890)\" d=\"M1363.79 1464.9 L1345.81 1493.01 L1363.79 1493.01 L1363.79 1464.9 M1361.92 1458.69 L1370.88 1458.69 L1370.88 1493.01 L1378.39 1493.01 L1378.39 1498.93 L1370.88 1498.93 L1370.88 1511.34 L1363.79 1511.34 L1363.79 1498.93 L1340.02 1498.93 L1340.02 1492.06 L1361.92 1458.69 Z\" fill=\"#000000\" fill-rule=\"nonzero\" fill-opacity=\"1\" /><polyline clip-path=\"url(#clip892)\" style=\"stroke:#000000; stroke-linecap:round; stroke-linejoin:round; stroke-width:2; stroke-opacity:0.1; fill:none\" points=\"279.187,444.717 1743.43,444.717 \"/>\n",
       "<polyline clip-path=\"url(#clip890)\" style=\"stroke:#000000; stroke-linecap:round; stroke-linejoin:round; stroke-width:4; stroke-opacity:1; fill:none\" points=\"279.187,1433.18 279.187,47.2441 \"/>\n",
       "<polyline clip-path=\"url(#clip890)\" style=\"stroke:#000000; stroke-linecap:round; stroke-linejoin:round; stroke-width:4; stroke-opacity:1; fill:none\" points=\"279.187,444.717 292.531,444.717 \"/>\n",
       "<path clip-path=\"url(#clip890)\" d=\"M52.2508 481.827 L66.5736 481.827 L66.5736 432.392 L50.9921 435.517 L50.9921 427.531 L66.4868 424.406 L75.2541 424.406 L75.2541 481.827 L89.577 481.827 L89.577 489.206 L52.2508 489.206 L52.2508 481.827 Z\" fill=\"#000000\" fill-rule=\"nonzero\" fill-opacity=\"1\" /><path clip-path=\"url(#clip890)\" d=\"M126.035 430.178 Q119.264 430.178 115.836 436.862 Q112.45 443.503 112.45 456.871 Q112.45 470.196 115.836 476.88 Q119.264 483.52 126.035 483.52 Q132.849 483.52 136.235 476.88 Q139.664 470.196 139.664 456.871 Q139.664 443.503 136.235 436.862 Q132.849 430.178 126.035 430.178 M126.035 423.234 Q136.929 423.234 142.658 431.871 Q148.431 440.465 148.431 456.871 Q148.431 473.234 142.658 481.871 Q136.929 490.465 126.035 490.465 Q115.141 490.465 109.369 481.871 Q103.639 473.234 103.639 456.871 Q103.639 440.465 109.369 431.871 Q115.141 423.234 126.035 423.234 Z\" fill=\"#000000\" fill-rule=\"nonzero\" fill-opacity=\"1\" /><path clip-path=\"url(#clip890)\" d=\"M148.431 412.174 L193.64 412.174 L193.64 418.169 L148.431 418.169 L148.431 412.174 Z\" fill=\"#000000\" fill-rule=\"nonzero\" fill-opacity=\"1\" /><path clip-path=\"url(#clip890)\" d=\"M228.587 391.368 L210.602 419.474 L228.587 419.474 L228.587 391.368 M226.718 385.161 L235.675 385.161 L235.675 419.474 L243.187 419.474 L243.187 425.398 L235.675 425.398 L235.675 437.811 L228.587 437.811 L228.587 425.398 L204.819 425.398 L204.819 418.522 L226.718 385.161 Z\" fill=\"#000000\" fill-rule=\"nonzero\" fill-opacity=\"1\" /><polyline clip-path=\"url(#clip892)\" style=\"stroke:#009af9; stroke-linecap:round; stroke-linejoin:round; stroke-width:20; stroke-opacity:1; fill:none\" points=\"1701.99,303.303 1257.29,654.294 320.628,1393.95 \"/>\n",
       "<circle clip-path=\"url(#clip892)\" cx=\"1701.99\" cy=\"303.303\" r=\"18\" fill=\"#009af9\" fill-rule=\"evenodd\" fill-opacity=\"1\" stroke=\"#000000\" stroke-opacity=\"1\" stroke-width=\"3.2\"/>\n",
       "<circle clip-path=\"url(#clip892)\" cx=\"1257.29\" cy=\"654.294\" r=\"18\" fill=\"#009af9\" fill-rule=\"evenodd\" fill-opacity=\"1\" stroke=\"#000000\" stroke-opacity=\"1\" stroke-width=\"3.2\"/>\n",
       "<circle clip-path=\"url(#clip892)\" cx=\"320.628\" cy=\"1393.95\" r=\"18\" fill=\"#009af9\" fill-rule=\"evenodd\" fill-opacity=\"1\" stroke=\"#000000\" stroke-opacity=\"1\" stroke-width=\"3.2\"/>\n",
       "<polyline clip-path=\"url(#clip892)\" style=\"stroke:#e26f46; stroke-linecap:round; stroke-linejoin:round; stroke-width:20; stroke-opacity:1; fill:none\" stroke-dasharray=\"10, 20\" points=\"1701.99,86.4686 1257.29,437.26 320.628,1176.13 \"/>\n",
       "<path clip-path=\"url(#clip890)\" d=\"M1812.55 864.168 L2352.76 864.168 L2352.76 630.888 L1812.55 630.888  Z\" fill=\"#ffffff\" fill-rule=\"evenodd\" fill-opacity=\"1\"/>\n",
       "<polyline clip-path=\"url(#clip890)\" style=\"stroke:#000000; stroke-linecap:round; stroke-linejoin:round; stroke-width:4; stroke-opacity:1; fill:none\" points=\"1812.55,864.168 2352.76,864.168 2352.76,630.888 1812.55,630.888 1812.55,864.168 \"/>\n",
       "<polyline clip-path=\"url(#clip890)\" style=\"stroke:#009af9; stroke-linecap:round; stroke-linejoin:round; stroke-width:30; stroke-opacity:1; fill:none\" points=\"1835.59,708.648 1973.83,708.648 \"/>\n",
       "<circle clip-path=\"url(#clip890)\" cx=\"1904.71\" cy=\"708.648\" r=\"12.7998\" fill=\"#009af9\" fill-rule=\"evenodd\" fill-opacity=\"1\" stroke=\"#000000\" stroke-opacity=\"1\" stroke-width=\"5.58545\"/>\n",
       "<path clip-path=\"url(#clip890)\" d=\"M2030.24 684.43 L2030.24 691.27 Q2026.25 689.36 2022.7 688.423 Q2019.16 687.485 2015.86 687.485 Q2010.13 687.485 2007.01 689.707 Q2003.92 691.93 2003.92 696.027 Q2003.92 699.464 2005.97 701.235 Q2008.05 702.971 2013.82 704.048 L2018.05 704.916 Q2025.9 706.409 2029.61 710.193 Q2033.36 713.943 2033.36 720.263 Q2033.36 727.797 2028.29 731.686 Q2023.26 735.575 2013.5 735.575 Q2009.82 735.575 2005.66 734.742 Q2001.52 733.909 1997.08 732.277 L1997.08 725.054 Q2001.35 727.45 2005.45 728.665 Q2009.54 729.881 2013.5 729.881 Q2019.51 729.881 2022.77 727.52 Q2026.04 725.159 2026.04 720.784 Q2026.04 716.964 2023.68 714.811 Q2021.35 712.659 2016 711.582 L2011.73 710.749 Q2003.88 709.186 2000.38 705.853 Q1996.87 702.52 1996.87 696.582 Q1996.87 689.707 2001.7 685.749 Q2006.56 681.791 2015.07 681.791 Q2018.71 681.791 2022.5 682.45 Q2026.28 683.11 2030.24 684.43 Z\" fill=\"#000000\" fill-rule=\"nonzero\" fill-opacity=\"1\" /><path clip-path=\"url(#clip890)\" d=\"M2051.31 688.492 L2051.31 728.804 L2059.79 728.804 Q2070.52 728.804 2075.48 723.943 Q2080.48 719.082 2080.48 708.596 Q2080.48 698.18 2075.48 693.353 Q2070.52 688.492 2059.79 688.492 L2051.31 688.492 M2044.3 682.728 L2058.71 682.728 Q2073.78 682.728 2080.83 689.013 Q2087.88 695.263 2087.88 708.596 Q2087.88 721.999 2080.79 728.284 Q2073.71 734.568 2058.71 734.568 L2044.3 734.568 L2044.3 682.728 Z\" fill=\"#000000\" fill-rule=\"nonzero\" fill-opacity=\"1\" /><path clip-path=\"url(#clip890)\" d=\"M2114.13 680.61 Q2109.47 688.596 2107.22 696.409 Q2104.96 704.221 2104.96 712.242 Q2104.96 720.263 2107.22 728.145 Q2109.51 735.992 2114.13 743.943 L2108.57 743.943 Q2103.36 735.784 2100.76 727.902 Q2098.19 720.02 2098.19 712.242 Q2098.19 704.499 2100.76 696.652 Q2103.33 688.805 2108.57 680.61 L2114.13 680.61 Z\" fill=\"#000000\" fill-rule=\"nonzero\" fill-opacity=\"1\" /><path clip-path=\"url(#clip890)\" d=\"M2119.61 682.728 L2163.47 682.728 L2163.47 688.631 L2145.06 688.631 L2145.06 734.568 L2138.02 734.568 L2138.02 688.631 L2119.61 688.631 L2119.61 682.728 Z\" fill=\"#000000\" fill-rule=\"nonzero\" fill-opacity=\"1\" /><path clip-path=\"url(#clip890)\" d=\"M2182.04 701.652 Q2180.97 701.027 2179.68 700.749 Q2178.43 700.436 2176.9 700.436 Q2171.49 700.436 2168.57 703.978 Q2165.69 707.485 2165.69 714.082 L2165.69 734.568 L2159.27 734.568 L2159.27 695.68 L2165.69 695.68 L2165.69 701.721 Q2167.7 698.18 2170.93 696.478 Q2174.16 694.742 2178.78 694.742 Q2179.44 694.742 2180.24 694.846 Q2181.04 694.916 2182.01 695.089 L2182.04 701.652 Z\" fill=\"#000000\" fill-rule=\"nonzero\" fill-opacity=\"1\" /><path clip-path=\"url(#clip890)\" d=\"M2206.42 715.02 Q2198.68 715.02 2195.69 716.791 Q2192.7 718.561 2192.7 722.832 Q2192.7 726.235 2194.93 728.249 Q2197.18 730.228 2201.04 730.228 Q2206.35 730.228 2209.54 726.478 Q2212.77 722.693 2212.77 716.443 L2212.77 715.02 L2206.42 715.02 M2219.16 712.381 L2219.16 734.568 L2212.77 734.568 L2212.77 728.665 Q2210.58 732.207 2207.32 733.909 Q2204.06 735.575 2199.34 735.575 Q2193.36 735.575 2189.82 732.242 Q2186.31 728.874 2186.31 723.249 Q2186.31 716.686 2190.69 713.353 Q2195.1 710.02 2203.81 710.02 L2212.77 710.02 L2212.77 709.395 Q2212.77 704.985 2209.86 702.589 Q2206.97 700.159 2201.73 700.159 Q2198.4 700.159 2195.24 700.957 Q2192.08 701.756 2189.16 703.353 L2189.16 697.45 Q2192.67 696.096 2195.97 695.437 Q2199.27 694.742 2202.39 694.742 Q2210.83 694.742 2214.99 699.117 Q2219.16 703.492 2219.16 712.381 Z\" fill=\"#000000\" fill-rule=\"nonzero\" fill-opacity=\"1\" /><path clip-path=\"url(#clip890)\" d=\"M2238.5 728.735 L2238.5 749.36 L2232.08 749.36 L2232.08 695.68 L2238.5 695.68 L2238.5 701.582 Q2240.52 698.11 2243.57 696.443 Q2246.66 694.742 2250.93 694.742 Q2258.02 694.742 2262.42 700.367 Q2266.87 705.992 2266.87 715.159 Q2266.87 724.325 2262.42 729.95 Q2258.02 735.575 2250.93 735.575 Q2246.66 735.575 2243.57 733.909 Q2240.52 732.207 2238.5 728.735 M2260.24 715.159 Q2260.24 708.11 2257.32 704.117 Q2254.44 700.089 2249.37 700.089 Q2244.3 700.089 2241.38 704.117 Q2238.5 708.11 2238.5 715.159 Q2238.5 722.207 2241.38 726.235 Q2244.3 730.228 2249.37 730.228 Q2254.44 730.228 2257.32 726.235 Q2260.24 722.207 2260.24 715.159 Z\" fill=\"#000000\" fill-rule=\"nonzero\" fill-opacity=\"1\" /><path clip-path=\"url(#clip890)\" d=\"M2274.68 695.68 L2305.03 695.68 L2305.03 701.513 L2281 729.464 L2305.03 729.464 L2305.03 734.568 L2273.81 734.568 L2273.81 728.735 L2297.84 700.784 L2274.68 700.784 L2274.68 695.68 Z\" fill=\"#000000\" fill-rule=\"nonzero\" fill-opacity=\"1\" /><path clip-path=\"url(#clip890)\" d=\"M2313.78 680.61 L2319.33 680.61 Q2324.54 688.805 2327.11 696.652 Q2329.72 704.499 2329.72 712.242 Q2329.72 720.02 2327.11 727.902 Q2324.54 735.784 2319.33 743.943 L2313.78 743.943 Q2318.4 735.992 2320.65 728.145 Q2322.95 720.263 2322.95 712.242 Q2322.95 704.221 2320.65 696.409 Q2318.4 688.596 2313.78 680.61 Z\" fill=\"#000000\" fill-rule=\"nonzero\" fill-opacity=\"1\" /><polyline clip-path=\"url(#clip890)\" style=\"stroke:#e26f46; stroke-linecap:round; stroke-linejoin:round; stroke-width:30; stroke-opacity:1; fill:none\" stroke-dasharray=\"15, 30\" points=\"1835.59,786.408 1973.83,786.408 \"/>\n",
       "<path clip-path=\"url(#clip890)\" d=\"M2030.24 762.19 L2030.24 769.03 Q2026.25 767.12 2022.7 766.183 Q2019.16 765.245 2015.86 765.245 Q2010.13 765.245 2007.01 767.467 Q2003.92 769.69 2003.92 773.787 Q2003.92 777.224 2005.97 778.995 Q2008.05 780.731 2013.82 781.808 L2018.05 782.676 Q2025.9 784.169 2029.61 787.953 Q2033.36 791.703 2033.36 798.023 Q2033.36 805.557 2028.29 809.446 Q2023.26 813.335 2013.5 813.335 Q2009.82 813.335 2005.66 812.502 Q2001.52 811.669 1997.08 810.037 L1997.08 802.814 Q2001.35 805.21 2005.45 806.425 Q2009.54 807.641 2013.5 807.641 Q2019.51 807.641 2022.77 805.28 Q2026.04 802.919 2026.04 798.544 Q2026.04 794.724 2023.68 792.571 Q2021.35 790.419 2016 789.342 L2011.73 788.509 Q2003.88 786.946 2000.38 783.613 Q1996.87 780.28 1996.87 774.342 Q1996.87 767.467 2001.7 763.509 Q2006.56 759.551 2015.07 759.551 Q2018.71 759.551 2022.5 760.21 Q2026.28 760.87 2030.24 762.19 Z\" fill=\"#000000\" fill-rule=\"nonzero\" fill-opacity=\"1\" /><path clip-path=\"url(#clip890)\" d=\"M2044.02 758.301 L2050.41 758.301 L2050.41 812.328 L2044.02 812.328 L2044.02 758.301 Z\" fill=\"#000000\" fill-rule=\"nonzero\" fill-opacity=\"1\" /><path clip-path=\"url(#clip890)\" d=\"M2078.85 777.919 Q2073.71 777.919 2070.72 781.946 Q2067.74 785.939 2067.74 792.919 Q2067.74 799.898 2070.69 803.926 Q2073.68 807.919 2078.85 807.919 Q2083.95 807.919 2086.94 803.891 Q2089.93 799.863 2089.93 792.919 Q2089.93 786.009 2086.94 781.981 Q2083.95 777.919 2078.85 777.919 M2078.85 772.502 Q2087.18 772.502 2091.94 777.919 Q2096.7 783.335 2096.7 792.919 Q2096.7 802.467 2091.94 807.919 Q2087.18 813.335 2078.85 813.335 Q2070.48 813.335 2065.72 807.919 Q2061 802.467 2061 792.919 Q2061 783.335 2065.72 777.919 Q2070.48 772.502 2078.85 772.502 Z\" fill=\"#000000\" fill-rule=\"nonzero\" fill-opacity=\"1\" /><path clip-path=\"url(#clip890)\" d=\"M2113.47 806.495 L2113.47 827.12 L2107.04 827.12 L2107.04 773.44 L2113.47 773.44 L2113.47 779.342 Q2115.48 775.87 2118.54 774.203 Q2121.63 772.502 2125.9 772.502 Q2132.98 772.502 2137.39 778.127 Q2141.84 783.752 2141.84 792.919 Q2141.84 802.085 2137.39 807.71 Q2132.98 813.335 2125.9 813.335 Q2121.63 813.335 2118.54 811.669 Q2115.48 809.967 2113.47 806.495 M2135.2 792.919 Q2135.2 785.87 2132.29 781.877 Q2129.4 777.849 2124.34 777.849 Q2119.27 777.849 2116.35 781.877 Q2113.47 785.87 2113.47 792.919 Q2113.47 799.967 2116.35 803.995 Q2119.27 807.988 2124.34 807.988 Q2129.4 807.988 2132.29 803.995 Q2135.2 799.967 2135.2 792.919 Z\" fill=\"#000000\" fill-rule=\"nonzero\" fill-opacity=\"1\" /><path clip-path=\"url(#clip890)\" d=\"M2185.69 791.287 L2185.69 794.412 L2156.31 794.412 Q2156.73 801.009 2160.27 804.481 Q2163.85 807.919 2170.2 807.919 Q2173.88 807.919 2177.32 807.016 Q2180.79 806.113 2184.2 804.307 L2184.2 810.349 Q2180.76 811.807 2177.15 812.571 Q2173.54 813.335 2169.82 813.335 Q2160.52 813.335 2155.06 807.919 Q2149.65 802.502 2149.65 793.266 Q2149.65 783.717 2154.79 778.127 Q2159.96 772.502 2168.71 772.502 Q2176.56 772.502 2181.11 777.571 Q2185.69 782.606 2185.69 791.287 M2179.3 789.412 Q2179.23 784.169 2176.35 781.044 Q2173.5 777.919 2168.78 777.919 Q2163.43 777.919 2160.2 780.94 Q2157.01 783.96 2156.52 789.446 L2179.3 789.412 Z\" fill=\"#000000\" fill-rule=\"nonzero\" fill-opacity=\"1\" /><path clip-path=\"url(#clip890)\" d=\"M2197.01 780.037 L2241.52 780.037 L2241.52 785.87 L2197.01 785.87 L2197.01 780.037 M2197.01 794.203 L2241.52 794.203 L2241.52 800.106 L2197.01 800.106 L2197.01 794.203 Z\" fill=\"#000000\" fill-rule=\"nonzero\" fill-opacity=\"1\" /><path clip-path=\"url(#clip890)\" d=\"M2262.7 806.425 L2287.18 806.425 L2287.18 812.328 L2254.27 812.328 L2254.27 806.425 Q2258.26 802.294 2265.13 795.349 Q2272.04 788.37 2273.81 786.356 Q2277.18 782.571 2278.5 779.967 Q2279.86 777.328 2279.86 774.794 Q2279.86 770.662 2276.94 768.058 Q2274.06 765.453 2269.4 765.453 Q2266.11 765.453 2262.42 766.599 Q2258.78 767.745 2254.61 770.072 L2254.61 762.988 Q2258.85 761.287 2262.53 760.419 Q2266.21 759.551 2269.27 759.551 Q2277.32 759.551 2282.11 763.579 Q2286.9 767.606 2286.9 774.342 Q2286.9 777.537 2285.69 780.419 Q2284.51 783.266 2281.35 787.155 Q2280.48 788.162 2275.83 792.988 Q2271.17 797.78 2262.7 806.425 Z\" fill=\"#000000\" fill-rule=\"nonzero\" fill-opacity=\"1\" /></svg>\n"
      ]
     },
     "execution_count": 57,
     "metadata": {},
     "output_type": "execute_result"
    }
   ],
   "source": [
    "p=Plots.plot();\n",
    "p=plot!(del_x.*(-1),vec(err),lw=5,label=\"SD(Trapz)\",legend=:outerright,yaxis=:log10,xaxis=:log10,yticks=[10^(-16),10^(-15),10^(-14),\n",
    "        10^(-13),10^(-12),10^(-11),10^(-10),10^(-9),10^(-8),10^(-7),10^(-6),10^(-5),10^(-4),10^(-3),10^(-2),10^(-1),1,10],\n",
    "    marker=(:circle,5),xtickfontsize=15,ytickfontsize=15,legendfontsize=12)\n",
    "p=plot!(del_x.*(-1),10^(-1.2)*(del_x.*(-1)).^(2),lw=5,label=\"Slope=2\",yaxis=:log10,xaxis=:log10,ls=:dot,legend=:outerright)"
   ]
  },
  {
   "cell_type": "markdown",
   "id": "0ebc637a",
   "metadata": {},
   "source": [
    "The following plot shows the order of error of the spectral discretization (CDF) using BDF3 for $\\beta=2$, $x_{0}=\\lceil 13/\\sqrt{\\beta}\\rceil$, at $x=-2$ before interpolation with $M=8000$. We treat the case $\\Delta x=-0.001$ as the reference to compare with. $\\Delta x=-0.05,-0.04,-0.025$ are used."
   ]
  },
  {
   "cell_type": "code",
   "execution_count": 12,
   "id": "eea9461e",
   "metadata": {},
   "outputs": [],
   "source": [
    "β=2;\n",
    "xx=-2;\n",
    "result_ref3=TW(β;x0=ceil(13/sqrt(β)),method=\"spectral\",step=\"bdf3\",interp=false,Δx_s=-0.001);\n",
    "x_ref3=result_ref3[1];F_ref3=result_ref3[2];ind3=findall(x -> x == xx, x_ref3)[1];"
   ]
  },
  {
   "cell_type": "code",
   "execution_count": 13,
   "id": "b7f82d5f",
   "metadata": {},
   "outputs": [],
   "source": [
    "del_x=[-0.05,-0.04,-0.025];\n",
    "err3=zeros(1,length(del_x));\n",
    "for i=1:length(del_x)\n",
    "    dx=del_x[i];\n",
    "    result_cdf=TW(β;x0=ceil(13/sqrt(β)),method=\"spectral\",step=\"bdf3\",interp=false,Δx_s=dx);\n",
    "    x_cdf=result_cdf[1];F_cdf=result_cdf[2];\n",
    "    ind32=findall(x -> x == xx, x_cdf)[1];\n",
    "    err3[i]=abs(F_cdf[ind32]-F_ref3[ind3]);\n",
    "end"
   ]
  },
  {
   "cell_type": "code",
   "execution_count": 58,
   "id": "74b52eac",
   "metadata": {},
   "outputs": [
    {
     "data": {
      "image/svg+xml": [
       "<?xml version=\"1.0\" encoding=\"utf-8\"?>\n",
       "<svg xmlns=\"http://www.w3.org/2000/svg\" xmlns:xlink=\"http://www.w3.org/1999/xlink\" width=\"600\" height=\"400\" viewBox=\"0 0 2400 1600\">\n",
       "<defs>\n",
       "  <clipPath id=\"clip930\">\n",
       "    <rect x=\"0\" y=\"0\" width=\"2400\" height=\"1600\"/>\n",
       "  </clipPath>\n",
       "</defs>\n",
       "<path clip-path=\"url(#clip930)\" d=\"M0 1600 L2400 1600 L2400 0 L0 0  Z\" fill=\"#ffffff\" fill-rule=\"evenodd\" fill-opacity=\"1\"/>\n",
       "<defs>\n",
       "  <clipPath id=\"clip931\">\n",
       "    <rect x=\"480\" y=\"0\" width=\"1681\" height=\"1600\"/>\n",
       "  </clipPath>\n",
       "</defs>\n",
       "<path clip-path=\"url(#clip930)\" d=\"M279.187 1433.18 L1742.01 1433.18 L1742.01 47.2441 L279.187 47.2441  Z\" fill=\"#ffffff\" fill-rule=\"evenodd\" fill-opacity=\"1\"/>\n",
       "<defs>\n",
       "  <clipPath id=\"clip932\">\n",
       "    <rect x=\"279\" y=\"47\" width=\"1464\" height=\"1387\"/>\n",
       "  </clipPath>\n",
       "</defs>\n",
       "<polyline clip-path=\"url(#clip932)\" style=\"stroke:#000000; stroke-linecap:round; stroke-linejoin:round; stroke-width:2; stroke-opacity:0.1; fill:none\" points=\"330.031,1433.18 330.031,47.2441 \"/>\n",
       "<polyline clip-path=\"url(#clip932)\" style=\"stroke:#000000; stroke-linecap:round; stroke-linejoin:round; stroke-width:2; stroke-opacity:0.1; fill:none\" points=\"1246.9,1433.18 1246.9,47.2441 \"/>\n",
       "<polyline clip-path=\"url(#clip930)\" style=\"stroke:#000000; stroke-linecap:round; stroke-linejoin:round; stroke-width:4; stroke-opacity:1; fill:none\" points=\"279.187,1433.18 1742.01,1433.18 \"/>\n",
       "<polyline clip-path=\"url(#clip930)\" style=\"stroke:#000000; stroke-linecap:round; stroke-linejoin:round; stroke-width:4; stroke-opacity:1; fill:none\" points=\"330.031,1433.18 330.031,1414.28 \"/>\n",
       "<polyline clip-path=\"url(#clip930)\" style=\"stroke:#000000; stroke-linecap:round; stroke-linejoin:round; stroke-width:4; stroke-opacity:1; fill:none\" points=\"1246.9,1433.18 1246.9,1414.28 \"/>\n",
       "<path clip-path=\"url(#clip930)\" d=\"M200.986 1555.36 L215.309 1555.36 L215.309 1505.93 L199.727 1509.05 L199.727 1501.06 L215.222 1497.94 L223.989 1497.94 L223.989 1555.36 L238.312 1555.36 L238.312 1562.74 L200.986 1562.74 L200.986 1555.36 Z\" fill=\"#000000\" fill-rule=\"nonzero\" fill-opacity=\"1\" /><path clip-path=\"url(#clip930)\" d=\"M274.77 1503.71 Q267.999 1503.71 264.571 1510.4 Q261.185 1517.04 261.185 1530.4 Q261.185 1543.73 264.571 1550.41 Q267.999 1557.05 274.77 1557.05 Q281.584 1557.05 284.97 1550.41 Q288.399 1543.73 288.399 1530.4 Q288.399 1517.04 284.97 1510.4 Q281.584 1503.71 274.77 1503.71 M274.77 1496.77 Q285.664 1496.77 291.393 1505.4 Q297.166 1514 297.166 1530.4 Q297.166 1546.77 291.393 1555.4 Q285.664 1564 274.77 1564 Q263.876 1564 258.104 1555.4 Q252.374 1546.77 252.374 1530.4 Q252.374 1514 258.104 1505.4 Q263.876 1496.77 274.77 1496.77 Z\" fill=\"#000000\" fill-rule=\"nonzero\" fill-opacity=\"1\" /><path clip-path=\"url(#clip930)\" d=\"M297.166 1485.71 L342.375 1485.71 L342.375 1491.7 L297.166 1491.7 L297.166 1485.71 Z\" fill=\"#000000\" fill-rule=\"nonzero\" fill-opacity=\"1\" /><path clip-path=\"url(#clip930)\" d=\"M358.985 1505.35 L370.622 1505.35 L370.622 1465.18 L357.962 1467.72 L357.962 1461.23 L370.551 1458.69 L377.675 1458.69 L377.675 1505.35 L389.312 1505.35 L389.312 1511.34 L358.985 1511.34 L358.985 1505.35 Z\" fill=\"#000000\" fill-rule=\"nonzero\" fill-opacity=\"1\" /><path clip-path=\"url(#clip930)\" d=\"M403.7 1502.39 L411.141 1502.39 L411.141 1511.34 L403.7 1511.34 L403.7 1502.39 Z\" fill=\"#000000\" fill-rule=\"nonzero\" fill-opacity=\"1\" /><path clip-path=\"url(#clip930)\" d=\"M442.773 1482.18 Q437.977 1482.18 435.156 1485.46 Q432.37 1488.74 432.37 1494.45 Q432.37 1500.13 435.156 1503.45 Q437.977 1506.73 442.773 1506.73 Q447.569 1506.73 450.355 1503.45 Q453.176 1500.13 453.176 1494.45 Q453.176 1488.74 450.355 1485.46 Q447.569 1482.18 442.773 1482.18 M456.914 1459.86 L456.914 1466.35 Q454.234 1465.08 451.484 1464.41 Q448.768 1463.74 446.088 1463.74 Q439.035 1463.74 435.297 1468.5 Q431.594 1473.26 431.065 1482.89 Q433.146 1479.82 436.285 1478.2 Q439.423 1476.54 443.196 1476.54 Q451.131 1476.54 455.715 1481.37 Q460.335 1486.17 460.335 1494.45 Q460.335 1502.56 455.539 1507.47 Q450.743 1512.37 442.773 1512.37 Q433.64 1512.37 428.809 1505.39 Q423.977 1498.37 423.977 1485.07 Q423.977 1472.59 429.902 1465.18 Q435.826 1457.74 445.806 1457.74 Q448.486 1457.74 451.202 1458.27 Q453.952 1458.8 456.914 1459.86 Z\" fill=\"#000000\" fill-rule=\"nonzero\" fill-opacity=\"1\" /><path clip-path=\"url(#clip930)\" d=\"M1117.61 1555.36 L1131.93 1555.36 L1131.93 1505.93 L1116.35 1509.05 L1116.35 1501.06 L1131.84 1497.94 L1140.61 1497.94 L1140.61 1555.36 L1154.93 1555.36 L1154.93 1562.74 L1117.61 1562.74 L1117.61 1555.36 Z\" fill=\"#000000\" fill-rule=\"nonzero\" fill-opacity=\"1\" /><path clip-path=\"url(#clip930)\" d=\"M1191.39 1503.71 Q1184.62 1503.71 1181.19 1510.4 Q1177.81 1517.04 1177.81 1530.4 Q1177.81 1543.73 1181.19 1550.41 Q1184.62 1557.05 1191.39 1557.05 Q1198.2 1557.05 1201.59 1550.41 Q1205.02 1543.73 1205.02 1530.4 Q1205.02 1517.04 1201.59 1510.4 Q1198.2 1503.71 1191.39 1503.71 M1191.39 1496.77 Q1202.28 1496.77 1208.01 1505.4 Q1213.79 1514 1213.79 1530.4 Q1213.79 1546.77 1208.01 1555.4 Q1202.28 1564 1191.39 1564 Q1180.5 1564 1174.72 1555.4 Q1168.99 1546.77 1168.99 1530.4 Q1168.99 1514 1174.72 1505.4 Q1180.5 1496.77 1191.39 1496.77 Z\" fill=\"#000000\" fill-rule=\"nonzero\" fill-opacity=\"1\" /><path clip-path=\"url(#clip930)\" d=\"M1213.79 1485.71 L1259 1485.71 L1259 1491.7 L1213.79 1491.7 L1213.79 1485.71 Z\" fill=\"#000000\" fill-rule=\"nonzero\" fill-opacity=\"1\" /><path clip-path=\"url(#clip930)\" d=\"M1275.61 1505.35 L1287.24 1505.35 L1287.24 1465.18 L1274.58 1467.72 L1274.58 1461.23 L1287.17 1458.69 L1294.3 1458.69 L1294.3 1505.35 L1305.93 1505.35 L1305.93 1511.34 L1275.61 1511.34 L1275.61 1505.35 Z\" fill=\"#000000\" fill-rule=\"nonzero\" fill-opacity=\"1\" /><path clip-path=\"url(#clip930)\" d=\"M1320.32 1502.39 L1327.76 1502.39 L1327.76 1511.34 L1320.32 1511.34 L1320.32 1502.39 Z\" fill=\"#000000\" fill-rule=\"nonzero\" fill-opacity=\"1\" /><path clip-path=\"url(#clip930)\" d=\"M1362.85 1464.9 L1344.86 1493.01 L1362.85 1493.01 L1362.85 1464.9 M1360.98 1458.69 L1369.94 1458.69 L1369.94 1493.01 L1377.45 1493.01 L1377.45 1498.93 L1369.94 1498.93 L1369.94 1511.34 L1362.85 1511.34 L1362.85 1498.93 L1339.08 1498.93 L1339.08 1492.06 L1360.98 1458.69 Z\" fill=\"#000000\" fill-rule=\"nonzero\" fill-opacity=\"1\" /><polyline clip-path=\"url(#clip932)\" style=\"stroke:#000000; stroke-linecap:round; stroke-linejoin:round; stroke-width:2; stroke-opacity:0.1; fill:none\" points=\"279.187,1348.72 1742.01,1348.72 \"/>\n",
       "<polyline clip-path=\"url(#clip932)\" style=\"stroke:#000000; stroke-linecap:round; stroke-linejoin:round; stroke-width:2; stroke-opacity:0.1; fill:none\" points=\"279.187,774.432 1742.01,774.432 \"/>\n",
       "<polyline clip-path=\"url(#clip932)\" style=\"stroke:#000000; stroke-linecap:round; stroke-linejoin:round; stroke-width:2; stroke-opacity:0.1; fill:none\" points=\"279.187,200.143 1742.01,200.143 \"/>\n",
       "<polyline clip-path=\"url(#clip930)\" style=\"stroke:#000000; stroke-linecap:round; stroke-linejoin:round; stroke-width:4; stroke-opacity:1; fill:none\" points=\"279.187,1433.18 279.187,47.2441 \"/>\n",
       "<polyline clip-path=\"url(#clip930)\" style=\"stroke:#000000; stroke-linecap:round; stroke-linejoin:round; stroke-width:4; stroke-opacity:1; fill:none\" points=\"279.187,1348.72 292.518,1348.72 \"/>\n",
       "<polyline clip-path=\"url(#clip930)\" style=\"stroke:#000000; stroke-linecap:round; stroke-linejoin:round; stroke-width:4; stroke-opacity:1; fill:none\" points=\"279.187,774.432 292.518,774.432 \"/>\n",
       "<polyline clip-path=\"url(#clip930)\" style=\"stroke:#000000; stroke-linecap:round; stroke-linejoin:round; stroke-width:4; stroke-opacity:1; fill:none\" points=\"279.187,200.143 292.518,200.143 \"/>\n",
       "<path clip-path=\"url(#clip930)\" d=\"M52.7445 1385.83 L67.0673 1385.83 L67.0673 1336.4 L51.4858 1339.52 L51.4858 1331.53 L66.9805 1328.41 L75.7479 1328.41 L75.7479 1385.83 L90.0707 1385.83 L90.0707 1393.21 L52.7445 1393.21 L52.7445 1385.83 Z\" fill=\"#000000\" fill-rule=\"nonzero\" fill-opacity=\"1\" /><path clip-path=\"url(#clip930)\" d=\"M126.529 1334.18 Q119.758 1334.18 116.329 1340.87 Q112.944 1347.51 112.944 1360.87 Q112.944 1374.2 116.329 1380.88 Q119.758 1387.52 126.529 1387.52 Q133.343 1387.52 136.728 1380.88 Q140.157 1374.2 140.157 1360.87 Q140.157 1347.51 136.728 1340.87 Q133.343 1334.18 126.529 1334.18 M126.529 1327.24 Q137.423 1327.24 143.152 1335.87 Q148.925 1344.47 148.925 1360.87 Q148.925 1377.24 143.152 1385.87 Q137.423 1394.47 126.529 1394.47 Q115.635 1394.47 109.862 1385.87 Q104.133 1377.24 104.133 1360.87 Q104.133 1344.47 109.862 1335.87 Q115.635 1327.24 126.529 1327.24 Z\" fill=\"#000000\" fill-rule=\"nonzero\" fill-opacity=\"1\" /><path clip-path=\"url(#clip930)\" d=\"M148.925 1316.18 L194.134 1316.18 L194.134 1322.17 L148.925 1322.17 L148.925 1316.18 Z\" fill=\"#000000\" fill-rule=\"nonzero\" fill-opacity=\"1\" /><path clip-path=\"url(#clip930)\" d=\"M225.625 1312.65 Q220.829 1312.65 218.008 1315.93 Q215.222 1319.21 215.222 1324.92 Q215.222 1330.6 218.008 1333.92 Q220.829 1337.2 225.625 1337.2 Q230.421 1337.2 233.207 1333.92 Q236.028 1330.6 236.028 1324.92 Q236.028 1319.21 233.207 1315.93 Q230.421 1312.65 225.625 1312.65 M239.766 1290.33 L239.766 1296.82 Q237.086 1295.55 234.335 1294.88 Q231.62 1294.21 228.94 1294.21 Q221.887 1294.21 218.149 1298.97 Q214.446 1303.73 213.917 1313.36 Q215.998 1310.29 219.136 1308.67 Q222.275 1307.01 226.048 1307.01 Q233.983 1307.01 238.567 1311.84 Q243.187 1316.64 243.187 1324.92 Q243.187 1333.03 238.391 1337.94 Q233.595 1342.84 225.625 1342.84 Q216.491 1342.84 211.66 1335.86 Q206.829 1328.84 206.829 1315.54 Q206.829 1303.06 212.753 1295.65 Q218.678 1288.21 228.658 1288.21 Q231.338 1288.21 234.053 1288.74 Q236.804 1289.27 239.766 1290.33 Z\" fill=\"#000000\" fill-rule=\"nonzero\" fill-opacity=\"1\" /><path clip-path=\"url(#clip930)\" d=\"M54.5077 811.543 L68.8306 811.543 L68.8306 762.107 L53.2491 765.232 L53.2491 757.246 L68.7438 754.121 L77.5111 754.121 L77.5111 811.543 L91.8339 811.543 L91.8339 818.921 L54.5077 818.921 L54.5077 811.543 Z\" fill=\"#000000\" fill-rule=\"nonzero\" fill-opacity=\"1\" /><path clip-path=\"url(#clip930)\" d=\"M128.292 759.894 Q121.521 759.894 118.092 766.578 Q114.707 773.218 114.707 786.586 Q114.707 799.911 118.092 806.595 Q121.521 813.235 128.292 813.235 Q135.106 813.235 138.492 806.595 Q141.92 799.911 141.92 786.586 Q141.92 773.218 138.492 766.578 Q135.106 759.894 128.292 759.894 M128.292 752.949 Q139.186 752.949 144.915 761.586 Q150.688 770.18 150.688 786.586 Q150.688 802.949 144.915 811.586 Q139.186 820.18 128.292 820.18 Q117.398 820.18 111.625 811.586 Q105.896 802.949 105.896 786.586 Q105.896 770.18 111.625 761.586 Q117.398 752.949 128.292 752.949 Z\" fill=\"#000000\" fill-rule=\"nonzero\" fill-opacity=\"1\" /><path clip-path=\"url(#clip930)\" d=\"M150.688 741.889 L195.897 741.889 L195.897 747.884 L150.688 747.884 L150.688 741.889 Z\" fill=\"#000000\" fill-rule=\"nonzero\" fill-opacity=\"1\" /><path clip-path=\"url(#clip930)\" d=\"M211.343 714.877 L239.308 714.877 L239.308 720.872 L217.867 720.872 L217.867 733.778 Q219.418 733.249 220.97 733.003 Q222.522 732.721 224.073 732.721 Q232.889 732.721 238.038 737.552 Q243.187 742.383 243.187 750.635 Q243.187 759.134 237.897 763.859 Q232.607 768.549 222.98 768.549 Q219.665 768.549 216.209 767.985 Q212.789 767.421 209.121 766.292 L209.121 759.134 Q212.295 760.862 215.68 761.708 Q219.066 762.554 222.839 762.554 Q228.94 762.554 232.502 759.345 Q236.063 756.136 236.063 750.635 Q236.063 745.134 232.502 741.925 Q228.94 738.715 222.839 738.715 Q219.983 738.715 217.126 739.35 Q214.305 739.985 211.343 741.325 L211.343 714.877 Z\" fill=\"#000000\" fill-rule=\"nonzero\" fill-opacity=\"1\" /><path clip-path=\"url(#clip930)\" d=\"M52.2508 237.254 L66.5736 237.254 L66.5736 187.819 L50.9921 190.944 L50.9921 182.958 L66.4868 179.833 L75.2541 179.833 L75.2541 237.254 L89.577 237.254 L89.577 244.633 L52.2508 244.633 L52.2508 237.254 Z\" fill=\"#000000\" fill-rule=\"nonzero\" fill-opacity=\"1\" /><path clip-path=\"url(#clip930)\" d=\"M126.035 185.605 Q119.264 185.605 115.836 192.289 Q112.45 198.93 112.45 212.298 Q112.45 225.622 115.836 232.306 Q119.264 238.947 126.035 238.947 Q132.849 238.947 136.235 232.306 Q139.664 225.622 139.664 212.298 Q139.664 198.93 136.235 192.289 Q132.849 185.605 126.035 185.605 M126.035 178.661 Q136.929 178.661 142.658 187.298 Q148.431 195.891 148.431 212.298 Q148.431 228.66 142.658 237.298 Q136.929 245.891 126.035 245.891 Q115.141 245.891 109.369 237.298 Q103.639 228.66 103.639 212.298 Q103.639 195.891 109.369 187.298 Q115.141 178.661 126.035 178.661 Z\" fill=\"#000000\" fill-rule=\"nonzero\" fill-opacity=\"1\" /><path clip-path=\"url(#clip930)\" d=\"M148.431 167.601 L193.64 167.601 L193.64 173.596 L148.431 173.596 L148.431 167.601 Z\" fill=\"#000000\" fill-rule=\"nonzero\" fill-opacity=\"1\" /><path clip-path=\"url(#clip930)\" d=\"M228.587 146.795 L210.602 174.9 L228.587 174.9 L228.587 146.795 M226.718 140.588 L235.675 140.588 L235.675 174.9 L243.187 174.9 L243.187 180.825 L235.675 180.825 L235.675 193.238 L228.587 193.238 L228.587 180.825 L204.819 180.825 L204.819 173.948 L226.718 140.588 Z\" fill=\"#000000\" fill-rule=\"nonzero\" fill-opacity=\"1\" /><polyline clip-path=\"url(#clip932)\" style=\"stroke:#009af9; stroke-linecap:round; stroke-linejoin:round; stroke-width:20; stroke-opacity:1; fill:none\" points=\"1700.61,155.272 1256.34,266.644 320.587,501.343 \"/>\n",
       "<circle clip-path=\"url(#clip932)\" cx=\"1700.61\" cy=\"155.272\" r=\"18\" fill=\"#009af9\" fill-rule=\"evenodd\" fill-opacity=\"1\" stroke=\"#000000\" stroke-opacity=\"1\" stroke-width=\"3.2\"/>\n",
       "<circle clip-path=\"url(#clip932)\" cx=\"1256.34\" cy=\"266.644\" r=\"18\" fill=\"#009af9\" fill-rule=\"evenodd\" fill-opacity=\"1\" stroke=\"#000000\" stroke-opacity=\"1\" stroke-width=\"3.2\"/>\n",
       "<circle clip-path=\"url(#clip932)\" cx=\"320.587\" cy=\"501.343\" r=\"18\" fill=\"#009af9\" fill-rule=\"evenodd\" fill-opacity=\"1\" stroke=\"#000000\" stroke-opacity=\"1\" stroke-width=\"3.2\"/>\n",
       "<polyline clip-path=\"url(#clip932)\" style=\"stroke:#e26f46; stroke-linecap:round; stroke-linejoin:round; stroke-width:20; stroke-opacity:1; fill:none\" stroke-dasharray=\"10, 20\" points=\"1700.61,86.4686 1256.34,197.777 320.587,432.225 \"/>\n",
       "<polyline clip-path=\"url(#clip932)\" style=\"stroke:#3da44d; stroke-linecap:round; stroke-linejoin:round; stroke-width:20; stroke-opacity:1; fill:none\" points=\"1700.61,819.682 1256.34,1007.28 320.587,1393.95 \"/>\n",
       "<circle clip-path=\"url(#clip932)\" cx=\"1700.61\" cy=\"819.682\" r=\"18\" fill=\"#3da44d\" fill-rule=\"evenodd\" fill-opacity=\"1\" stroke=\"#000000\" stroke-opacity=\"1\" stroke-width=\"3.2\"/>\n",
       "<circle clip-path=\"url(#clip932)\" cx=\"1256.34\" cy=\"1007.28\" r=\"18\" fill=\"#3da44d\" fill-rule=\"evenodd\" fill-opacity=\"1\" stroke=\"#000000\" stroke-opacity=\"1\" stroke-width=\"3.2\"/>\n",
       "<circle clip-path=\"url(#clip932)\" cx=\"320.587\" cy=\"1393.95\" r=\"18\" fill=\"#3da44d\" fill-rule=\"evenodd\" fill-opacity=\"1\" stroke=\"#000000\" stroke-opacity=\"1\" stroke-width=\"3.2\"/>\n",
       "<polyline clip-path=\"url(#clip932)\" style=\"stroke:#c271d2; stroke-linecap:round; stroke-linejoin:round; stroke-width:20; stroke-opacity:1; fill:none\" stroke-dasharray=\"10, 20\" points=\"1700.61,776.206 1256.34,943.169 320.587,1294.84 \"/>\n",
       "<path clip-path=\"url(#clip930)\" d=\"M1811.13 941.928 L2352.76 941.928 L2352.76 553.128 L1811.13 553.128  Z\" fill=\"#ffffff\" fill-rule=\"evenodd\" fill-opacity=\"1\"/>\n",
       "<polyline clip-path=\"url(#clip930)\" style=\"stroke:#000000; stroke-linecap:round; stroke-linejoin:round; stroke-width:4; stroke-opacity:1; fill:none\" points=\"1811.13,941.928 2352.76,941.928 2352.76,553.128 1811.13,553.128 1811.13,941.928 \"/>\n",
       "<polyline clip-path=\"url(#clip930)\" style=\"stroke:#009af9; stroke-linecap:round; stroke-linejoin:round; stroke-width:30; stroke-opacity:1; fill:none\" points=\"1834.17,630.888 1972.41,630.888 \"/>\n",
       "<circle clip-path=\"url(#clip930)\" cx=\"1903.29\" cy=\"630.888\" r=\"12.7998\" fill=\"#009af9\" fill-rule=\"evenodd\" fill-opacity=\"1\" stroke=\"#000000\" stroke-opacity=\"1\" stroke-width=\"5.58545\"/>\n",
       "<path clip-path=\"url(#clip930)\" d=\"M2028.82 606.67 L2028.82 613.51 Q2024.82 611.6 2021.28 610.663 Q2017.74 609.725 2014.44 609.725 Q2008.71 609.725 2005.59 611.947 Q2002.5 614.17 2002.5 618.267 Q2002.5 621.704 2004.54 623.475 Q2006.63 625.211 2012.39 626.288 L2016.63 627.156 Q2024.47 628.649 2028.19 632.433 Q2031.94 636.183 2031.94 642.503 Q2031.94 650.037 2026.87 653.926 Q2021.84 657.815 2012.08 657.815 Q2008.4 657.815 2004.23 656.982 Q2000.1 656.149 1995.66 654.517 L1995.66 647.294 Q1999.93 649.69 2004.02 650.905 Q2008.12 652.121 2012.08 652.121 Q2018.09 652.121 2021.35 649.76 Q2024.61 647.399 2024.61 643.024 Q2024.61 639.204 2022.25 637.051 Q2019.93 634.899 2014.58 633.822 L2010.31 632.989 Q2002.46 631.426 1998.95 628.093 Q1995.45 624.76 1995.45 618.822 Q1995.45 611.947 2000.27 607.989 Q2005.13 604.031 2013.64 604.031 Q2017.29 604.031 2021.07 604.69 Q2024.86 605.35 2028.82 606.67 Z\" fill=\"#000000\" fill-rule=\"nonzero\" fill-opacity=\"1\" /><path clip-path=\"url(#clip930)\" d=\"M2049.89 610.732 L2049.89 651.044 L2058.36 651.044 Q2069.09 651.044 2074.06 646.183 Q2079.06 641.322 2079.06 630.836 Q2079.06 620.42 2074.06 615.593 Q2069.09 610.732 2058.36 610.732 L2049.89 610.732 M2042.88 604.968 L2057.29 604.968 Q2072.36 604.968 2079.41 611.253 Q2086.45 617.503 2086.45 630.836 Q2086.45 644.239 2079.37 650.524 Q2072.29 656.808 2057.29 656.808 L2042.88 656.808 L2042.88 604.968 Z\" fill=\"#000000\" fill-rule=\"nonzero\" fill-opacity=\"1\" /><path clip-path=\"url(#clip930)\" d=\"M2112.7 602.85 Q2108.05 610.836 2105.79 618.649 Q2103.54 626.461 2103.54 634.482 Q2103.54 642.503 2105.79 650.385 Q2108.09 658.232 2112.7 666.183 L2107.15 666.183 Q2101.94 658.024 2099.34 650.142 Q2096.77 642.26 2096.77 634.482 Q2096.77 626.739 2099.34 618.892 Q2101.9 611.045 2107.15 602.85 L2112.7 602.85 Z\" fill=\"#000000\" fill-rule=\"nonzero\" fill-opacity=\"1\" /><path clip-path=\"url(#clip930)\" d=\"M2118.19 604.968 L2162.04 604.968 L2162.04 610.871 L2143.64 610.871 L2143.64 656.808 L2136.59 656.808 L2136.59 610.871 L2118.19 610.871 L2118.19 604.968 Z\" fill=\"#000000\" fill-rule=\"nonzero\" fill-opacity=\"1\" /><path clip-path=\"url(#clip930)\" d=\"M2180.62 623.892 Q2179.54 623.267 2178.26 622.989 Q2177.01 622.676 2175.48 622.676 Q2170.06 622.676 2167.15 626.218 Q2164.27 629.725 2164.27 636.322 L2164.27 656.808 L2157.84 656.808 L2157.84 617.92 L2164.27 617.92 L2164.27 623.961 Q2166.28 620.42 2169.51 618.718 Q2172.74 616.982 2177.36 616.982 Q2178.02 616.982 2178.81 617.086 Q2179.61 617.156 2180.59 617.329 L2180.62 623.892 Z\" fill=\"#000000\" fill-rule=\"nonzero\" fill-opacity=\"1\" /><path clip-path=\"url(#clip930)\" d=\"M2204.99 637.26 Q2197.25 637.26 2194.27 639.031 Q2191.28 640.801 2191.28 645.072 Q2191.28 648.475 2193.5 650.489 Q2195.76 652.468 2199.61 652.468 Q2204.93 652.468 2208.12 648.718 Q2211.35 644.933 2211.35 638.683 L2211.35 637.26 L2204.99 637.26 M2217.74 634.621 L2217.74 656.808 L2211.35 656.808 L2211.35 650.905 Q2209.16 654.447 2205.9 656.149 Q2202.63 657.815 2197.91 657.815 Q2191.94 657.815 2188.4 654.482 Q2184.89 651.114 2184.89 645.489 Q2184.89 638.926 2189.27 635.593 Q2193.68 632.26 2202.39 632.26 L2211.35 632.26 L2211.35 631.635 Q2211.35 627.225 2208.43 624.829 Q2205.55 622.399 2200.31 622.399 Q2196.97 622.399 2193.81 623.197 Q2190.65 623.996 2187.74 625.593 L2187.74 619.69 Q2191.24 618.336 2194.54 617.677 Q2197.84 616.982 2200.97 616.982 Q2209.4 616.982 2213.57 621.357 Q2217.74 625.732 2217.74 634.621 Z\" fill=\"#000000\" fill-rule=\"nonzero\" fill-opacity=\"1\" /><path clip-path=\"url(#clip930)\" d=\"M2237.08 650.975 L2237.08 671.6 L2230.65 671.6 L2230.65 617.92 L2237.08 617.92 L2237.08 623.822 Q2239.09 620.35 2242.15 618.683 Q2245.24 616.982 2249.51 616.982 Q2256.59 616.982 2261 622.607 Q2265.45 628.232 2265.45 637.399 Q2265.45 646.565 2261 652.19 Q2256.59 657.815 2249.51 657.815 Q2245.24 657.815 2242.15 656.149 Q2239.09 654.447 2237.08 650.975 M2258.81 637.399 Q2258.81 630.35 2255.9 626.357 Q2253.02 622.329 2247.95 622.329 Q2242.88 622.329 2239.96 626.357 Q2237.08 630.35 2237.08 637.399 Q2237.08 644.447 2239.96 648.475 Q2242.88 652.468 2247.95 652.468 Q2253.02 652.468 2255.9 648.475 Q2258.81 644.447 2258.81 637.399 Z\" fill=\"#000000\" fill-rule=\"nonzero\" fill-opacity=\"1\" /><path clip-path=\"url(#clip930)\" d=\"M2273.26 617.92 L2303.61 617.92 L2303.61 623.753 L2279.58 651.704 L2303.61 651.704 L2303.61 656.808 L2272.39 656.808 L2272.39 650.975 L2296.42 623.024 L2273.26 623.024 L2273.26 617.92 Z\" fill=\"#000000\" fill-rule=\"nonzero\" fill-opacity=\"1\" /><path clip-path=\"url(#clip930)\" d=\"M2312.36 602.85 L2317.91 602.85 Q2323.12 611.045 2325.69 618.892 Q2328.29 626.739 2328.29 634.482 Q2328.29 642.26 2325.69 650.142 Q2323.12 658.024 2317.91 666.183 L2312.36 666.183 Q2316.97 658.232 2319.23 650.385 Q2321.52 642.503 2321.52 634.482 Q2321.52 626.461 2319.23 618.649 Q2316.97 610.836 2312.36 602.85 Z\" fill=\"#000000\" fill-rule=\"nonzero\" fill-opacity=\"1\" /><polyline clip-path=\"url(#clip930)\" style=\"stroke:#e26f46; stroke-linecap:round; stroke-linejoin:round; stroke-width:30; stroke-opacity:1; fill:none\" stroke-dasharray=\"15, 30\" points=\"1834.17,708.648 1972.41,708.648 \"/>\n",
       "<path clip-path=\"url(#clip930)\" d=\"M2028.82 684.43 L2028.82 691.27 Q2024.82 689.36 2021.28 688.423 Q2017.74 687.485 2014.44 687.485 Q2008.71 687.485 2005.59 689.707 Q2002.5 691.93 2002.5 696.027 Q2002.5 699.464 2004.54 701.235 Q2006.63 702.971 2012.39 704.048 L2016.63 704.916 Q2024.47 706.409 2028.19 710.193 Q2031.94 713.943 2031.94 720.263 Q2031.94 727.797 2026.87 731.686 Q2021.84 735.575 2012.08 735.575 Q2008.4 735.575 2004.23 734.742 Q2000.1 733.909 1995.66 732.277 L1995.66 725.054 Q1999.93 727.45 2004.02 728.665 Q2008.12 729.881 2012.08 729.881 Q2018.09 729.881 2021.35 727.52 Q2024.61 725.159 2024.61 720.784 Q2024.61 716.964 2022.25 714.811 Q2019.93 712.659 2014.58 711.582 L2010.31 710.749 Q2002.46 709.186 1998.95 705.853 Q1995.45 702.52 1995.45 696.582 Q1995.45 689.707 2000.27 685.749 Q2005.13 681.791 2013.64 681.791 Q2017.29 681.791 2021.07 682.45 Q2024.86 683.11 2028.82 684.43 Z\" fill=\"#000000\" fill-rule=\"nonzero\" fill-opacity=\"1\" /><path clip-path=\"url(#clip930)\" d=\"M2042.6 680.541 L2048.99 680.541 L2048.99 734.568 L2042.6 734.568 L2042.6 680.541 Z\" fill=\"#000000\" fill-rule=\"nonzero\" fill-opacity=\"1\" /><path clip-path=\"url(#clip930)\" d=\"M2077.43 700.159 Q2072.29 700.159 2069.3 704.186 Q2066.31 708.179 2066.31 715.159 Q2066.31 722.138 2069.27 726.166 Q2072.25 730.159 2077.43 730.159 Q2082.53 730.159 2085.52 726.131 Q2088.5 722.103 2088.5 715.159 Q2088.5 708.249 2085.52 704.221 Q2082.53 700.159 2077.43 700.159 M2077.43 694.742 Q2085.76 694.742 2090.52 700.159 Q2095.27 705.575 2095.27 715.159 Q2095.27 724.707 2090.52 730.159 Q2085.76 735.575 2077.43 735.575 Q2069.06 735.575 2064.3 730.159 Q2059.58 724.707 2059.58 715.159 Q2059.58 705.575 2064.3 700.159 Q2069.06 694.742 2077.43 694.742 Z\" fill=\"#000000\" fill-rule=\"nonzero\" fill-opacity=\"1\" /><path clip-path=\"url(#clip930)\" d=\"M2112.04 728.735 L2112.04 749.36 L2105.62 749.36 L2105.62 695.68 L2112.04 695.68 L2112.04 701.582 Q2114.06 698.11 2117.11 696.443 Q2120.2 694.742 2124.47 694.742 Q2131.56 694.742 2135.97 700.367 Q2140.41 705.992 2140.41 715.159 Q2140.41 724.325 2135.97 729.95 Q2131.56 735.575 2124.47 735.575 Q2120.2 735.575 2117.11 733.909 Q2114.06 732.207 2112.04 728.735 M2133.78 715.159 Q2133.78 708.11 2130.86 704.117 Q2127.98 700.089 2122.91 700.089 Q2117.84 700.089 2114.93 704.117 Q2112.04 708.11 2112.04 715.159 Q2112.04 722.207 2114.93 726.235 Q2117.84 730.228 2122.91 730.228 Q2127.98 730.228 2130.86 726.235 Q2133.78 722.207 2133.78 715.159 Z\" fill=\"#000000\" fill-rule=\"nonzero\" fill-opacity=\"1\" /><path clip-path=\"url(#clip930)\" d=\"M2184.27 713.527 L2184.27 716.652 L2154.89 716.652 Q2155.31 723.249 2158.85 726.721 Q2162.43 730.159 2168.78 730.159 Q2172.46 730.159 2175.9 729.256 Q2179.37 728.353 2182.77 726.547 L2182.77 732.589 Q2179.34 734.047 2175.72 734.811 Q2172.11 735.575 2168.4 735.575 Q2159.09 735.575 2153.64 730.159 Q2148.22 724.742 2148.22 715.506 Q2148.22 705.957 2153.36 700.367 Q2158.54 694.742 2167.29 694.742 Q2175.13 694.742 2179.68 699.811 Q2184.27 704.846 2184.27 713.527 M2177.88 711.652 Q2177.81 706.409 2174.93 703.284 Q2172.08 700.159 2167.36 700.159 Q2162.01 700.159 2158.78 703.18 Q2155.59 706.2 2155.1 711.686 L2177.88 711.652 Z\" fill=\"#000000\" fill-rule=\"nonzero\" fill-opacity=\"1\" /><path clip-path=\"url(#clip930)\" d=\"M2195.59 702.277 L2240.1 702.277 L2240.1 708.11 L2195.59 708.11 L2195.59 702.277 M2195.59 716.443 L2240.1 716.443 L2240.1 722.346 L2195.59 722.346 L2195.59 716.443 Z\" fill=\"#000000\" fill-rule=\"nonzero\" fill-opacity=\"1\" /><path clip-path=\"url(#clip930)\" d=\"M2261.28 728.665 L2285.76 728.665 L2285.76 734.568 L2252.84 734.568 L2252.84 728.665 Q2256.83 724.534 2263.71 717.589 Q2270.62 710.61 2272.39 708.596 Q2275.76 704.811 2277.08 702.207 Q2278.43 699.568 2278.43 697.034 Q2278.43 692.902 2275.52 690.298 Q2272.63 687.693 2267.98 687.693 Q2264.68 687.693 2261 688.839 Q2257.36 689.985 2253.19 692.312 L2253.19 685.228 Q2257.42 683.527 2261.11 682.659 Q2264.79 681.791 2267.84 681.791 Q2275.9 681.791 2280.69 685.819 Q2285.48 689.846 2285.48 696.582 Q2285.48 699.777 2284.27 702.659 Q2283.08 705.506 2279.92 709.395 Q2279.06 710.402 2274.4 715.228 Q2269.75 720.02 2261.28 728.665 Z\" fill=\"#000000\" fill-rule=\"nonzero\" fill-opacity=\"1\" /><polyline clip-path=\"url(#clip930)\" style=\"stroke:#3da44d; stroke-linecap:round; stroke-linejoin:round; stroke-width:30; stroke-opacity:1; fill:none\" points=\"1834.17,786.408 1972.41,786.408 \"/>\n",
       "<circle clip-path=\"url(#clip930)\" cx=\"1903.29\" cy=\"786.408\" r=\"12.7998\" fill=\"#3da44d\" fill-rule=\"evenodd\" fill-opacity=\"1\" stroke=\"#000000\" stroke-opacity=\"1\" stroke-width=\"5.58545\"/>\n",
       "<path clip-path=\"url(#clip930)\" d=\"M2028.82 762.19 L2028.82 769.03 Q2024.82 767.12 2021.28 766.183 Q2017.74 765.245 2014.44 765.245 Q2008.71 765.245 2005.59 767.467 Q2002.5 769.69 2002.5 773.787 Q2002.5 777.224 2004.54 778.995 Q2006.63 780.731 2012.39 781.808 L2016.63 782.676 Q2024.47 784.169 2028.19 787.953 Q2031.94 791.703 2031.94 798.023 Q2031.94 805.557 2026.87 809.446 Q2021.84 813.335 2012.08 813.335 Q2008.4 813.335 2004.23 812.502 Q2000.1 811.669 1995.66 810.037 L1995.66 802.814 Q1999.93 805.21 2004.02 806.425 Q2008.12 807.641 2012.08 807.641 Q2018.09 807.641 2021.35 805.28 Q2024.61 802.919 2024.61 798.544 Q2024.61 794.724 2022.25 792.571 Q2019.93 790.419 2014.58 789.342 L2010.31 788.509 Q2002.46 786.946 1998.95 783.613 Q1995.45 780.28 1995.45 774.342 Q1995.45 767.467 2000.27 763.509 Q2005.13 759.551 2013.64 759.551 Q2017.29 759.551 2021.07 760.21 Q2024.86 760.87 2028.82 762.19 Z\" fill=\"#000000\" fill-rule=\"nonzero\" fill-opacity=\"1\" /><path clip-path=\"url(#clip930)\" d=\"M2049.89 766.252 L2049.89 806.564 L2058.36 806.564 Q2069.09 806.564 2074.06 801.703 Q2079.06 796.842 2079.06 786.356 Q2079.06 775.94 2074.06 771.113 Q2069.09 766.252 2058.36 766.252 L2049.89 766.252 M2042.88 760.488 L2057.29 760.488 Q2072.36 760.488 2079.41 766.773 Q2086.45 773.023 2086.45 786.356 Q2086.45 799.759 2079.37 806.044 Q2072.29 812.328 2057.29 812.328 L2042.88 812.328 L2042.88 760.488 Z\" fill=\"#000000\" fill-rule=\"nonzero\" fill-opacity=\"1\" /><path clip-path=\"url(#clip930)\" d=\"M2112.7 758.37 Q2108.05 766.356 2105.79 774.169 Q2103.54 781.981 2103.54 790.002 Q2103.54 798.023 2105.79 805.905 Q2108.09 813.752 2112.7 821.703 L2107.15 821.703 Q2101.94 813.544 2099.34 805.662 Q2096.77 797.78 2096.77 790.002 Q2096.77 782.259 2099.34 774.412 Q2101.9 766.565 2107.15 758.37 L2112.7 758.37 Z\" fill=\"#000000\" fill-rule=\"nonzero\" fill-opacity=\"1\" /><path clip-path=\"url(#clip930)\" d=\"M2132.39 787.571 L2132.39 806.564 L2143.64 806.564 Q2149.3 806.564 2152.01 804.238 Q2154.75 801.877 2154.75 797.051 Q2154.75 792.189 2152.01 789.898 Q2149.3 787.571 2143.64 787.571 L2132.39 787.571 M2132.39 766.252 L2132.39 781.877 L2142.77 781.877 Q2147.91 781.877 2150.41 779.967 Q2152.95 778.023 2152.95 774.065 Q2152.95 770.141 2150.41 768.197 Q2147.91 766.252 2142.77 766.252 L2132.39 766.252 M2125.38 760.488 L2143.29 760.488 Q2151.31 760.488 2155.65 763.822 Q2159.99 767.155 2159.99 773.301 Q2159.99 778.058 2157.77 780.87 Q2155.55 783.683 2151.24 784.377 Q2156.42 785.488 2159.27 789.03 Q2162.15 792.537 2162.15 797.814 Q2162.15 804.759 2157.43 808.544 Q2152.7 812.328 2143.99 812.328 L2125.38 812.328 L2125.38 760.488 Z\" fill=\"#000000\" fill-rule=\"nonzero\" fill-opacity=\"1\" /><path clip-path=\"url(#clip930)\" d=\"M2181.18 766.252 L2181.18 806.564 L2189.65 806.564 Q2200.38 806.564 2205.34 801.703 Q2210.34 796.842 2210.34 786.356 Q2210.34 775.94 2205.34 771.113 Q2200.38 766.252 2189.65 766.252 L2181.18 766.252 M2174.16 760.488 L2188.57 760.488 Q2203.64 760.488 2210.69 766.773 Q2217.74 773.023 2217.74 786.356 Q2217.74 799.759 2210.65 806.044 Q2203.57 812.328 2188.57 812.328 L2174.16 812.328 L2174.16 760.488 Z\" fill=\"#000000\" fill-rule=\"nonzero\" fill-opacity=\"1\" /><path clip-path=\"url(#clip930)\" d=\"M2228.92 760.488 L2258.71 760.488 L2258.71 766.391 L2235.93 766.391 L2235.93 781.669 L2256.49 781.669 L2256.49 787.571 L2235.93 787.571 L2235.93 812.328 L2228.92 812.328 L2228.92 760.488 Z\" fill=\"#000000\" fill-rule=\"nonzero\" fill-opacity=\"1\" /><path clip-path=\"url(#clip930)\" d=\"M2291.7 784.377 Q2296.73 785.453 2299.54 788.856 Q2302.39 792.259 2302.39 797.259 Q2302.39 804.932 2297.11 809.134 Q2291.83 813.335 2282.11 813.335 Q2278.85 813.335 2275.38 812.675 Q2271.94 812.05 2268.26 810.766 L2268.26 803.995 Q2271.17 805.696 2274.65 806.564 Q2278.12 807.432 2281.9 807.432 Q2288.5 807.432 2291.94 804.828 Q2295.41 802.224 2295.41 797.259 Q2295.41 792.676 2292.18 790.106 Q2288.99 787.502 2283.26 787.502 L2277.22 787.502 L2277.22 781.738 L2283.54 781.738 Q2288.71 781.738 2291.45 779.69 Q2294.2 777.606 2294.2 773.717 Q2294.2 769.724 2291.35 767.606 Q2288.54 765.453 2283.26 765.453 Q2280.38 765.453 2277.08 766.078 Q2273.78 766.703 2269.82 768.023 L2269.82 761.773 Q2273.81 760.662 2277.29 760.106 Q2280.79 759.551 2283.88 759.551 Q2291.87 759.551 2296.52 763.197 Q2301.17 766.808 2301.17 772.988 Q2301.17 777.294 2298.71 780.28 Q2296.24 783.231 2291.7 784.377 Z\" fill=\"#000000\" fill-rule=\"nonzero\" fill-opacity=\"1\" /><path clip-path=\"url(#clip930)\" d=\"M2313.78 758.37 L2319.33 758.37 Q2324.54 766.565 2327.11 774.412 Q2329.72 782.259 2329.72 790.002 Q2329.72 797.78 2327.11 805.662 Q2324.54 813.544 2319.33 821.703 L2313.78 821.703 Q2318.4 813.752 2320.65 805.905 Q2322.95 798.023 2322.95 790.002 Q2322.95 781.981 2320.65 774.169 Q2318.4 766.356 2313.78 758.37 Z\" fill=\"#000000\" fill-rule=\"nonzero\" fill-opacity=\"1\" /><polyline clip-path=\"url(#clip930)\" style=\"stroke:#c271d2; stroke-linecap:round; stroke-linejoin:round; stroke-width:30; stroke-opacity:1; fill:none\" stroke-dasharray=\"15, 30\" points=\"1834.17,864.168 1972.41,864.168 \"/>\n",
       "<path clip-path=\"url(#clip930)\" d=\"M2028.82 839.95 L2028.82 846.79 Q2024.82 844.88 2021.28 843.943 Q2017.74 843.005 2014.44 843.005 Q2008.71 843.005 2005.59 845.227 Q2002.5 847.45 2002.5 851.547 Q2002.5 854.984 2004.54 856.755 Q2006.63 858.491 2012.39 859.568 L2016.63 860.436 Q2024.47 861.929 2028.19 865.713 Q2031.94 869.463 2031.94 875.783 Q2031.94 883.317 2026.87 887.206 Q2021.84 891.095 2012.08 891.095 Q2008.4 891.095 2004.23 890.262 Q2000.1 889.429 1995.66 887.797 L1995.66 880.574 Q1999.93 882.97 2004.02 884.185 Q2008.12 885.401 2012.08 885.401 Q2018.09 885.401 2021.35 883.04 Q2024.61 880.679 2024.61 876.304 Q2024.61 872.484 2022.25 870.331 Q2019.93 868.179 2014.58 867.102 L2010.31 866.269 Q2002.46 864.706 1998.95 861.373 Q1995.45 858.04 1995.45 852.102 Q1995.45 845.227 2000.27 841.269 Q2005.13 837.311 2013.64 837.311 Q2017.29 837.311 2021.07 837.97 Q2024.86 838.63 2028.82 839.95 Z\" fill=\"#000000\" fill-rule=\"nonzero\" fill-opacity=\"1\" /><path clip-path=\"url(#clip930)\" d=\"M2042.6 836.061 L2048.99 836.061 L2048.99 890.088 L2042.6 890.088 L2042.6 836.061 Z\" fill=\"#000000\" fill-rule=\"nonzero\" fill-opacity=\"1\" /><path clip-path=\"url(#clip930)\" d=\"M2077.43 855.679 Q2072.29 855.679 2069.3 859.706 Q2066.31 863.699 2066.31 870.679 Q2066.31 877.658 2069.27 881.686 Q2072.25 885.679 2077.43 885.679 Q2082.53 885.679 2085.52 881.651 Q2088.5 877.623 2088.5 870.679 Q2088.5 863.769 2085.52 859.741 Q2082.53 855.679 2077.43 855.679 M2077.43 850.262 Q2085.76 850.262 2090.52 855.679 Q2095.27 861.095 2095.27 870.679 Q2095.27 880.227 2090.52 885.679 Q2085.76 891.095 2077.43 891.095 Q2069.06 891.095 2064.3 885.679 Q2059.58 880.227 2059.58 870.679 Q2059.58 861.095 2064.3 855.679 Q2069.06 850.262 2077.43 850.262 Z\" fill=\"#000000\" fill-rule=\"nonzero\" fill-opacity=\"1\" /><path clip-path=\"url(#clip930)\" d=\"M2112.04 884.255 L2112.04 904.88 L2105.62 904.88 L2105.62 851.2 L2112.04 851.2 L2112.04 857.102 Q2114.06 853.63 2117.11 851.963 Q2120.2 850.262 2124.47 850.262 Q2131.56 850.262 2135.97 855.887 Q2140.41 861.512 2140.41 870.679 Q2140.41 879.845 2135.97 885.47 Q2131.56 891.095 2124.47 891.095 Q2120.2 891.095 2117.11 889.429 Q2114.06 887.727 2112.04 884.255 M2133.78 870.679 Q2133.78 863.63 2130.86 859.637 Q2127.98 855.609 2122.91 855.609 Q2117.84 855.609 2114.93 859.637 Q2112.04 863.63 2112.04 870.679 Q2112.04 877.727 2114.93 881.755 Q2117.84 885.748 2122.91 885.748 Q2127.98 885.748 2130.86 881.755 Q2133.78 877.727 2133.78 870.679 Z\" fill=\"#000000\" fill-rule=\"nonzero\" fill-opacity=\"1\" /><path clip-path=\"url(#clip930)\" d=\"M2184.27 869.047 L2184.27 872.172 L2154.89 872.172 Q2155.31 878.769 2158.85 882.241 Q2162.43 885.679 2168.78 885.679 Q2172.46 885.679 2175.9 884.776 Q2179.37 883.873 2182.77 882.067 L2182.77 888.109 Q2179.34 889.567 2175.72 890.331 Q2172.11 891.095 2168.4 891.095 Q2159.09 891.095 2153.64 885.679 Q2148.22 880.262 2148.22 871.026 Q2148.22 861.477 2153.36 855.887 Q2158.54 850.262 2167.29 850.262 Q2175.13 850.262 2179.68 855.331 Q2184.27 860.366 2184.27 869.047 M2177.88 867.172 Q2177.81 861.929 2174.93 858.804 Q2172.08 855.679 2167.36 855.679 Q2162.01 855.679 2158.78 858.7 Q2155.59 861.72 2155.1 867.206 L2177.88 867.172 Z\" fill=\"#000000\" fill-rule=\"nonzero\" fill-opacity=\"1\" /><path clip-path=\"url(#clip930)\" d=\"M2195.59 857.797 L2240.1 857.797 L2240.1 863.63 L2195.59 863.63 L2195.59 857.797 M2195.59 871.963 L2240.1 871.963 L2240.1 877.866 L2195.59 877.866 L2195.59 871.963 Z\" fill=\"#000000\" fill-rule=\"nonzero\" fill-opacity=\"1\" /><path clip-path=\"url(#clip930)\" d=\"M2276.49 862.137 Q2281.52 863.213 2284.33 866.616 Q2287.18 870.019 2287.18 875.019 Q2287.18 882.692 2281.9 886.894 Q2276.63 891.095 2266.9 891.095 Q2263.64 891.095 2260.17 890.435 Q2256.73 889.81 2253.05 888.526 L2253.05 881.755 Q2255.97 883.456 2259.44 884.324 Q2262.91 885.192 2266.7 885.192 Q2273.29 885.192 2276.73 882.588 Q2280.2 879.984 2280.2 875.019 Q2280.2 870.436 2276.97 867.866 Q2273.78 865.262 2268.05 865.262 L2262.01 865.262 L2262.01 859.498 L2268.33 859.498 Q2273.5 859.498 2276.24 857.45 Q2278.99 855.366 2278.99 851.477 Q2278.99 847.484 2276.14 845.366 Q2273.33 843.213 2268.05 843.213 Q2265.17 843.213 2261.87 843.838 Q2258.57 844.463 2254.61 845.783 L2254.61 839.533 Q2258.61 838.422 2262.08 837.866 Q2265.58 837.311 2268.67 837.311 Q2276.66 837.311 2281.31 840.957 Q2285.97 844.568 2285.97 850.748 Q2285.97 855.054 2283.5 858.04 Q2281.04 860.991 2276.49 862.137 Z\" fill=\"#000000\" fill-rule=\"nonzero\" fill-opacity=\"1\" /></svg>\n"
      ]
     },
     "execution_count": 58,
     "metadata": {},
     "output_type": "execute_result"
    }
   ],
   "source": [
    "p=plot!(del_x.*(-1),vec(err3),lw=5,label=\"SD(BDF3)\",legend=:outerright,yaxis=:log10,xaxis=:log10,yticks=[10^(-16),10^(-15),10^(-14),\n",
    "        10^(-13),10^(-12),10^(-11),10^(-10),10^(-9),10^(-8),10^(-7),10^(-6),10^(-5),10^(-4),10^(-3),10^(-2),10^(-1),1,10],\n",
    "    marker=(:circle,5),xtickfontsize=15,ytickfontsize=15,legendfontsize=12)\n",
    "p=plot!(del_x.*(-1),10^(-1.1)*(del_x.*(-1)).^(3),lw=5,label=\"Slope=3\",yaxis=:log10,xaxis=:log10,ls=:dot,legend=:outerright)"
   ]
  },
  {
   "cell_type": "markdown",
   "id": "8d019aa9",
   "metadata": {},
   "source": [
    "The following plot shows the order of error of the spectral discretization (CDF) using BDF4 for $\\beta=2$, $x_{0}=\\lceil 13/\\sqrt{\\beta}\\rceil$, at $x=-2$ before interpolation with $M=8000$. We treat the case $\\Delta x=-0.001$ as the reference to compare with. $\\Delta x=-0.05,-0.04,-0.025$ are used."
   ]
  },
  {
   "cell_type": "code",
   "execution_count": 15,
   "id": "754bf38b",
   "metadata": {},
   "outputs": [],
   "source": [
    "β=2;\n",
    "xx=-2;\n",
    "result_ref4=TW(β;x0=ceil(13/sqrt(β)),method=\"spectral\",step=\"bdf4\",interp=false,Δx_s=-0.001);\n",
    "x_ref4=result_ref4[1];F_ref4=result_ref4[2];ind4=findall(x -> x == xx, x_ref4)[1];"
   ]
  },
  {
   "cell_type": "code",
   "execution_count": 16,
   "id": "69263377",
   "metadata": {},
   "outputs": [],
   "source": [
    "del_x=[-0.05,-0.04,-0.025];\n",
    "err4=zeros(1,length(del_x));\n",
    "for i=1:length(del_x)\n",
    "    dx=del_x[i];\n",
    "    result_cdf=TW(β;x0=ceil(13/sqrt(β)),method=\"spectral\",step=\"bdf4\",interp=false,Δx_s=dx);\n",
    "    x_cdf=result_cdf[1];F_cdf=result_cdf[2];\n",
    "    ind42=findall(x -> x == xx, x_cdf)[1];\n",
    "    err4[i]=abs(F_cdf[ind42]-F_ref4[ind4]);\n",
    "end"
   ]
  },
  {
   "cell_type": "code",
   "execution_count": 59,
   "id": "2a32b41d",
   "metadata": {},
   "outputs": [
    {
     "data": {
      "image/svg+xml": [
       "<?xml version=\"1.0\" encoding=\"utf-8\"?>\n",
       "<svg xmlns=\"http://www.w3.org/2000/svg\" xmlns:xlink=\"http://www.w3.org/1999/xlink\" width=\"600\" height=\"400\" viewBox=\"0 0 2400 1600\">\n",
       "<defs>\n",
       "  <clipPath id=\"clip970\">\n",
       "    <rect x=\"0\" y=\"0\" width=\"2400\" height=\"1600\"/>\n",
       "  </clipPath>\n",
       "</defs>\n",
       "<path clip-path=\"url(#clip970)\" d=\"M0 1600 L2400 1600 L2400 0 L0 0  Z\" fill=\"#ffffff\" fill-rule=\"evenodd\" fill-opacity=\"1\"/>\n",
       "<defs>\n",
       "  <clipPath id=\"clip971\">\n",
       "    <rect x=\"480\" y=\"0\" width=\"1681\" height=\"1600\"/>\n",
       "  </clipPath>\n",
       "</defs>\n",
       "<path clip-path=\"url(#clip970)\" d=\"M279.187 1433.18 L1742.01 1433.18 L1742.01 47.2441 L279.187 47.2441  Z\" fill=\"#ffffff\" fill-rule=\"evenodd\" fill-opacity=\"1\"/>\n",
       "<defs>\n",
       "  <clipPath id=\"clip972\">\n",
       "    <rect x=\"279\" y=\"47\" width=\"1464\" height=\"1387\"/>\n",
       "  </clipPath>\n",
       "</defs>\n",
       "<polyline clip-path=\"url(#clip972)\" style=\"stroke:#000000; stroke-linecap:round; stroke-linejoin:round; stroke-width:2; stroke-opacity:0.1; fill:none\" points=\"330.031,1433.18 330.031,47.2441 \"/>\n",
       "<polyline clip-path=\"url(#clip972)\" style=\"stroke:#000000; stroke-linecap:round; stroke-linejoin:round; stroke-width:2; stroke-opacity:0.1; fill:none\" points=\"1246.9,1433.18 1246.9,47.2441 \"/>\n",
       "<polyline clip-path=\"url(#clip970)\" style=\"stroke:#000000; stroke-linecap:round; stroke-linejoin:round; stroke-width:4; stroke-opacity:1; fill:none\" points=\"279.187,1433.18 1742.01,1433.18 \"/>\n",
       "<polyline clip-path=\"url(#clip970)\" style=\"stroke:#000000; stroke-linecap:round; stroke-linejoin:round; stroke-width:4; stroke-opacity:1; fill:none\" points=\"330.031,1433.18 330.031,1414.28 \"/>\n",
       "<polyline clip-path=\"url(#clip970)\" style=\"stroke:#000000; stroke-linecap:round; stroke-linejoin:round; stroke-width:4; stroke-opacity:1; fill:none\" points=\"1246.9,1433.18 1246.9,1414.28 \"/>\n",
       "<path clip-path=\"url(#clip970)\" d=\"M200.986 1555.36 L215.309 1555.36 L215.309 1505.93 L199.727 1509.05 L199.727 1501.06 L215.222 1497.94 L223.989 1497.94 L223.989 1555.36 L238.312 1555.36 L238.312 1562.74 L200.986 1562.74 L200.986 1555.36 Z\" fill=\"#000000\" fill-rule=\"nonzero\" fill-opacity=\"1\" /><path clip-path=\"url(#clip970)\" d=\"M274.77 1503.71 Q267.999 1503.71 264.571 1510.4 Q261.185 1517.04 261.185 1530.4 Q261.185 1543.73 264.571 1550.41 Q267.999 1557.05 274.77 1557.05 Q281.584 1557.05 284.97 1550.41 Q288.399 1543.73 288.399 1530.4 Q288.399 1517.04 284.97 1510.4 Q281.584 1503.71 274.77 1503.71 M274.77 1496.77 Q285.664 1496.77 291.393 1505.4 Q297.166 1514 297.166 1530.4 Q297.166 1546.77 291.393 1555.4 Q285.664 1564 274.77 1564 Q263.876 1564 258.104 1555.4 Q252.374 1546.77 252.374 1530.4 Q252.374 1514 258.104 1505.4 Q263.876 1496.77 274.77 1496.77 Z\" fill=\"#000000\" fill-rule=\"nonzero\" fill-opacity=\"1\" /><path clip-path=\"url(#clip970)\" d=\"M297.166 1485.71 L342.375 1485.71 L342.375 1491.7 L297.166 1491.7 L297.166 1485.71 Z\" fill=\"#000000\" fill-rule=\"nonzero\" fill-opacity=\"1\" /><path clip-path=\"url(#clip970)\" d=\"M358.985 1505.35 L370.622 1505.35 L370.622 1465.18 L357.962 1467.72 L357.962 1461.23 L370.551 1458.69 L377.675 1458.69 L377.675 1505.35 L389.312 1505.35 L389.312 1511.34 L358.985 1511.34 L358.985 1505.35 Z\" fill=\"#000000\" fill-rule=\"nonzero\" fill-opacity=\"1\" /><path clip-path=\"url(#clip970)\" d=\"M403.7 1502.39 L411.141 1502.39 L411.141 1511.34 L403.7 1511.34 L403.7 1502.39 Z\" fill=\"#000000\" fill-rule=\"nonzero\" fill-opacity=\"1\" /><path clip-path=\"url(#clip970)\" d=\"M442.773 1482.18 Q437.977 1482.18 435.156 1485.46 Q432.37 1488.74 432.37 1494.45 Q432.37 1500.13 435.156 1503.45 Q437.977 1506.73 442.773 1506.73 Q447.569 1506.73 450.355 1503.45 Q453.176 1500.13 453.176 1494.45 Q453.176 1488.74 450.355 1485.46 Q447.569 1482.18 442.773 1482.18 M456.914 1459.86 L456.914 1466.35 Q454.234 1465.08 451.484 1464.41 Q448.768 1463.74 446.088 1463.74 Q439.035 1463.74 435.297 1468.5 Q431.594 1473.26 431.065 1482.89 Q433.146 1479.82 436.285 1478.2 Q439.423 1476.54 443.196 1476.54 Q451.131 1476.54 455.715 1481.37 Q460.335 1486.17 460.335 1494.45 Q460.335 1502.56 455.539 1507.47 Q450.743 1512.37 442.773 1512.37 Q433.64 1512.37 428.809 1505.39 Q423.977 1498.37 423.977 1485.07 Q423.977 1472.59 429.902 1465.18 Q435.826 1457.74 445.806 1457.74 Q448.486 1457.74 451.202 1458.27 Q453.952 1458.8 456.914 1459.86 Z\" fill=\"#000000\" fill-rule=\"nonzero\" fill-opacity=\"1\" /><path clip-path=\"url(#clip970)\" d=\"M1117.61 1555.36 L1131.93 1555.36 L1131.93 1505.93 L1116.35 1509.05 L1116.35 1501.06 L1131.84 1497.94 L1140.61 1497.94 L1140.61 1555.36 L1154.93 1555.36 L1154.93 1562.74 L1117.61 1562.74 L1117.61 1555.36 Z\" fill=\"#000000\" fill-rule=\"nonzero\" fill-opacity=\"1\" /><path clip-path=\"url(#clip970)\" d=\"M1191.39 1503.71 Q1184.62 1503.71 1181.19 1510.4 Q1177.81 1517.04 1177.81 1530.4 Q1177.81 1543.73 1181.19 1550.41 Q1184.62 1557.05 1191.39 1557.05 Q1198.2 1557.05 1201.59 1550.41 Q1205.02 1543.73 1205.02 1530.4 Q1205.02 1517.04 1201.59 1510.4 Q1198.2 1503.71 1191.39 1503.71 M1191.39 1496.77 Q1202.28 1496.77 1208.01 1505.4 Q1213.79 1514 1213.79 1530.4 Q1213.79 1546.77 1208.01 1555.4 Q1202.28 1564 1191.39 1564 Q1180.5 1564 1174.72 1555.4 Q1168.99 1546.77 1168.99 1530.4 Q1168.99 1514 1174.72 1505.4 Q1180.5 1496.77 1191.39 1496.77 Z\" fill=\"#000000\" fill-rule=\"nonzero\" fill-opacity=\"1\" /><path clip-path=\"url(#clip970)\" d=\"M1213.79 1485.71 L1259 1485.71 L1259 1491.7 L1213.79 1491.7 L1213.79 1485.71 Z\" fill=\"#000000\" fill-rule=\"nonzero\" fill-opacity=\"1\" /><path clip-path=\"url(#clip970)\" d=\"M1275.61 1505.35 L1287.24 1505.35 L1287.24 1465.18 L1274.58 1467.72 L1274.58 1461.23 L1287.17 1458.69 L1294.3 1458.69 L1294.3 1505.35 L1305.93 1505.35 L1305.93 1511.34 L1275.61 1511.34 L1275.61 1505.35 Z\" fill=\"#000000\" fill-rule=\"nonzero\" fill-opacity=\"1\" /><path clip-path=\"url(#clip970)\" d=\"M1320.32 1502.39 L1327.76 1502.39 L1327.76 1511.34 L1320.32 1511.34 L1320.32 1502.39 Z\" fill=\"#000000\" fill-rule=\"nonzero\" fill-opacity=\"1\" /><path clip-path=\"url(#clip970)\" d=\"M1362.85 1464.9 L1344.86 1493.01 L1362.85 1493.01 L1362.85 1464.9 M1360.98 1458.69 L1369.94 1458.69 L1369.94 1493.01 L1377.45 1493.01 L1377.45 1498.93 L1369.94 1498.93 L1369.94 1511.34 L1362.85 1511.34 L1362.85 1498.93 L1339.08 1498.93 L1339.08 1492.06 L1360.98 1458.69 Z\" fill=\"#000000\" fill-rule=\"nonzero\" fill-opacity=\"1\" /><polyline clip-path=\"url(#clip972)\" style=\"stroke:#000000; stroke-linecap:round; stroke-linejoin:round; stroke-width:2; stroke-opacity:0.1; fill:none\" points=\"279.187,1027.35 1742.01,1027.35 \"/>\n",
       "<polyline clip-path=\"url(#clip972)\" style=\"stroke:#000000; stroke-linecap:round; stroke-linejoin:round; stroke-width:2; stroke-opacity:0.1; fill:none\" points=\"279.187,599.275 1742.01,599.275 \"/>\n",
       "<polyline clip-path=\"url(#clip972)\" style=\"stroke:#000000; stroke-linecap:round; stroke-linejoin:round; stroke-width:2; stroke-opacity:0.1; fill:none\" points=\"279.187,171.201 1742.01,171.201 \"/>\n",
       "<polyline clip-path=\"url(#clip970)\" style=\"stroke:#000000; stroke-linecap:round; stroke-linejoin:round; stroke-width:4; stroke-opacity:1; fill:none\" points=\"279.187,1433.18 279.187,47.2441 \"/>\n",
       "<polyline clip-path=\"url(#clip970)\" style=\"stroke:#000000; stroke-linecap:round; stroke-linejoin:round; stroke-width:4; stroke-opacity:1; fill:none\" points=\"279.187,1027.35 292.518,1027.35 \"/>\n",
       "<polyline clip-path=\"url(#clip970)\" style=\"stroke:#000000; stroke-linecap:round; stroke-linejoin:round; stroke-width:4; stroke-opacity:1; fill:none\" points=\"279.187,599.275 292.518,599.275 \"/>\n",
       "<polyline clip-path=\"url(#clip970)\" style=\"stroke:#000000; stroke-linecap:round; stroke-linejoin:round; stroke-width:4; stroke-opacity:1; fill:none\" points=\"279.187,171.201 292.518,171.201 \"/>\n",
       "<path clip-path=\"url(#clip970)\" d=\"M52.7445 1064.46 L67.0673 1064.46 L67.0673 1015.02 L51.4858 1018.15 L51.4858 1010.16 L66.9805 1007.04 L75.7479 1007.04 L75.7479 1064.46 L90.0707 1064.46 L90.0707 1071.84 L52.7445 1071.84 L52.7445 1064.46 Z\" fill=\"#000000\" fill-rule=\"nonzero\" fill-opacity=\"1\" /><path clip-path=\"url(#clip970)\" d=\"M126.529 1012.81 Q119.758 1012.81 116.329 1019.49 Q112.944 1026.13 112.944 1039.5 Q112.944 1052.83 116.329 1059.51 Q119.758 1066.15 126.529 1066.15 Q133.343 1066.15 136.728 1059.51 Q140.157 1052.83 140.157 1039.5 Q140.157 1026.13 136.728 1019.49 Q133.343 1012.81 126.529 1012.81 M126.529 1005.87 Q137.423 1005.87 143.152 1014.5 Q148.925 1023.1 148.925 1039.5 Q148.925 1055.87 143.152 1064.5 Q137.423 1073.1 126.529 1073.1 Q115.635 1073.1 109.862 1064.5 Q104.133 1055.87 104.133 1039.5 Q104.133 1023.1 109.862 1014.5 Q115.635 1005.87 126.529 1005.87 Z\" fill=\"#000000\" fill-rule=\"nonzero\" fill-opacity=\"1\" /><path clip-path=\"url(#clip970)\" d=\"M148.925 994.806 L194.134 994.806 L194.134 1000.8 L148.925 1000.8 L148.925 994.806 Z\" fill=\"#000000\" fill-rule=\"nonzero\" fill-opacity=\"1\" /><path clip-path=\"url(#clip970)\" d=\"M225.625 991.279 Q220.829 991.279 218.008 994.559 Q215.222 997.839 215.222 1003.55 Q215.222 1009.23 218.008 1012.54 Q220.829 1015.82 225.625 1015.82 Q230.421 1015.82 233.207 1012.54 Q236.028 1009.23 236.028 1003.55 Q236.028 997.839 233.207 994.559 Q230.421 991.279 225.625 991.279 M239.766 968.957 L239.766 975.446 Q237.086 974.176 234.335 973.506 Q231.62 972.836 228.94 972.836 Q221.887 972.836 218.149 977.597 Q214.446 982.358 213.917 991.985 Q215.998 988.917 219.136 987.295 Q222.275 985.637 226.048 985.637 Q233.983 985.637 238.567 990.468 Q243.187 995.264 243.187 1003.55 Q243.187 1011.66 238.391 1016.56 Q233.595 1021.47 225.625 1021.47 Q216.491 1021.47 211.66 1014.48 Q206.829 1007.47 206.829 994.171 Q206.829 981.688 212.753 974.282 Q218.678 966.841 228.658 966.841 Q231.338 966.841 234.053 967.37 Q236.804 967.899 239.766 968.957 Z\" fill=\"#000000\" fill-rule=\"nonzero\" fill-opacity=\"1\" /><path clip-path=\"url(#clip970)\" d=\"M54.5077 636.386 L68.8306 636.386 L68.8306 586.95 L53.2491 590.075 L53.2491 582.089 L68.7438 578.964 L77.5111 578.964 L77.5111 636.386 L91.8339 636.386 L91.8339 643.764 L54.5077 643.764 L54.5077 636.386 Z\" fill=\"#000000\" fill-rule=\"nonzero\" fill-opacity=\"1\" /><path clip-path=\"url(#clip970)\" d=\"M128.292 584.737 Q121.521 584.737 118.092 591.421 Q114.707 598.061 114.707 611.429 Q114.707 624.754 118.092 631.438 Q121.521 638.079 128.292 638.079 Q135.106 638.079 138.492 631.438 Q141.92 624.754 141.92 611.429 Q141.92 598.061 138.492 591.421 Q135.106 584.737 128.292 584.737 M128.292 577.792 Q139.186 577.792 144.915 586.429 Q150.688 595.023 150.688 611.429 Q150.688 627.792 144.915 636.429 Q139.186 645.023 128.292 645.023 Q117.398 645.023 111.625 636.429 Q105.896 627.792 105.896 611.429 Q105.896 595.023 111.625 586.429 Q117.398 577.792 128.292 577.792 Z\" fill=\"#000000\" fill-rule=\"nonzero\" fill-opacity=\"1\" /><path clip-path=\"url(#clip970)\" d=\"M150.688 566.732 L195.897 566.732 L195.897 572.727 L150.688 572.727 L150.688 566.732 Z\" fill=\"#000000\" fill-rule=\"nonzero\" fill-opacity=\"1\" /><path clip-path=\"url(#clip970)\" d=\"M211.343 539.72 L239.308 539.72 L239.308 545.715 L217.867 545.715 L217.867 558.622 Q219.418 558.093 220.97 557.846 Q222.522 557.564 224.073 557.564 Q232.889 557.564 238.038 562.395 Q243.187 567.226 243.187 575.478 Q243.187 583.977 237.897 588.702 Q232.607 593.392 222.98 593.392 Q219.665 593.392 216.209 592.828 Q212.789 592.264 209.121 591.136 L209.121 583.977 Q212.295 585.705 215.68 586.551 Q219.066 587.397 222.839 587.397 Q228.94 587.397 232.502 584.188 Q236.063 580.979 236.063 575.478 Q236.063 569.977 232.502 566.768 Q228.94 563.559 222.839 563.559 Q219.983 563.559 217.126 564.193 Q214.305 564.828 211.343 566.168 L211.343 539.72 Z\" fill=\"#000000\" fill-rule=\"nonzero\" fill-opacity=\"1\" /><path clip-path=\"url(#clip970)\" d=\"M52.2508 208.312 L66.5736 208.312 L66.5736 158.877 L50.9921 162.002 L50.9921 154.016 L66.4868 150.891 L75.2541 150.891 L75.2541 208.312 L89.577 208.312 L89.577 215.691 L52.2508 215.691 L52.2508 208.312 Z\" fill=\"#000000\" fill-rule=\"nonzero\" fill-opacity=\"1\" /><path clip-path=\"url(#clip970)\" d=\"M126.035 156.663 Q119.264 156.663 115.836 163.347 Q112.45 169.988 112.45 183.356 Q112.45 196.68 115.836 203.364 Q119.264 210.005 126.035 210.005 Q132.849 210.005 136.235 203.364 Q139.664 196.68 139.664 183.356 Q139.664 169.988 136.235 163.347 Q132.849 156.663 126.035 156.663 M126.035 149.719 Q136.929 149.719 142.658 158.356 Q148.431 166.95 148.431 183.356 Q148.431 199.719 142.658 208.356 Q136.929 216.949 126.035 216.949 Q115.141 216.949 109.369 208.356 Q103.639 199.719 103.639 183.356 Q103.639 166.95 109.369 158.356 Q115.141 149.719 126.035 149.719 Z\" fill=\"#000000\" fill-rule=\"nonzero\" fill-opacity=\"1\" /><path clip-path=\"url(#clip970)\" d=\"M148.431 138.659 L193.64 138.659 L193.64 144.654 L148.431 144.654 L148.431 138.659 Z\" fill=\"#000000\" fill-rule=\"nonzero\" fill-opacity=\"1\" /><path clip-path=\"url(#clip970)\" d=\"M228.587 117.853 L210.602 145.959 L228.587 145.959 L228.587 117.853 M226.718 111.646 L235.675 111.646 L235.675 145.959 L243.187 145.959 L243.187 151.883 L235.675 151.883 L235.675 164.296 L228.587 164.296 L228.587 151.883 L204.819 151.883 L204.819 145.007 L226.718 111.646 Z\" fill=\"#000000\" fill-rule=\"nonzero\" fill-opacity=\"1\" /><polyline clip-path=\"url(#clip972)\" style=\"stroke:#009af9; stroke-linecap:round; stroke-linejoin:round; stroke-width:20; stroke-opacity:1; fill:none\" points=\"1700.61,137.754 1256.34,220.771 320.587,395.715 \"/>\n",
       "<circle clip-path=\"url(#clip972)\" cx=\"1700.61\" cy=\"137.754\" r=\"18\" fill=\"#009af9\" fill-rule=\"evenodd\" fill-opacity=\"1\" stroke=\"#000000\" stroke-opacity=\"1\" stroke-width=\"3.2\"/>\n",
       "<circle clip-path=\"url(#clip972)\" cx=\"1256.34\" cy=\"220.771\" r=\"18\" fill=\"#009af9\" fill-rule=\"evenodd\" fill-opacity=\"1\" stroke=\"#000000\" stroke-opacity=\"1\" stroke-width=\"3.2\"/>\n",
       "<circle clip-path=\"url(#clip972)\" cx=\"320.587\" cy=\"395.715\" r=\"18\" fill=\"#009af9\" fill-rule=\"evenodd\" fill-opacity=\"1\" stroke=\"#000000\" stroke-opacity=\"1\" stroke-width=\"3.2\"/>\n",
       "<polyline clip-path=\"url(#clip972)\" style=\"stroke:#e26f46; stroke-linecap:round; stroke-linejoin:round; stroke-width:20; stroke-opacity:1; fill:none\" stroke-dasharray=\"10, 20\" points=\"1700.61,86.4686 1256.34,169.438 320.587,344.195 \"/>\n",
       "<polyline clip-path=\"url(#clip972)\" style=\"stroke:#3da44d; stroke-linecap:round; stroke-linejoin:round; stroke-width:20; stroke-opacity:1; fill:none\" points=\"1700.61,633.004 1256.34,772.837 320.587,1061.06 \"/>\n",
       "<circle clip-path=\"url(#clip972)\" cx=\"1700.61\" cy=\"633.004\" r=\"18\" fill=\"#3da44d\" fill-rule=\"evenodd\" fill-opacity=\"1\" stroke=\"#000000\" stroke-opacity=\"1\" stroke-width=\"3.2\"/>\n",
       "<circle clip-path=\"url(#clip972)\" cx=\"1256.34\" cy=\"772.837\" r=\"18\" fill=\"#3da44d\" fill-rule=\"evenodd\" fill-opacity=\"1\" stroke=\"#000000\" stroke-opacity=\"1\" stroke-width=\"3.2\"/>\n",
       "<circle clip-path=\"url(#clip972)\" cx=\"320.587\" cy=\"1061.06\" r=\"18\" fill=\"#3da44d\" fill-rule=\"evenodd\" fill-opacity=\"1\" stroke=\"#000000\" stroke-opacity=\"1\" stroke-width=\"3.2\"/>\n",
       "<polyline clip-path=\"url(#clip972)\" style=\"stroke:#c271d2; stroke-linecap:round; stroke-linejoin:round; stroke-width:20; stroke-opacity:1; fill:none\" stroke-dasharray=\"10, 20\" points=\"1700.61,600.598 1256.34,725.052 320.587,987.187 \"/>\n",
       "<polyline clip-path=\"url(#clip972)\" style=\"stroke:#ac8d18; stroke-linecap:round; stroke-linejoin:round; stroke-width:20; stroke-opacity:1; fill:none\" points=\"1700.61,887.152 1256.34,1049.37 320.587,1393.95 \"/>\n",
       "<circle clip-path=\"url(#clip972)\" cx=\"1700.61\" cy=\"887.152\" r=\"18\" fill=\"#ac8d18\" fill-rule=\"evenodd\" fill-opacity=\"1\" stroke=\"#000000\" stroke-opacity=\"1\" stroke-width=\"3.2\"/>\n",
       "<circle clip-path=\"url(#clip972)\" cx=\"1256.34\" cy=\"1049.37\" r=\"18\" fill=\"#ac8d18\" fill-rule=\"evenodd\" fill-opacity=\"1\" stroke=\"#000000\" stroke-opacity=\"1\" stroke-width=\"3.2\"/>\n",
       "<circle clip-path=\"url(#clip972)\" cx=\"320.587\" cy=\"1393.95\" r=\"18\" fill=\"#ac8d18\" fill-rule=\"evenodd\" fill-opacity=\"1\" stroke=\"#000000\" stroke-opacity=\"1\" stroke-width=\"3.2\"/>\n",
       "<polyline clip-path=\"url(#clip972)\" style=\"stroke:#00a9ad; stroke-linecap:round; stroke-linejoin:round; stroke-width:20; stroke-opacity:1; fill:none\" stroke-dasharray=\"10, 20\" points=\"1700.61,815.075 1256.34,981.014 320.587,1330.53 \"/>\n",
       "<path clip-path=\"url(#clip970)\" d=\"M1811.13 1019.69 L2352.76 1019.69 L2352.76 475.368 L1811.13 475.368  Z\" fill=\"#ffffff\" fill-rule=\"evenodd\" fill-opacity=\"1\"/>\n",
       "<polyline clip-path=\"url(#clip970)\" style=\"stroke:#000000; stroke-linecap:round; stroke-linejoin:round; stroke-width:4; stroke-opacity:1; fill:none\" points=\"1811.13,1019.69 2352.76,1019.69 2352.76,475.368 1811.13,475.368 1811.13,1019.69 \"/>\n",
       "<polyline clip-path=\"url(#clip970)\" style=\"stroke:#009af9; stroke-linecap:round; stroke-linejoin:round; stroke-width:30; stroke-opacity:1; fill:none\" points=\"1834.17,553.128 1972.41,553.128 \"/>\n",
       "<circle clip-path=\"url(#clip970)\" cx=\"1903.29\" cy=\"553.128\" r=\"12.7998\" fill=\"#009af9\" fill-rule=\"evenodd\" fill-opacity=\"1\" stroke=\"#000000\" stroke-opacity=\"1\" stroke-width=\"5.58545\"/>\n",
       "<path clip-path=\"url(#clip970)\" d=\"M2028.82 528.91 L2028.82 535.75 Q2024.82 533.84 2021.28 532.903 Q2017.74 531.965 2014.44 531.965 Q2008.71 531.965 2005.59 534.187 Q2002.5 536.41 2002.5 540.507 Q2002.5 543.944 2004.54 545.715 Q2006.63 547.451 2012.39 548.528 L2016.63 549.396 Q2024.47 550.889 2028.19 554.673 Q2031.94 558.423 2031.94 564.743 Q2031.94 572.277 2026.87 576.166 Q2021.84 580.055 2012.08 580.055 Q2008.4 580.055 2004.23 579.222 Q2000.1 578.389 1995.66 576.757 L1995.66 569.534 Q1999.93 571.93 2004.02 573.145 Q2008.12 574.361 2012.08 574.361 Q2018.09 574.361 2021.35 572 Q2024.61 569.639 2024.61 565.264 Q2024.61 561.444 2022.25 559.291 Q2019.93 557.139 2014.58 556.062 L2010.31 555.229 Q2002.46 553.666 1998.95 550.333 Q1995.45 547 1995.45 541.062 Q1995.45 534.187 2000.27 530.229 Q2005.13 526.271 2013.64 526.271 Q2017.29 526.271 2021.07 526.93 Q2024.86 527.59 2028.82 528.91 Z\" fill=\"#000000\" fill-rule=\"nonzero\" fill-opacity=\"1\" /><path clip-path=\"url(#clip970)\" d=\"M2049.89 532.972 L2049.89 573.284 L2058.36 573.284 Q2069.09 573.284 2074.06 568.423 Q2079.06 563.562 2079.06 553.076 Q2079.06 542.66 2074.06 537.833 Q2069.09 532.972 2058.36 532.972 L2049.89 532.972 M2042.88 527.208 L2057.29 527.208 Q2072.36 527.208 2079.41 533.493 Q2086.45 539.743 2086.45 553.076 Q2086.45 566.479 2079.37 572.764 Q2072.29 579.048 2057.29 579.048 L2042.88 579.048 L2042.88 527.208 Z\" fill=\"#000000\" fill-rule=\"nonzero\" fill-opacity=\"1\" /><path clip-path=\"url(#clip970)\" d=\"M2112.7 525.09 Q2108.05 533.076 2105.79 540.889 Q2103.54 548.701 2103.54 556.722 Q2103.54 564.743 2105.79 572.625 Q2108.09 580.472 2112.7 588.423 L2107.15 588.423 Q2101.94 580.264 2099.34 572.382 Q2096.77 564.5 2096.77 556.722 Q2096.77 548.979 2099.34 541.132 Q2101.9 533.285 2107.15 525.09 L2112.7 525.09 Z\" fill=\"#000000\" fill-rule=\"nonzero\" fill-opacity=\"1\" /><path clip-path=\"url(#clip970)\" d=\"M2118.19 527.208 L2162.04 527.208 L2162.04 533.111 L2143.64 533.111 L2143.64 579.048 L2136.59 579.048 L2136.59 533.111 L2118.19 533.111 L2118.19 527.208 Z\" fill=\"#000000\" fill-rule=\"nonzero\" fill-opacity=\"1\" /><path clip-path=\"url(#clip970)\" d=\"M2180.62 546.132 Q2179.54 545.507 2178.26 545.229 Q2177.01 544.916 2175.48 544.916 Q2170.06 544.916 2167.15 548.458 Q2164.27 551.965 2164.27 558.562 L2164.27 579.048 L2157.84 579.048 L2157.84 540.16 L2164.27 540.16 L2164.27 546.201 Q2166.28 542.66 2169.51 540.958 Q2172.74 539.222 2177.36 539.222 Q2178.02 539.222 2178.81 539.326 Q2179.61 539.396 2180.59 539.569 L2180.62 546.132 Z\" fill=\"#000000\" fill-rule=\"nonzero\" fill-opacity=\"1\" /><path clip-path=\"url(#clip970)\" d=\"M2204.99 559.5 Q2197.25 559.5 2194.27 561.271 Q2191.28 563.041 2191.28 567.312 Q2191.28 570.715 2193.5 572.729 Q2195.76 574.708 2199.61 574.708 Q2204.93 574.708 2208.12 570.958 Q2211.35 567.173 2211.35 560.923 L2211.35 559.5 L2204.99 559.5 M2217.74 556.861 L2217.74 579.048 L2211.35 579.048 L2211.35 573.145 Q2209.16 576.687 2205.9 578.389 Q2202.63 580.055 2197.91 580.055 Q2191.94 580.055 2188.4 576.722 Q2184.89 573.354 2184.89 567.729 Q2184.89 561.166 2189.27 557.833 Q2193.68 554.5 2202.39 554.5 L2211.35 554.5 L2211.35 553.875 Q2211.35 549.465 2208.43 547.069 Q2205.55 544.639 2200.31 544.639 Q2196.97 544.639 2193.81 545.437 Q2190.65 546.236 2187.74 547.833 L2187.74 541.93 Q2191.24 540.576 2194.54 539.917 Q2197.84 539.222 2200.97 539.222 Q2209.4 539.222 2213.57 543.597 Q2217.74 547.972 2217.74 556.861 Z\" fill=\"#000000\" fill-rule=\"nonzero\" fill-opacity=\"1\" /><path clip-path=\"url(#clip970)\" d=\"M2237.08 573.215 L2237.08 593.84 L2230.65 593.84 L2230.65 540.16 L2237.08 540.16 L2237.08 546.062 Q2239.09 542.59 2242.15 540.923 Q2245.24 539.222 2249.51 539.222 Q2256.59 539.222 2261 544.847 Q2265.45 550.472 2265.45 559.639 Q2265.45 568.805 2261 574.43 Q2256.59 580.055 2249.51 580.055 Q2245.24 580.055 2242.15 578.389 Q2239.09 576.687 2237.08 573.215 M2258.81 559.639 Q2258.81 552.59 2255.9 548.597 Q2253.02 544.569 2247.95 544.569 Q2242.88 544.569 2239.96 548.597 Q2237.08 552.59 2237.08 559.639 Q2237.08 566.687 2239.96 570.715 Q2242.88 574.708 2247.95 574.708 Q2253.02 574.708 2255.9 570.715 Q2258.81 566.687 2258.81 559.639 Z\" fill=\"#000000\" fill-rule=\"nonzero\" fill-opacity=\"1\" /><path clip-path=\"url(#clip970)\" d=\"M2273.26 540.16 L2303.61 540.16 L2303.61 545.993 L2279.58 573.944 L2303.61 573.944 L2303.61 579.048 L2272.39 579.048 L2272.39 573.215 L2296.42 545.264 L2273.26 545.264 L2273.26 540.16 Z\" fill=\"#000000\" fill-rule=\"nonzero\" fill-opacity=\"1\" /><path clip-path=\"url(#clip970)\" d=\"M2312.36 525.09 L2317.91 525.09 Q2323.12 533.285 2325.69 541.132 Q2328.29 548.979 2328.29 556.722 Q2328.29 564.5 2325.69 572.382 Q2323.12 580.264 2317.91 588.423 L2312.36 588.423 Q2316.97 580.472 2319.23 572.625 Q2321.52 564.743 2321.52 556.722 Q2321.52 548.701 2319.23 540.889 Q2316.97 533.076 2312.36 525.09 Z\" fill=\"#000000\" fill-rule=\"nonzero\" fill-opacity=\"1\" /><polyline clip-path=\"url(#clip970)\" style=\"stroke:#e26f46; stroke-linecap:round; stroke-linejoin:round; stroke-width:30; stroke-opacity:1; fill:none\" stroke-dasharray=\"15, 30\" points=\"1834.17,630.888 1972.41,630.888 \"/>\n",
       "<path clip-path=\"url(#clip970)\" d=\"M2028.82 606.67 L2028.82 613.51 Q2024.82 611.6 2021.28 610.663 Q2017.74 609.725 2014.44 609.725 Q2008.71 609.725 2005.59 611.947 Q2002.5 614.17 2002.5 618.267 Q2002.5 621.704 2004.54 623.475 Q2006.63 625.211 2012.39 626.288 L2016.63 627.156 Q2024.47 628.649 2028.19 632.433 Q2031.94 636.183 2031.94 642.503 Q2031.94 650.037 2026.87 653.926 Q2021.84 657.815 2012.08 657.815 Q2008.4 657.815 2004.23 656.982 Q2000.1 656.149 1995.66 654.517 L1995.66 647.294 Q1999.93 649.69 2004.02 650.905 Q2008.12 652.121 2012.08 652.121 Q2018.09 652.121 2021.35 649.76 Q2024.61 647.399 2024.61 643.024 Q2024.61 639.204 2022.25 637.051 Q2019.93 634.899 2014.58 633.822 L2010.31 632.989 Q2002.46 631.426 1998.95 628.093 Q1995.45 624.76 1995.45 618.822 Q1995.45 611.947 2000.27 607.989 Q2005.13 604.031 2013.64 604.031 Q2017.29 604.031 2021.07 604.69 Q2024.86 605.35 2028.82 606.67 Z\" fill=\"#000000\" fill-rule=\"nonzero\" fill-opacity=\"1\" /><path clip-path=\"url(#clip970)\" d=\"M2042.6 602.781 L2048.99 602.781 L2048.99 656.808 L2042.6 656.808 L2042.6 602.781 Z\" fill=\"#000000\" fill-rule=\"nonzero\" fill-opacity=\"1\" /><path clip-path=\"url(#clip970)\" d=\"M2077.43 622.399 Q2072.29 622.399 2069.3 626.426 Q2066.31 630.419 2066.31 637.399 Q2066.31 644.378 2069.27 648.406 Q2072.25 652.399 2077.43 652.399 Q2082.53 652.399 2085.52 648.371 Q2088.5 644.343 2088.5 637.399 Q2088.5 630.489 2085.52 626.461 Q2082.53 622.399 2077.43 622.399 M2077.43 616.982 Q2085.76 616.982 2090.52 622.399 Q2095.27 627.815 2095.27 637.399 Q2095.27 646.947 2090.52 652.399 Q2085.76 657.815 2077.43 657.815 Q2069.06 657.815 2064.3 652.399 Q2059.58 646.947 2059.58 637.399 Q2059.58 627.815 2064.3 622.399 Q2069.06 616.982 2077.43 616.982 Z\" fill=\"#000000\" fill-rule=\"nonzero\" fill-opacity=\"1\" /><path clip-path=\"url(#clip970)\" d=\"M2112.04 650.975 L2112.04 671.6 L2105.62 671.6 L2105.62 617.92 L2112.04 617.92 L2112.04 623.822 Q2114.06 620.35 2117.11 618.683 Q2120.2 616.982 2124.47 616.982 Q2131.56 616.982 2135.97 622.607 Q2140.41 628.232 2140.41 637.399 Q2140.41 646.565 2135.97 652.19 Q2131.56 657.815 2124.47 657.815 Q2120.2 657.815 2117.11 656.149 Q2114.06 654.447 2112.04 650.975 M2133.78 637.399 Q2133.78 630.35 2130.86 626.357 Q2127.98 622.329 2122.91 622.329 Q2117.84 622.329 2114.93 626.357 Q2112.04 630.35 2112.04 637.399 Q2112.04 644.447 2114.93 648.475 Q2117.84 652.468 2122.91 652.468 Q2127.98 652.468 2130.86 648.475 Q2133.78 644.447 2133.78 637.399 Z\" fill=\"#000000\" fill-rule=\"nonzero\" fill-opacity=\"1\" /><path clip-path=\"url(#clip970)\" d=\"M2184.27 635.767 L2184.27 638.892 L2154.89 638.892 Q2155.31 645.489 2158.85 648.961 Q2162.43 652.399 2168.78 652.399 Q2172.46 652.399 2175.9 651.496 Q2179.37 650.593 2182.77 648.787 L2182.77 654.829 Q2179.34 656.287 2175.72 657.051 Q2172.11 657.815 2168.4 657.815 Q2159.09 657.815 2153.64 652.399 Q2148.22 646.982 2148.22 637.746 Q2148.22 628.197 2153.36 622.607 Q2158.54 616.982 2167.29 616.982 Q2175.13 616.982 2179.68 622.051 Q2184.27 627.086 2184.27 635.767 M2177.88 633.892 Q2177.81 628.649 2174.93 625.524 Q2172.08 622.399 2167.36 622.399 Q2162.01 622.399 2158.78 625.42 Q2155.59 628.44 2155.1 633.926 L2177.88 633.892 Z\" fill=\"#000000\" fill-rule=\"nonzero\" fill-opacity=\"1\" /><path clip-path=\"url(#clip970)\" d=\"M2195.59 624.517 L2240.1 624.517 L2240.1 630.35 L2195.59 630.35 L2195.59 624.517 M2195.59 638.683 L2240.1 638.683 L2240.1 644.586 L2195.59 644.586 L2195.59 638.683 Z\" fill=\"#000000\" fill-rule=\"nonzero\" fill-opacity=\"1\" /><path clip-path=\"url(#clip970)\" d=\"M2261.28 650.905 L2285.76 650.905 L2285.76 656.808 L2252.84 656.808 L2252.84 650.905 Q2256.83 646.774 2263.71 639.829 Q2270.62 632.85 2272.39 630.836 Q2275.76 627.051 2277.08 624.447 Q2278.43 621.808 2278.43 619.274 Q2278.43 615.142 2275.52 612.538 Q2272.63 609.933 2267.98 609.933 Q2264.68 609.933 2261 611.079 Q2257.36 612.225 2253.19 614.552 L2253.19 607.468 Q2257.42 605.767 2261.11 604.899 Q2264.79 604.031 2267.84 604.031 Q2275.9 604.031 2280.69 608.059 Q2285.48 612.086 2285.48 618.822 Q2285.48 622.017 2284.27 624.899 Q2283.08 627.746 2279.92 631.635 Q2279.06 632.642 2274.4 637.468 Q2269.75 642.26 2261.28 650.905 Z\" fill=\"#000000\" fill-rule=\"nonzero\" fill-opacity=\"1\" /><polyline clip-path=\"url(#clip970)\" style=\"stroke:#3da44d; stroke-linecap:round; stroke-linejoin:round; stroke-width:30; stroke-opacity:1; fill:none\" points=\"1834.17,708.648 1972.41,708.648 \"/>\n",
       "<circle clip-path=\"url(#clip970)\" cx=\"1903.29\" cy=\"708.648\" r=\"12.7998\" fill=\"#3da44d\" fill-rule=\"evenodd\" fill-opacity=\"1\" stroke=\"#000000\" stroke-opacity=\"1\" stroke-width=\"5.58545\"/>\n",
       "<path clip-path=\"url(#clip970)\" d=\"M2028.82 684.43 L2028.82 691.27 Q2024.82 689.36 2021.28 688.423 Q2017.74 687.485 2014.44 687.485 Q2008.71 687.485 2005.59 689.707 Q2002.5 691.93 2002.5 696.027 Q2002.5 699.464 2004.54 701.235 Q2006.63 702.971 2012.39 704.048 L2016.63 704.916 Q2024.47 706.409 2028.19 710.193 Q2031.94 713.943 2031.94 720.263 Q2031.94 727.797 2026.87 731.686 Q2021.84 735.575 2012.08 735.575 Q2008.4 735.575 2004.23 734.742 Q2000.1 733.909 1995.66 732.277 L1995.66 725.054 Q1999.93 727.45 2004.02 728.665 Q2008.12 729.881 2012.08 729.881 Q2018.09 729.881 2021.35 727.52 Q2024.61 725.159 2024.61 720.784 Q2024.61 716.964 2022.25 714.811 Q2019.93 712.659 2014.58 711.582 L2010.31 710.749 Q2002.46 709.186 1998.95 705.853 Q1995.45 702.52 1995.45 696.582 Q1995.45 689.707 2000.27 685.749 Q2005.13 681.791 2013.64 681.791 Q2017.29 681.791 2021.07 682.45 Q2024.86 683.11 2028.82 684.43 Z\" fill=\"#000000\" fill-rule=\"nonzero\" fill-opacity=\"1\" /><path clip-path=\"url(#clip970)\" d=\"M2049.89 688.492 L2049.89 728.804 L2058.36 728.804 Q2069.09 728.804 2074.06 723.943 Q2079.06 719.082 2079.06 708.596 Q2079.06 698.18 2074.06 693.353 Q2069.09 688.492 2058.36 688.492 L2049.89 688.492 M2042.88 682.728 L2057.29 682.728 Q2072.36 682.728 2079.41 689.013 Q2086.45 695.263 2086.45 708.596 Q2086.45 721.999 2079.37 728.284 Q2072.29 734.568 2057.29 734.568 L2042.88 734.568 L2042.88 682.728 Z\" fill=\"#000000\" fill-rule=\"nonzero\" fill-opacity=\"1\" /><path clip-path=\"url(#clip970)\" d=\"M2112.7 680.61 Q2108.05 688.596 2105.79 696.409 Q2103.54 704.221 2103.54 712.242 Q2103.54 720.263 2105.79 728.145 Q2108.09 735.992 2112.7 743.943 L2107.15 743.943 Q2101.94 735.784 2099.34 727.902 Q2096.77 720.02 2096.77 712.242 Q2096.77 704.499 2099.34 696.652 Q2101.9 688.805 2107.15 680.61 L2112.7 680.61 Z\" fill=\"#000000\" fill-rule=\"nonzero\" fill-opacity=\"1\" /><path clip-path=\"url(#clip970)\" d=\"M2132.39 709.811 L2132.39 728.804 L2143.64 728.804 Q2149.3 728.804 2152.01 726.478 Q2154.75 724.117 2154.75 719.291 Q2154.75 714.429 2152.01 712.138 Q2149.3 709.811 2143.64 709.811 L2132.39 709.811 M2132.39 688.492 L2132.39 704.117 L2142.77 704.117 Q2147.91 704.117 2150.41 702.207 Q2152.95 700.263 2152.95 696.305 Q2152.95 692.381 2150.41 690.437 Q2147.91 688.492 2142.77 688.492 L2132.39 688.492 M2125.38 682.728 L2143.29 682.728 Q2151.31 682.728 2155.65 686.062 Q2159.99 689.395 2159.99 695.541 Q2159.99 700.298 2157.77 703.11 Q2155.55 705.923 2151.24 706.617 Q2156.42 707.728 2159.27 711.27 Q2162.15 714.777 2162.15 720.054 Q2162.15 726.999 2157.43 730.784 Q2152.7 734.568 2143.99 734.568 L2125.38 734.568 L2125.38 682.728 Z\" fill=\"#000000\" fill-rule=\"nonzero\" fill-opacity=\"1\" /><path clip-path=\"url(#clip970)\" d=\"M2181.18 688.492 L2181.18 728.804 L2189.65 728.804 Q2200.38 728.804 2205.34 723.943 Q2210.34 719.082 2210.34 708.596 Q2210.34 698.18 2205.34 693.353 Q2200.38 688.492 2189.65 688.492 L2181.18 688.492 M2174.16 682.728 L2188.57 682.728 Q2203.64 682.728 2210.69 689.013 Q2217.74 695.263 2217.74 708.596 Q2217.74 721.999 2210.65 728.284 Q2203.57 734.568 2188.57 734.568 L2174.16 734.568 L2174.16 682.728 Z\" fill=\"#000000\" fill-rule=\"nonzero\" fill-opacity=\"1\" /><path clip-path=\"url(#clip970)\" d=\"M2228.92 682.728 L2258.71 682.728 L2258.71 688.631 L2235.93 688.631 L2235.93 703.909 L2256.49 703.909 L2256.49 709.811 L2235.93 709.811 L2235.93 734.568 L2228.92 734.568 L2228.92 682.728 Z\" fill=\"#000000\" fill-rule=\"nonzero\" fill-opacity=\"1\" /><path clip-path=\"url(#clip970)\" d=\"M2291.7 706.617 Q2296.73 707.693 2299.54 711.096 Q2302.39 714.499 2302.39 719.499 Q2302.39 727.172 2297.11 731.374 Q2291.83 735.575 2282.11 735.575 Q2278.85 735.575 2275.38 734.915 Q2271.94 734.29 2268.26 733.006 L2268.26 726.235 Q2271.17 727.936 2274.65 728.804 Q2278.12 729.672 2281.9 729.672 Q2288.5 729.672 2291.94 727.068 Q2295.41 724.464 2295.41 719.499 Q2295.41 714.916 2292.18 712.346 Q2288.99 709.742 2283.26 709.742 L2277.22 709.742 L2277.22 703.978 L2283.54 703.978 Q2288.71 703.978 2291.45 701.93 Q2294.2 699.846 2294.2 695.957 Q2294.2 691.964 2291.35 689.846 Q2288.54 687.693 2283.26 687.693 Q2280.38 687.693 2277.08 688.318 Q2273.78 688.943 2269.82 690.263 L2269.82 684.013 Q2273.81 682.902 2277.29 682.346 Q2280.79 681.791 2283.88 681.791 Q2291.87 681.791 2296.52 685.437 Q2301.17 689.048 2301.17 695.228 Q2301.17 699.534 2298.71 702.52 Q2296.24 705.471 2291.7 706.617 Z\" fill=\"#000000\" fill-rule=\"nonzero\" fill-opacity=\"1\" /><path clip-path=\"url(#clip970)\" d=\"M2313.78 680.61 L2319.33 680.61 Q2324.54 688.805 2327.11 696.652 Q2329.72 704.499 2329.72 712.242 Q2329.72 720.02 2327.11 727.902 Q2324.54 735.784 2319.33 743.943 L2313.78 743.943 Q2318.4 735.992 2320.65 728.145 Q2322.95 720.263 2322.95 712.242 Q2322.95 704.221 2320.65 696.409 Q2318.4 688.596 2313.78 680.61 Z\" fill=\"#000000\" fill-rule=\"nonzero\" fill-opacity=\"1\" /><polyline clip-path=\"url(#clip970)\" style=\"stroke:#c271d2; stroke-linecap:round; stroke-linejoin:round; stroke-width:30; stroke-opacity:1; fill:none\" stroke-dasharray=\"15, 30\" points=\"1834.17,786.408 1972.41,786.408 \"/>\n",
       "<path clip-path=\"url(#clip970)\" d=\"M2028.82 762.19 L2028.82 769.03 Q2024.82 767.12 2021.28 766.183 Q2017.74 765.245 2014.44 765.245 Q2008.71 765.245 2005.59 767.467 Q2002.5 769.69 2002.5 773.787 Q2002.5 777.224 2004.54 778.995 Q2006.63 780.731 2012.39 781.808 L2016.63 782.676 Q2024.47 784.169 2028.19 787.953 Q2031.94 791.703 2031.94 798.023 Q2031.94 805.557 2026.87 809.446 Q2021.84 813.335 2012.08 813.335 Q2008.4 813.335 2004.23 812.502 Q2000.1 811.669 1995.66 810.037 L1995.66 802.814 Q1999.93 805.21 2004.02 806.425 Q2008.12 807.641 2012.08 807.641 Q2018.09 807.641 2021.35 805.28 Q2024.61 802.919 2024.61 798.544 Q2024.61 794.724 2022.25 792.571 Q2019.93 790.419 2014.58 789.342 L2010.31 788.509 Q2002.46 786.946 1998.95 783.613 Q1995.45 780.28 1995.45 774.342 Q1995.45 767.467 2000.27 763.509 Q2005.13 759.551 2013.64 759.551 Q2017.29 759.551 2021.07 760.21 Q2024.86 760.87 2028.82 762.19 Z\" fill=\"#000000\" fill-rule=\"nonzero\" fill-opacity=\"1\" /><path clip-path=\"url(#clip970)\" d=\"M2042.6 758.301 L2048.99 758.301 L2048.99 812.328 L2042.6 812.328 L2042.6 758.301 Z\" fill=\"#000000\" fill-rule=\"nonzero\" fill-opacity=\"1\" /><path clip-path=\"url(#clip970)\" d=\"M2077.43 777.919 Q2072.29 777.919 2069.3 781.946 Q2066.31 785.939 2066.31 792.919 Q2066.31 799.898 2069.27 803.926 Q2072.25 807.919 2077.43 807.919 Q2082.53 807.919 2085.52 803.891 Q2088.5 799.863 2088.5 792.919 Q2088.5 786.009 2085.52 781.981 Q2082.53 777.919 2077.43 777.919 M2077.43 772.502 Q2085.76 772.502 2090.52 777.919 Q2095.27 783.335 2095.27 792.919 Q2095.27 802.467 2090.52 807.919 Q2085.76 813.335 2077.43 813.335 Q2069.06 813.335 2064.3 807.919 Q2059.58 802.467 2059.58 792.919 Q2059.58 783.335 2064.3 777.919 Q2069.06 772.502 2077.43 772.502 Z\" fill=\"#000000\" fill-rule=\"nonzero\" fill-opacity=\"1\" /><path clip-path=\"url(#clip970)\" d=\"M2112.04 806.495 L2112.04 827.12 L2105.62 827.12 L2105.62 773.44 L2112.04 773.44 L2112.04 779.342 Q2114.06 775.87 2117.11 774.203 Q2120.2 772.502 2124.47 772.502 Q2131.56 772.502 2135.97 778.127 Q2140.41 783.752 2140.41 792.919 Q2140.41 802.085 2135.97 807.71 Q2131.56 813.335 2124.47 813.335 Q2120.2 813.335 2117.11 811.669 Q2114.06 809.967 2112.04 806.495 M2133.78 792.919 Q2133.78 785.87 2130.86 781.877 Q2127.98 777.849 2122.91 777.849 Q2117.84 777.849 2114.93 781.877 Q2112.04 785.87 2112.04 792.919 Q2112.04 799.967 2114.93 803.995 Q2117.84 807.988 2122.91 807.988 Q2127.98 807.988 2130.86 803.995 Q2133.78 799.967 2133.78 792.919 Z\" fill=\"#000000\" fill-rule=\"nonzero\" fill-opacity=\"1\" /><path clip-path=\"url(#clip970)\" d=\"M2184.27 791.287 L2184.27 794.412 L2154.89 794.412 Q2155.31 801.009 2158.85 804.481 Q2162.43 807.919 2168.78 807.919 Q2172.46 807.919 2175.9 807.016 Q2179.37 806.113 2182.77 804.307 L2182.77 810.349 Q2179.34 811.807 2175.72 812.571 Q2172.11 813.335 2168.4 813.335 Q2159.09 813.335 2153.64 807.919 Q2148.22 802.502 2148.22 793.266 Q2148.22 783.717 2153.36 778.127 Q2158.54 772.502 2167.29 772.502 Q2175.13 772.502 2179.68 777.571 Q2184.27 782.606 2184.27 791.287 M2177.88 789.412 Q2177.81 784.169 2174.93 781.044 Q2172.08 777.919 2167.36 777.919 Q2162.01 777.919 2158.78 780.94 Q2155.59 783.96 2155.1 789.446 L2177.88 789.412 Z\" fill=\"#000000\" fill-rule=\"nonzero\" fill-opacity=\"1\" /><path clip-path=\"url(#clip970)\" d=\"M2195.59 780.037 L2240.1 780.037 L2240.1 785.87 L2195.59 785.87 L2195.59 780.037 M2195.59 794.203 L2240.1 794.203 L2240.1 800.106 L2195.59 800.106 L2195.59 794.203 Z\" fill=\"#000000\" fill-rule=\"nonzero\" fill-opacity=\"1\" /><path clip-path=\"url(#clip970)\" d=\"M2276.49 784.377 Q2281.52 785.453 2284.33 788.856 Q2287.18 792.259 2287.18 797.259 Q2287.18 804.932 2281.9 809.134 Q2276.63 813.335 2266.9 813.335 Q2263.64 813.335 2260.17 812.675 Q2256.73 812.05 2253.05 810.766 L2253.05 803.995 Q2255.97 805.696 2259.44 806.564 Q2262.91 807.432 2266.7 807.432 Q2273.29 807.432 2276.73 804.828 Q2280.2 802.224 2280.2 797.259 Q2280.2 792.676 2276.97 790.106 Q2273.78 787.502 2268.05 787.502 L2262.01 787.502 L2262.01 781.738 L2268.33 781.738 Q2273.5 781.738 2276.24 779.69 Q2278.99 777.606 2278.99 773.717 Q2278.99 769.724 2276.14 767.606 Q2273.33 765.453 2268.05 765.453 Q2265.17 765.453 2261.87 766.078 Q2258.57 766.703 2254.61 768.023 L2254.61 761.773 Q2258.61 760.662 2262.08 760.106 Q2265.58 759.551 2268.67 759.551 Q2276.66 759.551 2281.31 763.197 Q2285.97 766.808 2285.97 772.988 Q2285.97 777.294 2283.5 780.28 Q2281.04 783.231 2276.49 784.377 Z\" fill=\"#000000\" fill-rule=\"nonzero\" fill-opacity=\"1\" /><polyline clip-path=\"url(#clip970)\" style=\"stroke:#ac8d18; stroke-linecap:round; stroke-linejoin:round; stroke-width:30; stroke-opacity:1; fill:none\" points=\"1834.17,864.168 1972.41,864.168 \"/>\n",
       "<circle clip-path=\"url(#clip970)\" cx=\"1903.29\" cy=\"864.168\" r=\"12.7998\" fill=\"#ac8d18\" fill-rule=\"evenodd\" fill-opacity=\"1\" stroke=\"#000000\" stroke-opacity=\"1\" stroke-width=\"5.58545\"/>\n",
       "<path clip-path=\"url(#clip970)\" d=\"M2028.82 839.95 L2028.82 846.79 Q2024.82 844.88 2021.28 843.943 Q2017.74 843.005 2014.44 843.005 Q2008.71 843.005 2005.59 845.227 Q2002.5 847.45 2002.5 851.547 Q2002.5 854.984 2004.54 856.755 Q2006.63 858.491 2012.39 859.568 L2016.63 860.436 Q2024.47 861.929 2028.19 865.713 Q2031.94 869.463 2031.94 875.783 Q2031.94 883.317 2026.87 887.206 Q2021.84 891.095 2012.08 891.095 Q2008.4 891.095 2004.23 890.262 Q2000.1 889.429 1995.66 887.797 L1995.66 880.574 Q1999.93 882.97 2004.02 884.185 Q2008.12 885.401 2012.08 885.401 Q2018.09 885.401 2021.35 883.04 Q2024.61 880.679 2024.61 876.304 Q2024.61 872.484 2022.25 870.331 Q2019.93 868.179 2014.58 867.102 L2010.31 866.269 Q2002.46 864.706 1998.95 861.373 Q1995.45 858.04 1995.45 852.102 Q1995.45 845.227 2000.27 841.269 Q2005.13 837.311 2013.64 837.311 Q2017.29 837.311 2021.07 837.97 Q2024.86 838.63 2028.82 839.95 Z\" fill=\"#000000\" fill-rule=\"nonzero\" fill-opacity=\"1\" /><path clip-path=\"url(#clip970)\" d=\"M2049.89 844.012 L2049.89 884.324 L2058.36 884.324 Q2069.09 884.324 2074.06 879.463 Q2079.06 874.602 2079.06 864.116 Q2079.06 853.7 2074.06 848.873 Q2069.09 844.012 2058.36 844.012 L2049.89 844.012 M2042.88 838.248 L2057.29 838.248 Q2072.36 838.248 2079.41 844.533 Q2086.45 850.783 2086.45 864.116 Q2086.45 877.519 2079.37 883.804 Q2072.29 890.088 2057.29 890.088 L2042.88 890.088 L2042.88 838.248 Z\" fill=\"#000000\" fill-rule=\"nonzero\" fill-opacity=\"1\" /><path clip-path=\"url(#clip970)\" d=\"M2112.7 836.13 Q2108.05 844.116 2105.79 851.929 Q2103.54 859.741 2103.54 867.762 Q2103.54 875.783 2105.79 883.665 Q2108.09 891.512 2112.7 899.463 L2107.15 899.463 Q2101.94 891.304 2099.34 883.422 Q2096.77 875.54 2096.77 867.762 Q2096.77 860.019 2099.34 852.172 Q2101.9 844.325 2107.15 836.13 L2112.7 836.13 Z\" fill=\"#000000\" fill-rule=\"nonzero\" fill-opacity=\"1\" /><path clip-path=\"url(#clip970)\" d=\"M2132.39 865.331 L2132.39 884.324 L2143.64 884.324 Q2149.3 884.324 2152.01 881.998 Q2154.75 879.637 2154.75 874.811 Q2154.75 869.949 2152.01 867.658 Q2149.3 865.331 2143.64 865.331 L2132.39 865.331 M2132.39 844.012 L2132.39 859.637 L2142.77 859.637 Q2147.91 859.637 2150.41 857.727 Q2152.95 855.783 2152.95 851.825 Q2152.95 847.901 2150.41 845.957 Q2147.91 844.012 2142.77 844.012 L2132.39 844.012 M2125.38 838.248 L2143.29 838.248 Q2151.31 838.248 2155.65 841.582 Q2159.99 844.915 2159.99 851.061 Q2159.99 855.818 2157.77 858.63 Q2155.55 861.443 2151.24 862.137 Q2156.42 863.248 2159.27 866.79 Q2162.15 870.297 2162.15 875.574 Q2162.15 882.519 2157.43 886.304 Q2152.7 890.088 2143.99 890.088 L2125.38 890.088 L2125.38 838.248 Z\" fill=\"#000000\" fill-rule=\"nonzero\" fill-opacity=\"1\" /><path clip-path=\"url(#clip970)\" d=\"M2181.18 844.012 L2181.18 884.324 L2189.65 884.324 Q2200.38 884.324 2205.34 879.463 Q2210.34 874.602 2210.34 864.116 Q2210.34 853.7 2205.34 848.873 Q2200.38 844.012 2189.65 844.012 L2181.18 844.012 M2174.16 838.248 L2188.57 838.248 Q2203.64 838.248 2210.69 844.533 Q2217.74 850.783 2217.74 864.116 Q2217.74 877.519 2210.65 883.804 Q2203.57 890.088 2188.57 890.088 L2174.16 890.088 L2174.16 838.248 Z\" fill=\"#000000\" fill-rule=\"nonzero\" fill-opacity=\"1\" /><path clip-path=\"url(#clip970)\" d=\"M2228.92 838.248 L2258.71 838.248 L2258.71 844.151 L2235.93 844.151 L2235.93 859.429 L2256.49 859.429 L2256.49 865.331 L2235.93 865.331 L2235.93 890.088 L2228.92 890.088 L2228.92 838.248 Z\" fill=\"#000000\" fill-rule=\"nonzero\" fill-opacity=\"1\" /><path clip-path=\"url(#clip970)\" d=\"M2289.72 844.359 L2272.01 872.033 L2289.72 872.033 L2289.72 844.359 M2287.88 838.248 L2296.7 838.248 L2296.7 872.033 L2304.09 872.033 L2304.09 877.866 L2296.7 877.866 L2296.7 890.088 L2289.72 890.088 L2289.72 877.866 L2266.31 877.866 L2266.31 871.095 L2287.88 838.248 Z\" fill=\"#000000\" fill-rule=\"nonzero\" fill-opacity=\"1\" /><path clip-path=\"url(#clip970)\" d=\"M2313.78 836.13 L2319.33 836.13 Q2324.54 844.325 2327.11 852.172 Q2329.72 860.019 2329.72 867.762 Q2329.72 875.54 2327.11 883.422 Q2324.54 891.304 2319.33 899.463 L2313.78 899.463 Q2318.4 891.512 2320.65 883.665 Q2322.95 875.783 2322.95 867.762 Q2322.95 859.741 2320.65 851.929 Q2318.4 844.116 2313.78 836.13 Z\" fill=\"#000000\" fill-rule=\"nonzero\" fill-opacity=\"1\" /><polyline clip-path=\"url(#clip970)\" style=\"stroke:#00a9ad; stroke-linecap:round; stroke-linejoin:round; stroke-width:30; stroke-opacity:1; fill:none\" stroke-dasharray=\"15, 30\" points=\"1834.17,941.928 1972.41,941.928 \"/>\n",
       "<path clip-path=\"url(#clip970)\" d=\"M2028.82 917.71 L2028.82 924.55 Q2024.82 922.64 2021.28 921.703 Q2017.74 920.765 2014.44 920.765 Q2008.71 920.765 2005.59 922.987 Q2002.5 925.21 2002.5 929.307 Q2002.5 932.744 2004.54 934.515 Q2006.63 936.251 2012.39 937.328 L2016.63 938.196 Q2024.47 939.689 2028.19 943.473 Q2031.94 947.223 2031.94 953.543 Q2031.94 961.077 2026.87 964.966 Q2021.84 968.855 2012.08 968.855 Q2008.4 968.855 2004.23 968.022 Q2000.1 967.189 1995.66 965.557 L1995.66 958.334 Q1999.93 960.73 2004.02 961.945 Q2008.12 963.161 2012.08 963.161 Q2018.09 963.161 2021.35 960.8 Q2024.61 958.439 2024.61 954.064 Q2024.61 950.244 2022.25 948.091 Q2019.93 945.939 2014.58 944.862 L2010.31 944.029 Q2002.46 942.466 1998.95 939.133 Q1995.45 935.8 1995.45 929.862 Q1995.45 922.987 2000.27 919.029 Q2005.13 915.071 2013.64 915.071 Q2017.29 915.071 2021.07 915.73 Q2024.86 916.39 2028.82 917.71 Z\" fill=\"#000000\" fill-rule=\"nonzero\" fill-opacity=\"1\" /><path clip-path=\"url(#clip970)\" d=\"M2042.6 913.821 L2048.99 913.821 L2048.99 967.848 L2042.6 967.848 L2042.6 913.821 Z\" fill=\"#000000\" fill-rule=\"nonzero\" fill-opacity=\"1\" /><path clip-path=\"url(#clip970)\" d=\"M2077.43 933.439 Q2072.29 933.439 2069.3 937.466 Q2066.31 941.459 2066.31 948.439 Q2066.31 955.418 2069.27 959.446 Q2072.25 963.439 2077.43 963.439 Q2082.53 963.439 2085.52 959.411 Q2088.5 955.383 2088.5 948.439 Q2088.5 941.529 2085.52 937.501 Q2082.53 933.439 2077.43 933.439 M2077.43 928.022 Q2085.76 928.022 2090.52 933.439 Q2095.27 938.855 2095.27 948.439 Q2095.27 957.987 2090.52 963.439 Q2085.76 968.855 2077.43 968.855 Q2069.06 968.855 2064.3 963.439 Q2059.58 957.987 2059.58 948.439 Q2059.58 938.855 2064.3 933.439 Q2069.06 928.022 2077.43 928.022 Z\" fill=\"#000000\" fill-rule=\"nonzero\" fill-opacity=\"1\" /><path clip-path=\"url(#clip970)\" d=\"M2112.04 962.015 L2112.04 982.64 L2105.62 982.64 L2105.62 928.96 L2112.04 928.96 L2112.04 934.862 Q2114.06 931.39 2117.11 929.723 Q2120.2 928.022 2124.47 928.022 Q2131.56 928.022 2135.97 933.647 Q2140.41 939.272 2140.41 948.439 Q2140.41 957.605 2135.97 963.23 Q2131.56 968.855 2124.47 968.855 Q2120.2 968.855 2117.11 967.189 Q2114.06 965.487 2112.04 962.015 M2133.78 948.439 Q2133.78 941.39 2130.86 937.397 Q2127.98 933.369 2122.91 933.369 Q2117.84 933.369 2114.93 937.397 Q2112.04 941.39 2112.04 948.439 Q2112.04 955.487 2114.93 959.515 Q2117.84 963.508 2122.91 963.508 Q2127.98 963.508 2130.86 959.515 Q2133.78 955.487 2133.78 948.439 Z\" fill=\"#000000\" fill-rule=\"nonzero\" fill-opacity=\"1\" /><path clip-path=\"url(#clip970)\" d=\"M2184.27 946.807 L2184.27 949.932 L2154.89 949.932 Q2155.31 956.529 2158.85 960.001 Q2162.43 963.439 2168.78 963.439 Q2172.46 963.439 2175.9 962.536 Q2179.37 961.633 2182.77 959.827 L2182.77 965.869 Q2179.34 967.327 2175.72 968.091 Q2172.11 968.855 2168.4 968.855 Q2159.09 968.855 2153.64 963.439 Q2148.22 958.022 2148.22 948.786 Q2148.22 939.237 2153.36 933.647 Q2158.54 928.022 2167.29 928.022 Q2175.13 928.022 2179.68 933.091 Q2184.27 938.126 2184.27 946.807 M2177.88 944.932 Q2177.81 939.689 2174.93 936.564 Q2172.08 933.439 2167.36 933.439 Q2162.01 933.439 2158.78 936.46 Q2155.59 939.48 2155.1 944.966 L2177.88 944.932 Z\" fill=\"#000000\" fill-rule=\"nonzero\" fill-opacity=\"1\" /><path clip-path=\"url(#clip970)\" d=\"M2195.59 935.557 L2240.1 935.557 L2240.1 941.39 L2195.59 941.39 L2195.59 935.557 M2195.59 949.723 L2240.1 949.723 L2240.1 955.626 L2195.59 955.626 L2195.59 949.723 Z\" fill=\"#000000\" fill-rule=\"nonzero\" fill-opacity=\"1\" /><path clip-path=\"url(#clip970)\" d=\"M2274.51 922.119 L2256.8 949.793 L2274.51 949.793 L2274.51 922.119 M2272.67 916.008 L2281.49 916.008 L2281.49 949.793 L2288.88 949.793 L2288.88 955.626 L2281.49 955.626 L2281.49 967.848 L2274.51 967.848 L2274.51 955.626 L2251.11 955.626 L2251.11 948.855 L2272.67 916.008 Z\" fill=\"#000000\" fill-rule=\"nonzero\" fill-opacity=\"1\" /></svg>\n"
      ]
     },
     "execution_count": 59,
     "metadata": {},
     "output_type": "execute_result"
    }
   ],
   "source": [
    "p=plot!(del_x.*(-1),vec(err4),lw=5,label=\"SD(BDF4)\",legend=:outerright,yaxis=:log10,xaxis=:log10,yticks=[10^(-16),10^(-15),10^(-14),\n",
    "        10^(-13),10^(-12),10^(-11),10^(-10),10^(-9),10^(-8),10^(-7),10^(-6),10^(-5),10^(-4),10^(-3),10^(-2),10^(-1),1,10],\n",
    "    marker=(:circle,5),xtickfontsize=15,ytickfontsize=15,legendfontsize=12)\n",
    "p=plot!(del_x.*(-1),10^(-0.3)*(del_x.*(-1)).^(4),lw=5,label=\"Slope=4\",yaxis=:log10,xaxis=:log10,ls=:dot,legend=:outerright)"
   ]
  },
  {
   "cell_type": "markdown",
   "id": "84ddcbde",
   "metadata": {},
   "source": [
    "The following plot shows the order of error of the spectral discretization (CDF) using BDF5 for $\\beta=2$, $x_{0}=\\lceil 13/\\sqrt{\\beta}\\rceil$, at $x=-2$ before interpolation with $M=8000$. We treat the case $\\Delta x=-0.001$ as the reference to compare with. $\\Delta x=-0.25,-0.2,-0.1$ are used."
   ]
  },
  {
   "cell_type": "code",
   "execution_count": 18,
   "id": "06867492",
   "metadata": {},
   "outputs": [],
   "source": [
    "β=2;\n",
    "xx=-2;\n",
    "result_ref5=TW(β;x0=ceil(13/sqrt(β)),method=\"spectral\",step=\"bdf5\",interp=false,Δx_s=-0.001);\n",
    "x_ref5=result_ref5[1];F_ref5=result_ref5[2];ind5=findall(x -> x == xx, x_ref5)[1];"
   ]
  },
  {
   "cell_type": "code",
   "execution_count": 19,
   "id": "75bea1c2",
   "metadata": {},
   "outputs": [],
   "source": [
    "del_x=[-0.25,-0.2,-0.1];\n",
    "err5=zeros(1,length(del_x));\n",
    "for i=1:length(del_x)\n",
    "    dx=del_x[i];\n",
    "    result_cdf=TW(β;x0=ceil(13/sqrt(β)),method=\"spectral\",step=\"bdf5\",interp=false,Δx_s=dx);\n",
    "    x_cdf=result_cdf[1];F_cdf=result_cdf[2];\n",
    "    ind52=findall(x -> x == xx, x_cdf)[1];\n",
    "    err5[i]=abs(F_cdf[ind52]-F_ref5[ind5]);\n",
    "end"
   ]
  },
  {
   "cell_type": "code",
   "execution_count": 61,
   "id": "460e1d8c",
   "metadata": {},
   "outputs": [
    {
     "data": {
      "image/svg+xml": [
       "<?xml version=\"1.0\" encoding=\"utf-8\"?>\n",
       "<svg xmlns=\"http://www.w3.org/2000/svg\" xmlns:xlink=\"http://www.w3.org/1999/xlink\" width=\"600\" height=\"400\" viewBox=\"0 0 2400 1600\">\n",
       "<defs>\n",
       "  <clipPath id=\"clip010\">\n",
       "    <rect x=\"0\" y=\"0\" width=\"2400\" height=\"1600\"/>\n",
       "  </clipPath>\n",
       "</defs>\n",
       "<path clip-path=\"url(#clip010)\" d=\"M0 1600 L2400 1600 L2400 0 L0 0  Z\" fill=\"#ffffff\" fill-rule=\"evenodd\" fill-opacity=\"1\"/>\n",
       "<defs>\n",
       "  <clipPath id=\"clip011\">\n",
       "    <rect x=\"480\" y=\"0\" width=\"1681\" height=\"1600\"/>\n",
       "  </clipPath>\n",
       "</defs>\n",
       "<path clip-path=\"url(#clip010)\" d=\"M279.187 1433.18 L1658.44 1433.18 L1658.44 47.2441 L279.187 47.2441  Z\" fill=\"#ffffff\" fill-rule=\"evenodd\" fill-opacity=\"1\"/>\n",
       "<defs>\n",
       "  <clipPath id=\"clip012\">\n",
       "    <rect x=\"279\" y=\"47\" width=\"1380\" height=\"1387\"/>\n",
       "  </clipPath>\n",
       "</defs>\n",
       "<polyline clip-path=\"url(#clip012)\" style=\"stroke:#000000; stroke-linecap:round; stroke-linejoin:round; stroke-width:2; stroke-opacity:0.1; fill:none\" points=\"451.021,1433.18 451.021,47.2441 \"/>\n",
       "<polyline clip-path=\"url(#clip012)\" style=\"stroke:#000000; stroke-linecap:round; stroke-linejoin:round; stroke-width:2; stroke-opacity:0.1; fill:none\" points=\"1101.61,1433.18 1101.61,47.2441 \"/>\n",
       "<polyline clip-path=\"url(#clip010)\" style=\"stroke:#000000; stroke-linecap:round; stroke-linejoin:round; stroke-width:4; stroke-opacity:1; fill:none\" points=\"279.187,1433.18 1658.44,1433.18 \"/>\n",
       "<polyline clip-path=\"url(#clip010)\" style=\"stroke:#000000; stroke-linecap:round; stroke-linejoin:round; stroke-width:4; stroke-opacity:1; fill:none\" points=\"451.021,1433.18 451.021,1414.28 \"/>\n",
       "<polyline clip-path=\"url(#clip010)\" style=\"stroke:#000000; stroke-linecap:round; stroke-linejoin:round; stroke-width:4; stroke-opacity:1; fill:none\" points=\"1101.61,1433.18 1101.61,1414.28 \"/>\n",
       "<path clip-path=\"url(#clip010)\" d=\"M322.858 1555.36 L337.181 1555.36 L337.181 1505.93 L321.599 1509.05 L321.599 1501.06 L337.094 1497.94 L345.861 1497.94 L345.861 1555.36 L360.184 1555.36 L360.184 1562.74 L322.858 1562.74 L322.858 1555.36 Z\" fill=\"#000000\" fill-rule=\"nonzero\" fill-opacity=\"1\" /><path clip-path=\"url(#clip010)\" d=\"M396.642 1503.71 Q389.871 1503.71 386.442 1510.4 Q383.057 1517.04 383.057 1530.4 Q383.057 1543.73 386.442 1550.41 Q389.871 1557.05 396.642 1557.05 Q403.456 1557.05 406.842 1550.41 Q410.27 1543.73 410.27 1530.4 Q410.27 1517.04 406.842 1510.4 Q403.456 1503.71 396.642 1503.71 M396.642 1496.77 Q407.536 1496.77 413.265 1505.4 Q419.038 1514 419.038 1530.4 Q419.038 1546.77 413.265 1555.4 Q407.536 1564 396.642 1564 Q385.748 1564 379.975 1555.4 Q374.246 1546.77 374.246 1530.4 Q374.246 1514 379.975 1505.4 Q385.748 1496.77 396.642 1496.77 Z\" fill=\"#000000\" fill-rule=\"nonzero\" fill-opacity=\"1\" /><path clip-path=\"url(#clip010)\" d=\"M419.038 1485.71 L464.247 1485.71 L464.247 1491.7 L419.038 1491.7 L419.038 1485.71 Z\" fill=\"#000000\" fill-rule=\"nonzero\" fill-opacity=\"1\" /><path clip-path=\"url(#clip010)\" d=\"M480.857 1505.35 L492.494 1505.35 L492.494 1465.18 L479.834 1467.72 L479.834 1461.23 L492.423 1458.69 L499.547 1458.69 L499.547 1505.35 L511.184 1505.35 L511.184 1511.34 L480.857 1511.34 L480.857 1505.35 Z\" fill=\"#000000\" fill-rule=\"nonzero\" fill-opacity=\"1\" /><path clip-path=\"url(#clip010)\" d=\"M525.572 1502.39 L533.013 1502.39 L533.013 1511.34 L525.572 1511.34 L525.572 1502.39 Z\" fill=\"#000000\" fill-rule=\"nonzero\" fill-opacity=\"1\" /><path clip-path=\"url(#clip010)\" d=\"M548.6 1458.69 L576.565 1458.69 L576.565 1464.69 L555.124 1464.69 L555.124 1477.6 Q556.675 1477.07 558.227 1476.82 Q559.779 1476.54 561.33 1476.54 Q570.146 1476.54 575.295 1481.37 Q580.444 1486.2 580.444 1494.45 Q580.444 1502.95 575.154 1507.68 Q569.864 1512.37 560.237 1512.37 Q556.922 1512.37 553.466 1511.8 Q550.046 1511.24 546.378 1510.11 L546.378 1502.95 Q549.552 1504.68 552.937 1505.53 Q556.323 1506.37 560.096 1506.37 Q566.197 1506.37 569.758 1503.16 Q573.32 1499.95 573.32 1494.45 Q573.32 1488.95 569.758 1485.74 Q566.197 1482.53 560.096 1482.53 Q557.24 1482.53 554.383 1483.17 Q551.562 1483.8 548.6 1485.14 L548.6 1458.69 Z\" fill=\"#000000\" fill-rule=\"nonzero\" fill-opacity=\"1\" /><path clip-path=\"url(#clip010)\" d=\"M972.692 1555.36 L987.015 1555.36 L987.015 1505.93 L971.434 1509.05 L971.434 1501.06 L986.928 1497.94 L995.696 1497.94 L995.696 1555.36 L1010.02 1555.36 L1010.02 1562.74 L972.692 1562.74 L972.692 1555.36 Z\" fill=\"#000000\" fill-rule=\"nonzero\" fill-opacity=\"1\" /><path clip-path=\"url(#clip010)\" d=\"M1046.48 1503.71 Q1039.71 1503.71 1036.28 1510.4 Q1032.89 1517.04 1032.89 1530.4 Q1032.89 1543.73 1036.28 1550.41 Q1039.71 1557.05 1046.48 1557.05 Q1053.29 1557.05 1056.68 1550.41 Q1060.11 1543.73 1060.11 1530.4 Q1060.11 1517.04 1056.68 1510.4 Q1053.29 1503.71 1046.48 1503.71 M1046.48 1496.77 Q1057.37 1496.77 1063.1 1505.4 Q1068.87 1514 1068.87 1530.4 Q1068.87 1546.77 1063.1 1555.4 Q1057.37 1564 1046.48 1564 Q1035.58 1564 1029.81 1555.4 Q1024.08 1546.77 1024.08 1530.4 Q1024.08 1514 1029.81 1505.4 Q1035.58 1496.77 1046.48 1496.77 Z\" fill=\"#000000\" fill-rule=\"nonzero\" fill-opacity=\"1\" /><path clip-path=\"url(#clip010)\" d=\"M1068.87 1485.71 L1114.08 1485.71 L1114.08 1491.7 L1068.87 1491.7 L1068.87 1485.71 Z\" fill=\"#000000\" fill-rule=\"nonzero\" fill-opacity=\"1\" /><path clip-path=\"url(#clip010)\" d=\"M1130.69 1505.35 L1142.33 1505.35 L1142.33 1465.18 L1129.67 1467.72 L1129.67 1461.23 L1142.26 1458.69 L1149.38 1458.69 L1149.38 1505.35 L1161.02 1505.35 L1161.02 1511.34 L1130.69 1511.34 L1130.69 1505.35 Z\" fill=\"#000000\" fill-rule=\"nonzero\" fill-opacity=\"1\" /><path clip-path=\"url(#clip010)\" d=\"M1175.41 1502.39 L1182.85 1502.39 L1182.85 1511.34 L1175.41 1511.34 L1175.41 1502.39 Z\" fill=\"#000000\" fill-rule=\"nonzero\" fill-opacity=\"1\" /><path clip-path=\"url(#clip010)\" d=\"M1213.6 1463.39 Q1208.1 1463.39 1205.31 1468.82 Q1202.56 1474.21 1202.56 1485.07 Q1202.56 1495.9 1205.31 1501.33 Q1208.1 1506.73 1213.6 1506.73 Q1219.13 1506.73 1221.89 1501.33 Q1224.67 1495.9 1224.67 1485.07 Q1224.67 1474.21 1221.89 1468.82 Q1219.13 1463.39 1213.6 1463.39 M1213.6 1457.74 Q1222.45 1457.74 1227.1 1464.76 Q1231.79 1471.74 1231.79 1485.07 Q1231.79 1498.37 1227.1 1505.39 Q1222.45 1512.37 1213.6 1512.37 Q1204.75 1512.37 1200.06 1505.39 Q1195.4 1498.37 1195.4 1485.07 Q1195.4 1471.74 1200.06 1464.76 Q1204.75 1457.74 1213.6 1457.74 Z\" fill=\"#000000\" fill-rule=\"nonzero\" fill-opacity=\"1\" /><polyline clip-path=\"url(#clip012)\" style=\"stroke:#000000; stroke-linecap:round; stroke-linejoin:round; stroke-width:2; stroke-opacity:0.1; fill:none\" points=\"279.187,1095.05 1658.44,1095.05 \"/>\n",
       "<polyline clip-path=\"url(#clip012)\" style=\"stroke:#000000; stroke-linecap:round; stroke-linejoin:round; stroke-width:2; stroke-opacity:0.1; fill:none\" points=\"279.187,746.021 1658.44,746.021 \"/>\n",
       "<polyline clip-path=\"url(#clip012)\" style=\"stroke:#000000; stroke-linecap:round; stroke-linejoin:round; stroke-width:2; stroke-opacity:0.1; fill:none\" points=\"279.187,396.996 1658.44,396.996 \"/>\n",
       "<polyline clip-path=\"url(#clip012)\" style=\"stroke:#000000; stroke-linecap:round; stroke-linejoin:round; stroke-width:2; stroke-opacity:0.1; fill:none\" points=\"279.187,47.9712 1658.44,47.9712 \"/>\n",
       "<polyline clip-path=\"url(#clip010)\" style=\"stroke:#000000; stroke-linecap:round; stroke-linejoin:round; stroke-width:4; stroke-opacity:1; fill:none\" points=\"279.187,1433.18 279.187,47.2441 \"/>\n",
       "<polyline clip-path=\"url(#clip010)\" style=\"stroke:#000000; stroke-linecap:round; stroke-linejoin:round; stroke-width:4; stroke-opacity:1; fill:none\" points=\"279.187,1095.05 291.757,1095.05 \"/>\n",
       "<polyline clip-path=\"url(#clip010)\" style=\"stroke:#000000; stroke-linecap:round; stroke-linejoin:round; stroke-width:4; stroke-opacity:1; fill:none\" points=\"279.187,746.021 291.757,746.021 \"/>\n",
       "<polyline clip-path=\"url(#clip010)\" style=\"stroke:#000000; stroke-linecap:round; stroke-linejoin:round; stroke-width:4; stroke-opacity:1; fill:none\" points=\"279.187,396.996 291.757,396.996 \"/>\n",
       "<polyline clip-path=\"url(#clip010)\" style=\"stroke:#000000; stroke-linecap:round; stroke-linejoin:round; stroke-width:4; stroke-opacity:1; fill:none\" points=\"279.187,47.9712 291.757,47.9712 \"/>\n",
       "<path clip-path=\"url(#clip010)\" d=\"M52.7445 1132.16 L67.0673 1132.16 L67.0673 1082.72 L51.4858 1085.85 L51.4858 1077.86 L66.9805 1074.74 L75.7479 1074.74 L75.7479 1132.16 L90.0707 1132.16 L90.0707 1139.54 L52.7445 1139.54 L52.7445 1132.16 Z\" fill=\"#000000\" fill-rule=\"nonzero\" fill-opacity=\"1\" /><path clip-path=\"url(#clip010)\" d=\"M126.529 1080.51 Q119.758 1080.51 116.329 1087.19 Q112.944 1093.83 112.944 1107.2 Q112.944 1120.52 116.329 1127.21 Q119.758 1133.85 126.529 1133.85 Q133.343 1133.85 136.728 1127.21 Q140.157 1120.52 140.157 1107.2 Q140.157 1093.83 136.728 1087.19 Q133.343 1080.51 126.529 1080.51 M126.529 1073.56 Q137.423 1073.56 143.152 1082.2 Q148.925 1090.79 148.925 1107.2 Q148.925 1123.56 143.152 1132.2 Q137.423 1140.79 126.529 1140.79 Q115.635 1140.79 109.862 1132.2 Q104.133 1123.56 104.133 1107.2 Q104.133 1090.79 109.862 1082.2 Q115.635 1073.56 126.529 1073.56 Z\" fill=\"#000000\" fill-rule=\"nonzero\" fill-opacity=\"1\" /><path clip-path=\"url(#clip010)\" d=\"M148.925 1062.5 L194.134 1062.5 L194.134 1068.5 L148.925 1068.5 L148.925 1062.5 Z\" fill=\"#000000\" fill-rule=\"nonzero\" fill-opacity=\"1\" /><path clip-path=\"url(#clip010)\" d=\"M225.625 1058.98 Q220.829 1058.98 218.008 1062.26 Q215.222 1065.54 215.222 1071.25 Q215.222 1076.93 218.008 1080.24 Q220.829 1083.52 225.625 1083.52 Q230.421 1083.52 233.207 1080.24 Q236.028 1076.93 236.028 1071.25 Q236.028 1065.54 233.207 1062.26 Q230.421 1058.98 225.625 1058.98 M239.766 1036.65 L239.766 1043.14 Q237.086 1041.87 234.335 1041.2 Q231.62 1040.53 228.94 1040.53 Q221.887 1040.53 218.149 1045.29 Q214.446 1050.06 213.917 1059.68 Q215.998 1056.61 219.136 1054.99 Q222.275 1053.33 226.048 1053.33 Q233.983 1053.33 238.567 1058.17 Q243.187 1062.96 243.187 1071.25 Q243.187 1079.36 238.391 1084.26 Q233.595 1089.16 225.625 1089.16 Q216.491 1089.16 211.66 1082.18 Q206.829 1075.16 206.829 1061.87 Q206.829 1049.39 212.753 1041.98 Q218.678 1034.54 228.658 1034.54 Q231.338 1034.54 234.053 1035.07 Q236.804 1035.6 239.766 1036.65 Z\" fill=\"#000000\" fill-rule=\"nonzero\" fill-opacity=\"1\" /><path clip-path=\"url(#clip010)\" d=\"M54.5077 783.132 L68.8306 783.132 L68.8306 733.696 L53.2491 736.821 L53.2491 728.835 L68.7438 725.71 L77.5111 725.71 L77.5111 783.132 L91.8339 783.132 L91.8339 790.51 L54.5077 790.51 L54.5077 783.132 Z\" fill=\"#000000\" fill-rule=\"nonzero\" fill-opacity=\"1\" /><path clip-path=\"url(#clip010)\" d=\"M128.292 731.483 Q121.521 731.483 118.092 738.167 Q114.707 744.807 114.707 758.175 Q114.707 771.5 118.092 778.184 Q121.521 784.825 128.292 784.825 Q135.106 784.825 138.492 778.184 Q141.92 771.5 141.92 758.175 Q141.92 744.807 138.492 738.167 Q135.106 731.483 128.292 731.483 M128.292 724.538 Q139.186 724.538 144.915 733.176 Q150.688 741.769 150.688 758.175 Q150.688 774.538 144.915 783.175 Q139.186 791.769 128.292 791.769 Q117.398 791.769 111.625 783.175 Q105.896 774.538 105.896 758.175 Q105.896 741.769 111.625 733.176 Q117.398 724.538 128.292 724.538 Z\" fill=\"#000000\" fill-rule=\"nonzero\" fill-opacity=\"1\" /><path clip-path=\"url(#clip010)\" d=\"M150.688 713.478 L195.897 713.478 L195.897 719.473 L150.688 719.473 L150.688 713.478 Z\" fill=\"#000000\" fill-rule=\"nonzero\" fill-opacity=\"1\" /><path clip-path=\"url(#clip010)\" d=\"M211.343 686.466 L239.308 686.466 L239.308 692.461 L217.867 692.461 L217.867 705.368 Q219.418 704.839 220.97 704.592 Q222.522 704.31 224.073 704.31 Q232.889 704.31 238.038 709.141 Q243.187 713.972 243.187 722.224 Q243.187 730.723 237.897 735.448 Q232.607 740.139 222.98 740.139 Q219.665 740.139 216.209 739.574 Q212.789 739.01 209.121 737.882 L209.121 730.723 Q212.295 732.451 215.68 733.297 Q219.066 734.144 222.839 734.144 Q228.94 734.144 232.502 730.934 Q236.063 727.725 236.063 722.224 Q236.063 716.723 232.502 713.514 Q228.94 710.305 222.839 710.305 Q219.983 710.305 217.126 710.939 Q214.305 711.574 211.343 712.914 L211.343 686.466 Z\" fill=\"#000000\" fill-rule=\"nonzero\" fill-opacity=\"1\" /><path clip-path=\"url(#clip010)\" d=\"M52.2508 434.107 L66.5736 434.107 L66.5736 384.671 L50.9921 387.796 L50.9921 379.81 L66.4868 376.685 L75.2541 376.685 L75.2541 434.107 L89.577 434.107 L89.577 441.485 L52.2508 441.485 L52.2508 434.107 Z\" fill=\"#000000\" fill-rule=\"nonzero\" fill-opacity=\"1\" /><path clip-path=\"url(#clip010)\" d=\"M126.035 382.458 Q119.264 382.458 115.836 389.142 Q112.45 395.782 112.45 409.15 Q112.45 422.475 115.836 429.159 Q119.264 435.8 126.035 435.8 Q132.849 435.8 136.235 429.159 Q139.664 422.475 139.664 409.15 Q139.664 395.782 136.235 389.142 Q132.849 382.458 126.035 382.458 M126.035 375.514 Q136.929 375.514 142.658 384.151 Q148.431 392.744 148.431 409.15 Q148.431 425.513 142.658 434.15 Q136.929 442.744 126.035 442.744 Q115.141 442.744 109.369 434.15 Q103.639 425.513 103.639 409.15 Q103.639 392.744 109.369 384.151 Q115.141 375.514 126.035 375.514 Z\" fill=\"#000000\" fill-rule=\"nonzero\" fill-opacity=\"1\" /><path clip-path=\"url(#clip010)\" d=\"M148.431 364.454 L193.64 364.454 L193.64 370.449 L148.431 370.449 L148.431 364.454 Z\" fill=\"#000000\" fill-rule=\"nonzero\" fill-opacity=\"1\" /><path clip-path=\"url(#clip010)\" d=\"M228.587 343.647 L210.602 371.753 L228.587 371.753 L228.587 343.647 M226.718 337.441 L235.675 337.441 L235.675 371.753 L243.187 371.753 L243.187 377.678 L235.675 377.678 L235.675 390.091 L228.587 390.091 L228.587 377.678 L204.819 377.678 L204.819 370.801 L226.718 337.441 Z\" fill=\"#000000\" fill-rule=\"nonzero\" fill-opacity=\"1\" /><path clip-path=\"url(#clip010)\" d=\"M53.9788 85.082 L68.3016 85.082 L68.3016 35.6465 L52.7201 38.7715 L52.7201 30.7854 L68.2148 27.6604 L76.9821 27.6604 L76.9821 85.082 L91.305 85.082 L91.305 92.4604 L53.9788 92.4604 L53.9788 85.082 Z\" fill=\"#000000\" fill-rule=\"nonzero\" fill-opacity=\"1\" /><path clip-path=\"url(#clip010)\" d=\"M127.763 33.433 Q120.992 33.433 117.563 40.117 Q114.178 46.7575 114.178 60.1255 Q114.178 73.4501 117.563 80.1341 Q120.992 86.7747 127.763 86.7747 Q134.577 86.7747 137.963 80.1341 Q141.391 73.4501 141.391 60.1255 Q141.391 46.7575 137.963 40.117 Q134.577 33.433 127.763 33.433 M127.763 26.4886 Q138.657 26.4886 144.386 35.1257 Q150.159 43.7194 150.159 60.1255 Q150.159 76.4883 144.386 85.1254 Q138.657 93.7191 127.763 93.7191 Q116.869 93.7191 111.097 85.1254 Q105.367 76.4883 105.367 60.1255 Q105.367 43.7194 111.097 35.1257 Q116.869 26.4886 127.763 26.4886 Z\" fill=\"#000000\" fill-rule=\"nonzero\" fill-opacity=\"1\" /><path clip-path=\"url(#clip010)\" d=\"M150.159 15.4286 L195.368 15.4286 L195.368 21.4236 L150.159 21.4236 L150.159 15.4286 Z\" fill=\"#000000\" fill-rule=\"nonzero\" fill-opacity=\"1\" /><path clip-path=\"url(#clip010)\" d=\"M232.325 12.6779 Q237.439 13.7711 240.295 17.2271 Q243.187 20.683 243.187 25.7611 Q243.187 33.5546 237.827 37.8216 Q232.466 42.0886 222.592 42.0886 Q219.277 42.0886 215.751 41.4186 Q212.26 40.7838 208.522 39.479 L208.522 32.6024 Q211.484 34.3304 215.01 35.212 Q218.537 36.0936 222.381 36.0936 Q229.081 36.0936 232.572 33.4488 Q236.099 30.8039 236.099 25.7611 Q236.099 21.1062 232.819 18.4966 Q229.575 15.8518 223.756 15.8518 L217.62 15.8518 L217.62 9.99784 L224.038 9.99784 Q229.292 9.99784 232.078 7.91723 Q234.864 5.80135 234.864 1.85172 Q234.864 -2.20371 231.973 -4.35484 Q229.116 -6.54125 223.756 -6.54125 Q220.829 -6.54125 217.479 -5.90648 Q214.129 -5.27172 210.109 -3.93167 L210.109 -10.2793 Q214.164 -11.4078 217.69 -11.972 Q221.252 -12.5362 224.391 -12.5362 Q232.502 -12.5362 237.227 -8.83344 Q241.952 -5.16593 241.952 1.11116 Q241.952 5.48397 239.449 8.51672 Q236.945 11.5142 232.325 12.6779 Z\" fill=\"#000000\" fill-rule=\"nonzero\" fill-opacity=\"1\" /><polyline clip-path=\"url(#clip012)\" style=\"stroke:#009af9; stroke-linecap:round; stroke-linejoin:round; stroke-width:20; stroke-opacity:1; fill:none\" points=\"709.918,369.725 583.82,437.412 318.222,580.051 \"/>\n",
       "<circle clip-path=\"url(#clip012)\" cx=\"709.918\" cy=\"369.725\" r=\"18\" fill=\"#009af9\" fill-rule=\"evenodd\" fill-opacity=\"1\" stroke=\"#000000\" stroke-opacity=\"1\" stroke-width=\"3.2\"/>\n",
       "<circle clip-path=\"url(#clip012)\" cx=\"583.82\" cy=\"437.412\" r=\"18\" fill=\"#009af9\" fill-rule=\"evenodd\" fill-opacity=\"1\" stroke=\"#000000\" stroke-opacity=\"1\" stroke-width=\"3.2\"/>\n",
       "<circle clip-path=\"url(#clip012)\" cx=\"318.222\" cy=\"580.051\" r=\"18\" fill=\"#009af9\" fill-rule=\"evenodd\" fill-opacity=\"1\" stroke=\"#000000\" stroke-opacity=\"1\" stroke-width=\"3.2\"/>\n",
       "<polyline clip-path=\"url(#clip012)\" style=\"stroke:#e26f46; stroke-linecap:round; stroke-linejoin:round; stroke-width:20; stroke-opacity:1; fill:none\" stroke-dasharray=\"10, 20\" points=\"709.918,327.91 583.82,395.558 318.222,538.044 \"/>\n",
       "<polyline clip-path=\"url(#clip012)\" style=\"stroke:#3da44d; stroke-linecap:round; stroke-linejoin:round; stroke-width:20; stroke-opacity:1; fill:none\" points=\"709.918,773.522 583.82,887.533 318.222,1122.54 \"/>\n",
       "<circle clip-path=\"url(#clip012)\" cx=\"709.918\" cy=\"773.522\" r=\"18\" fill=\"#3da44d\" fill-rule=\"evenodd\" fill-opacity=\"1\" stroke=\"#000000\" stroke-opacity=\"1\" stroke-width=\"3.2\"/>\n",
       "<circle clip-path=\"url(#clip012)\" cx=\"583.82\" cy=\"887.533\" r=\"18\" fill=\"#3da44d\" fill-rule=\"evenodd\" fill-opacity=\"1\" stroke=\"#000000\" stroke-opacity=\"1\" stroke-width=\"3.2\"/>\n",
       "<circle clip-path=\"url(#clip012)\" cx=\"318.222\" cy=\"1122.54\" r=\"18\" fill=\"#3da44d\" fill-rule=\"evenodd\" fill-opacity=\"1\" stroke=\"#000000\" stroke-opacity=\"1\" stroke-width=\"3.2\"/>\n",
       "<polyline clip-path=\"url(#clip012)\" style=\"stroke:#c271d2; stroke-linecap:round; stroke-linejoin:round; stroke-width:20; stroke-opacity:1; fill:none\" stroke-dasharray=\"10, 20\" points=\"709.918,747.1 583.82,848.572 318.222,1062.3 \"/>\n",
       "<polyline clip-path=\"url(#clip012)\" style=\"stroke:#ac8d18; stroke-linecap:round; stroke-linejoin:round; stroke-width:20; stroke-opacity:1; fill:none\" points=\"709.918,980.738 583.82,1113 318.222,1393.95 \"/>\n",
       "<circle clip-path=\"url(#clip012)\" cx=\"709.918\" cy=\"980.738\" r=\"18\" fill=\"#ac8d18\" fill-rule=\"evenodd\" fill-opacity=\"1\" stroke=\"#000000\" stroke-opacity=\"1\" stroke-width=\"3.2\"/>\n",
       "<circle clip-path=\"url(#clip012)\" cx=\"583.82\" cy=\"1113\" r=\"18\" fill=\"#ac8d18\" fill-rule=\"evenodd\" fill-opacity=\"1\" stroke=\"#000000\" stroke-opacity=\"1\" stroke-width=\"3.2\"/>\n",
       "<circle clip-path=\"url(#clip012)\" cx=\"318.222\" cy=\"1393.95\" r=\"18\" fill=\"#ac8d18\" fill-rule=\"evenodd\" fill-opacity=\"1\" stroke=\"#000000\" stroke-opacity=\"1\" stroke-width=\"3.2\"/>\n",
       "<polyline clip-path=\"url(#clip012)\" style=\"stroke:#00a9ad; stroke-linecap:round; stroke-linejoin:round; stroke-width:20; stroke-opacity:1; fill:none\" stroke-dasharray=\"10, 20\" points=\"709.918,921.972 583.82,1057.27 318.222,1342.24 \"/>\n",
       "<polyline clip-path=\"url(#clip012)\" style=\"stroke:#ed5d92; stroke-linecap:round; stroke-linejoin:round; stroke-width:20; stroke-opacity:1; fill:none\" points=\"1619.41,140.939 1493.31,304.28 1101.61,853.221 \"/>\n",
       "<circle clip-path=\"url(#clip012)\" cx=\"1619.41\" cy=\"140.939\" r=\"18\" fill=\"#ed5d92\" fill-rule=\"evenodd\" fill-opacity=\"1\" stroke=\"#000000\" stroke-opacity=\"1\" stroke-width=\"3.2\"/>\n",
       "<circle clip-path=\"url(#clip012)\" cx=\"1493.31\" cy=\"304.28\" r=\"18\" fill=\"#ed5d92\" fill-rule=\"evenodd\" fill-opacity=\"1\" stroke=\"#000000\" stroke-opacity=\"1\" stroke-width=\"3.2\"/>\n",
       "<circle clip-path=\"url(#clip012)\" cx=\"1101.61\" cy=\"853.221\" r=\"18\" fill=\"#ed5d92\" fill-rule=\"evenodd\" fill-opacity=\"1\" stroke=\"#000000\" stroke-opacity=\"1\" stroke-width=\"3.2\"/>\n",
       "<polyline clip-path=\"url(#clip012)\" style=\"stroke:#c68125; stroke-linecap:round; stroke-linejoin:round; stroke-width:20; stroke-opacity:1; fill:none\" stroke-dasharray=\"10, 20\" points=\"1619.41,86.4686 1493.31,255.589 1101.61,780.924 \"/>\n",
       "<path clip-path=\"url(#clip010)\" d=\"M1727.56 1175.21 L2352.76 1175.21 L2352.76 300.408 L1727.56 300.408  Z\" fill=\"#ffffff\" fill-rule=\"evenodd\" fill-opacity=\"1\"/>\n",
       "<polyline clip-path=\"url(#clip010)\" style=\"stroke:#000000; stroke-linecap:round; stroke-linejoin:round; stroke-width:4; stroke-opacity:1; fill:none\" points=\"1727.56,1175.21 2352.76,1175.21 2352.76,300.408 1727.56,300.408 1727.56,1175.21 \"/>\n",
       "<polyline clip-path=\"url(#clip010)\" style=\"stroke:#009af9; stroke-linecap:round; stroke-linejoin:round; stroke-width:37.5; stroke-opacity:1; fill:none\" points=\"1750.6,397.608 1888.84,397.608 \"/>\n",
       "<circle clip-path=\"url(#clip010)\" cx=\"1819.72\" cy=\"397.608\" r=\"10.2398\" fill=\"#009af9\" fill-rule=\"evenodd\" fill-opacity=\"1\" stroke=\"#000000\" stroke-opacity=\"1\" stroke-width=\"6.98182\"/>\n",
       "<path clip-path=\"url(#clip010)\" d=\"M1953.59 367.335 L1953.59 375.885 Q1948.6 373.498 1944.17 372.326 Q1939.74 371.154 1935.62 371.154 Q1928.46 371.154 1924.55 373.932 Q1920.69 376.71 1920.69 381.831 Q1920.69 386.128 1923.25 388.342 Q1925.86 390.512 1933.06 391.857 L1938.36 392.942 Q1948.16 394.809 1952.81 399.54 Q1957.5 404.227 1957.5 412.126 Q1957.5 421.545 1951.16 426.406 Q1944.87 431.267 1932.67 431.267 Q1928.07 431.267 1922.86 430.225 Q1917.7 429.184 1912.14 427.144 L1912.14 418.116 Q1917.48 421.111 1922.6 422.63 Q1927.72 424.149 1932.67 424.149 Q1940.18 424.149 1944.26 421.198 Q1948.34 418.246 1948.34 412.777 Q1948.34 408.003 1945.39 405.312 Q1942.48 402.621 1935.79 401.276 L1930.46 400.234 Q1920.65 398.281 1916.26 394.114 Q1911.88 389.948 1911.88 382.526 Q1911.88 373.932 1917.91 368.984 Q1923.99 364.036 1934.62 364.036 Q1939.18 364.036 1943.91 364.861 Q1948.64 365.686 1953.59 367.335 Z\" fill=\"#000000\" fill-rule=\"nonzero\" fill-opacity=\"1\" /><path clip-path=\"url(#clip010)\" d=\"M1979.94 372.413 L1979.94 422.803 L1990.53 422.803 Q2003.94 422.803 2010.14 416.727 Q2016.39 410.651 2016.39 397.543 Q2016.39 384.522 2010.14 378.489 Q2003.94 372.413 1990.53 372.413 L1979.94 372.413 M1971.17 365.208 L1989.18 365.208 Q2008.02 365.208 2016.83 373.064 Q2025.64 380.877 2025.64 397.543 Q2025.64 414.297 2016.78 422.152 Q2007.93 430.008 1989.18 430.008 L1971.17 430.008 L1971.17 365.208 Z\" fill=\"#000000\" fill-rule=\"nonzero\" fill-opacity=\"1\" /><path clip-path=\"url(#clip010)\" d=\"M2058.45 362.561 Q2052.63 372.543 2049.81 382.309 Q2046.99 392.074 2046.99 402.1 Q2046.99 412.126 2049.81 421.979 Q2052.68 431.788 2058.45 441.727 L2051.51 441.727 Q2045 431.527 2041.74 421.675 Q2038.53 411.823 2038.53 402.1 Q2038.53 392.422 2041.74 382.613 Q2044.95 372.804 2051.51 362.561 L2058.45 362.561 Z\" fill=\"#000000\" fill-rule=\"nonzero\" fill-opacity=\"1\" /><path clip-path=\"url(#clip010)\" d=\"M2065.31 365.208 L2120.13 365.208 L2120.13 372.587 L2097.12 372.587 L2097.12 430.008 L2088.31 430.008 L2088.31 372.587 L2065.31 372.587 L2065.31 365.208 Z\" fill=\"#000000\" fill-rule=\"nonzero\" fill-opacity=\"1\" /><path clip-path=\"url(#clip010)\" d=\"M2143.35 388.863 Q2142 388.081 2140.39 387.734 Q2138.83 387.344 2136.92 387.344 Q2130.15 387.344 2126.51 391.771 Q2122.9 396.154 2122.9 404.401 L2122.9 430.008 L2114.87 430.008 L2114.87 381.397 L2122.9 381.397 L2122.9 388.949 Q2125.42 384.522 2129.46 382.396 Q2133.49 380.226 2139.27 380.226 Q2140.09 380.226 2141.09 380.356 Q2142.09 380.443 2143.3 380.66 L2143.35 388.863 Z\" fill=\"#000000\" fill-rule=\"nonzero\" fill-opacity=\"1\" /><path clip-path=\"url(#clip010)\" d=\"M2173.81 405.573 Q2164.14 405.573 2160.4 407.786 Q2156.67 410 2156.67 415.338 Q2156.67 419.592 2159.45 422.109 Q2162.27 424.583 2167.09 424.583 Q2173.73 424.583 2177.72 419.895 Q2181.76 415.165 2181.76 407.352 L2181.76 405.573 L2173.81 405.573 M2189.74 402.274 L2189.74 430.008 L2181.76 430.008 L2181.76 422.63 Q2179.02 427.057 2174.94 429.184 Q2170.86 431.267 2164.96 431.267 Q2157.49 431.267 2153.07 427.1 Q2148.68 422.89 2148.68 415.859 Q2148.68 407.656 2154.15 403.489 Q2159.67 399.323 2170.56 399.323 L2181.76 399.323 L2181.76 398.541 Q2181.76 393.029 2178.11 390.034 Q2174.51 386.996 2167.95 386.996 Q2163.79 386.996 2159.84 387.995 Q2155.89 388.993 2152.24 390.989 L2152.24 383.611 Q2156.63 381.918 2160.75 381.094 Q2164.87 380.226 2168.78 380.226 Q2179.33 380.226 2184.53 385.694 Q2189.74 391.163 2189.74 402.274 Z\" fill=\"#000000\" fill-rule=\"nonzero\" fill-opacity=\"1\" /><path clip-path=\"url(#clip010)\" d=\"M2213.92 422.717 L2213.92 448.498 L2205.89 448.498 L2205.89 381.397 L2213.92 381.397 L2213.92 388.776 Q2216.44 384.436 2220.26 382.352 Q2224.12 380.226 2229.46 380.226 Q2238.31 380.226 2243.82 387.257 Q2249.38 394.288 2249.38 405.746 Q2249.38 417.204 2243.82 424.236 Q2238.31 431.267 2229.46 431.267 Q2224.12 431.267 2220.26 429.184 Q2216.44 427.057 2213.92 422.717 M2241.09 405.746 Q2241.09 396.936 2237.44 391.944 Q2233.84 386.91 2227.5 386.91 Q2221.17 386.91 2217.52 391.944 Q2213.92 396.936 2213.92 405.746 Q2213.92 414.557 2217.52 419.592 Q2221.17 424.583 2227.5 424.583 Q2233.84 424.583 2237.44 419.592 Q2241.09 414.557 2241.09 405.746 Z\" fill=\"#000000\" fill-rule=\"nonzero\" fill-opacity=\"1\" /><path clip-path=\"url(#clip010)\" d=\"M2259.14 381.397 L2297.08 381.397 L2297.08 388.689 L2267.04 423.628 L2297.08 423.628 L2297.08 430.008 L2258.06 430.008 L2258.06 422.717 L2288.09 387.778 L2259.14 387.778 L2259.14 381.397 Z\" fill=\"#000000\" fill-rule=\"nonzero\" fill-opacity=\"1\" /><path clip-path=\"url(#clip010)\" d=\"M2308.01 362.561 L2314.96 362.561 Q2321.47 372.804 2324.68 382.613 Q2327.94 392.422 2327.94 402.1 Q2327.94 411.823 2324.68 421.675 Q2321.47 431.527 2314.96 441.727 L2308.01 441.727 Q2313.79 431.788 2316.61 421.979 Q2319.47 412.126 2319.47 402.1 Q2319.47 392.074 2316.61 382.309 Q2313.79 372.543 2308.01 362.561 Z\" fill=\"#000000\" fill-rule=\"nonzero\" fill-opacity=\"1\" /><polyline clip-path=\"url(#clip010)\" style=\"stroke:#e26f46; stroke-linecap:round; stroke-linejoin:round; stroke-width:37.5; stroke-opacity:1; fill:none\" stroke-dasharray=\"19, 38\" points=\"1750.6,494.808 1888.84,494.808 \"/>\n",
       "<path clip-path=\"url(#clip010)\" d=\"M1953.59 464.535 L1953.59 473.085 Q1948.6 470.698 1944.17 469.526 Q1939.74 468.354 1935.62 468.354 Q1928.46 468.354 1924.55 471.132 Q1920.69 473.91 1920.69 479.031 Q1920.69 483.328 1923.25 485.542 Q1925.86 487.712 1933.06 489.057 L1938.36 490.142 Q1948.16 492.009 1952.81 496.74 Q1957.5 501.427 1957.5 509.326 Q1957.5 518.745 1951.16 523.606 Q1944.87 528.467 1932.67 528.467 Q1928.07 528.467 1922.86 527.425 Q1917.7 526.384 1912.14 524.344 L1912.14 515.316 Q1917.48 518.311 1922.6 519.83 Q1927.72 521.349 1932.67 521.349 Q1940.18 521.349 1944.26 518.398 Q1948.34 515.446 1948.34 509.977 Q1948.34 505.203 1945.39 502.512 Q1942.48 499.821 1935.79 498.476 L1930.46 497.434 Q1920.65 495.481 1916.26 491.314 Q1911.88 487.148 1911.88 479.726 Q1911.88 471.132 1917.91 466.184 Q1923.99 461.236 1934.62 461.236 Q1939.18 461.236 1943.91 462.061 Q1948.64 462.886 1953.59 464.535 Z\" fill=\"#000000\" fill-rule=\"nonzero\" fill-opacity=\"1\" /><path clip-path=\"url(#clip010)\" d=\"M1970.82 459.674 L1978.81 459.674 L1978.81 527.208 L1970.82 527.208 L1970.82 459.674 Z\" fill=\"#000000\" fill-rule=\"nonzero\" fill-opacity=\"1\" /><path clip-path=\"url(#clip010)\" d=\"M2014.35 484.196 Q2007.93 484.196 2004.2 489.231 Q2000.46 494.222 2000.46 502.946 Q2000.46 511.67 2004.15 516.705 Q2007.89 521.696 2014.35 521.696 Q2020.73 521.696 2024.47 516.661 Q2028.2 511.627 2028.2 502.946 Q2028.2 494.309 2024.47 489.274 Q2020.73 484.196 2014.35 484.196 M2014.35 477.426 Q2024.77 477.426 2030.72 484.196 Q2036.66 490.967 2036.66 502.946 Q2036.66 514.882 2030.72 521.696 Q2024.77 528.467 2014.35 528.467 Q2003.89 528.467 1997.95 521.696 Q1992.04 514.882 1992.04 502.946 Q1992.04 490.967 1997.95 484.196 Q2003.89 477.426 2014.35 477.426 Z\" fill=\"#000000\" fill-rule=\"nonzero\" fill-opacity=\"1\" /><path clip-path=\"url(#clip010)\" d=\"M2057.63 519.917 L2057.63 545.698 L2049.6 545.698 L2049.6 478.597 L2057.63 478.597 L2057.63 485.976 Q2060.14 481.636 2063.96 479.552 Q2067.83 477.426 2073.16 477.426 Q2082.02 477.426 2087.53 484.457 Q2093.09 491.488 2093.09 502.946 Q2093.09 514.404 2087.53 521.436 Q2082.02 528.467 2073.16 528.467 Q2067.83 528.467 2063.96 526.384 Q2060.14 524.257 2057.63 519.917 M2084.8 502.946 Q2084.8 494.136 2081.15 489.144 Q2077.55 484.11 2071.21 484.11 Q2064.87 484.11 2061.23 489.144 Q2057.63 494.136 2057.63 502.946 Q2057.63 511.757 2061.23 516.792 Q2064.87 521.783 2071.21 521.783 Q2077.55 521.783 2081.15 516.792 Q2084.8 511.757 2084.8 502.946 Z\" fill=\"#000000\" fill-rule=\"nonzero\" fill-opacity=\"1\" /><path clip-path=\"url(#clip010)\" d=\"M2147.9 500.906 L2147.9 504.813 L2111.18 504.813 Q2111.71 513.059 2116.13 517.399 Q2120.6 521.696 2128.55 521.696 Q2133.15 521.696 2137.44 520.568 Q2141.78 519.439 2146.04 517.182 L2146.04 524.734 Q2141.74 526.557 2137.23 527.512 Q2132.71 528.467 2128.07 528.467 Q2116.44 528.467 2109.62 521.696 Q2102.85 514.925 2102.85 503.38 Q2102.85 491.445 2109.27 484.457 Q2115.74 477.426 2126.68 477.426 Q2136.49 477.426 2142.17 483.762 Q2147.9 490.056 2147.9 500.906 M2139.92 498.563 Q2139.83 492.009 2136.23 488.103 Q2132.67 484.196 2126.77 484.196 Q2120.08 484.196 2116.05 487.972 Q2112.05 491.748 2111.44 498.606 L2139.92 498.563 Z\" fill=\"#000000\" fill-rule=\"nonzero\" fill-opacity=\"1\" /><path clip-path=\"url(#clip010)\" d=\"M2162.05 486.844 L2217.69 486.844 L2217.69 494.136 L2162.05 494.136 L2162.05 486.844 M2162.05 504.552 L2217.69 504.552 L2217.69 511.931 L2162.05 511.931 L2162.05 504.552 Z\" fill=\"#000000\" fill-rule=\"nonzero\" fill-opacity=\"1\" /><path clip-path=\"url(#clip010)\" d=\"M2244.17 519.83 L2274.77 519.83 L2274.77 527.208 L2233.62 527.208 L2233.62 519.83 Q2238.61 514.665 2247.21 505.984 Q2255.85 497.26 2258.06 494.743 Q2262.27 490.012 2263.92 486.757 Q2265.61 483.458 2265.61 480.29 Q2265.61 475.125 2261.96 471.87 Q2258.36 468.615 2252.55 468.615 Q2248.42 468.615 2243.82 470.047 Q2239.27 471.479 2234.06 474.387 L2234.06 465.533 Q2239.35 463.407 2243.95 462.321 Q2248.55 461.236 2252.37 461.236 Q2262.44 461.236 2268.43 466.271 Q2274.42 471.306 2274.42 479.726 Q2274.42 483.719 2272.9 487.321 Q2271.43 490.88 2267.48 495.741 Q2266.39 497 2260.58 503.033 Q2254.76 509.023 2244.17 519.83 Z\" fill=\"#000000\" fill-rule=\"nonzero\" fill-opacity=\"1\" /><polyline clip-path=\"url(#clip010)\" style=\"stroke:#3da44d; stroke-linecap:round; stroke-linejoin:round; stroke-width:37.5; stroke-opacity:1; fill:none\" points=\"1750.6,592.008 1888.84,592.008 \"/>\n",
       "<circle clip-path=\"url(#clip010)\" cx=\"1819.72\" cy=\"592.008\" r=\"10.2398\" fill=\"#3da44d\" fill-rule=\"evenodd\" fill-opacity=\"1\" stroke=\"#000000\" stroke-opacity=\"1\" stroke-width=\"6.98182\"/>\n",
       "<path clip-path=\"url(#clip010)\" d=\"M1953.59 561.735 L1953.59 570.285 Q1948.6 567.898 1944.17 566.726 Q1939.74 565.554 1935.62 565.554 Q1928.46 565.554 1924.55 568.332 Q1920.69 571.11 1920.69 576.231 Q1920.69 580.528 1923.25 582.742 Q1925.86 584.912 1933.06 586.257 L1938.36 587.342 Q1948.16 589.209 1952.81 593.94 Q1957.5 598.627 1957.5 606.526 Q1957.5 615.945 1951.16 620.806 Q1944.87 625.667 1932.67 625.667 Q1928.07 625.667 1922.86 624.625 Q1917.7 623.584 1912.14 621.544 L1912.14 612.516 Q1917.48 615.511 1922.6 617.03 Q1927.72 618.549 1932.67 618.549 Q1940.18 618.549 1944.26 615.598 Q1948.34 612.646 1948.34 607.177 Q1948.34 602.403 1945.39 599.712 Q1942.48 597.021 1935.79 595.676 L1930.46 594.634 Q1920.65 592.681 1916.26 588.514 Q1911.88 584.348 1911.88 576.926 Q1911.88 568.332 1917.91 563.384 Q1923.99 558.436 1934.62 558.436 Q1939.18 558.436 1943.91 559.261 Q1948.64 560.086 1953.59 561.735 Z\" fill=\"#000000\" fill-rule=\"nonzero\" fill-opacity=\"1\" /><path clip-path=\"url(#clip010)\" d=\"M1979.94 566.813 L1979.94 617.203 L1990.53 617.203 Q2003.94 617.203 2010.14 611.127 Q2016.39 605.051 2016.39 591.943 Q2016.39 578.922 2010.14 572.889 Q2003.94 566.813 1990.53 566.813 L1979.94 566.813 M1971.17 559.608 L1989.18 559.608 Q2008.02 559.608 2016.83 567.464 Q2025.64 575.277 2025.64 591.943 Q2025.64 608.697 2016.78 616.552 Q2007.93 624.408 1989.18 624.408 L1971.17 624.408 L1971.17 559.608 Z\" fill=\"#000000\" fill-rule=\"nonzero\" fill-opacity=\"1\" /><path clip-path=\"url(#clip010)\" d=\"M2058.45 556.961 Q2052.63 566.943 2049.81 576.709 Q2046.99 586.474 2046.99 596.5 Q2046.99 606.526 2049.81 616.379 Q2052.68 626.188 2058.45 636.127 L2051.51 636.127 Q2045 625.927 2041.74 616.075 Q2038.53 606.223 2038.53 596.5 Q2038.53 586.822 2041.74 577.013 Q2044.95 567.204 2051.51 556.961 L2058.45 556.961 Z\" fill=\"#000000\" fill-rule=\"nonzero\" fill-opacity=\"1\" /><path clip-path=\"url(#clip010)\" d=\"M2083.06 593.462 L2083.06 617.203 L2097.12 617.203 Q2104.2 617.203 2107.58 614.295 Q2111.01 611.344 2111.01 605.311 Q2111.01 599.235 2107.58 596.37 Q2104.2 593.462 2097.12 593.462 L2083.06 593.462 M2083.06 566.813 L2083.06 586.344 L2096.04 586.344 Q2102.46 586.344 2105.59 583.957 Q2108.75 581.527 2108.75 576.579 Q2108.75 571.674 2105.59 569.244 Q2102.46 566.813 2096.04 566.813 L2083.06 566.813 M2074.29 559.608 L2096.69 559.608 Q2106.71 559.608 2112.14 563.775 Q2117.56 567.942 2117.56 575.624 Q2117.56 581.57 2114.79 585.086 Q2112.01 588.601 2106.63 589.469 Q2113.09 590.858 2116.65 595.285 Q2120.26 599.669 2120.26 606.266 Q2120.26 614.946 2114.35 619.677 Q2108.45 624.408 2097.56 624.408 L2074.29 624.408 L2074.29 559.608 Z\" fill=\"#000000\" fill-rule=\"nonzero\" fill-opacity=\"1\" /><path clip-path=\"url(#clip010)\" d=\"M2144.04 566.813 L2144.04 617.203 L2154.63 617.203 Q2168.04 617.203 2174.25 611.127 Q2180.5 605.051 2180.5 591.943 Q2180.5 578.922 2174.25 572.889 Q2168.04 566.813 2154.63 566.813 L2144.04 566.813 M2135.27 559.608 L2153.28 559.608 Q2172.12 559.608 2180.93 567.464 Q2189.74 575.277 2189.74 591.943 Q2189.74 608.697 2180.89 616.552 Q2172.03 624.408 2153.28 624.408 L2135.27 624.408 L2135.27 559.608 Z\" fill=\"#000000\" fill-rule=\"nonzero\" fill-opacity=\"1\" /><path clip-path=\"url(#clip010)\" d=\"M2203.72 559.608 L2240.96 559.608 L2240.96 566.987 L2212.49 566.987 L2212.49 586.084 L2238.18 586.084 L2238.18 593.462 L2212.49 593.462 L2212.49 624.408 L2203.72 624.408 L2203.72 559.608 Z\" fill=\"#000000\" fill-rule=\"nonzero\" fill-opacity=\"1\" /><path clip-path=\"url(#clip010)\" d=\"M2282.19 589.469 Q2288.48 590.815 2292 595.068 Q2295.56 599.322 2295.56 605.572 Q2295.56 615.164 2288.96 620.415 Q2282.36 625.667 2270.21 625.667 Q2266.13 625.667 2261.79 624.842 Q2257.49 624.061 2252.89 622.455 L2252.89 613.992 Q2256.54 616.118 2260.88 617.203 Q2265.22 618.288 2269.95 618.288 Q2278.2 618.288 2282.49 615.033 Q2286.83 611.778 2286.83 605.572 Q2286.83 599.842 2282.8 596.631 Q2278.81 593.375 2271.64 593.375 L2264.09 593.375 L2264.09 586.171 L2271.99 586.171 Q2278.46 586.171 2281.89 583.61 Q2285.32 581.006 2285.32 576.145 Q2285.32 571.153 2281.76 568.506 Q2278.24 565.815 2271.64 565.815 Q2268.04 565.815 2263.92 566.596 Q2259.79 567.377 2254.85 569.027 L2254.85 561.214 Q2259.84 559.825 2264.18 559.131 Q2268.56 558.436 2272.42 558.436 Q2282.41 558.436 2288.22 562.994 Q2294.04 567.508 2294.04 575.233 Q2294.04 580.615 2290.96 584.348 Q2287.88 588.037 2282.19 589.469 Z\" fill=\"#000000\" fill-rule=\"nonzero\" fill-opacity=\"1\" /><path clip-path=\"url(#clip010)\" d=\"M2309.79 556.961 L2316.74 556.961 Q2323.25 567.204 2326.46 577.013 Q2329.72 586.822 2329.72 596.5 Q2329.72 606.223 2326.46 616.075 Q2323.25 625.927 2316.74 636.127 L2309.79 636.127 Q2315.57 626.188 2318.39 616.379 Q2321.25 606.526 2321.25 596.5 Q2321.25 586.474 2318.39 576.709 Q2315.57 566.943 2309.79 556.961 Z\" fill=\"#000000\" fill-rule=\"nonzero\" fill-opacity=\"1\" /><polyline clip-path=\"url(#clip010)\" style=\"stroke:#c271d2; stroke-linecap:round; stroke-linejoin:round; stroke-width:37.5; stroke-opacity:1; fill:none\" stroke-dasharray=\"19, 38\" points=\"1750.6,689.208 1888.84,689.208 \"/>\n",
       "<path clip-path=\"url(#clip010)\" d=\"M1953.59 658.935 L1953.59 667.485 Q1948.6 665.098 1944.17 663.926 Q1939.74 662.754 1935.62 662.754 Q1928.46 662.754 1924.55 665.532 Q1920.69 668.31 1920.69 673.431 Q1920.69 677.728 1923.25 679.942 Q1925.86 682.112 1933.06 683.457 L1938.36 684.542 Q1948.16 686.409 1952.81 691.14 Q1957.5 695.827 1957.5 703.726 Q1957.5 713.145 1951.16 718.006 Q1944.87 722.867 1932.67 722.867 Q1928.07 722.867 1922.86 721.825 Q1917.7 720.784 1912.14 718.744 L1912.14 709.716 Q1917.48 712.711 1922.6 714.23 Q1927.72 715.749 1932.67 715.749 Q1940.18 715.749 1944.26 712.798 Q1948.34 709.846 1948.34 704.377 Q1948.34 699.603 1945.39 696.912 Q1942.48 694.221 1935.79 692.876 L1930.46 691.834 Q1920.65 689.881 1916.26 685.714 Q1911.88 681.548 1911.88 674.126 Q1911.88 665.532 1917.91 660.584 Q1923.99 655.636 1934.62 655.636 Q1939.18 655.636 1943.91 656.461 Q1948.64 657.286 1953.59 658.935 Z\" fill=\"#000000\" fill-rule=\"nonzero\" fill-opacity=\"1\" /><path clip-path=\"url(#clip010)\" d=\"M1970.82 654.074 L1978.81 654.074 L1978.81 721.608 L1970.82 721.608 L1970.82 654.074 Z\" fill=\"#000000\" fill-rule=\"nonzero\" fill-opacity=\"1\" /><path clip-path=\"url(#clip010)\" d=\"M2014.35 678.596 Q2007.93 678.596 2004.2 683.631 Q2000.46 688.622 2000.46 697.346 Q2000.46 706.07 2004.15 711.105 Q2007.89 716.096 2014.35 716.096 Q2020.73 716.096 2024.47 711.061 Q2028.2 706.027 2028.2 697.346 Q2028.2 688.709 2024.47 683.674 Q2020.73 678.596 2014.35 678.596 M2014.35 671.826 Q2024.77 671.826 2030.72 678.596 Q2036.66 685.367 2036.66 697.346 Q2036.66 709.282 2030.72 716.096 Q2024.77 722.867 2014.35 722.867 Q2003.89 722.867 1997.95 716.096 Q1992.04 709.282 1992.04 697.346 Q1992.04 685.367 1997.95 678.596 Q2003.89 671.826 2014.35 671.826 Z\" fill=\"#000000\" fill-rule=\"nonzero\" fill-opacity=\"1\" /><path clip-path=\"url(#clip010)\" d=\"M2057.63 714.317 L2057.63 740.098 L2049.6 740.098 L2049.6 672.997 L2057.63 672.997 L2057.63 680.376 Q2060.14 676.036 2063.96 673.952 Q2067.83 671.826 2073.16 671.826 Q2082.02 671.826 2087.53 678.857 Q2093.09 685.888 2093.09 697.346 Q2093.09 708.804 2087.53 715.836 Q2082.02 722.867 2073.16 722.867 Q2067.83 722.867 2063.96 720.784 Q2060.14 718.657 2057.63 714.317 M2084.8 697.346 Q2084.8 688.536 2081.15 683.544 Q2077.55 678.51 2071.21 678.51 Q2064.87 678.51 2061.23 683.544 Q2057.63 688.536 2057.63 697.346 Q2057.63 706.157 2061.23 711.192 Q2064.87 716.183 2071.21 716.183 Q2077.55 716.183 2081.15 711.192 Q2084.8 706.157 2084.8 697.346 Z\" fill=\"#000000\" fill-rule=\"nonzero\" fill-opacity=\"1\" /><path clip-path=\"url(#clip010)\" d=\"M2147.9 695.306 L2147.9 699.213 L2111.18 699.213 Q2111.71 707.459 2116.13 711.799 Q2120.6 716.096 2128.55 716.096 Q2133.15 716.096 2137.44 714.968 Q2141.78 713.839 2146.04 711.582 L2146.04 719.134 Q2141.74 720.957 2137.23 721.912 Q2132.71 722.867 2128.07 722.867 Q2116.44 722.867 2109.62 716.096 Q2102.85 709.325 2102.85 697.78 Q2102.85 685.845 2109.27 678.857 Q2115.74 671.826 2126.68 671.826 Q2136.49 671.826 2142.17 678.162 Q2147.9 684.456 2147.9 695.306 M2139.92 692.963 Q2139.83 686.409 2136.23 682.503 Q2132.67 678.596 2126.77 678.596 Q2120.08 678.596 2116.05 682.372 Q2112.05 686.148 2111.44 693.006 L2139.92 692.963 Z\" fill=\"#000000\" fill-rule=\"nonzero\" fill-opacity=\"1\" /><path clip-path=\"url(#clip010)\" d=\"M2162.05 681.244 L2217.69 681.244 L2217.69 688.536 L2162.05 688.536 L2162.05 681.244 M2162.05 698.952 L2217.69 698.952 L2217.69 706.331 L2162.05 706.331 L2162.05 698.952 Z\" fill=\"#000000\" fill-rule=\"nonzero\" fill-opacity=\"1\" /><path clip-path=\"url(#clip010)\" d=\"M2263.18 686.669 Q2269.47 688.015 2272.99 692.268 Q2276.55 696.522 2276.55 702.772 Q2276.55 712.364 2269.95 717.615 Q2263.35 722.867 2251.2 722.867 Q2247.12 722.867 2242.78 722.042 Q2238.48 721.261 2233.88 719.655 L2233.88 711.192 Q2237.53 713.318 2241.87 714.403 Q2246.21 715.488 2250.94 715.488 Q2259.19 715.488 2263.48 712.233 Q2267.82 708.978 2267.82 702.772 Q2267.82 697.042 2263.79 693.831 Q2259.79 690.575 2252.63 690.575 L2245.08 690.575 L2245.08 683.371 L2252.98 683.371 Q2259.45 683.371 2262.88 680.81 Q2266.31 678.206 2266.31 673.345 Q2266.31 668.353 2262.75 665.706 Q2259.23 663.015 2252.63 663.015 Q2249.03 663.015 2244.91 663.796 Q2240.78 664.577 2235.84 666.227 L2235.84 658.414 Q2240.83 657.025 2245.17 656.331 Q2249.55 655.636 2253.41 655.636 Q2263.4 655.636 2269.21 660.194 Q2275.03 664.708 2275.03 672.433 Q2275.03 677.815 2271.95 681.548 Q2268.87 685.237 2263.18 686.669 Z\" fill=\"#000000\" fill-rule=\"nonzero\" fill-opacity=\"1\" /><polyline clip-path=\"url(#clip010)\" style=\"stroke:#ac8d18; stroke-linecap:round; stroke-linejoin:round; stroke-width:37.5; stroke-opacity:1; fill:none\" points=\"1750.6,786.408 1888.84,786.408 \"/>\n",
       "<circle clip-path=\"url(#clip010)\" cx=\"1819.72\" cy=\"786.408\" r=\"10.2398\" fill=\"#ac8d18\" fill-rule=\"evenodd\" fill-opacity=\"1\" stroke=\"#000000\" stroke-opacity=\"1\" stroke-width=\"6.98182\"/>\n",
       "<path clip-path=\"url(#clip010)\" d=\"M1953.59 756.135 L1953.59 764.685 Q1948.6 762.298 1944.17 761.126 Q1939.74 759.954 1935.62 759.954 Q1928.46 759.954 1924.55 762.732 Q1920.69 765.51 1920.69 770.631 Q1920.69 774.928 1923.25 777.142 Q1925.86 779.312 1933.06 780.657 L1938.36 781.742 Q1948.16 783.609 1952.81 788.34 Q1957.5 793.027 1957.5 800.926 Q1957.5 810.345 1951.16 815.206 Q1944.87 820.067 1932.67 820.067 Q1928.07 820.067 1922.86 819.025 Q1917.7 817.984 1912.14 815.944 L1912.14 806.916 Q1917.48 809.911 1922.6 811.43 Q1927.72 812.949 1932.67 812.949 Q1940.18 812.949 1944.26 809.998 Q1948.34 807.046 1948.34 801.577 Q1948.34 796.803 1945.39 794.112 Q1942.48 791.421 1935.79 790.076 L1930.46 789.034 Q1920.65 787.081 1916.26 782.914 Q1911.88 778.748 1911.88 771.326 Q1911.88 762.732 1917.91 757.784 Q1923.99 752.836 1934.62 752.836 Q1939.18 752.836 1943.91 753.661 Q1948.64 754.486 1953.59 756.135 Z\" fill=\"#000000\" fill-rule=\"nonzero\" fill-opacity=\"1\" /><path clip-path=\"url(#clip010)\" d=\"M1979.94 761.213 L1979.94 811.603 L1990.53 811.603 Q2003.94 811.603 2010.14 805.527 Q2016.39 799.451 2016.39 786.343 Q2016.39 773.322 2010.14 767.289 Q2003.94 761.213 1990.53 761.213 L1979.94 761.213 M1971.17 754.008 L1989.18 754.008 Q2008.02 754.008 2016.83 761.864 Q2025.64 769.677 2025.64 786.343 Q2025.64 803.097 2016.78 810.952 Q2007.93 818.808 1989.18 818.808 L1971.17 818.808 L1971.17 754.008 Z\" fill=\"#000000\" fill-rule=\"nonzero\" fill-opacity=\"1\" /><path clip-path=\"url(#clip010)\" d=\"M2058.45 751.361 Q2052.63 761.343 2049.81 771.109 Q2046.99 780.874 2046.99 790.9 Q2046.99 800.926 2049.81 810.779 Q2052.68 820.588 2058.45 830.527 L2051.51 830.527 Q2045 820.327 2041.74 810.475 Q2038.53 800.623 2038.53 790.9 Q2038.53 781.222 2041.74 771.413 Q2044.95 761.604 2051.51 751.361 L2058.45 751.361 Z\" fill=\"#000000\" fill-rule=\"nonzero\" fill-opacity=\"1\" /><path clip-path=\"url(#clip010)\" d=\"M2083.06 787.862 L2083.06 811.603 L2097.12 811.603 Q2104.2 811.603 2107.58 808.695 Q2111.01 805.744 2111.01 799.711 Q2111.01 793.635 2107.58 790.77 Q2104.2 787.862 2097.12 787.862 L2083.06 787.862 M2083.06 761.213 L2083.06 780.744 L2096.04 780.744 Q2102.46 780.744 2105.59 778.357 Q2108.75 775.927 2108.75 770.979 Q2108.75 766.074 2105.59 763.644 Q2102.46 761.213 2096.04 761.213 L2083.06 761.213 M2074.29 754.008 L2096.69 754.008 Q2106.71 754.008 2112.14 758.175 Q2117.56 762.342 2117.56 770.024 Q2117.56 775.97 2114.79 779.486 Q2112.01 783.001 2106.63 783.869 Q2113.09 785.258 2116.65 789.685 Q2120.26 794.069 2120.26 800.666 Q2120.26 809.346 2114.35 814.077 Q2108.45 818.808 2097.56 818.808 L2074.29 818.808 L2074.29 754.008 Z\" fill=\"#000000\" fill-rule=\"nonzero\" fill-opacity=\"1\" /><path clip-path=\"url(#clip010)\" d=\"M2144.04 761.213 L2144.04 811.603 L2154.63 811.603 Q2168.04 811.603 2174.25 805.527 Q2180.5 799.451 2180.5 786.343 Q2180.5 773.322 2174.25 767.289 Q2168.04 761.213 2154.63 761.213 L2144.04 761.213 M2135.27 754.008 L2153.28 754.008 Q2172.12 754.008 2180.93 761.864 Q2189.74 769.677 2189.74 786.343 Q2189.74 803.097 2180.89 810.952 Q2172.03 818.808 2153.28 818.808 L2135.27 818.808 L2135.27 754.008 Z\" fill=\"#000000\" fill-rule=\"nonzero\" fill-opacity=\"1\" /><path clip-path=\"url(#clip010)\" d=\"M2203.72 754.008 L2240.96 754.008 L2240.96 761.387 L2212.49 761.387 L2212.49 780.484 L2238.18 780.484 L2238.18 787.862 L2212.49 787.862 L2212.49 818.808 L2203.72 818.808 L2203.72 754.008 Z\" fill=\"#000000\" fill-rule=\"nonzero\" fill-opacity=\"1\" /><path clip-path=\"url(#clip010)\" d=\"M2279.72 761.647 L2257.58 796.239 L2279.72 796.239 L2279.72 761.647 M2277.42 754.008 L2288.44 754.008 L2288.44 796.239 L2297.69 796.239 L2297.69 803.531 L2288.44 803.531 L2288.44 818.808 L2279.72 818.808 L2279.72 803.531 L2250.46 803.531 L2250.46 795.067 L2277.42 754.008 Z\" fill=\"#000000\" fill-rule=\"nonzero\" fill-opacity=\"1\" /><path clip-path=\"url(#clip010)\" d=\"M2309.79 751.361 L2316.74 751.361 Q2323.25 761.604 2326.46 771.413 Q2329.72 781.222 2329.72 790.9 Q2329.72 800.623 2326.46 810.475 Q2323.25 820.327 2316.74 830.527 L2309.79 830.527 Q2315.57 820.588 2318.39 810.779 Q2321.25 800.926 2321.25 790.9 Q2321.25 780.874 2318.39 771.109 Q2315.57 761.343 2309.79 751.361 Z\" fill=\"#000000\" fill-rule=\"nonzero\" fill-opacity=\"1\" /><polyline clip-path=\"url(#clip010)\" style=\"stroke:#00a9ad; stroke-linecap:round; stroke-linejoin:round; stroke-width:37.5; stroke-opacity:1; fill:none\" stroke-dasharray=\"19, 38\" points=\"1750.6,883.608 1888.84,883.608 \"/>\n",
       "<path clip-path=\"url(#clip010)\" d=\"M1953.59 853.335 L1953.59 861.885 Q1948.6 859.498 1944.17 858.326 Q1939.74 857.154 1935.62 857.154 Q1928.46 857.154 1924.55 859.932 Q1920.69 862.71 1920.69 867.831 Q1920.69 872.128 1923.25 874.342 Q1925.86 876.512 1933.06 877.857 L1938.36 878.942 Q1948.16 880.809 1952.81 885.54 Q1957.5 890.227 1957.5 898.126 Q1957.5 907.545 1951.16 912.406 Q1944.87 917.267 1932.67 917.267 Q1928.07 917.267 1922.86 916.225 Q1917.7 915.184 1912.14 913.144 L1912.14 904.116 Q1917.48 907.111 1922.6 908.63 Q1927.72 910.149 1932.67 910.149 Q1940.18 910.149 1944.26 907.198 Q1948.34 904.246 1948.34 898.777 Q1948.34 894.003 1945.39 891.312 Q1942.48 888.621 1935.79 887.276 L1930.46 886.234 Q1920.65 884.281 1916.26 880.114 Q1911.88 875.948 1911.88 868.526 Q1911.88 859.932 1917.91 854.984 Q1923.99 850.036 1934.62 850.036 Q1939.18 850.036 1943.91 850.861 Q1948.64 851.686 1953.59 853.335 Z\" fill=\"#000000\" fill-rule=\"nonzero\" fill-opacity=\"1\" /><path clip-path=\"url(#clip010)\" d=\"M1970.82 848.474 L1978.81 848.474 L1978.81 916.008 L1970.82 916.008 L1970.82 848.474 Z\" fill=\"#000000\" fill-rule=\"nonzero\" fill-opacity=\"1\" /><path clip-path=\"url(#clip010)\" d=\"M2014.35 872.996 Q2007.93 872.996 2004.2 878.031 Q2000.46 883.022 2000.46 891.746 Q2000.46 900.47 2004.15 905.505 Q2007.89 910.496 2014.35 910.496 Q2020.73 910.496 2024.47 905.461 Q2028.2 900.427 2028.2 891.746 Q2028.2 883.109 2024.47 878.074 Q2020.73 872.996 2014.35 872.996 M2014.35 866.226 Q2024.77 866.226 2030.72 872.996 Q2036.66 879.767 2036.66 891.746 Q2036.66 903.682 2030.72 910.496 Q2024.77 917.267 2014.35 917.267 Q2003.89 917.267 1997.95 910.496 Q1992.04 903.682 1992.04 891.746 Q1992.04 879.767 1997.95 872.996 Q2003.89 866.226 2014.35 866.226 Z\" fill=\"#000000\" fill-rule=\"nonzero\" fill-opacity=\"1\" /><path clip-path=\"url(#clip010)\" d=\"M2057.63 908.717 L2057.63 934.498 L2049.6 934.498 L2049.6 867.397 L2057.63 867.397 L2057.63 874.776 Q2060.14 870.436 2063.96 868.352 Q2067.83 866.226 2073.16 866.226 Q2082.02 866.226 2087.53 873.257 Q2093.09 880.288 2093.09 891.746 Q2093.09 903.204 2087.53 910.236 Q2082.02 917.267 2073.16 917.267 Q2067.83 917.267 2063.96 915.184 Q2060.14 913.057 2057.63 908.717 M2084.8 891.746 Q2084.8 882.936 2081.15 877.944 Q2077.55 872.91 2071.21 872.91 Q2064.87 872.91 2061.23 877.944 Q2057.63 882.936 2057.63 891.746 Q2057.63 900.557 2061.23 905.592 Q2064.87 910.583 2071.21 910.583 Q2077.55 910.583 2081.15 905.592 Q2084.8 900.557 2084.8 891.746 Z\" fill=\"#000000\" fill-rule=\"nonzero\" fill-opacity=\"1\" /><path clip-path=\"url(#clip010)\" d=\"M2147.9 889.706 L2147.9 893.613 L2111.18 893.613 Q2111.71 901.859 2116.13 906.199 Q2120.6 910.496 2128.55 910.496 Q2133.15 910.496 2137.44 909.368 Q2141.78 908.239 2146.04 905.982 L2146.04 913.534 Q2141.74 915.357 2137.23 916.312 Q2132.71 917.267 2128.07 917.267 Q2116.44 917.267 2109.62 910.496 Q2102.85 903.725 2102.85 892.18 Q2102.85 880.245 2109.27 873.257 Q2115.74 866.226 2126.68 866.226 Q2136.49 866.226 2142.17 872.562 Q2147.9 878.856 2147.9 889.706 M2139.92 887.363 Q2139.83 880.809 2136.23 876.903 Q2132.67 872.996 2126.77 872.996 Q2120.08 872.996 2116.05 876.772 Q2112.05 880.548 2111.44 887.406 L2139.92 887.363 Z\" fill=\"#000000\" fill-rule=\"nonzero\" fill-opacity=\"1\" /><path clip-path=\"url(#clip010)\" d=\"M2162.05 875.644 L2217.69 875.644 L2217.69 882.936 L2162.05 882.936 L2162.05 875.644 M2162.05 893.352 L2217.69 893.352 L2217.69 900.731 L2162.05 900.731 L2162.05 893.352 Z\" fill=\"#000000\" fill-rule=\"nonzero\" fill-opacity=\"1\" /><path clip-path=\"url(#clip010)\" d=\"M2260.71 858.847 L2238.57 893.439 L2260.71 893.439 L2260.71 858.847 M2258.41 851.208 L2269.43 851.208 L2269.43 893.439 L2278.67 893.439 L2278.67 900.731 L2269.43 900.731 L2269.43 916.008 L2260.71 916.008 L2260.71 900.731 L2231.45 900.731 L2231.45 892.267 L2258.41 851.208 Z\" fill=\"#000000\" fill-rule=\"nonzero\" fill-opacity=\"1\" /><polyline clip-path=\"url(#clip010)\" style=\"stroke:#ed5d92; stroke-linecap:round; stroke-linejoin:round; stroke-width:37.5; stroke-opacity:1; fill:none\" points=\"1750.6,980.808 1888.84,980.808 \"/>\n",
       "<circle clip-path=\"url(#clip010)\" cx=\"1819.72\" cy=\"980.808\" r=\"10.2398\" fill=\"#ed5d92\" fill-rule=\"evenodd\" fill-opacity=\"1\" stroke=\"#000000\" stroke-opacity=\"1\" stroke-width=\"6.98182\"/>\n",
       "<path clip-path=\"url(#clip010)\" d=\"M1953.59 950.535 L1953.59 959.085 Q1948.6 956.698 1944.17 955.526 Q1939.74 954.354 1935.62 954.354 Q1928.46 954.354 1924.55 957.132 Q1920.69 959.91 1920.69 965.031 Q1920.69 969.328 1923.25 971.542 Q1925.86 973.712 1933.06 975.057 L1938.36 976.142 Q1948.16 978.009 1952.81 982.74 Q1957.5 987.427 1957.5 995.326 Q1957.5 1004.74 1951.16 1009.61 Q1944.87 1014.47 1932.67 1014.47 Q1928.07 1014.47 1922.86 1013.43 Q1917.7 1012.38 1912.14 1010.34 L1912.14 1001.32 Q1917.48 1004.31 1922.6 1005.83 Q1927.72 1007.35 1932.67 1007.35 Q1940.18 1007.35 1944.26 1004.4 Q1948.34 1001.45 1948.34 995.977 Q1948.34 991.203 1945.39 988.512 Q1942.48 985.821 1935.79 984.476 L1930.46 983.434 Q1920.65 981.481 1916.26 977.314 Q1911.88 973.148 1911.88 965.726 Q1911.88 957.132 1917.91 952.184 Q1923.99 947.236 1934.62 947.236 Q1939.18 947.236 1943.91 948.061 Q1948.64 948.886 1953.59 950.535 Z\" fill=\"#000000\" fill-rule=\"nonzero\" fill-opacity=\"1\" /><path clip-path=\"url(#clip010)\" d=\"M1979.94 955.613 L1979.94 1006 L1990.53 1006 Q2003.94 1006 2010.14 999.927 Q2016.39 993.851 2016.39 980.743 Q2016.39 967.722 2010.14 961.689 Q2003.94 955.613 1990.53 955.613 L1979.94 955.613 M1971.17 948.408 L1989.18 948.408 Q2008.02 948.408 2016.83 956.264 Q2025.64 964.077 2025.64 980.743 Q2025.64 997.497 2016.78 1005.35 Q2007.93 1013.21 1989.18 1013.21 L1971.17 1013.21 L1971.17 948.408 Z\" fill=\"#000000\" fill-rule=\"nonzero\" fill-opacity=\"1\" /><path clip-path=\"url(#clip010)\" d=\"M2058.45 945.761 Q2052.63 955.743 2049.81 965.509 Q2046.99 975.274 2046.99 985.3 Q2046.99 995.326 2049.81 1005.18 Q2052.68 1014.99 2058.45 1024.93 L2051.51 1024.93 Q2045 1014.73 2041.74 1004.87 Q2038.53 995.023 2038.53 985.3 Q2038.53 975.622 2041.74 965.813 Q2044.95 956.004 2051.51 945.761 L2058.45 945.761 Z\" fill=\"#000000\" fill-rule=\"nonzero\" fill-opacity=\"1\" /><path clip-path=\"url(#clip010)\" d=\"M2083.06 982.262 L2083.06 1006 L2097.12 1006 Q2104.2 1006 2107.58 1003.1 Q2111.01 1000.14 2111.01 994.111 Q2111.01 988.035 2107.58 985.17 Q2104.2 982.262 2097.12 982.262 L2083.06 982.262 M2083.06 955.613 L2083.06 975.144 L2096.04 975.144 Q2102.46 975.144 2105.59 972.757 Q2108.75 970.327 2108.75 965.379 Q2108.75 960.474 2105.59 958.044 Q2102.46 955.613 2096.04 955.613 L2083.06 955.613 M2074.29 948.408 L2096.69 948.408 Q2106.71 948.408 2112.14 952.575 Q2117.56 956.742 2117.56 964.424 Q2117.56 970.37 2114.79 973.886 Q2112.01 977.401 2106.63 978.269 Q2113.09 979.658 2116.65 984.085 Q2120.26 988.469 2120.26 995.066 Q2120.26 1003.75 2114.35 1008.48 Q2108.45 1013.21 2097.56 1013.21 L2074.29 1013.21 L2074.29 948.408 Z\" fill=\"#000000\" fill-rule=\"nonzero\" fill-opacity=\"1\" /><path clip-path=\"url(#clip010)\" d=\"M2144.04 955.613 L2144.04 1006 L2154.63 1006 Q2168.04 1006 2174.25 999.927 Q2180.5 993.851 2180.5 980.743 Q2180.5 967.722 2174.25 961.689 Q2168.04 955.613 2154.63 955.613 L2144.04 955.613 M2135.27 948.408 L2153.28 948.408 Q2172.12 948.408 2180.93 956.264 Q2189.74 964.077 2189.74 980.743 Q2189.74 997.497 2180.89 1005.35 Q2172.03 1013.21 2153.28 1013.21 L2135.27 1013.21 L2135.27 948.408 Z\" fill=\"#000000\" fill-rule=\"nonzero\" fill-opacity=\"1\" /><path clip-path=\"url(#clip010)\" d=\"M2203.72 948.408 L2240.96 948.408 L2240.96 955.787 L2212.49 955.787 L2212.49 974.884 L2238.18 974.884 L2238.18 982.262 L2212.49 982.262 L2212.49 1013.21 L2203.72 1013.21 L2203.72 948.408 Z\" fill=\"#000000\" fill-rule=\"nonzero\" fill-opacity=\"1\" /><path clip-path=\"url(#clip010)\" d=\"M2255.71 948.408 L2290.13 948.408 L2290.13 955.787 L2263.74 955.787 L2263.74 971.672 Q2265.65 971.021 2267.56 970.717 Q2269.47 970.37 2271.38 970.37 Q2282.23 970.37 2288.57 976.316 Q2294.91 982.262 2294.91 992.418 Q2294.91 1002.88 2288.4 1008.69 Q2281.89 1014.47 2270.04 1014.47 Q2265.96 1014.47 2261.7 1013.77 Q2257.49 1013.08 2252.98 1011.69 L2252.98 1002.88 Q2256.89 1005.01 2261.05 1006.05 Q2265.22 1007.09 2269.86 1007.09 Q2277.37 1007.09 2281.76 1003.14 Q2286.14 999.189 2286.14 992.418 Q2286.14 985.648 2281.76 981.698 Q2277.37 977.748 2269.86 977.748 Q2266.35 977.748 2262.83 978.53 Q2259.36 979.311 2255.71 980.96 L2255.71 948.408 Z\" fill=\"#000000\" fill-rule=\"nonzero\" fill-opacity=\"1\" /><path clip-path=\"url(#clip010)\" d=\"M2309.79 945.761 L2316.74 945.761 Q2323.25 956.004 2326.46 965.813 Q2329.72 975.622 2329.72 985.3 Q2329.72 995.023 2326.46 1004.87 Q2323.25 1014.73 2316.74 1024.93 L2309.79 1024.93 Q2315.57 1014.99 2318.39 1005.18 Q2321.25 995.326 2321.25 985.3 Q2321.25 975.274 2318.39 965.509 Q2315.57 955.743 2309.79 945.761 Z\" fill=\"#000000\" fill-rule=\"nonzero\" fill-opacity=\"1\" /><polyline clip-path=\"url(#clip010)\" style=\"stroke:#c68125; stroke-linecap:round; stroke-linejoin:round; stroke-width:37.5; stroke-opacity:1; fill:none\" stroke-dasharray=\"19, 38\" points=\"1750.6,1078.01 1888.84,1078.01 \"/>\n",
       "<path clip-path=\"url(#clip010)\" d=\"M1953.59 1047.73 L1953.59 1056.29 Q1948.6 1053.9 1944.17 1052.73 Q1939.74 1051.55 1935.62 1051.55 Q1928.46 1051.55 1924.55 1054.33 Q1920.69 1057.11 1920.69 1062.23 Q1920.69 1066.53 1923.25 1068.74 Q1925.86 1070.91 1933.06 1072.26 L1938.36 1073.34 Q1948.16 1075.21 1952.81 1079.94 Q1957.5 1084.63 1957.5 1092.53 Q1957.5 1101.94 1951.16 1106.81 Q1944.87 1111.67 1932.67 1111.67 Q1928.07 1111.67 1922.86 1110.63 Q1917.7 1109.58 1912.14 1107.54 L1912.14 1098.52 Q1917.48 1101.51 1922.6 1103.03 Q1927.72 1104.55 1932.67 1104.55 Q1940.18 1104.55 1944.26 1101.6 Q1948.34 1098.65 1948.34 1093.18 Q1948.34 1088.4 1945.39 1085.71 Q1942.48 1083.02 1935.79 1081.68 L1930.46 1080.63 Q1920.65 1078.68 1916.26 1074.51 Q1911.88 1070.35 1911.88 1062.93 Q1911.88 1054.33 1917.91 1049.38 Q1923.99 1044.44 1934.62 1044.44 Q1939.18 1044.44 1943.91 1045.26 Q1948.64 1046.09 1953.59 1047.73 Z\" fill=\"#000000\" fill-rule=\"nonzero\" fill-opacity=\"1\" /><path clip-path=\"url(#clip010)\" d=\"M1970.82 1042.87 L1978.81 1042.87 L1978.81 1110.41 L1970.82 1110.41 L1970.82 1042.87 Z\" fill=\"#000000\" fill-rule=\"nonzero\" fill-opacity=\"1\" /><path clip-path=\"url(#clip010)\" d=\"M2014.35 1067.4 Q2007.93 1067.4 2004.2 1072.43 Q2000.46 1077.42 2000.46 1086.15 Q2000.46 1094.87 2004.15 1099.9 Q2007.89 1104.9 2014.35 1104.9 Q2020.73 1104.9 2024.47 1099.86 Q2028.2 1094.83 2028.2 1086.15 Q2028.2 1077.51 2024.47 1072.47 Q2020.73 1067.4 2014.35 1067.4 M2014.35 1060.63 Q2024.77 1060.63 2030.72 1067.4 Q2036.66 1074.17 2036.66 1086.15 Q2036.66 1098.08 2030.72 1104.9 Q2024.77 1111.67 2014.35 1111.67 Q2003.89 1111.67 1997.95 1104.9 Q1992.04 1098.08 1992.04 1086.15 Q1992.04 1074.17 1997.95 1067.4 Q2003.89 1060.63 2014.35 1060.63 Z\" fill=\"#000000\" fill-rule=\"nonzero\" fill-opacity=\"1\" /><path clip-path=\"url(#clip010)\" d=\"M2057.63 1103.12 L2057.63 1128.9 L2049.6 1128.9 L2049.6 1061.8 L2057.63 1061.8 L2057.63 1069.18 Q2060.14 1064.84 2063.96 1062.75 Q2067.83 1060.63 2073.16 1060.63 Q2082.02 1060.63 2087.53 1067.66 Q2093.09 1074.69 2093.09 1086.15 Q2093.09 1097.6 2087.53 1104.64 Q2082.02 1111.67 2073.16 1111.67 Q2067.83 1111.67 2063.96 1109.58 Q2060.14 1107.46 2057.63 1103.12 M2084.8 1086.15 Q2084.8 1077.34 2081.15 1072.34 Q2077.55 1067.31 2071.21 1067.31 Q2064.87 1067.31 2061.23 1072.34 Q2057.63 1077.34 2057.63 1086.15 Q2057.63 1094.96 2061.23 1099.99 Q2064.87 1104.98 2071.21 1104.98 Q2077.55 1104.98 2081.15 1099.99 Q2084.8 1094.96 2084.8 1086.15 Z\" fill=\"#000000\" fill-rule=\"nonzero\" fill-opacity=\"1\" /><path clip-path=\"url(#clip010)\" d=\"M2147.9 1084.11 L2147.9 1088.01 L2111.18 1088.01 Q2111.71 1096.26 2116.13 1100.6 Q2120.6 1104.9 2128.55 1104.9 Q2133.15 1104.9 2137.44 1103.77 Q2141.78 1102.64 2146.04 1100.38 L2146.04 1107.93 Q2141.74 1109.76 2137.23 1110.71 Q2132.71 1111.67 2128.07 1111.67 Q2116.44 1111.67 2109.62 1104.9 Q2102.85 1098.13 2102.85 1086.58 Q2102.85 1074.64 2109.27 1067.66 Q2115.74 1060.63 2126.68 1060.63 Q2136.49 1060.63 2142.17 1066.96 Q2147.9 1073.26 2147.9 1084.11 M2139.92 1081.76 Q2139.83 1075.21 2136.23 1071.3 Q2132.67 1067.4 2126.77 1067.4 Q2120.08 1067.4 2116.05 1071.17 Q2112.05 1074.95 2111.44 1081.81 L2139.92 1081.76 Z\" fill=\"#000000\" fill-rule=\"nonzero\" fill-opacity=\"1\" /><path clip-path=\"url(#clip010)\" d=\"M2162.05 1070.04 L2217.69 1070.04 L2217.69 1077.34 L2162.05 1077.34 L2162.05 1070.04 M2162.05 1087.75 L2217.69 1087.75 L2217.69 1095.13 L2162.05 1095.13 L2162.05 1087.75 Z\" fill=\"#000000\" fill-rule=\"nonzero\" fill-opacity=\"1\" /><path clip-path=\"url(#clip010)\" d=\"M2236.7 1045.61 L2271.12 1045.61 L2271.12 1052.99 L2244.73 1052.99 L2244.73 1068.87 Q2246.64 1068.22 2248.55 1067.92 Q2250.46 1067.57 2252.37 1067.57 Q2263.22 1067.57 2269.56 1073.52 Q2275.9 1079.46 2275.9 1089.62 Q2275.9 1100.08 2269.39 1105.89 Q2262.88 1111.67 2251.03 1111.67 Q2246.95 1111.67 2242.69 1110.97 Q2238.48 1110.28 2233.97 1108.89 L2233.97 1100.08 Q2237.88 1102.21 2242.04 1103.25 Q2246.21 1104.29 2250.85 1104.29 Q2258.36 1104.29 2262.75 1100.34 Q2267.13 1096.39 2267.13 1089.62 Q2267.13 1082.85 2262.75 1078.9 Q2258.36 1074.95 2250.85 1074.95 Q2247.34 1074.95 2243.82 1075.73 Q2240.35 1076.51 2236.7 1078.16 L2236.7 1045.61 Z\" fill=\"#000000\" fill-rule=\"nonzero\" fill-opacity=\"1\" /></svg>\n"
      ]
     },
     "execution_count": 61,
     "metadata": {},
     "output_type": "execute_result"
    }
   ],
   "source": [
    "p=plot!(del_x.*(-1),vec(err5),lw=5,label=\"SD(BDF5)\",legend=:bottomright,yaxis=:log10,xaxis=:log10,yticks=[10^(-16),10^(-15),10^(-14),\n",
    "        10^(-13),10^(-12),10^(-11),10^(-10),10^(-9),10^(-8),10^(-7),10^(-6),10^(-5),10^(-4),10^(-3),10^(-2),10^(-1),1,10],\n",
    "    marker=(:circle,5),xtickfontsize=15,ytickfontsize=15,legendfontsize=15)\n",
    "p=plot!(del_x.*(-1),10^(-0.1)*(del_x.*(-1)).^(5),lw=5,label=\"Slope=5\",yaxis=:log10,xaxis=:log10,ls=:dot,legend=:outerright)"
   ]
  },
  {
   "cell_type": "markdown",
   "id": "c61f19d5",
   "metadata": {},
   "source": [
    "The following plot shows the order of error of the spectral discretization (CDF) using BDF6 for $\\beta=2$, $x_{0}=\\lceil 13/\\sqrt{\\beta}\\rceil$, at $x=-2$ before interpolation with $M=8000$. We treat the case $\\Delta x=-0.001$ as the reference to compare with. $\\Delta x=-0.4,-0.3,-0.25$ are used."
   ]
  },
  {
   "cell_type": "code",
   "execution_count": 21,
   "id": "f73170f7",
   "metadata": {},
   "outputs": [],
   "source": [
    "β=2;\n",
    "xx=-2;\n",
    "result_ref6=TW(β;x0=ceil(13/sqrt(β)),method=\"spectral\",step=\"bdf6\",interp=false,Δx_s=-0.001);\n",
    "x_ref6=result_ref6[1];F_ref6=result_ref6[2];ind6=findall(x -> x == xx, x_ref6)[1];"
   ]
  },
  {
   "cell_type": "code",
   "execution_count": 22,
   "id": "c1b28065",
   "metadata": {},
   "outputs": [],
   "source": [
    "del_x=[-0.4,-0.3,-0.25];\n",
    "err6=zeros(1,length(del_x));\n",
    "for i=1:length(del_x)\n",
    "    dx=del_x[i];\n",
    "    result_cdf=TW(β;x0=ceil(13/sqrt(β)),method=\"spectral\",step=\"bdf6\",interp=false,Δx_s=dx);\n",
    "    x_cdf=result_cdf[1];F_cdf=result_cdf[2];\n",
    "    ind62=findall(x -> x == xx, x_cdf)[1];\n",
    "    err6[i]=abs(F_cdf[ind62]-F_ref6[ind6]);\n",
    "end"
   ]
  },
  {
   "cell_type": "code",
   "execution_count": 63,
   "id": "9d67f3e5",
   "metadata": {},
   "outputs": [
    {
     "data": {
      "image/svg+xml": [
       "<?xml version=\"1.0\" encoding=\"utf-8\"?>\n",
       "<svg xmlns=\"http://www.w3.org/2000/svg\" xmlns:xlink=\"http://www.w3.org/1999/xlink\" width=\"600\" height=\"400\" viewBox=\"0 0 2400 1600\">\n",
       "<defs>\n",
       "  <clipPath id=\"clip050\">\n",
       "    <rect x=\"0\" y=\"0\" width=\"2400\" height=\"1600\"/>\n",
       "  </clipPath>\n",
       "</defs>\n",
       "<path clip-path=\"url(#clip050)\" d=\"M0 1600 L2400 1600 L2400 0 L0 0  Z\" fill=\"#ffffff\" fill-rule=\"evenodd\" fill-opacity=\"1\"/>\n",
       "<defs>\n",
       "  <clipPath id=\"clip051\">\n",
       "    <rect x=\"480\" y=\"0\" width=\"1681\" height=\"1600\"/>\n",
       "  </clipPath>\n",
       "</defs>\n",
       "<path clip-path=\"url(#clip050)\" d=\"M279.187 1433.18 L1658.44 1433.18 L1658.44 47.2441 L279.187 47.2441  Z\" fill=\"#ffffff\" fill-rule=\"evenodd\" fill-opacity=\"1\"/>\n",
       "<defs>\n",
       "  <clipPath id=\"clip052\">\n",
       "    <rect x=\"279\" y=\"47\" width=\"1380\" height=\"1387\"/>\n",
       "  </clipPath>\n",
       "</defs>\n",
       "<polyline clip-path=\"url(#clip052)\" style=\"stroke:#000000; stroke-linecap:round; stroke-linejoin:round; stroke-width:2; stroke-opacity:0.1; fill:none\" points=\"428.51,1433.18 428.51,47.2441 \"/>\n",
       "<polyline clip-path=\"url(#clip052)\" style=\"stroke:#000000; stroke-linecap:round; stroke-linejoin:round; stroke-width:2; stroke-opacity:0.1; fill:none\" points=\"752.693,1433.18 752.693,47.2441 \"/>\n",
       "<polyline clip-path=\"url(#clip052)\" style=\"stroke:#000000; stroke-linecap:round; stroke-linejoin:round; stroke-width:2; stroke-opacity:0.1; fill:none\" points=\"1076.88,1433.18 1076.88,47.2441 \"/>\n",
       "<polyline clip-path=\"url(#clip052)\" style=\"stroke:#000000; stroke-linecap:round; stroke-linejoin:round; stroke-width:2; stroke-opacity:0.1; fill:none\" points=\"1401.06,1433.18 1401.06,47.2441 \"/>\n",
       "<polyline clip-path=\"url(#clip050)\" style=\"stroke:#000000; stroke-linecap:round; stroke-linejoin:round; stroke-width:4; stroke-opacity:1; fill:none\" points=\"279.187,1433.18 1658.44,1433.18 \"/>\n",
       "<polyline clip-path=\"url(#clip050)\" style=\"stroke:#000000; stroke-linecap:round; stroke-linejoin:round; stroke-width:4; stroke-opacity:1; fill:none\" points=\"428.51,1433.18 428.51,1414.28 \"/>\n",
       "<polyline clip-path=\"url(#clip050)\" style=\"stroke:#000000; stroke-linecap:round; stroke-linejoin:round; stroke-width:4; stroke-opacity:1; fill:none\" points=\"752.693,1433.18 752.693,1414.28 \"/>\n",
       "<polyline clip-path=\"url(#clip050)\" style=\"stroke:#000000; stroke-linecap:round; stroke-linejoin:round; stroke-width:4; stroke-opacity:1; fill:none\" points=\"1076.88,1433.18 1076.88,1414.28 \"/>\n",
       "<polyline clip-path=\"url(#clip050)\" style=\"stroke:#000000; stroke-linecap:round; stroke-linejoin:round; stroke-width:4; stroke-opacity:1; fill:none\" points=\"1401.06,1433.18 1401.06,1414.28 \"/>\n",
       "<path clip-path=\"url(#clip050)\" d=\"M300.346 1555.36 L314.669 1555.36 L314.669 1505.93 L299.087 1509.05 L299.087 1501.06 L314.582 1497.94 L323.349 1497.94 L323.349 1555.36 L337.672 1555.36 L337.672 1562.74 L300.346 1562.74 L300.346 1555.36 Z\" fill=\"#000000\" fill-rule=\"nonzero\" fill-opacity=\"1\" /><path clip-path=\"url(#clip050)\" d=\"M374.13 1503.71 Q367.359 1503.71 363.931 1510.4 Q360.545 1517.04 360.545 1530.4 Q360.545 1543.73 363.931 1550.41 Q367.359 1557.05 374.13 1557.05 Q380.944 1557.05 384.33 1550.41 Q387.759 1543.73 387.759 1530.4 Q387.759 1517.04 384.33 1510.4 Q380.944 1503.71 374.13 1503.71 M374.13 1496.77 Q385.024 1496.77 390.753 1505.4 Q396.526 1514 396.526 1530.4 Q396.526 1546.77 390.753 1555.4 Q385.024 1564 374.13 1564 Q363.236 1564 357.464 1555.4 Q351.734 1546.77 351.734 1530.4 Q351.734 1514 357.464 1505.4 Q363.236 1496.77 374.13 1496.77 Z\" fill=\"#000000\" fill-rule=\"nonzero\" fill-opacity=\"1\" /><path clip-path=\"url(#clip050)\" d=\"M396.526 1485.71 L441.735 1485.71 L441.735 1491.7 L396.526 1491.7 L396.526 1485.71 Z\" fill=\"#000000\" fill-rule=\"nonzero\" fill-opacity=\"1\" /><path clip-path=\"url(#clip050)\" d=\"M458.345 1505.35 L469.982 1505.35 L469.982 1465.18 L457.322 1467.72 L457.322 1461.23 L469.911 1458.69 L477.035 1458.69 L477.035 1505.35 L488.672 1505.35 L488.672 1511.34 L458.345 1511.34 L458.345 1505.35 Z\" fill=\"#000000\" fill-rule=\"nonzero\" fill-opacity=\"1\" /><path clip-path=\"url(#clip050)\" d=\"M503.06 1502.39 L510.501 1502.39 L510.501 1511.34 L503.06 1511.34 L503.06 1502.39 Z\" fill=\"#000000\" fill-rule=\"nonzero\" fill-opacity=\"1\" /><path clip-path=\"url(#clip050)\" d=\"M526.088 1458.69 L554.053 1458.69 L554.053 1464.69 L532.612 1464.69 L532.612 1477.6 Q534.164 1477.07 535.715 1476.82 Q537.267 1476.54 538.818 1476.54 Q547.635 1476.54 552.783 1481.37 Q557.932 1486.2 557.932 1494.45 Q557.932 1502.95 552.642 1507.68 Q547.352 1512.37 537.725 1512.37 Q534.41 1512.37 530.954 1511.8 Q527.534 1511.24 523.866 1510.11 L523.866 1502.95 Q527.04 1504.68 530.425 1505.53 Q533.811 1506.37 537.584 1506.37 Q543.685 1506.37 547.247 1503.16 Q550.808 1499.95 550.808 1494.45 Q550.808 1488.95 547.247 1485.74 Q543.685 1482.53 537.584 1482.53 Q534.728 1482.53 531.871 1483.17 Q529.05 1483.8 526.088 1485.14 L526.088 1458.69 Z\" fill=\"#000000\" fill-rule=\"nonzero\" fill-opacity=\"1\" /><path clip-path=\"url(#clip050)\" d=\"M624.988 1555.36 L639.311 1555.36 L639.311 1505.93 L623.729 1509.05 L623.729 1501.06 L639.224 1497.94 L647.991 1497.94 L647.991 1555.36 L662.314 1555.36 L662.314 1562.74 L624.988 1562.74 L624.988 1555.36 Z\" fill=\"#000000\" fill-rule=\"nonzero\" fill-opacity=\"1\" /><path clip-path=\"url(#clip050)\" d=\"M698.772 1503.71 Q692.001 1503.71 688.572 1510.4 Q685.187 1517.04 685.187 1530.4 Q685.187 1543.73 688.572 1550.41 Q692.001 1557.05 698.772 1557.05 Q705.586 1557.05 708.972 1550.41 Q712.4 1543.73 712.4 1530.4 Q712.4 1517.04 708.972 1510.4 Q705.586 1503.71 698.772 1503.71 M698.772 1496.77 Q709.666 1496.77 715.395 1505.4 Q721.168 1514 721.168 1530.4 Q721.168 1546.77 715.395 1555.4 Q709.666 1564 698.772 1564 Q687.878 1564 682.105 1555.4 Q676.376 1546.77 676.376 1530.4 Q676.376 1514 682.105 1505.4 Q687.878 1496.77 698.772 1496.77 Z\" fill=\"#000000\" fill-rule=\"nonzero\" fill-opacity=\"1\" /><path clip-path=\"url(#clip050)\" d=\"M721.168 1485.71 L766.377 1485.71 L766.377 1491.7 L721.168 1491.7 L721.168 1485.71 Z\" fill=\"#000000\" fill-rule=\"nonzero\" fill-opacity=\"1\" /><path clip-path=\"url(#clip050)\" d=\"M782.987 1505.35 L794.624 1505.35 L794.624 1465.18 L781.964 1467.72 L781.964 1461.23 L794.553 1458.69 L801.677 1458.69 L801.677 1505.35 L813.314 1505.35 L813.314 1511.34 L782.987 1511.34 L782.987 1505.35 Z\" fill=\"#000000\" fill-rule=\"nonzero\" fill-opacity=\"1\" /><path clip-path=\"url(#clip050)\" d=\"M827.702 1502.39 L835.143 1502.39 L835.143 1511.34 L827.702 1511.34 L827.702 1502.39 Z\" fill=\"#000000\" fill-rule=\"nonzero\" fill-opacity=\"1\" /><path clip-path=\"url(#clip050)\" d=\"M856.795 1505.35 L881.657 1505.35 L881.657 1511.34 L848.226 1511.34 L848.226 1505.35 Q852.281 1501.15 859.264 1494.1 Q866.281 1487.01 868.08 1484.97 Q871.501 1481.12 872.841 1478.48 Q874.216 1475.8 874.216 1473.22 Q874.216 1469.03 871.254 1466.38 Q868.327 1463.74 863.601 1463.74 Q860.251 1463.74 856.513 1464.9 Q852.81 1466.07 848.579 1468.43 L848.579 1461.23 Q852.881 1459.51 856.619 1458.62 Q860.357 1457.74 863.46 1457.74 Q871.642 1457.74 876.508 1461.83 Q881.375 1465.92 881.375 1472.77 Q881.375 1476.01 880.14 1478.94 Q878.941 1481.83 875.732 1485.78 Q874.851 1486.8 870.125 1491.7 Q865.4 1496.57 856.795 1505.35 Z\" fill=\"#000000\" fill-rule=\"nonzero\" fill-opacity=\"1\" /><path clip-path=\"url(#clip050)\" d=\"M948.096 1555.36 L962.418 1555.36 L962.418 1505.93 L946.837 1509.05 L946.837 1501.06 L962.332 1497.94 L971.099 1497.94 L971.099 1555.36 L985.422 1555.36 L985.422 1562.74 L948.096 1562.74 L948.096 1555.36 Z\" fill=\"#000000\" fill-rule=\"nonzero\" fill-opacity=\"1\" /><path clip-path=\"url(#clip050)\" d=\"M1021.88 1503.71 Q1015.11 1503.71 1011.68 1510.4 Q1008.29 1517.04 1008.29 1530.4 Q1008.29 1543.73 1011.68 1550.41 Q1015.11 1557.05 1021.88 1557.05 Q1028.69 1557.05 1032.08 1550.41 Q1035.51 1543.73 1035.51 1530.4 Q1035.51 1517.04 1032.08 1510.4 Q1028.69 1503.71 1021.88 1503.71 M1021.88 1496.77 Q1032.77 1496.77 1038.5 1505.4 Q1044.28 1514 1044.28 1530.4 Q1044.28 1546.77 1038.5 1555.4 Q1032.77 1564 1021.88 1564 Q1010.99 1564 1005.21 1555.4 Q999.484 1546.77 999.484 1530.4 Q999.484 1514 1005.21 1505.4 Q1010.99 1496.77 1021.88 1496.77 Z\" fill=\"#000000\" fill-rule=\"nonzero\" fill-opacity=\"1\" /><path clip-path=\"url(#clip050)\" d=\"M1044.28 1485.71 L1089.48 1485.71 L1089.48 1491.7 L1044.28 1491.7 L1044.28 1485.71 Z\" fill=\"#000000\" fill-rule=\"nonzero\" fill-opacity=\"1\" /><path clip-path=\"url(#clip050)\" d=\"M1120.09 1463.39 Q1114.59 1463.39 1111.81 1468.82 Q1109.06 1474.21 1109.06 1485.07 Q1109.06 1495.9 1111.81 1501.33 Q1114.59 1506.73 1120.09 1506.73 Q1125.63 1506.73 1128.38 1501.33 Q1131.17 1495.9 1131.17 1485.07 Q1131.17 1474.21 1128.38 1468.82 Q1125.63 1463.39 1120.09 1463.39 M1120.09 1457.74 Q1128.95 1457.74 1133.6 1464.76 Q1138.29 1471.74 1138.29 1485.07 Q1138.29 1498.37 1133.6 1505.39 Q1128.95 1512.37 1120.09 1512.37 Q1111.24 1512.37 1106.55 1505.39 Q1101.9 1498.37 1101.9 1485.07 Q1101.9 1471.74 1106.55 1464.76 Q1111.24 1457.74 1120.09 1457.74 Z\" fill=\"#000000\" fill-rule=\"nonzero\" fill-opacity=\"1\" /><path clip-path=\"url(#clip050)\" d=\"M1150.81 1502.39 L1158.25 1502.39 L1158.25 1511.34 L1150.81 1511.34 L1150.81 1502.39 Z\" fill=\"#000000\" fill-rule=\"nonzero\" fill-opacity=\"1\" /><path clip-path=\"url(#clip050)\" d=\"M1173.98 1510.25 L1173.98 1503.76 Q1176.66 1505.03 1179.41 1505.7 Q1182.16 1506.37 1184.8 1506.37 Q1191.86 1506.37 1195.56 1501.65 Q1199.3 1496.89 1199.83 1487.22 Q1197.78 1490.26 1194.64 1491.88 Q1191.51 1493.5 1187.7 1493.5 Q1179.8 1493.5 1175.18 1488.74 Q1170.59 1483.94 1170.59 1475.66 Q1170.59 1467.55 1175.39 1462.64 Q1180.19 1457.74 1188.16 1457.74 Q1197.29 1457.74 1202.08 1464.76 Q1206.92 1471.74 1206.92 1485.07 Q1206.92 1497.52 1200.99 1504.96 Q1195.1 1512.37 1185.12 1512.37 Q1182.44 1512.37 1179.69 1511.84 Q1176.94 1511.31 1173.98 1510.25 M1188.16 1487.93 Q1192.95 1487.93 1195.74 1484.65 Q1198.56 1481.37 1198.56 1475.66 Q1198.56 1469.98 1195.74 1466.7 Q1192.95 1463.39 1188.16 1463.39 Q1183.36 1463.39 1180.54 1466.7 Q1177.75 1469.98 1177.75 1475.66 Q1177.75 1481.37 1180.54 1484.65 Q1183.36 1487.93 1188.16 1487.93 Z\" fill=\"#000000\" fill-rule=\"nonzero\" fill-opacity=\"1\" /><path clip-path=\"url(#clip050)\" d=\"M1272.01 1555.36 L1286.34 1555.36 L1286.34 1505.93 L1270.76 1509.05 L1270.76 1501.06 L1286.25 1497.94 L1295.02 1497.94 L1295.02 1555.36 L1309.34 1555.36 L1309.34 1562.74 L1272.01 1562.74 L1272.01 1555.36 Z\" fill=\"#000000\" fill-rule=\"nonzero\" fill-opacity=\"1\" /><path clip-path=\"url(#clip050)\" d=\"M1345.8 1503.71 Q1339.03 1503.71 1335.6 1510.4 Q1332.21 1517.04 1332.21 1530.4 Q1332.21 1543.73 1335.6 1550.41 Q1339.03 1557.05 1345.8 1557.05 Q1352.61 1557.05 1356 1550.41 Q1359.43 1543.73 1359.43 1530.4 Q1359.43 1517.04 1356 1510.4 Q1352.61 1503.71 1345.8 1503.71 M1345.8 1496.77 Q1356.69 1496.77 1362.42 1505.4 Q1368.19 1514 1368.19 1530.4 Q1368.19 1546.77 1362.42 1555.4 Q1356.69 1564 1345.8 1564 Q1334.9 1564 1329.13 1555.4 Q1323.4 1546.77 1323.4 1530.4 Q1323.4 1514 1329.13 1505.4 Q1334.9 1496.77 1345.8 1496.77 Z\" fill=\"#000000\" fill-rule=\"nonzero\" fill-opacity=\"1\" /><path clip-path=\"url(#clip050)\" d=\"M1368.19 1485.71 L1413.4 1485.71 L1413.4 1491.7 L1368.19 1491.7 L1368.19 1485.71 Z\" fill=\"#000000\" fill-rule=\"nonzero\" fill-opacity=\"1\" /><path clip-path=\"url(#clip050)\" d=\"M1444.01 1463.39 Q1438.51 1463.39 1435.73 1468.82 Q1432.98 1474.21 1432.98 1485.07 Q1432.98 1495.9 1435.73 1501.33 Q1438.51 1506.73 1444.01 1506.73 Q1449.55 1506.73 1452.3 1501.33 Q1455.09 1495.9 1455.09 1485.07 Q1455.09 1474.21 1452.3 1468.82 Q1449.55 1463.39 1444.01 1463.39 M1444.01 1457.74 Q1452.86 1457.74 1457.52 1464.76 Q1462.21 1471.74 1462.21 1485.07 Q1462.21 1498.37 1457.52 1505.39 Q1452.86 1512.37 1444.01 1512.37 Q1435.16 1512.37 1430.47 1505.39 Q1425.82 1498.37 1425.82 1485.07 Q1425.82 1471.74 1430.47 1464.76 Q1435.16 1457.74 1444.01 1457.74 Z\" fill=\"#000000\" fill-rule=\"nonzero\" fill-opacity=\"1\" /><path clip-path=\"url(#clip050)\" d=\"M1474.73 1502.39 L1482.17 1502.39 L1482.17 1511.34 L1474.73 1511.34 L1474.73 1502.39 Z\" fill=\"#000000\" fill-rule=\"nonzero\" fill-opacity=\"1\" /><path clip-path=\"url(#clip050)\" d=\"M1513.8 1482.18 Q1509.01 1482.18 1506.18 1485.46 Q1503.4 1488.74 1503.4 1494.45 Q1503.4 1500.13 1506.18 1503.45 Q1509.01 1506.73 1513.8 1506.73 Q1518.6 1506.73 1521.38 1503.45 Q1524.21 1500.13 1524.21 1494.45 Q1524.21 1488.74 1521.38 1485.46 Q1518.6 1482.18 1513.8 1482.18 M1527.94 1459.86 L1527.94 1466.35 Q1525.26 1465.08 1522.51 1464.41 Q1519.8 1463.74 1517.12 1463.74 Q1510.06 1463.74 1506.33 1468.5 Q1502.62 1473.26 1502.09 1482.89 Q1504.17 1479.82 1507.31 1478.2 Q1510.45 1476.54 1514.23 1476.54 Q1522.16 1476.54 1526.74 1481.37 Q1531.36 1486.17 1531.36 1494.45 Q1531.36 1502.56 1526.57 1507.47 Q1521.77 1512.37 1513.8 1512.37 Q1504.67 1512.37 1499.84 1505.39 Q1495.01 1498.37 1495.01 1485.07 Q1495.01 1472.59 1500.93 1465.18 Q1506.85 1457.74 1516.83 1457.74 Q1519.51 1457.74 1522.23 1458.27 Q1524.98 1458.8 1527.94 1459.86 Z\" fill=\"#000000\" fill-rule=\"nonzero\" fill-opacity=\"1\" /><polyline clip-path=\"url(#clip052)\" style=\"stroke:#000000; stroke-linecap:round; stroke-linejoin:round; stroke-width:2; stroke-opacity:0.1; fill:none\" points=\"279.187,1142.82 1658.44,1142.82 \"/>\n",
       "<polyline clip-path=\"url(#clip052)\" style=\"stroke:#000000; stroke-linecap:round; stroke-linejoin:round; stroke-width:2; stroke-opacity:0.1; fill:none\" points=\"279.187,849.582 1658.44,849.582 \"/>\n",
       "<polyline clip-path=\"url(#clip052)\" style=\"stroke:#000000; stroke-linecap:round; stroke-linejoin:round; stroke-width:2; stroke-opacity:0.1; fill:none\" points=\"279.187,556.343 1658.44,556.343 \"/>\n",
       "<polyline clip-path=\"url(#clip052)\" style=\"stroke:#000000; stroke-linecap:round; stroke-linejoin:round; stroke-width:2; stroke-opacity:0.1; fill:none\" points=\"279.187,263.104 1658.44,263.104 \"/>\n",
       "<polyline clip-path=\"url(#clip050)\" style=\"stroke:#000000; stroke-linecap:round; stroke-linejoin:round; stroke-width:4; stroke-opacity:1; fill:none\" points=\"279.187,1433.18 279.187,47.2441 \"/>\n",
       "<polyline clip-path=\"url(#clip050)\" style=\"stroke:#000000; stroke-linecap:round; stroke-linejoin:round; stroke-width:4; stroke-opacity:1; fill:none\" points=\"279.187,1142.82 291.757,1142.82 \"/>\n",
       "<polyline clip-path=\"url(#clip050)\" style=\"stroke:#000000; stroke-linecap:round; stroke-linejoin:round; stroke-width:4; stroke-opacity:1; fill:none\" points=\"279.187,849.582 291.757,849.582 \"/>\n",
       "<polyline clip-path=\"url(#clip050)\" style=\"stroke:#000000; stroke-linecap:round; stroke-linejoin:round; stroke-width:4; stroke-opacity:1; fill:none\" points=\"279.187,556.343 291.757,556.343 \"/>\n",
       "<polyline clip-path=\"url(#clip050)\" style=\"stroke:#000000; stroke-linecap:round; stroke-linejoin:round; stroke-width:4; stroke-opacity:1; fill:none\" points=\"279.187,263.104 291.757,263.104 \"/>\n",
       "<path clip-path=\"url(#clip050)\" d=\"M52.7445 1179.93 L67.0673 1179.93 L67.0673 1130.5 L51.4858 1133.62 L51.4858 1125.64 L66.9805 1122.51 L75.7479 1122.51 L75.7479 1179.93 L90.0707 1179.93 L90.0707 1187.31 L52.7445 1187.31 L52.7445 1179.93 Z\" fill=\"#000000\" fill-rule=\"nonzero\" fill-opacity=\"1\" /><path clip-path=\"url(#clip050)\" d=\"M126.529 1128.28 Q119.758 1128.28 116.329 1134.97 Q112.944 1141.61 112.944 1154.98 Q112.944 1168.3 116.329 1174.98 Q119.758 1181.62 126.529 1181.62 Q133.343 1181.62 136.728 1174.98 Q140.157 1168.3 140.157 1154.98 Q140.157 1141.61 136.728 1134.97 Q133.343 1128.28 126.529 1128.28 M126.529 1121.34 Q137.423 1121.34 143.152 1129.98 Q148.925 1138.57 148.925 1154.98 Q148.925 1171.34 143.152 1179.98 Q137.423 1188.57 126.529 1188.57 Q115.635 1188.57 109.862 1179.98 Q104.133 1171.34 104.133 1154.98 Q104.133 1138.57 109.862 1129.98 Q115.635 1121.34 126.529 1121.34 Z\" fill=\"#000000\" fill-rule=\"nonzero\" fill-opacity=\"1\" /><path clip-path=\"url(#clip050)\" d=\"M148.925 1110.28 L194.134 1110.28 L194.134 1116.27 L148.925 1116.27 L148.925 1110.28 Z\" fill=\"#000000\" fill-rule=\"nonzero\" fill-opacity=\"1\" /><path clip-path=\"url(#clip050)\" d=\"M225.625 1106.75 Q220.829 1106.75 218.008 1110.03 Q215.222 1113.31 215.222 1119.02 Q215.222 1124.7 218.008 1128.02 Q220.829 1131.3 225.625 1131.3 Q230.421 1131.3 233.207 1128.02 Q236.028 1124.7 236.028 1119.02 Q236.028 1113.31 233.207 1110.03 Q230.421 1106.75 225.625 1106.75 M239.766 1084.43 L239.766 1090.92 Q237.086 1089.65 234.335 1088.98 Q231.62 1088.31 228.94 1088.31 Q221.887 1088.31 218.149 1093.07 Q214.446 1097.83 213.917 1107.46 Q215.998 1104.39 219.136 1102.77 Q222.275 1101.11 226.048 1101.11 Q233.983 1101.11 238.567 1105.94 Q243.187 1110.74 243.187 1119.02 Q243.187 1127.14 238.391 1132.04 Q233.595 1136.94 225.625 1136.94 Q216.491 1136.94 211.66 1129.96 Q206.829 1122.94 206.829 1109.64 Q206.829 1097.16 212.753 1089.75 Q218.678 1082.31 228.658 1082.31 Q231.338 1082.31 234.053 1082.84 Q236.804 1083.37 239.766 1084.43 Z\" fill=\"#000000\" fill-rule=\"nonzero\" fill-opacity=\"1\" /><path clip-path=\"url(#clip050)\" d=\"M54.5077 886.693 L68.8306 886.693 L68.8306 837.258 L53.2491 840.383 L53.2491 832.396 L68.7438 829.271 L77.5111 829.271 L77.5111 886.693 L91.8339 886.693 L91.8339 894.071 L54.5077 894.071 L54.5077 886.693 Z\" fill=\"#000000\" fill-rule=\"nonzero\" fill-opacity=\"1\" /><path clip-path=\"url(#clip050)\" d=\"M128.292 835.044 Q121.521 835.044 118.092 841.728 Q114.707 848.369 114.707 861.737 Q114.707 875.061 118.092 881.745 Q121.521 888.386 128.292 888.386 Q135.106 888.386 138.492 881.745 Q141.92 875.061 141.92 861.737 Q141.92 848.369 138.492 841.728 Q135.106 835.044 128.292 835.044 M128.292 828.1 Q139.186 828.1 144.915 836.737 Q150.688 845.33 150.688 861.737 Q150.688 878.099 144.915 886.736 Q139.186 895.33 128.292 895.33 Q117.398 895.33 111.625 886.736 Q105.896 878.099 105.896 861.737 Q105.896 845.33 111.625 836.737 Q117.398 828.1 128.292 828.1 Z\" fill=\"#000000\" fill-rule=\"nonzero\" fill-opacity=\"1\" /><path clip-path=\"url(#clip050)\" d=\"M150.688 817.04 L195.897 817.04 L195.897 823.035 L150.688 823.035 L150.688 817.04 Z\" fill=\"#000000\" fill-rule=\"nonzero\" fill-opacity=\"1\" /><path clip-path=\"url(#clip050)\" d=\"M211.343 790.027 L239.308 790.027 L239.308 796.022 L217.867 796.022 L217.867 808.929 Q219.418 808.4 220.97 808.153 Q222.522 807.871 224.073 807.871 Q232.889 807.871 238.038 812.702 Q243.187 817.533 243.187 825.785 Q243.187 834.284 237.897 839.009 Q232.607 843.7 222.98 843.7 Q219.665 843.7 216.209 843.135 Q212.789 842.571 209.121 841.443 L209.121 834.284 Q212.295 836.012 215.68 836.858 Q219.066 837.705 222.839 837.705 Q228.94 837.705 232.502 834.496 Q236.063 831.287 236.063 825.785 Q236.063 820.284 232.502 817.075 Q228.94 813.866 222.839 813.866 Q219.983 813.866 217.126 814.501 Q214.305 815.135 211.343 816.475 L211.343 790.027 Z\" fill=\"#000000\" fill-rule=\"nonzero\" fill-opacity=\"1\" /><path clip-path=\"url(#clip050)\" d=\"M52.2508 593.454 L66.5736 593.454 L66.5736 544.018 L50.9921 547.143 L50.9921 539.157 L66.4868 536.032 L75.2541 536.032 L75.2541 593.454 L89.577 593.454 L89.577 600.832 L52.2508 600.832 L52.2508 593.454 Z\" fill=\"#000000\" fill-rule=\"nonzero\" fill-opacity=\"1\" /><path clip-path=\"url(#clip050)\" d=\"M126.035 541.805 Q119.264 541.805 115.836 548.489 Q112.45 555.13 112.45 568.498 Q112.45 581.822 115.836 588.506 Q119.264 595.147 126.035 595.147 Q132.849 595.147 136.235 588.506 Q139.664 581.822 139.664 568.498 Q139.664 555.13 136.235 548.489 Q132.849 541.805 126.035 541.805 M126.035 534.861 Q136.929 534.861 142.658 543.498 Q148.431 552.091 148.431 568.498 Q148.431 584.86 142.658 593.497 Q136.929 602.091 126.035 602.091 Q115.141 602.091 109.369 593.497 Q103.639 584.86 103.639 568.498 Q103.639 552.091 109.369 543.498 Q115.141 534.861 126.035 534.861 Z\" fill=\"#000000\" fill-rule=\"nonzero\" fill-opacity=\"1\" /><path clip-path=\"url(#clip050)\" d=\"M148.431 523.801 L193.64 523.801 L193.64 529.796 L148.431 529.796 L148.431 523.801 Z\" fill=\"#000000\" fill-rule=\"nonzero\" fill-opacity=\"1\" /><path clip-path=\"url(#clip050)\" d=\"M228.587 502.994 L210.602 531.1 L228.587 531.1 L228.587 502.994 M226.718 496.788 L235.675 496.788 L235.675 531.1 L243.187 531.1 L243.187 537.025 L235.675 537.025 L235.675 549.438 L228.587 549.438 L228.587 537.025 L204.819 537.025 L204.819 530.148 L226.718 496.788 Z\" fill=\"#000000\" fill-rule=\"nonzero\" fill-opacity=\"1\" /><path clip-path=\"url(#clip050)\" d=\"M53.9788 300.215 L68.3016 300.215 L68.3016 250.779 L52.7201 253.904 L52.7201 245.918 L68.2148 242.793 L76.9821 242.793 L76.9821 300.215 L91.305 300.215 L91.305 307.593 L53.9788 307.593 L53.9788 300.215 Z\" fill=\"#000000\" fill-rule=\"nonzero\" fill-opacity=\"1\" /><path clip-path=\"url(#clip050)\" d=\"M127.763 248.566 Q120.992 248.566 117.563 255.25 Q114.178 261.89 114.178 275.258 Q114.178 288.583 117.563 295.267 Q120.992 301.908 127.763 301.908 Q134.577 301.908 137.963 295.267 Q141.391 288.583 141.391 275.258 Q141.391 261.89 137.963 255.25 Q134.577 248.566 127.763 248.566 M127.763 241.621 Q138.657 241.621 144.386 250.259 Q150.159 258.852 150.159 275.258 Q150.159 291.621 144.386 300.258 Q138.657 308.852 127.763 308.852 Q116.869 308.852 111.097 300.258 Q105.367 291.621 105.367 275.258 Q105.367 258.852 111.097 250.259 Q116.869 241.621 127.763 241.621 Z\" fill=\"#000000\" fill-rule=\"nonzero\" fill-opacity=\"1\" /><path clip-path=\"url(#clip050)\" d=\"M150.159 230.561 L195.368 230.561 L195.368 236.556 L150.159 236.556 L150.159 230.561 Z\" fill=\"#000000\" fill-rule=\"nonzero\" fill-opacity=\"1\" /><path clip-path=\"url(#clip050)\" d=\"M232.325 227.811 Q237.439 228.904 240.295 232.36 Q243.187 235.816 243.187 240.894 Q243.187 248.687 237.827 252.954 Q232.466 257.222 222.592 257.222 Q219.277 257.222 215.751 256.551 Q212.26 255.917 208.522 254.612 L208.522 247.735 Q211.484 249.463 215.01 250.345 Q218.537 251.227 222.381 251.227 Q229.081 251.227 232.572 248.582 Q236.099 245.937 236.099 240.894 Q236.099 236.239 232.819 233.63 Q229.575 230.985 223.756 230.985 L217.62 230.985 L217.62 225.131 L224.038 225.131 Q229.292 225.131 232.078 223.05 Q234.864 220.934 234.864 216.985 Q234.864 212.929 231.973 210.778 Q229.116 208.592 223.756 208.592 Q220.829 208.592 217.479 209.226 Q214.129 209.861 210.109 211.201 L210.109 204.854 Q214.164 203.725 217.69 203.161 Q221.252 202.597 224.391 202.597 Q232.502 202.597 237.227 206.299 Q241.952 209.967 241.952 216.244 Q241.952 220.617 239.449 223.65 Q236.945 226.647 232.325 227.811 Z\" fill=\"#000000\" fill-rule=\"nonzero\" fill-opacity=\"1\" /><polyline clip-path=\"url(#clip052)\" style=\"stroke:#009af9; stroke-linecap:round; stroke-linejoin:round; stroke-width:20; stroke-opacity:1; fill:none\" points=\"643.519,533.431 538.797,590.299 318.222,710.139 \"/>\n",
       "<circle clip-path=\"url(#clip052)\" cx=\"643.519\" cy=\"533.431\" r=\"18\" fill=\"#009af9\" fill-rule=\"evenodd\" fill-opacity=\"1\" stroke=\"#000000\" stroke-opacity=\"1\" stroke-width=\"3.2\"/>\n",
       "<circle clip-path=\"url(#clip052)\" cx=\"538.797\" cy=\"590.299\" r=\"18\" fill=\"#009af9\" fill-rule=\"evenodd\" fill-opacity=\"1\" stroke=\"#000000\" stroke-opacity=\"1\" stroke-width=\"3.2\"/>\n",
       "<circle clip-path=\"url(#clip052)\" cx=\"318.222\" cy=\"710.139\" r=\"18\" fill=\"#009af9\" fill-rule=\"evenodd\" fill-opacity=\"1\" stroke=\"#000000\" stroke-opacity=\"1\" stroke-width=\"3.2\"/>\n",
       "<polyline clip-path=\"url(#clip052)\" style=\"stroke:#e26f46; stroke-linecap:round; stroke-linejoin:round; stroke-width:20; stroke-opacity:1; fill:none\" stroke-dasharray=\"10, 20\" points=\"643.519,498.299 538.797,555.135 318.222,674.847 \"/>\n",
       "<polyline clip-path=\"url(#clip052)\" style=\"stroke:#3da44d; stroke-linecap:round; stroke-linejoin:round; stroke-width:20; stroke-opacity:1; fill:none\" points=\"643.519,872.687 538.797,968.476 318.222,1165.92 \"/>\n",
       "<circle clip-path=\"url(#clip052)\" cx=\"643.519\" cy=\"872.687\" r=\"18\" fill=\"#3da44d\" fill-rule=\"evenodd\" fill-opacity=\"1\" stroke=\"#000000\" stroke-opacity=\"1\" stroke-width=\"3.2\"/>\n",
       "<circle clip-path=\"url(#clip052)\" cx=\"538.797\" cy=\"968.476\" r=\"18\" fill=\"#3da44d\" fill-rule=\"evenodd\" fill-opacity=\"1\" stroke=\"#000000\" stroke-opacity=\"1\" stroke-width=\"3.2\"/>\n",
       "<circle clip-path=\"url(#clip052)\" cx=\"318.222\" cy=\"1165.92\" r=\"18\" fill=\"#3da44d\" fill-rule=\"evenodd\" fill-opacity=\"1\" stroke=\"#000000\" stroke-opacity=\"1\" stroke-width=\"3.2\"/>\n",
       "<polyline clip-path=\"url(#clip052)\" style=\"stroke:#c271d2; stroke-linecap:round; stroke-linejoin:round; stroke-width:20; stroke-opacity:1; fill:none\" stroke-dasharray=\"10, 20\" points=\"643.519,850.488 538.797,935.742 318.222,1115.31 \"/>\n",
       "<polyline clip-path=\"url(#clip052)\" style=\"stroke:#ac8d18; stroke-linecap:round; stroke-linejoin:round; stroke-width:20; stroke-opacity:1; fill:none\" points=\"643.519,1046.78 538.797,1157.91 318.222,1393.95 \"/>\n",
       "<circle clip-path=\"url(#clip052)\" cx=\"643.519\" cy=\"1046.78\" r=\"18\" fill=\"#ac8d18\" fill-rule=\"evenodd\" fill-opacity=\"1\" stroke=\"#000000\" stroke-opacity=\"1\" stroke-width=\"3.2\"/>\n",
       "<circle clip-path=\"url(#clip052)\" cx=\"538.797\" cy=\"1157.91\" r=\"18\" fill=\"#ac8d18\" fill-rule=\"evenodd\" fill-opacity=\"1\" stroke=\"#000000\" stroke-opacity=\"1\" stroke-width=\"3.2\"/>\n",
       "<circle clip-path=\"url(#clip052)\" cx=\"318.222\" cy=\"1393.95\" r=\"18\" fill=\"#ac8d18\" fill-rule=\"evenodd\" fill-opacity=\"1\" stroke=\"#000000\" stroke-opacity=\"1\" stroke-width=\"3.2\"/>\n",
       "<polyline clip-path=\"url(#clip052)\" style=\"stroke:#00a9ad; stroke-linecap:round; stroke-linejoin:round; stroke-width:20; stroke-opacity:1; fill:none\" stroke-dasharray=\"10, 20\" points=\"643.519,997.41 538.797,1111.08 318.222,1350.5 \"/>\n",
       "<polyline clip-path=\"url(#clip052)\" style=\"stroke:#ed5d92; stroke-linecap:round; stroke-linejoin:round; stroke-width:20; stroke-opacity:1; fill:none\" points=\"1398.83,341.212 1294.11,478.446 968.815,939.648 \"/>\n",
       "<circle clip-path=\"url(#clip052)\" cx=\"1398.83\" cy=\"341.212\" r=\"18\" fill=\"#ed5d92\" fill-rule=\"evenodd\" fill-opacity=\"1\" stroke=\"#000000\" stroke-opacity=\"1\" stroke-width=\"3.2\"/>\n",
       "<circle clip-path=\"url(#clip052)\" cx=\"1294.11\" cy=\"478.446\" r=\"18\" fill=\"#ed5d92\" fill-rule=\"evenodd\" fill-opacity=\"1\" stroke=\"#000000\" stroke-opacity=\"1\" stroke-width=\"3.2\"/>\n",
       "<circle clip-path=\"url(#clip052)\" cx=\"968.815\" cy=\"939.648\" r=\"18\" fill=\"#ed5d92\" fill-rule=\"evenodd\" fill-opacity=\"1\" stroke=\"#000000\" stroke-opacity=\"1\" stroke-width=\"3.2\"/>\n",
       "<polyline clip-path=\"url(#clip052)\" style=\"stroke:#c68125; stroke-linecap:round; stroke-linejoin:round; stroke-width:20; stroke-opacity:1; fill:none\" stroke-dasharray=\"10, 20\" points=\"1398.83,295.448 1294.11,437.537 968.815,878.906 \"/>\n",
       "<polyline clip-path=\"url(#clip052)\" style=\"stroke:#00a98d; stroke-linecap:round; stroke-linejoin:round; stroke-width:20; stroke-opacity:1; fill:none\" points=\"1619.41,125.269 1484.4,351.345 1398.83,487.525 \"/>\n",
       "<circle clip-path=\"url(#clip052)\" cx=\"1619.41\" cy=\"125.269\" r=\"18\" fill=\"#00a98d\" fill-rule=\"evenodd\" fill-opacity=\"1\" stroke=\"#000000\" stroke-opacity=\"1\" stroke-width=\"3.2\"/>\n",
       "<circle clip-path=\"url(#clip052)\" cx=\"1484.4\" cy=\"351.345\" r=\"18\" fill=\"#00a98d\" fill-rule=\"evenodd\" fill-opacity=\"1\" stroke=\"#000000\" stroke-opacity=\"1\" stroke-width=\"3.2\"/>\n",
       "<circle clip-path=\"url(#clip052)\" cx=\"1398.83\" cy=\"487.525\" r=\"18\" fill=\"#00a98d\" fill-rule=\"evenodd\" fill-opacity=\"1\" stroke=\"#000000\" stroke-opacity=\"1\" stroke-width=\"3.2\"/>\n",
       "<polyline clip-path=\"url(#clip052)\" style=\"stroke:#8e971d; stroke-linecap:round; stroke-linejoin:round; stroke-width:20; stroke-opacity:1; fill:none\" stroke-dasharray=\"10, 20\" points=\"1619.41,86.4686 1484.4,306.29 1398.83,445.604 \"/>\n",
       "<path clip-path=\"url(#clip050)\" d=\"M1727.56 1272.41 L2352.76 1272.41 L2352.76 203.208 L1727.56 203.208  Z\" fill=\"#ffffff\" fill-rule=\"evenodd\" fill-opacity=\"1\"/>\n",
       "<polyline clip-path=\"url(#clip050)\" style=\"stroke:#000000; stroke-linecap:round; stroke-linejoin:round; stroke-width:4; stroke-opacity:1; fill:none\" points=\"1727.56,1272.41 2352.76,1272.41 2352.76,203.208 1727.56,203.208 1727.56,1272.41 \"/>\n",
       "<polyline clip-path=\"url(#clip050)\" style=\"stroke:#009af9; stroke-linecap:round; stroke-linejoin:round; stroke-width:37.5; stroke-opacity:1; fill:none\" points=\"1750.6,300.408 1888.84,300.408 \"/>\n",
       "<circle clip-path=\"url(#clip050)\" cx=\"1819.72\" cy=\"300.408\" r=\"10.2398\" fill=\"#009af9\" fill-rule=\"evenodd\" fill-opacity=\"1\" stroke=\"#000000\" stroke-opacity=\"1\" stroke-width=\"6.98182\"/>\n",
       "<path clip-path=\"url(#clip050)\" d=\"M1953.59 270.135 L1953.59 278.685 Q1948.6 276.298 1944.17 275.126 Q1939.74 273.954 1935.62 273.954 Q1928.46 273.954 1924.55 276.732 Q1920.69 279.51 1920.69 284.631 Q1920.69 288.928 1923.25 291.142 Q1925.86 293.312 1933.06 294.657 L1938.36 295.742 Q1948.16 297.609 1952.81 302.34 Q1957.5 307.027 1957.5 314.926 Q1957.5 324.345 1951.16 329.206 Q1944.87 334.067 1932.67 334.067 Q1928.07 334.067 1922.86 333.025 Q1917.7 331.984 1912.14 329.944 L1912.14 320.916 Q1917.48 323.911 1922.6 325.43 Q1927.72 326.949 1932.67 326.949 Q1940.18 326.949 1944.26 323.998 Q1948.34 321.046 1948.34 315.577 Q1948.34 310.803 1945.39 308.112 Q1942.48 305.421 1935.79 304.076 L1930.46 303.034 Q1920.65 301.081 1916.26 296.914 Q1911.88 292.748 1911.88 285.326 Q1911.88 276.732 1917.91 271.784 Q1923.99 266.836 1934.62 266.836 Q1939.18 266.836 1943.91 267.661 Q1948.64 268.486 1953.59 270.135 Z\" fill=\"#000000\" fill-rule=\"nonzero\" fill-opacity=\"1\" /><path clip-path=\"url(#clip050)\" d=\"M1979.94 275.213 L1979.94 325.603 L1990.53 325.603 Q2003.94 325.603 2010.14 319.527 Q2016.39 313.451 2016.39 300.343 Q2016.39 287.322 2010.14 281.289 Q2003.94 275.213 1990.53 275.213 L1979.94 275.213 M1971.17 268.008 L1989.18 268.008 Q2008.02 268.008 2016.83 275.864 Q2025.64 283.677 2025.64 300.343 Q2025.64 317.097 2016.78 324.952 Q2007.93 332.808 1989.18 332.808 L1971.17 332.808 L1971.17 268.008 Z\" fill=\"#000000\" fill-rule=\"nonzero\" fill-opacity=\"1\" /><path clip-path=\"url(#clip050)\" d=\"M2058.45 265.361 Q2052.63 275.343 2049.81 285.109 Q2046.99 294.874 2046.99 304.9 Q2046.99 314.926 2049.81 324.779 Q2052.68 334.588 2058.45 344.527 L2051.51 344.527 Q2045 334.327 2041.74 324.475 Q2038.53 314.623 2038.53 304.9 Q2038.53 295.222 2041.74 285.413 Q2044.95 275.604 2051.51 265.361 L2058.45 265.361 Z\" fill=\"#000000\" fill-rule=\"nonzero\" fill-opacity=\"1\" /><path clip-path=\"url(#clip050)\" d=\"M2065.31 268.008 L2120.13 268.008 L2120.13 275.387 L2097.12 275.387 L2097.12 332.808 L2088.31 332.808 L2088.31 275.387 L2065.31 275.387 L2065.31 268.008 Z\" fill=\"#000000\" fill-rule=\"nonzero\" fill-opacity=\"1\" /><path clip-path=\"url(#clip050)\" d=\"M2143.35 291.663 Q2142 290.881 2140.39 290.534 Q2138.83 290.144 2136.92 290.144 Q2130.15 290.144 2126.51 294.571 Q2122.9 298.954 2122.9 307.201 L2122.9 332.808 L2114.87 332.808 L2114.87 284.197 L2122.9 284.197 L2122.9 291.749 Q2125.42 287.322 2129.46 285.196 Q2133.49 283.026 2139.27 283.026 Q2140.09 283.026 2141.09 283.156 Q2142.09 283.243 2143.3 283.46 L2143.35 291.663 Z\" fill=\"#000000\" fill-rule=\"nonzero\" fill-opacity=\"1\" /><path clip-path=\"url(#clip050)\" d=\"M2173.81 308.373 Q2164.14 308.373 2160.4 310.586 Q2156.67 312.8 2156.67 318.138 Q2156.67 322.392 2159.45 324.909 Q2162.27 327.383 2167.09 327.383 Q2173.73 327.383 2177.72 322.695 Q2181.76 317.965 2181.76 310.152 L2181.76 308.373 L2173.81 308.373 M2189.74 305.074 L2189.74 332.808 L2181.76 332.808 L2181.76 325.43 Q2179.02 329.857 2174.94 331.984 Q2170.86 334.067 2164.96 334.067 Q2157.49 334.067 2153.07 329.9 Q2148.68 325.69 2148.68 318.659 Q2148.68 310.456 2154.15 306.289 Q2159.67 302.123 2170.56 302.123 L2181.76 302.123 L2181.76 301.341 Q2181.76 295.829 2178.11 292.834 Q2174.51 289.796 2167.95 289.796 Q2163.79 289.796 2159.84 290.795 Q2155.89 291.793 2152.24 293.789 L2152.24 286.411 Q2156.63 284.718 2160.75 283.894 Q2164.87 283.026 2168.78 283.026 Q2179.33 283.026 2184.53 288.494 Q2189.74 293.963 2189.74 305.074 Z\" fill=\"#000000\" fill-rule=\"nonzero\" fill-opacity=\"1\" /><path clip-path=\"url(#clip050)\" d=\"M2213.92 325.517 L2213.92 351.298 L2205.89 351.298 L2205.89 284.197 L2213.92 284.197 L2213.92 291.576 Q2216.44 287.236 2220.26 285.152 Q2224.12 283.026 2229.46 283.026 Q2238.31 283.026 2243.82 290.057 Q2249.38 297.088 2249.38 308.546 Q2249.38 320.004 2243.82 327.036 Q2238.31 334.067 2229.46 334.067 Q2224.12 334.067 2220.26 331.984 Q2216.44 329.857 2213.92 325.517 M2241.09 308.546 Q2241.09 299.736 2237.44 294.744 Q2233.84 289.71 2227.5 289.71 Q2221.17 289.71 2217.52 294.744 Q2213.92 299.736 2213.92 308.546 Q2213.92 317.357 2217.52 322.392 Q2221.17 327.383 2227.5 327.383 Q2233.84 327.383 2237.44 322.392 Q2241.09 317.357 2241.09 308.546 Z\" fill=\"#000000\" fill-rule=\"nonzero\" fill-opacity=\"1\" /><path clip-path=\"url(#clip050)\" d=\"M2259.14 284.197 L2297.08 284.197 L2297.08 291.489 L2267.04 326.428 L2297.08 326.428 L2297.08 332.808 L2258.06 332.808 L2258.06 325.517 L2288.09 290.578 L2259.14 290.578 L2259.14 284.197 Z\" fill=\"#000000\" fill-rule=\"nonzero\" fill-opacity=\"1\" /><path clip-path=\"url(#clip050)\" d=\"M2308.01 265.361 L2314.96 265.361 Q2321.47 275.604 2324.68 285.413 Q2327.94 295.222 2327.94 304.9 Q2327.94 314.623 2324.68 324.475 Q2321.47 334.327 2314.96 344.527 L2308.01 344.527 Q2313.79 334.588 2316.61 324.779 Q2319.47 314.926 2319.47 304.9 Q2319.47 294.874 2316.61 285.109 Q2313.79 275.343 2308.01 265.361 Z\" fill=\"#000000\" fill-rule=\"nonzero\" fill-opacity=\"1\" /><polyline clip-path=\"url(#clip050)\" style=\"stroke:#e26f46; stroke-linecap:round; stroke-linejoin:round; stroke-width:37.5; stroke-opacity:1; fill:none\" stroke-dasharray=\"19, 38\" points=\"1750.6,397.608 1888.84,397.608 \"/>\n",
       "<path clip-path=\"url(#clip050)\" d=\"M1953.59 367.335 L1953.59 375.885 Q1948.6 373.498 1944.17 372.326 Q1939.74 371.154 1935.62 371.154 Q1928.46 371.154 1924.55 373.932 Q1920.69 376.71 1920.69 381.831 Q1920.69 386.128 1923.25 388.342 Q1925.86 390.512 1933.06 391.857 L1938.36 392.942 Q1948.16 394.809 1952.81 399.54 Q1957.5 404.227 1957.5 412.126 Q1957.5 421.545 1951.16 426.406 Q1944.87 431.267 1932.67 431.267 Q1928.07 431.267 1922.86 430.225 Q1917.7 429.184 1912.14 427.144 L1912.14 418.116 Q1917.48 421.111 1922.6 422.63 Q1927.72 424.149 1932.67 424.149 Q1940.18 424.149 1944.26 421.198 Q1948.34 418.246 1948.34 412.777 Q1948.34 408.003 1945.39 405.312 Q1942.48 402.621 1935.79 401.276 L1930.46 400.234 Q1920.65 398.281 1916.26 394.114 Q1911.88 389.948 1911.88 382.526 Q1911.88 373.932 1917.91 368.984 Q1923.99 364.036 1934.62 364.036 Q1939.18 364.036 1943.91 364.861 Q1948.64 365.686 1953.59 367.335 Z\" fill=\"#000000\" fill-rule=\"nonzero\" fill-opacity=\"1\" /><path clip-path=\"url(#clip050)\" d=\"M1970.82 362.474 L1978.81 362.474 L1978.81 430.008 L1970.82 430.008 L1970.82 362.474 Z\" fill=\"#000000\" fill-rule=\"nonzero\" fill-opacity=\"1\" /><path clip-path=\"url(#clip050)\" d=\"M2014.35 386.996 Q2007.93 386.996 2004.2 392.031 Q2000.46 397.022 2000.46 405.746 Q2000.46 414.47 2004.15 419.505 Q2007.89 424.496 2014.35 424.496 Q2020.73 424.496 2024.47 419.461 Q2028.2 414.427 2028.2 405.746 Q2028.2 397.109 2024.47 392.074 Q2020.73 386.996 2014.35 386.996 M2014.35 380.226 Q2024.77 380.226 2030.72 386.996 Q2036.66 393.767 2036.66 405.746 Q2036.66 417.682 2030.72 424.496 Q2024.77 431.267 2014.35 431.267 Q2003.89 431.267 1997.95 424.496 Q1992.04 417.682 1992.04 405.746 Q1992.04 393.767 1997.95 386.996 Q2003.89 380.226 2014.35 380.226 Z\" fill=\"#000000\" fill-rule=\"nonzero\" fill-opacity=\"1\" /><path clip-path=\"url(#clip050)\" d=\"M2057.63 422.717 L2057.63 448.498 L2049.6 448.498 L2049.6 381.397 L2057.63 381.397 L2057.63 388.776 Q2060.14 384.436 2063.96 382.352 Q2067.83 380.226 2073.16 380.226 Q2082.02 380.226 2087.53 387.257 Q2093.09 394.288 2093.09 405.746 Q2093.09 417.204 2087.53 424.236 Q2082.02 431.267 2073.16 431.267 Q2067.83 431.267 2063.96 429.184 Q2060.14 427.057 2057.63 422.717 M2084.8 405.746 Q2084.8 396.936 2081.15 391.944 Q2077.55 386.91 2071.21 386.91 Q2064.87 386.91 2061.23 391.944 Q2057.63 396.936 2057.63 405.746 Q2057.63 414.557 2061.23 419.592 Q2064.87 424.583 2071.21 424.583 Q2077.55 424.583 2081.15 419.592 Q2084.8 414.557 2084.8 405.746 Z\" fill=\"#000000\" fill-rule=\"nonzero\" fill-opacity=\"1\" /><path clip-path=\"url(#clip050)\" d=\"M2147.9 403.706 L2147.9 407.613 L2111.18 407.613 Q2111.71 415.859 2116.13 420.199 Q2120.6 424.496 2128.55 424.496 Q2133.15 424.496 2137.44 423.368 Q2141.78 422.239 2146.04 419.982 L2146.04 427.534 Q2141.74 429.357 2137.23 430.312 Q2132.71 431.267 2128.07 431.267 Q2116.44 431.267 2109.62 424.496 Q2102.85 417.725 2102.85 406.18 Q2102.85 394.245 2109.27 387.257 Q2115.74 380.226 2126.68 380.226 Q2136.49 380.226 2142.17 386.562 Q2147.9 392.856 2147.9 403.706 M2139.92 401.363 Q2139.83 394.809 2136.23 390.903 Q2132.67 386.996 2126.77 386.996 Q2120.08 386.996 2116.05 390.772 Q2112.05 394.548 2111.44 401.406 L2139.92 401.363 Z\" fill=\"#000000\" fill-rule=\"nonzero\" fill-opacity=\"1\" /><path clip-path=\"url(#clip050)\" d=\"M2162.05 389.644 L2217.69 389.644 L2217.69 396.936 L2162.05 396.936 L2162.05 389.644 M2162.05 407.352 L2217.69 407.352 L2217.69 414.731 L2162.05 414.731 L2162.05 407.352 Z\" fill=\"#000000\" fill-rule=\"nonzero\" fill-opacity=\"1\" /><path clip-path=\"url(#clip050)\" d=\"M2244.17 422.63 L2274.77 422.63 L2274.77 430.008 L2233.62 430.008 L2233.62 422.63 Q2238.61 417.465 2247.21 408.784 Q2255.85 400.06 2258.06 397.543 Q2262.27 392.812 2263.92 389.557 Q2265.61 386.258 2265.61 383.09 Q2265.61 377.925 2261.96 374.67 Q2258.36 371.415 2252.55 371.415 Q2248.42 371.415 2243.82 372.847 Q2239.27 374.279 2234.06 377.187 L2234.06 368.333 Q2239.35 366.207 2243.95 365.121 Q2248.55 364.036 2252.37 364.036 Q2262.44 364.036 2268.43 369.071 Q2274.42 374.106 2274.42 382.526 Q2274.42 386.519 2272.9 390.121 Q2271.43 393.68 2267.48 398.541 Q2266.39 399.8 2260.58 405.833 Q2254.76 411.823 2244.17 422.63 Z\" fill=\"#000000\" fill-rule=\"nonzero\" fill-opacity=\"1\" /><polyline clip-path=\"url(#clip050)\" style=\"stroke:#3da44d; stroke-linecap:round; stroke-linejoin:round; stroke-width:37.5; stroke-opacity:1; fill:none\" points=\"1750.6,494.808 1888.84,494.808 \"/>\n",
       "<circle clip-path=\"url(#clip050)\" cx=\"1819.72\" cy=\"494.808\" r=\"10.2398\" fill=\"#3da44d\" fill-rule=\"evenodd\" fill-opacity=\"1\" stroke=\"#000000\" stroke-opacity=\"1\" stroke-width=\"6.98182\"/>\n",
       "<path clip-path=\"url(#clip050)\" d=\"M1953.59 464.535 L1953.59 473.085 Q1948.6 470.698 1944.17 469.526 Q1939.74 468.354 1935.62 468.354 Q1928.46 468.354 1924.55 471.132 Q1920.69 473.91 1920.69 479.031 Q1920.69 483.328 1923.25 485.542 Q1925.86 487.712 1933.06 489.057 L1938.36 490.142 Q1948.16 492.009 1952.81 496.74 Q1957.5 501.427 1957.5 509.326 Q1957.5 518.745 1951.16 523.606 Q1944.87 528.467 1932.67 528.467 Q1928.07 528.467 1922.86 527.425 Q1917.7 526.384 1912.14 524.344 L1912.14 515.316 Q1917.48 518.311 1922.6 519.83 Q1927.72 521.349 1932.67 521.349 Q1940.18 521.349 1944.26 518.398 Q1948.34 515.446 1948.34 509.977 Q1948.34 505.203 1945.39 502.512 Q1942.48 499.821 1935.79 498.476 L1930.46 497.434 Q1920.65 495.481 1916.26 491.314 Q1911.88 487.148 1911.88 479.726 Q1911.88 471.132 1917.91 466.184 Q1923.99 461.236 1934.62 461.236 Q1939.18 461.236 1943.91 462.061 Q1948.64 462.886 1953.59 464.535 Z\" fill=\"#000000\" fill-rule=\"nonzero\" fill-opacity=\"1\" /><path clip-path=\"url(#clip050)\" d=\"M1979.94 469.613 L1979.94 520.003 L1990.53 520.003 Q2003.94 520.003 2010.14 513.927 Q2016.39 507.851 2016.39 494.743 Q2016.39 481.722 2010.14 475.689 Q2003.94 469.613 1990.53 469.613 L1979.94 469.613 M1971.17 462.408 L1989.18 462.408 Q2008.02 462.408 2016.83 470.264 Q2025.64 478.077 2025.64 494.743 Q2025.64 511.497 2016.78 519.352 Q2007.93 527.208 1989.18 527.208 L1971.17 527.208 L1971.17 462.408 Z\" fill=\"#000000\" fill-rule=\"nonzero\" fill-opacity=\"1\" /><path clip-path=\"url(#clip050)\" d=\"M2058.45 459.761 Q2052.63 469.743 2049.81 479.509 Q2046.99 489.274 2046.99 499.3 Q2046.99 509.326 2049.81 519.179 Q2052.68 528.988 2058.45 538.927 L2051.51 538.927 Q2045 528.727 2041.74 518.875 Q2038.53 509.023 2038.53 499.3 Q2038.53 489.622 2041.74 479.813 Q2044.95 470.004 2051.51 459.761 L2058.45 459.761 Z\" fill=\"#000000\" fill-rule=\"nonzero\" fill-opacity=\"1\" /><path clip-path=\"url(#clip050)\" d=\"M2083.06 496.262 L2083.06 520.003 L2097.12 520.003 Q2104.2 520.003 2107.58 517.095 Q2111.01 514.144 2111.01 508.111 Q2111.01 502.035 2107.58 499.17 Q2104.2 496.262 2097.12 496.262 L2083.06 496.262 M2083.06 469.613 L2083.06 489.144 L2096.04 489.144 Q2102.46 489.144 2105.59 486.757 Q2108.75 484.327 2108.75 479.379 Q2108.75 474.474 2105.59 472.044 Q2102.46 469.613 2096.04 469.613 L2083.06 469.613 M2074.29 462.408 L2096.69 462.408 Q2106.71 462.408 2112.14 466.575 Q2117.56 470.742 2117.56 478.424 Q2117.56 484.37 2114.79 487.886 Q2112.01 491.401 2106.63 492.269 Q2113.09 493.658 2116.65 498.085 Q2120.26 502.469 2120.26 509.066 Q2120.26 517.746 2114.35 522.477 Q2108.45 527.208 2097.56 527.208 L2074.29 527.208 L2074.29 462.408 Z\" fill=\"#000000\" fill-rule=\"nonzero\" fill-opacity=\"1\" /><path clip-path=\"url(#clip050)\" d=\"M2144.04 469.613 L2144.04 520.003 L2154.63 520.003 Q2168.04 520.003 2174.25 513.927 Q2180.5 507.851 2180.5 494.743 Q2180.5 481.722 2174.25 475.689 Q2168.04 469.613 2154.63 469.613 L2144.04 469.613 M2135.27 462.408 L2153.28 462.408 Q2172.12 462.408 2180.93 470.264 Q2189.74 478.077 2189.74 494.743 Q2189.74 511.497 2180.89 519.352 Q2172.03 527.208 2153.28 527.208 L2135.27 527.208 L2135.27 462.408 Z\" fill=\"#000000\" fill-rule=\"nonzero\" fill-opacity=\"1\" /><path clip-path=\"url(#clip050)\" d=\"M2203.72 462.408 L2240.96 462.408 L2240.96 469.787 L2212.49 469.787 L2212.49 488.884 L2238.18 488.884 L2238.18 496.262 L2212.49 496.262 L2212.49 527.208 L2203.72 527.208 L2203.72 462.408 Z\" fill=\"#000000\" fill-rule=\"nonzero\" fill-opacity=\"1\" /><path clip-path=\"url(#clip050)\" d=\"M2282.19 492.269 Q2288.48 493.615 2292 497.868 Q2295.56 502.122 2295.56 508.372 Q2295.56 517.964 2288.96 523.215 Q2282.36 528.467 2270.21 528.467 Q2266.13 528.467 2261.79 527.642 Q2257.49 526.861 2252.89 525.255 L2252.89 516.792 Q2256.54 518.918 2260.88 520.003 Q2265.22 521.088 2269.95 521.088 Q2278.2 521.088 2282.49 517.833 Q2286.83 514.578 2286.83 508.372 Q2286.83 502.642 2282.8 499.431 Q2278.81 496.175 2271.64 496.175 L2264.09 496.175 L2264.09 488.971 L2271.99 488.971 Q2278.46 488.971 2281.89 486.41 Q2285.32 483.806 2285.32 478.945 Q2285.32 473.953 2281.76 471.306 Q2278.24 468.615 2271.64 468.615 Q2268.04 468.615 2263.92 469.396 Q2259.79 470.177 2254.85 471.827 L2254.85 464.014 Q2259.84 462.625 2264.18 461.931 Q2268.56 461.236 2272.42 461.236 Q2282.41 461.236 2288.22 465.794 Q2294.04 470.308 2294.04 478.033 Q2294.04 483.415 2290.96 487.148 Q2287.88 490.837 2282.19 492.269 Z\" fill=\"#000000\" fill-rule=\"nonzero\" fill-opacity=\"1\" /><path clip-path=\"url(#clip050)\" d=\"M2309.79 459.761 L2316.74 459.761 Q2323.25 470.004 2326.46 479.813 Q2329.72 489.622 2329.72 499.3 Q2329.72 509.023 2326.46 518.875 Q2323.25 528.727 2316.74 538.927 L2309.79 538.927 Q2315.57 528.988 2318.39 519.179 Q2321.25 509.326 2321.25 499.3 Q2321.25 489.274 2318.39 479.509 Q2315.57 469.743 2309.79 459.761 Z\" fill=\"#000000\" fill-rule=\"nonzero\" fill-opacity=\"1\" /><polyline clip-path=\"url(#clip050)\" style=\"stroke:#c271d2; stroke-linecap:round; stroke-linejoin:round; stroke-width:37.5; stroke-opacity:1; fill:none\" stroke-dasharray=\"19, 38\" points=\"1750.6,592.008 1888.84,592.008 \"/>\n",
       "<path clip-path=\"url(#clip050)\" d=\"M1953.59 561.735 L1953.59 570.285 Q1948.6 567.898 1944.17 566.726 Q1939.74 565.554 1935.62 565.554 Q1928.46 565.554 1924.55 568.332 Q1920.69 571.11 1920.69 576.231 Q1920.69 580.528 1923.25 582.742 Q1925.86 584.912 1933.06 586.257 L1938.36 587.342 Q1948.16 589.209 1952.81 593.94 Q1957.5 598.627 1957.5 606.526 Q1957.5 615.945 1951.16 620.806 Q1944.87 625.667 1932.67 625.667 Q1928.07 625.667 1922.86 624.625 Q1917.7 623.584 1912.14 621.544 L1912.14 612.516 Q1917.48 615.511 1922.6 617.03 Q1927.72 618.549 1932.67 618.549 Q1940.18 618.549 1944.26 615.598 Q1948.34 612.646 1948.34 607.177 Q1948.34 602.403 1945.39 599.712 Q1942.48 597.021 1935.79 595.676 L1930.46 594.634 Q1920.65 592.681 1916.26 588.514 Q1911.88 584.348 1911.88 576.926 Q1911.88 568.332 1917.91 563.384 Q1923.99 558.436 1934.62 558.436 Q1939.18 558.436 1943.91 559.261 Q1948.64 560.086 1953.59 561.735 Z\" fill=\"#000000\" fill-rule=\"nonzero\" fill-opacity=\"1\" /><path clip-path=\"url(#clip050)\" d=\"M1970.82 556.874 L1978.81 556.874 L1978.81 624.408 L1970.82 624.408 L1970.82 556.874 Z\" fill=\"#000000\" fill-rule=\"nonzero\" fill-opacity=\"1\" /><path clip-path=\"url(#clip050)\" d=\"M2014.35 581.396 Q2007.93 581.396 2004.2 586.431 Q2000.46 591.422 2000.46 600.146 Q2000.46 608.87 2004.15 613.905 Q2007.89 618.896 2014.35 618.896 Q2020.73 618.896 2024.47 613.861 Q2028.2 608.827 2028.2 600.146 Q2028.2 591.509 2024.47 586.474 Q2020.73 581.396 2014.35 581.396 M2014.35 574.626 Q2024.77 574.626 2030.72 581.396 Q2036.66 588.167 2036.66 600.146 Q2036.66 612.082 2030.72 618.896 Q2024.77 625.667 2014.35 625.667 Q2003.89 625.667 1997.95 618.896 Q1992.04 612.082 1992.04 600.146 Q1992.04 588.167 1997.95 581.396 Q2003.89 574.626 2014.35 574.626 Z\" fill=\"#000000\" fill-rule=\"nonzero\" fill-opacity=\"1\" /><path clip-path=\"url(#clip050)\" d=\"M2057.63 617.117 L2057.63 642.898 L2049.6 642.898 L2049.6 575.797 L2057.63 575.797 L2057.63 583.176 Q2060.14 578.836 2063.96 576.752 Q2067.83 574.626 2073.16 574.626 Q2082.02 574.626 2087.53 581.657 Q2093.09 588.688 2093.09 600.146 Q2093.09 611.604 2087.53 618.636 Q2082.02 625.667 2073.16 625.667 Q2067.83 625.667 2063.96 623.584 Q2060.14 621.457 2057.63 617.117 M2084.8 600.146 Q2084.8 591.336 2081.15 586.344 Q2077.55 581.31 2071.21 581.31 Q2064.87 581.31 2061.23 586.344 Q2057.63 591.336 2057.63 600.146 Q2057.63 608.957 2061.23 613.992 Q2064.87 618.983 2071.21 618.983 Q2077.55 618.983 2081.15 613.992 Q2084.8 608.957 2084.8 600.146 Z\" fill=\"#000000\" fill-rule=\"nonzero\" fill-opacity=\"1\" /><path clip-path=\"url(#clip050)\" d=\"M2147.9 598.106 L2147.9 602.013 L2111.18 602.013 Q2111.71 610.259 2116.13 614.599 Q2120.6 618.896 2128.55 618.896 Q2133.15 618.896 2137.44 617.768 Q2141.78 616.639 2146.04 614.382 L2146.04 621.934 Q2141.74 623.757 2137.23 624.712 Q2132.71 625.667 2128.07 625.667 Q2116.44 625.667 2109.62 618.896 Q2102.85 612.125 2102.85 600.58 Q2102.85 588.645 2109.27 581.657 Q2115.74 574.626 2126.68 574.626 Q2136.49 574.626 2142.17 580.962 Q2147.9 587.256 2147.9 598.106 M2139.92 595.763 Q2139.83 589.209 2136.23 585.303 Q2132.67 581.396 2126.77 581.396 Q2120.08 581.396 2116.05 585.172 Q2112.05 588.948 2111.44 595.806 L2139.92 595.763 Z\" fill=\"#000000\" fill-rule=\"nonzero\" fill-opacity=\"1\" /><path clip-path=\"url(#clip050)\" d=\"M2162.05 584.044 L2217.69 584.044 L2217.69 591.336 L2162.05 591.336 L2162.05 584.044 M2162.05 601.752 L2217.69 601.752 L2217.69 609.131 L2162.05 609.131 L2162.05 601.752 Z\" fill=\"#000000\" fill-rule=\"nonzero\" fill-opacity=\"1\" /><path clip-path=\"url(#clip050)\" d=\"M2263.18 589.469 Q2269.47 590.815 2272.99 595.068 Q2276.55 599.322 2276.55 605.572 Q2276.55 615.164 2269.95 620.415 Q2263.35 625.667 2251.2 625.667 Q2247.12 625.667 2242.78 624.842 Q2238.48 624.061 2233.88 622.455 L2233.88 613.992 Q2237.53 616.118 2241.87 617.203 Q2246.21 618.288 2250.94 618.288 Q2259.19 618.288 2263.48 615.033 Q2267.82 611.778 2267.82 605.572 Q2267.82 599.842 2263.79 596.631 Q2259.79 593.375 2252.63 593.375 L2245.08 593.375 L2245.08 586.171 L2252.98 586.171 Q2259.45 586.171 2262.88 583.61 Q2266.31 581.006 2266.31 576.145 Q2266.31 571.153 2262.75 568.506 Q2259.23 565.815 2252.63 565.815 Q2249.03 565.815 2244.91 566.596 Q2240.78 567.377 2235.84 569.027 L2235.84 561.214 Q2240.83 559.825 2245.17 559.131 Q2249.55 558.436 2253.41 558.436 Q2263.4 558.436 2269.21 562.994 Q2275.03 567.508 2275.03 575.233 Q2275.03 580.615 2271.95 584.348 Q2268.87 588.037 2263.18 589.469 Z\" fill=\"#000000\" fill-rule=\"nonzero\" fill-opacity=\"1\" /><polyline clip-path=\"url(#clip050)\" style=\"stroke:#ac8d18; stroke-linecap:round; stroke-linejoin:round; stroke-width:37.5; stroke-opacity:1; fill:none\" points=\"1750.6,689.208 1888.84,689.208 \"/>\n",
       "<circle clip-path=\"url(#clip050)\" cx=\"1819.72\" cy=\"689.208\" r=\"10.2398\" fill=\"#ac8d18\" fill-rule=\"evenodd\" fill-opacity=\"1\" stroke=\"#000000\" stroke-opacity=\"1\" stroke-width=\"6.98182\"/>\n",
       "<path clip-path=\"url(#clip050)\" d=\"M1953.59 658.935 L1953.59 667.485 Q1948.6 665.098 1944.17 663.926 Q1939.74 662.754 1935.62 662.754 Q1928.46 662.754 1924.55 665.532 Q1920.69 668.31 1920.69 673.431 Q1920.69 677.728 1923.25 679.942 Q1925.86 682.112 1933.06 683.457 L1938.36 684.542 Q1948.16 686.409 1952.81 691.14 Q1957.5 695.827 1957.5 703.726 Q1957.5 713.145 1951.16 718.006 Q1944.87 722.867 1932.67 722.867 Q1928.07 722.867 1922.86 721.825 Q1917.7 720.784 1912.14 718.744 L1912.14 709.716 Q1917.48 712.711 1922.6 714.23 Q1927.72 715.749 1932.67 715.749 Q1940.18 715.749 1944.26 712.798 Q1948.34 709.846 1948.34 704.377 Q1948.34 699.603 1945.39 696.912 Q1942.48 694.221 1935.79 692.876 L1930.46 691.834 Q1920.65 689.881 1916.26 685.714 Q1911.88 681.548 1911.88 674.126 Q1911.88 665.532 1917.91 660.584 Q1923.99 655.636 1934.62 655.636 Q1939.18 655.636 1943.91 656.461 Q1948.64 657.286 1953.59 658.935 Z\" fill=\"#000000\" fill-rule=\"nonzero\" fill-opacity=\"1\" /><path clip-path=\"url(#clip050)\" d=\"M1979.94 664.013 L1979.94 714.403 L1990.53 714.403 Q2003.94 714.403 2010.14 708.327 Q2016.39 702.251 2016.39 689.143 Q2016.39 676.122 2010.14 670.089 Q2003.94 664.013 1990.53 664.013 L1979.94 664.013 M1971.17 656.808 L1989.18 656.808 Q2008.02 656.808 2016.83 664.664 Q2025.64 672.477 2025.64 689.143 Q2025.64 705.897 2016.78 713.752 Q2007.93 721.608 1989.18 721.608 L1971.17 721.608 L1971.17 656.808 Z\" fill=\"#000000\" fill-rule=\"nonzero\" fill-opacity=\"1\" /><path clip-path=\"url(#clip050)\" d=\"M2058.45 654.161 Q2052.63 664.143 2049.81 673.909 Q2046.99 683.674 2046.99 693.7 Q2046.99 703.726 2049.81 713.579 Q2052.68 723.388 2058.45 733.327 L2051.51 733.327 Q2045 723.127 2041.74 713.275 Q2038.53 703.423 2038.53 693.7 Q2038.53 684.022 2041.74 674.213 Q2044.95 664.404 2051.51 654.161 L2058.45 654.161 Z\" fill=\"#000000\" fill-rule=\"nonzero\" fill-opacity=\"1\" /><path clip-path=\"url(#clip050)\" d=\"M2083.06 690.662 L2083.06 714.403 L2097.12 714.403 Q2104.2 714.403 2107.58 711.495 Q2111.01 708.544 2111.01 702.511 Q2111.01 696.435 2107.58 693.57 Q2104.2 690.662 2097.12 690.662 L2083.06 690.662 M2083.06 664.013 L2083.06 683.544 L2096.04 683.544 Q2102.46 683.544 2105.59 681.157 Q2108.75 678.727 2108.75 673.779 Q2108.75 668.874 2105.59 666.444 Q2102.46 664.013 2096.04 664.013 L2083.06 664.013 M2074.29 656.808 L2096.69 656.808 Q2106.71 656.808 2112.14 660.975 Q2117.56 665.142 2117.56 672.824 Q2117.56 678.77 2114.79 682.286 Q2112.01 685.801 2106.63 686.669 Q2113.09 688.058 2116.65 692.485 Q2120.26 696.869 2120.26 703.466 Q2120.26 712.146 2114.35 716.877 Q2108.45 721.608 2097.56 721.608 L2074.29 721.608 L2074.29 656.808 Z\" fill=\"#000000\" fill-rule=\"nonzero\" fill-opacity=\"1\" /><path clip-path=\"url(#clip050)\" d=\"M2144.04 664.013 L2144.04 714.403 L2154.63 714.403 Q2168.04 714.403 2174.25 708.327 Q2180.5 702.251 2180.5 689.143 Q2180.5 676.122 2174.25 670.089 Q2168.04 664.013 2154.63 664.013 L2144.04 664.013 M2135.27 656.808 L2153.28 656.808 Q2172.12 656.808 2180.93 664.664 Q2189.74 672.477 2189.74 689.143 Q2189.74 705.897 2180.89 713.752 Q2172.03 721.608 2153.28 721.608 L2135.27 721.608 L2135.27 656.808 Z\" fill=\"#000000\" fill-rule=\"nonzero\" fill-opacity=\"1\" /><path clip-path=\"url(#clip050)\" d=\"M2203.72 656.808 L2240.96 656.808 L2240.96 664.187 L2212.49 664.187 L2212.49 683.284 L2238.18 683.284 L2238.18 690.662 L2212.49 690.662 L2212.49 721.608 L2203.72 721.608 L2203.72 656.808 Z\" fill=\"#000000\" fill-rule=\"nonzero\" fill-opacity=\"1\" /><path clip-path=\"url(#clip050)\" d=\"M2279.72 664.447 L2257.58 699.039 L2279.72 699.039 L2279.72 664.447 M2277.42 656.808 L2288.44 656.808 L2288.44 699.039 L2297.69 699.039 L2297.69 706.331 L2288.44 706.331 L2288.44 721.608 L2279.72 721.608 L2279.72 706.331 L2250.46 706.331 L2250.46 697.867 L2277.42 656.808 Z\" fill=\"#000000\" fill-rule=\"nonzero\" fill-opacity=\"1\" /><path clip-path=\"url(#clip050)\" d=\"M2309.79 654.161 L2316.74 654.161 Q2323.25 664.404 2326.46 674.213 Q2329.72 684.022 2329.72 693.7 Q2329.72 703.423 2326.46 713.275 Q2323.25 723.127 2316.74 733.327 L2309.79 733.327 Q2315.57 723.388 2318.39 713.579 Q2321.25 703.726 2321.25 693.7 Q2321.25 683.674 2318.39 673.909 Q2315.57 664.143 2309.79 654.161 Z\" fill=\"#000000\" fill-rule=\"nonzero\" fill-opacity=\"1\" /><polyline clip-path=\"url(#clip050)\" style=\"stroke:#00a9ad; stroke-linecap:round; stroke-linejoin:round; stroke-width:37.5; stroke-opacity:1; fill:none\" stroke-dasharray=\"19, 38\" points=\"1750.6,786.408 1888.84,786.408 \"/>\n",
       "<path clip-path=\"url(#clip050)\" d=\"M1953.59 756.135 L1953.59 764.685 Q1948.6 762.298 1944.17 761.126 Q1939.74 759.954 1935.62 759.954 Q1928.46 759.954 1924.55 762.732 Q1920.69 765.51 1920.69 770.631 Q1920.69 774.928 1923.25 777.142 Q1925.86 779.312 1933.06 780.657 L1938.36 781.742 Q1948.16 783.609 1952.81 788.34 Q1957.5 793.027 1957.5 800.926 Q1957.5 810.345 1951.16 815.206 Q1944.87 820.067 1932.67 820.067 Q1928.07 820.067 1922.86 819.025 Q1917.7 817.984 1912.14 815.944 L1912.14 806.916 Q1917.48 809.911 1922.6 811.43 Q1927.72 812.949 1932.67 812.949 Q1940.18 812.949 1944.26 809.998 Q1948.34 807.046 1948.34 801.577 Q1948.34 796.803 1945.39 794.112 Q1942.48 791.421 1935.79 790.076 L1930.46 789.034 Q1920.65 787.081 1916.26 782.914 Q1911.88 778.748 1911.88 771.326 Q1911.88 762.732 1917.91 757.784 Q1923.99 752.836 1934.62 752.836 Q1939.18 752.836 1943.91 753.661 Q1948.64 754.486 1953.59 756.135 Z\" fill=\"#000000\" fill-rule=\"nonzero\" fill-opacity=\"1\" /><path clip-path=\"url(#clip050)\" d=\"M1970.82 751.274 L1978.81 751.274 L1978.81 818.808 L1970.82 818.808 L1970.82 751.274 Z\" fill=\"#000000\" fill-rule=\"nonzero\" fill-opacity=\"1\" /><path clip-path=\"url(#clip050)\" d=\"M2014.35 775.796 Q2007.93 775.796 2004.2 780.831 Q2000.46 785.822 2000.46 794.546 Q2000.46 803.27 2004.15 808.305 Q2007.89 813.296 2014.35 813.296 Q2020.73 813.296 2024.47 808.261 Q2028.2 803.227 2028.2 794.546 Q2028.2 785.909 2024.47 780.874 Q2020.73 775.796 2014.35 775.796 M2014.35 769.026 Q2024.77 769.026 2030.72 775.796 Q2036.66 782.567 2036.66 794.546 Q2036.66 806.482 2030.72 813.296 Q2024.77 820.067 2014.35 820.067 Q2003.89 820.067 1997.95 813.296 Q1992.04 806.482 1992.04 794.546 Q1992.04 782.567 1997.95 775.796 Q2003.89 769.026 2014.35 769.026 Z\" fill=\"#000000\" fill-rule=\"nonzero\" fill-opacity=\"1\" /><path clip-path=\"url(#clip050)\" d=\"M2057.63 811.517 L2057.63 837.298 L2049.6 837.298 L2049.6 770.197 L2057.63 770.197 L2057.63 777.576 Q2060.14 773.236 2063.96 771.152 Q2067.83 769.026 2073.16 769.026 Q2082.02 769.026 2087.53 776.057 Q2093.09 783.088 2093.09 794.546 Q2093.09 806.004 2087.53 813.036 Q2082.02 820.067 2073.16 820.067 Q2067.83 820.067 2063.96 817.984 Q2060.14 815.857 2057.63 811.517 M2084.8 794.546 Q2084.8 785.736 2081.15 780.744 Q2077.55 775.71 2071.21 775.71 Q2064.87 775.71 2061.23 780.744 Q2057.63 785.736 2057.63 794.546 Q2057.63 803.357 2061.23 808.392 Q2064.87 813.383 2071.21 813.383 Q2077.55 813.383 2081.15 808.392 Q2084.8 803.357 2084.8 794.546 Z\" fill=\"#000000\" fill-rule=\"nonzero\" fill-opacity=\"1\" /><path clip-path=\"url(#clip050)\" d=\"M2147.9 792.506 L2147.9 796.413 L2111.18 796.413 Q2111.71 804.659 2116.13 808.999 Q2120.6 813.296 2128.55 813.296 Q2133.15 813.296 2137.44 812.168 Q2141.78 811.039 2146.04 808.782 L2146.04 816.334 Q2141.74 818.157 2137.23 819.112 Q2132.71 820.067 2128.07 820.067 Q2116.44 820.067 2109.62 813.296 Q2102.85 806.525 2102.85 794.98 Q2102.85 783.045 2109.27 776.057 Q2115.74 769.026 2126.68 769.026 Q2136.49 769.026 2142.17 775.362 Q2147.9 781.656 2147.9 792.506 M2139.92 790.163 Q2139.83 783.609 2136.23 779.703 Q2132.67 775.796 2126.77 775.796 Q2120.08 775.796 2116.05 779.572 Q2112.05 783.348 2111.44 790.206 L2139.92 790.163 Z\" fill=\"#000000\" fill-rule=\"nonzero\" fill-opacity=\"1\" /><path clip-path=\"url(#clip050)\" d=\"M2162.05 778.444 L2217.69 778.444 L2217.69 785.736 L2162.05 785.736 L2162.05 778.444 M2162.05 796.152 L2217.69 796.152 L2217.69 803.531 L2162.05 803.531 L2162.05 796.152 Z\" fill=\"#000000\" fill-rule=\"nonzero\" fill-opacity=\"1\" /><path clip-path=\"url(#clip050)\" d=\"M2260.71 761.647 L2238.57 796.239 L2260.71 796.239 L2260.71 761.647 M2258.41 754.008 L2269.43 754.008 L2269.43 796.239 L2278.67 796.239 L2278.67 803.531 L2269.43 803.531 L2269.43 818.808 L2260.71 818.808 L2260.71 803.531 L2231.45 803.531 L2231.45 795.067 L2258.41 754.008 Z\" fill=\"#000000\" fill-rule=\"nonzero\" fill-opacity=\"1\" /><polyline clip-path=\"url(#clip050)\" style=\"stroke:#ed5d92; stroke-linecap:round; stroke-linejoin:round; stroke-width:37.5; stroke-opacity:1; fill:none\" points=\"1750.6,883.608 1888.84,883.608 \"/>\n",
       "<circle clip-path=\"url(#clip050)\" cx=\"1819.72\" cy=\"883.608\" r=\"10.2398\" fill=\"#ed5d92\" fill-rule=\"evenodd\" fill-opacity=\"1\" stroke=\"#000000\" stroke-opacity=\"1\" stroke-width=\"6.98182\"/>\n",
       "<path clip-path=\"url(#clip050)\" d=\"M1953.59 853.335 L1953.59 861.885 Q1948.6 859.498 1944.17 858.326 Q1939.74 857.154 1935.62 857.154 Q1928.46 857.154 1924.55 859.932 Q1920.69 862.71 1920.69 867.831 Q1920.69 872.128 1923.25 874.342 Q1925.86 876.512 1933.06 877.857 L1938.36 878.942 Q1948.16 880.809 1952.81 885.54 Q1957.5 890.227 1957.5 898.126 Q1957.5 907.545 1951.16 912.406 Q1944.87 917.267 1932.67 917.267 Q1928.07 917.267 1922.86 916.225 Q1917.7 915.184 1912.14 913.144 L1912.14 904.116 Q1917.48 907.111 1922.6 908.63 Q1927.72 910.149 1932.67 910.149 Q1940.18 910.149 1944.26 907.198 Q1948.34 904.246 1948.34 898.777 Q1948.34 894.003 1945.39 891.312 Q1942.48 888.621 1935.79 887.276 L1930.46 886.234 Q1920.65 884.281 1916.26 880.114 Q1911.88 875.948 1911.88 868.526 Q1911.88 859.932 1917.91 854.984 Q1923.99 850.036 1934.62 850.036 Q1939.18 850.036 1943.91 850.861 Q1948.64 851.686 1953.59 853.335 Z\" fill=\"#000000\" fill-rule=\"nonzero\" fill-opacity=\"1\" /><path clip-path=\"url(#clip050)\" d=\"M1979.94 858.413 L1979.94 908.803 L1990.53 908.803 Q2003.94 908.803 2010.14 902.727 Q2016.39 896.651 2016.39 883.543 Q2016.39 870.522 2010.14 864.489 Q2003.94 858.413 1990.53 858.413 L1979.94 858.413 M1971.17 851.208 L1989.18 851.208 Q2008.02 851.208 2016.83 859.064 Q2025.64 866.877 2025.64 883.543 Q2025.64 900.297 2016.78 908.152 Q2007.93 916.008 1989.18 916.008 L1971.17 916.008 L1971.17 851.208 Z\" fill=\"#000000\" fill-rule=\"nonzero\" fill-opacity=\"1\" /><path clip-path=\"url(#clip050)\" d=\"M2058.45 848.561 Q2052.63 858.543 2049.81 868.309 Q2046.99 878.074 2046.99 888.1 Q2046.99 898.126 2049.81 907.979 Q2052.68 917.788 2058.45 927.727 L2051.51 927.727 Q2045 917.527 2041.74 907.675 Q2038.53 897.823 2038.53 888.1 Q2038.53 878.422 2041.74 868.613 Q2044.95 858.804 2051.51 848.561 L2058.45 848.561 Z\" fill=\"#000000\" fill-rule=\"nonzero\" fill-opacity=\"1\" /><path clip-path=\"url(#clip050)\" d=\"M2083.06 885.062 L2083.06 908.803 L2097.12 908.803 Q2104.2 908.803 2107.58 905.895 Q2111.01 902.944 2111.01 896.911 Q2111.01 890.835 2107.58 887.97 Q2104.2 885.062 2097.12 885.062 L2083.06 885.062 M2083.06 858.413 L2083.06 877.944 L2096.04 877.944 Q2102.46 877.944 2105.59 875.557 Q2108.75 873.127 2108.75 868.179 Q2108.75 863.274 2105.59 860.844 Q2102.46 858.413 2096.04 858.413 L2083.06 858.413 M2074.29 851.208 L2096.69 851.208 Q2106.71 851.208 2112.14 855.375 Q2117.56 859.542 2117.56 867.224 Q2117.56 873.17 2114.79 876.686 Q2112.01 880.201 2106.63 881.069 Q2113.09 882.458 2116.65 886.885 Q2120.26 891.269 2120.26 897.866 Q2120.26 906.546 2114.35 911.277 Q2108.45 916.008 2097.56 916.008 L2074.29 916.008 L2074.29 851.208 Z\" fill=\"#000000\" fill-rule=\"nonzero\" fill-opacity=\"1\" /><path clip-path=\"url(#clip050)\" d=\"M2144.04 858.413 L2144.04 908.803 L2154.63 908.803 Q2168.04 908.803 2174.25 902.727 Q2180.5 896.651 2180.5 883.543 Q2180.5 870.522 2174.25 864.489 Q2168.04 858.413 2154.63 858.413 L2144.04 858.413 M2135.27 851.208 L2153.28 851.208 Q2172.12 851.208 2180.93 859.064 Q2189.74 866.877 2189.74 883.543 Q2189.74 900.297 2180.89 908.152 Q2172.03 916.008 2153.28 916.008 L2135.27 916.008 L2135.27 851.208 Z\" fill=\"#000000\" fill-rule=\"nonzero\" fill-opacity=\"1\" /><path clip-path=\"url(#clip050)\" d=\"M2203.72 851.208 L2240.96 851.208 L2240.96 858.587 L2212.49 858.587 L2212.49 877.684 L2238.18 877.684 L2238.18 885.062 L2212.49 885.062 L2212.49 916.008 L2203.72 916.008 L2203.72 851.208 Z\" fill=\"#000000\" fill-rule=\"nonzero\" fill-opacity=\"1\" /><path clip-path=\"url(#clip050)\" d=\"M2255.71 851.208 L2290.13 851.208 L2290.13 858.587 L2263.74 858.587 L2263.74 874.472 Q2265.65 873.821 2267.56 873.517 Q2269.47 873.17 2271.38 873.17 Q2282.23 873.17 2288.57 879.116 Q2294.91 885.062 2294.91 895.218 Q2294.91 905.678 2288.4 911.494 Q2281.89 917.267 2270.04 917.267 Q2265.96 917.267 2261.7 916.572 Q2257.49 915.878 2252.98 914.489 L2252.98 905.678 Q2256.89 907.805 2261.05 908.847 Q2265.22 909.888 2269.86 909.888 Q2277.37 909.888 2281.76 905.939 Q2286.14 901.989 2286.14 895.218 Q2286.14 888.448 2281.76 884.498 Q2277.37 880.548 2269.86 880.548 Q2266.35 880.548 2262.83 881.33 Q2259.36 882.111 2255.71 883.76 L2255.71 851.208 Z\" fill=\"#000000\" fill-rule=\"nonzero\" fill-opacity=\"1\" /><path clip-path=\"url(#clip050)\" d=\"M2309.79 848.561 L2316.74 848.561 Q2323.25 858.804 2326.46 868.613 Q2329.72 878.422 2329.72 888.1 Q2329.72 897.823 2326.46 907.675 Q2323.25 917.527 2316.74 927.727 L2309.79 927.727 Q2315.57 917.788 2318.39 907.979 Q2321.25 898.126 2321.25 888.1 Q2321.25 878.074 2318.39 868.309 Q2315.57 858.543 2309.79 848.561 Z\" fill=\"#000000\" fill-rule=\"nonzero\" fill-opacity=\"1\" /><polyline clip-path=\"url(#clip050)\" style=\"stroke:#c68125; stroke-linecap:round; stroke-linejoin:round; stroke-width:37.5; stroke-opacity:1; fill:none\" stroke-dasharray=\"19, 38\" points=\"1750.6,980.808 1888.84,980.808 \"/>\n",
       "<path clip-path=\"url(#clip050)\" d=\"M1953.59 950.535 L1953.59 959.085 Q1948.6 956.698 1944.17 955.526 Q1939.74 954.354 1935.62 954.354 Q1928.46 954.354 1924.55 957.132 Q1920.69 959.91 1920.69 965.031 Q1920.69 969.328 1923.25 971.542 Q1925.86 973.712 1933.06 975.057 L1938.36 976.142 Q1948.16 978.009 1952.81 982.74 Q1957.5 987.427 1957.5 995.326 Q1957.5 1004.74 1951.16 1009.61 Q1944.87 1014.47 1932.67 1014.47 Q1928.07 1014.47 1922.86 1013.43 Q1917.7 1012.38 1912.14 1010.34 L1912.14 1001.32 Q1917.48 1004.31 1922.6 1005.83 Q1927.72 1007.35 1932.67 1007.35 Q1940.18 1007.35 1944.26 1004.4 Q1948.34 1001.45 1948.34 995.977 Q1948.34 991.203 1945.39 988.512 Q1942.48 985.821 1935.79 984.476 L1930.46 983.434 Q1920.65 981.481 1916.26 977.314 Q1911.88 973.148 1911.88 965.726 Q1911.88 957.132 1917.91 952.184 Q1923.99 947.236 1934.62 947.236 Q1939.18 947.236 1943.91 948.061 Q1948.64 948.886 1953.59 950.535 Z\" fill=\"#000000\" fill-rule=\"nonzero\" fill-opacity=\"1\" /><path clip-path=\"url(#clip050)\" d=\"M1970.82 945.674 L1978.81 945.674 L1978.81 1013.21 L1970.82 1013.21 L1970.82 945.674 Z\" fill=\"#000000\" fill-rule=\"nonzero\" fill-opacity=\"1\" /><path clip-path=\"url(#clip050)\" d=\"M2014.35 970.196 Q2007.93 970.196 2004.2 975.231 Q2000.46 980.222 2000.46 988.946 Q2000.46 997.67 2004.15 1002.7 Q2007.89 1007.7 2014.35 1007.7 Q2020.73 1007.7 2024.47 1002.66 Q2028.2 997.627 2028.2 988.946 Q2028.2 980.309 2024.47 975.274 Q2020.73 970.196 2014.35 970.196 M2014.35 963.426 Q2024.77 963.426 2030.72 970.196 Q2036.66 976.967 2036.66 988.946 Q2036.66 1000.88 2030.72 1007.7 Q2024.77 1014.47 2014.35 1014.47 Q2003.89 1014.47 1997.95 1007.7 Q1992.04 1000.88 1992.04 988.946 Q1992.04 976.967 1997.95 970.196 Q2003.89 963.426 2014.35 963.426 Z\" fill=\"#000000\" fill-rule=\"nonzero\" fill-opacity=\"1\" /><path clip-path=\"url(#clip050)\" d=\"M2057.63 1005.92 L2057.63 1031.7 L2049.6 1031.7 L2049.6 964.597 L2057.63 964.597 L2057.63 971.976 Q2060.14 967.636 2063.96 965.552 Q2067.83 963.426 2073.16 963.426 Q2082.02 963.426 2087.53 970.457 Q2093.09 977.488 2093.09 988.946 Q2093.09 1000.4 2087.53 1007.44 Q2082.02 1014.47 2073.16 1014.47 Q2067.83 1014.47 2063.96 1012.38 Q2060.14 1010.26 2057.63 1005.92 M2084.8 988.946 Q2084.8 980.136 2081.15 975.144 Q2077.55 970.11 2071.21 970.11 Q2064.87 970.11 2061.23 975.144 Q2057.63 980.136 2057.63 988.946 Q2057.63 997.757 2061.23 1002.79 Q2064.87 1007.78 2071.21 1007.78 Q2077.55 1007.78 2081.15 1002.79 Q2084.8 997.757 2084.8 988.946 Z\" fill=\"#000000\" fill-rule=\"nonzero\" fill-opacity=\"1\" /><path clip-path=\"url(#clip050)\" d=\"M2147.9 986.906 L2147.9 990.813 L2111.18 990.813 Q2111.71 999.059 2116.13 1003.4 Q2120.6 1007.7 2128.55 1007.7 Q2133.15 1007.7 2137.44 1006.57 Q2141.78 1005.44 2146.04 1003.18 L2146.04 1010.73 Q2141.74 1012.56 2137.23 1013.51 Q2132.71 1014.47 2128.07 1014.47 Q2116.44 1014.47 2109.62 1007.7 Q2102.85 1000.93 2102.85 989.38 Q2102.85 977.445 2109.27 970.457 Q2115.74 963.426 2126.68 963.426 Q2136.49 963.426 2142.17 969.762 Q2147.9 976.056 2147.9 986.906 M2139.92 984.563 Q2139.83 978.009 2136.23 974.103 Q2132.67 970.196 2126.77 970.196 Q2120.08 970.196 2116.05 973.972 Q2112.05 977.748 2111.44 984.606 L2139.92 984.563 Z\" fill=\"#000000\" fill-rule=\"nonzero\" fill-opacity=\"1\" /><path clip-path=\"url(#clip050)\" d=\"M2162.05 972.844 L2217.69 972.844 L2217.69 980.136 L2162.05 980.136 L2162.05 972.844 M2162.05 990.552 L2217.69 990.552 L2217.69 997.931 L2162.05 997.931 L2162.05 990.552 Z\" fill=\"#000000\" fill-rule=\"nonzero\" fill-opacity=\"1\" /><path clip-path=\"url(#clip050)\" d=\"M2236.7 948.408 L2271.12 948.408 L2271.12 955.787 L2244.73 955.787 L2244.73 971.672 Q2246.64 971.021 2248.55 970.717 Q2250.46 970.37 2252.37 970.37 Q2263.22 970.37 2269.56 976.316 Q2275.9 982.262 2275.9 992.418 Q2275.9 1002.88 2269.39 1008.69 Q2262.88 1014.47 2251.03 1014.47 Q2246.95 1014.47 2242.69 1013.77 Q2238.48 1013.08 2233.97 1011.69 L2233.97 1002.88 Q2237.88 1005.01 2242.04 1006.05 Q2246.21 1007.09 2250.85 1007.09 Q2258.36 1007.09 2262.75 1003.14 Q2267.13 999.189 2267.13 992.418 Q2267.13 985.648 2262.75 981.698 Q2258.36 977.748 2250.85 977.748 Q2247.34 977.748 2243.82 978.53 Q2240.35 979.311 2236.7 980.96 L2236.7 948.408 Z\" fill=\"#000000\" fill-rule=\"nonzero\" fill-opacity=\"1\" /><polyline clip-path=\"url(#clip050)\" style=\"stroke:#00a98d; stroke-linecap:round; stroke-linejoin:round; stroke-width:37.5; stroke-opacity:1; fill:none\" points=\"1750.6,1078.01 1888.84,1078.01 \"/>\n",
       "<circle clip-path=\"url(#clip050)\" cx=\"1819.72\" cy=\"1078.01\" r=\"10.2398\" fill=\"#00a98d\" fill-rule=\"evenodd\" fill-opacity=\"1\" stroke=\"#000000\" stroke-opacity=\"1\" stroke-width=\"6.98182\"/>\n",
       "<path clip-path=\"url(#clip050)\" d=\"M1953.59 1047.73 L1953.59 1056.29 Q1948.6 1053.9 1944.17 1052.73 Q1939.74 1051.55 1935.62 1051.55 Q1928.46 1051.55 1924.55 1054.33 Q1920.69 1057.11 1920.69 1062.23 Q1920.69 1066.53 1923.25 1068.74 Q1925.86 1070.91 1933.06 1072.26 L1938.36 1073.34 Q1948.16 1075.21 1952.81 1079.94 Q1957.5 1084.63 1957.5 1092.53 Q1957.5 1101.94 1951.16 1106.81 Q1944.87 1111.67 1932.67 1111.67 Q1928.07 1111.67 1922.86 1110.63 Q1917.7 1109.58 1912.14 1107.54 L1912.14 1098.52 Q1917.48 1101.51 1922.6 1103.03 Q1927.72 1104.55 1932.67 1104.55 Q1940.18 1104.55 1944.26 1101.6 Q1948.34 1098.65 1948.34 1093.18 Q1948.34 1088.4 1945.39 1085.71 Q1942.48 1083.02 1935.79 1081.68 L1930.46 1080.63 Q1920.65 1078.68 1916.26 1074.51 Q1911.88 1070.35 1911.88 1062.93 Q1911.88 1054.33 1917.91 1049.38 Q1923.99 1044.44 1934.62 1044.44 Q1939.18 1044.44 1943.91 1045.26 Q1948.64 1046.09 1953.59 1047.73 Z\" fill=\"#000000\" fill-rule=\"nonzero\" fill-opacity=\"1\" /><path clip-path=\"url(#clip050)\" d=\"M1979.94 1052.81 L1979.94 1103.2 L1990.53 1103.2 Q2003.94 1103.2 2010.14 1097.13 Q2016.39 1091.05 2016.39 1077.94 Q2016.39 1064.92 2010.14 1058.89 Q2003.94 1052.81 1990.53 1052.81 L1979.94 1052.81 M1971.17 1045.61 L1989.18 1045.61 Q2008.02 1045.61 2016.83 1053.46 Q2025.64 1061.28 2025.64 1077.94 Q2025.64 1094.7 2016.78 1102.55 Q2007.93 1110.41 1989.18 1110.41 L1971.17 1110.41 L1971.17 1045.61 Z\" fill=\"#000000\" fill-rule=\"nonzero\" fill-opacity=\"1\" /><path clip-path=\"url(#clip050)\" d=\"M2058.45 1042.96 Q2052.63 1052.94 2049.81 1062.71 Q2046.99 1072.47 2046.99 1082.5 Q2046.99 1092.53 2049.81 1102.38 Q2052.68 1112.19 2058.45 1122.13 L2051.51 1122.13 Q2045 1111.93 2041.74 1102.07 Q2038.53 1092.22 2038.53 1082.5 Q2038.53 1072.82 2041.74 1063.01 Q2044.95 1053.2 2051.51 1042.96 L2058.45 1042.96 Z\" fill=\"#000000\" fill-rule=\"nonzero\" fill-opacity=\"1\" /><path clip-path=\"url(#clip050)\" d=\"M2083.06 1079.46 L2083.06 1103.2 L2097.12 1103.2 Q2104.2 1103.2 2107.58 1100.3 Q2111.01 1097.34 2111.01 1091.31 Q2111.01 1085.23 2107.58 1082.37 Q2104.2 1079.46 2097.12 1079.46 L2083.06 1079.46 M2083.06 1052.81 L2083.06 1072.34 L2096.04 1072.34 Q2102.46 1072.34 2105.59 1069.96 Q2108.75 1067.53 2108.75 1062.58 Q2108.75 1057.67 2105.59 1055.24 Q2102.46 1052.81 2096.04 1052.81 L2083.06 1052.81 M2074.29 1045.61 L2096.69 1045.61 Q2106.71 1045.61 2112.14 1049.77 Q2117.56 1053.94 2117.56 1061.62 Q2117.56 1067.57 2114.79 1071.09 Q2112.01 1074.6 2106.63 1075.47 Q2113.09 1076.86 2116.65 1081.29 Q2120.26 1085.67 2120.26 1092.27 Q2120.26 1100.95 2114.35 1105.68 Q2108.45 1110.41 2097.56 1110.41 L2074.29 1110.41 L2074.29 1045.61 Z\" fill=\"#000000\" fill-rule=\"nonzero\" fill-opacity=\"1\" /><path clip-path=\"url(#clip050)\" d=\"M2144.04 1052.81 L2144.04 1103.2 L2154.63 1103.2 Q2168.04 1103.2 2174.25 1097.13 Q2180.5 1091.05 2180.5 1077.94 Q2180.5 1064.92 2174.25 1058.89 Q2168.04 1052.81 2154.63 1052.81 L2144.04 1052.81 M2135.27 1045.61 L2153.28 1045.61 Q2172.12 1045.61 2180.93 1053.46 Q2189.74 1061.28 2189.74 1077.94 Q2189.74 1094.7 2180.89 1102.55 Q2172.03 1110.41 2153.28 1110.41 L2135.27 1110.41 L2135.27 1045.61 Z\" fill=\"#000000\" fill-rule=\"nonzero\" fill-opacity=\"1\" /><path clip-path=\"url(#clip050)\" d=\"M2203.72 1045.61 L2240.96 1045.61 L2240.96 1052.99 L2212.49 1052.99 L2212.49 1072.08 L2238.18 1072.08 L2238.18 1079.46 L2212.49 1079.46 L2212.49 1110.41 L2203.72 1110.41 L2203.72 1045.61 Z\" fill=\"#000000\" fill-rule=\"nonzero\" fill-opacity=\"1\" /><path clip-path=\"url(#clip050)\" d=\"M2275.46 1074.51 Q2269.56 1074.51 2266.09 1078.55 Q2262.66 1082.59 2262.66 1089.62 Q2262.66 1096.61 2266.09 1100.69 Q2269.56 1104.72 2275.46 1104.72 Q2281.37 1104.72 2284.79 1100.69 Q2288.27 1096.61 2288.27 1089.62 Q2288.27 1082.59 2284.79 1078.55 Q2281.37 1074.51 2275.46 1074.51 M2292.87 1047.04 L2292.87 1055.03 Q2289.57 1053.46 2286.18 1052.64 Q2282.84 1051.81 2279.54 1051.81 Q2270.86 1051.81 2266.26 1057.67 Q2261.7 1063.53 2261.05 1075.38 Q2263.61 1071.61 2267.48 1069.61 Q2271.34 1067.57 2275.98 1067.57 Q2285.75 1067.57 2291.39 1073.52 Q2297.08 1079.42 2297.08 1089.62 Q2297.08 1099.6 2291.17 1105.63 Q2285.27 1111.67 2275.46 1111.67 Q2264.22 1111.67 2258.28 1103.07 Q2252.33 1094.44 2252.33 1078.07 Q2252.33 1062.71 2259.62 1053.59 Q2266.91 1044.44 2279.2 1044.44 Q2282.49 1044.44 2285.84 1045.09 Q2289.22 1045.74 2292.87 1047.04 Z\" fill=\"#000000\" fill-rule=\"nonzero\" fill-opacity=\"1\" /><path clip-path=\"url(#clip050)\" d=\"M2309.79 1042.96 L2316.74 1042.96 Q2323.25 1053.2 2326.46 1063.01 Q2329.72 1072.82 2329.72 1082.5 Q2329.72 1092.22 2326.46 1102.07 Q2323.25 1111.93 2316.74 1122.13 L2309.79 1122.13 Q2315.57 1112.19 2318.39 1102.38 Q2321.25 1092.53 2321.25 1082.5 Q2321.25 1072.47 2318.39 1062.71 Q2315.57 1052.94 2309.79 1042.96 Z\" fill=\"#000000\" fill-rule=\"nonzero\" fill-opacity=\"1\" /><polyline clip-path=\"url(#clip050)\" style=\"stroke:#8e971d; stroke-linecap:round; stroke-linejoin:round; stroke-width:37.5; stroke-opacity:1; fill:none\" stroke-dasharray=\"19, 38\" points=\"1750.6,1175.21 1888.84,1175.21 \"/>\n",
       "<path clip-path=\"url(#clip050)\" d=\"M1953.59 1144.93 L1953.59 1153.49 Q1948.6 1151.1 1944.17 1149.93 Q1939.74 1148.75 1935.62 1148.75 Q1928.46 1148.75 1924.55 1151.53 Q1920.69 1154.31 1920.69 1159.43 Q1920.69 1163.73 1923.25 1165.94 Q1925.86 1168.11 1933.06 1169.46 L1938.36 1170.54 Q1948.16 1172.41 1952.81 1177.14 Q1957.5 1181.83 1957.5 1189.73 Q1957.5 1199.14 1951.16 1204.01 Q1944.87 1208.87 1932.67 1208.87 Q1928.07 1208.87 1922.86 1207.83 Q1917.7 1206.78 1912.14 1204.74 L1912.14 1195.72 Q1917.48 1198.71 1922.6 1200.23 Q1927.72 1201.75 1932.67 1201.75 Q1940.18 1201.75 1944.26 1198.8 Q1948.34 1195.85 1948.34 1190.38 Q1948.34 1185.6 1945.39 1182.91 Q1942.48 1180.22 1935.79 1178.88 L1930.46 1177.83 Q1920.65 1175.88 1916.26 1171.71 Q1911.88 1167.55 1911.88 1160.13 Q1911.88 1151.53 1917.91 1146.58 Q1923.99 1141.64 1934.62 1141.64 Q1939.18 1141.64 1943.91 1142.46 Q1948.64 1143.29 1953.59 1144.93 Z\" fill=\"#000000\" fill-rule=\"nonzero\" fill-opacity=\"1\" /><path clip-path=\"url(#clip050)\" d=\"M1970.82 1140.07 L1978.81 1140.07 L1978.81 1207.61 L1970.82 1207.61 L1970.82 1140.07 Z\" fill=\"#000000\" fill-rule=\"nonzero\" fill-opacity=\"1\" /><path clip-path=\"url(#clip050)\" d=\"M2014.35 1164.6 Q2007.93 1164.6 2004.2 1169.63 Q2000.46 1174.62 2000.46 1183.35 Q2000.46 1192.07 2004.15 1197.1 Q2007.89 1202.1 2014.35 1202.1 Q2020.73 1202.1 2024.47 1197.06 Q2028.2 1192.03 2028.2 1183.35 Q2028.2 1174.71 2024.47 1169.67 Q2020.73 1164.6 2014.35 1164.6 M2014.35 1157.83 Q2024.77 1157.83 2030.72 1164.6 Q2036.66 1171.37 2036.66 1183.35 Q2036.66 1195.28 2030.72 1202.1 Q2024.77 1208.87 2014.35 1208.87 Q2003.89 1208.87 1997.95 1202.1 Q1992.04 1195.28 1992.04 1183.35 Q1992.04 1171.37 1997.95 1164.6 Q2003.89 1157.83 2014.35 1157.83 Z\" fill=\"#000000\" fill-rule=\"nonzero\" fill-opacity=\"1\" /><path clip-path=\"url(#clip050)\" d=\"M2057.63 1200.32 L2057.63 1226.1 L2049.6 1226.1 L2049.6 1159 L2057.63 1159 L2057.63 1166.38 Q2060.14 1162.04 2063.96 1159.95 Q2067.83 1157.83 2073.16 1157.83 Q2082.02 1157.83 2087.53 1164.86 Q2093.09 1171.89 2093.09 1183.35 Q2093.09 1194.8 2087.53 1201.84 Q2082.02 1208.87 2073.16 1208.87 Q2067.83 1208.87 2063.96 1206.78 Q2060.14 1204.66 2057.63 1200.32 M2084.8 1183.35 Q2084.8 1174.54 2081.15 1169.54 Q2077.55 1164.51 2071.21 1164.51 Q2064.87 1164.51 2061.23 1169.54 Q2057.63 1174.54 2057.63 1183.35 Q2057.63 1192.16 2061.23 1197.19 Q2064.87 1202.18 2071.21 1202.18 Q2077.55 1202.18 2081.15 1197.19 Q2084.8 1192.16 2084.8 1183.35 Z\" fill=\"#000000\" fill-rule=\"nonzero\" fill-opacity=\"1\" /><path clip-path=\"url(#clip050)\" d=\"M2147.9 1181.31 L2147.9 1185.21 L2111.18 1185.21 Q2111.71 1193.46 2116.13 1197.8 Q2120.6 1202.1 2128.55 1202.1 Q2133.15 1202.1 2137.44 1200.97 Q2141.78 1199.84 2146.04 1197.58 L2146.04 1205.13 Q2141.74 1206.96 2137.23 1207.91 Q2132.71 1208.87 2128.07 1208.87 Q2116.44 1208.87 2109.62 1202.1 Q2102.85 1195.33 2102.85 1183.78 Q2102.85 1171.84 2109.27 1164.86 Q2115.74 1157.83 2126.68 1157.83 Q2136.49 1157.83 2142.17 1164.16 Q2147.9 1170.46 2147.9 1181.31 M2139.92 1178.96 Q2139.83 1172.41 2136.23 1168.5 Q2132.67 1164.6 2126.77 1164.6 Q2120.08 1164.6 2116.05 1168.37 Q2112.05 1172.15 2111.44 1179.01 L2139.92 1178.96 Z\" fill=\"#000000\" fill-rule=\"nonzero\" fill-opacity=\"1\" /><path clip-path=\"url(#clip050)\" d=\"M2162.05 1167.24 L2217.69 1167.24 L2217.69 1174.54 L2162.05 1174.54 L2162.05 1167.24 M2162.05 1184.95 L2217.69 1184.95 L2217.69 1192.33 L2162.05 1192.33 L2162.05 1184.95 Z\" fill=\"#000000\" fill-rule=\"nonzero\" fill-opacity=\"1\" /><path clip-path=\"url(#clip050)\" d=\"M2256.45 1171.71 Q2250.55 1171.71 2247.08 1175.75 Q2243.65 1179.79 2243.65 1186.82 Q2243.65 1193.81 2247.08 1197.89 Q2250.55 1201.92 2256.45 1201.92 Q2262.36 1201.92 2265.78 1197.89 Q2269.26 1193.81 2269.26 1186.82 Q2269.26 1179.79 2265.78 1175.75 Q2262.36 1171.71 2256.45 1171.71 M2273.86 1144.24 L2273.86 1152.23 Q2270.56 1150.66 2267.17 1149.84 Q2263.83 1149.01 2260.53 1149.01 Q2251.85 1149.01 2247.25 1154.87 Q2242.69 1160.73 2242.04 1172.58 Q2244.6 1168.81 2248.47 1166.81 Q2252.33 1164.77 2256.97 1164.77 Q2266.74 1164.77 2272.38 1170.72 Q2278.07 1176.62 2278.07 1186.82 Q2278.07 1196.8 2272.16 1202.83 Q2266.26 1208.87 2256.45 1208.87 Q2245.21 1208.87 2239.27 1200.27 Q2233.32 1191.64 2233.32 1175.27 Q2233.32 1159.91 2240.61 1150.79 Q2247.9 1141.64 2260.19 1141.64 Q2263.48 1141.64 2266.83 1142.29 Q2270.21 1142.94 2273.86 1144.24 Z\" fill=\"#000000\" fill-rule=\"nonzero\" fill-opacity=\"1\" /></svg>\n"
      ]
     },
     "execution_count": 63,
     "metadata": {},
     "output_type": "execute_result"
    }
   ],
   "source": [
    "p=plot!(del_x.*(-1),vec(err6),lw=5,label=\"SD(BDF6)\",legend=:bottomright,yaxis=:log10,xaxis=:log10,yticks=[10^(-16),10^(-15),10^(-14),\n",
    "        10^(-13),10^(-12),10^(-11),10^(-10),10^(-9),10^(-8),10^(-7),10^(-6),10^(-5),10^(-4),10^(-3),10^(-2),10^(-1),1,10],\n",
    "    marker=(:circle,5),xtickfontsize=15,ytickfontsize=15,legendfontsize=15)\n",
    "p=plot!(del_x.*(-1),10^(-0.01)*(del_x.*(-1)).^(6),lw=5,label=\"Slope=6\",yaxis=:log10,xaxis=:log10,ls=:dot,legend=:outerright)"
   ]
  },
  {
   "cell_type": "markdown",
   "id": "20c5d027",
   "metadata": {},
   "source": [
    "## Error plots with respect to $x_{0}$"
   ]
  },
  {
   "cell_type": "markdown",
   "id": "7c624463",
   "metadata": {},
   "source": [
    "The following plot shows the absolute error of BDF5 after interpolation over $x=-8,-7,\\cdots,x_{0}$ with respect to $x_{0}$. $\\beta=1,2,4$, $x_{0}=13,12,11,10,9,8,7,6,5,4,3,2$."
   ]
  },
  {
   "cell_type": "code",
   "execution_count": null,
   "id": "de2ecd37",
   "metadata": {},
   "outputs": [],
   "source": [
    "Beta=[1,2,4];\n",
    "X=[13,12,11,10,9,8,7,6,5,4,3,2];\n",
    "p=Plots.plot();\n",
    "for i=1:length(Beta)\n",
    "    global β=Beta[i];\n",
    "    err=zeros(1,length(X));\n",
    "    for j=1:length(X)\n",
    "        x00=X[j];\n",
    "        xx=-8:1:x00\n",
    "        E=zeros(1,length(xx));\n",
    "        F_cdf=TW(β;x0=x00,method=\"spectral\",step=\"bdf5\",M_s=16000);\n",
    "        if β==4\n",
    "            for k=1:length(xx)\n",
    "                temp=xx[k]\n",
    "                E[k]=abs(F_cdf(temp/(2^(1/6)))-cdf(TW2,temp;beta=β,num_points=300));\n",
    "            end\n",
    "            err[j]=maximum(E);\n",
    "        else\n",
    "            for k=1:length(xx)\n",
    "                temp=xx[k]\n",
    "                E[k]=abs(F_cdf(temp)-cdf(TW2,temp;beta=β,num_points=300));\n",
    "            end\n",
    "            err[j]=maximum(E);\n",
    "        end\n",
    "    end\n",
    "    if β==1\n",
    "        p=plot!(X,vec(err),lw=5,label=L\"$\\beta=1$\",legend=:topright,yaxis=:log10,xticks=X,yticks=[10^(-16),10^(-14),\n",
    "            10^(-12),10^(-10),10^(-8),10^(-6),10^(-4),10^(-2)],marker=(:circle,5),xtickfontsize=15,ytickfontsize=15,legendfontsize=15)\n",
    "    elseif β==2\n",
    "        p=plot!(X,vec(err),lw=5,label=L\"$\\beta=2$\",legend=:topright,yaxis=:log10,xticks=X,yticks=[10^(-16),10^(-14),\n",
    "            10^(-12),10^(-10),10^(-8),10^(-6),10^(-4),10^(-2)],marker=(:circle,5),xtickfontsize=15,ytickfontsize=15,legendfontsize=15)\n",
    "    elseif β==4\n",
    "        p=plot!(X,vec(err),lw=5,label=L\"$\\beta=4$\",legend=:topright,yaxis=:log10,xticks=X,yticks=[10^(-16),10^(-14),\n",
    "            10^(-12),10^(-10),10^(-8),10^(-6),10^(-4),10^(-2)],marker=(:circle,5),xtickfontsize=15,ytickfontsize=15,legendfontsize=15)\n",
    "    end\n",
    "end\n",
    "p"
   ]
  }
 ],
 "metadata": {
  "@webio": {
   "lastCommId": null,
   "lastKernelId": null
  },
  "kernelspec": {
   "display_name": "Julia 1.8.3",
   "language": "julia",
   "name": "julia-1.8"
  },
  "language_info": {
   "file_extension": ".jl",
   "mimetype": "application/julia",
   "name": "julia",
   "version": "1.8.3"
  }
 },
 "nbformat": 4,
 "nbformat_minor": 5
}
