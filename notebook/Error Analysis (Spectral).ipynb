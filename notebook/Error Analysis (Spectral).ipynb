{
 "cells": [
  {
   "cell_type": "markdown",
   "id": "661bcbfb",
   "metadata": {},
   "source": [
    "## Error plot with respect to $\\beta$"
   ]
  },
  {
   "cell_type": "code",
   "execution_count": null,
   "id": "e73247ea",
   "metadata": {},
   "outputs": [],
   "source": [
    "using TracyWidomBeta,LinearAlgebra,Statistics,SparseArrays,Distributions,Trapz,ApproxFun,SpecialFunctions\n",
    "using RandomMatrices,Plots,LaTeXStrings,TypedTables,StatsBase,FFTW"
   ]
  },
  {
   "cell_type": "markdown",
   "id": "ea83e309",
   "metadata": {},
   "source": [
    "To compute the errors, we treat the following as the ground truths."
   ]
  },
  {
   "cell_type": "code",
   "execution_count": null,
   "id": "92f99720",
   "metadata": {},
   "outputs": [],
   "source": [
    "TW2=TracyWidom;\n",
    "F1=Fun(x->cdf(TW2,x; beta=1,num_points=300),-10..13);\n",
    "F2=Fun(x->cdf(TW2,x; beta=2,num_points=300),-10..13);\n",
    "F4=Fun(x->cdf(TW2,x; beta=4,num_points=300),-10..13);\n",
    "f1=F1';\n",
    "f2=F2';\n",
    "f4=F4';"
   ]
  },
  {
   "cell_type": "markdown",
   "id": "3838300d",
   "metadata": {},
   "source": [
    "The following plot shows how the absolute error (CDF) over the entire domain $x\\in\\left[-10,13/\\sqrt{\\beta}\\right]$ changes with respect $\\beta=1,2,4$. $\\Delta x=-0.001$ and $M=8000$ are used."
   ]
  },
  {
   "cell_type": "code",
   "execution_count": null,
   "id": "1f4882ba",
   "metadata": {},
   "outputs": [],
   "source": [
    "function errs_cdf(D1,D2,D4)\n",
    "    ers_cdf=Plots.plot();\n",
    "    beta=[1,2,4];\n",
    "    err1=zeros(length(D1),1);\n",
    "    err2=zeros(length(D2),1);\n",
    "    err4=zeros(length(D4),1);\n",
    "    for j=1:length(beta)\n",
    "        global β=beta[j]\n",
    "        F_cdf=TW(β;method=\"spectral\",step=\"bdf5\")\n",
    "        if β==1\n",
    "            for i=1:length(D1)\n",
    "                temp=D1[i]\n",
    "                err1[i]=abs(F_cdf(temp)-cdf(TW2,temp;beta=1,num_points=300))\n",
    "            end\n",
    "        elseif β==2\n",
    "            for i=1:length(D2)\n",
    "                temp=D2[i]\n",
    "                err2[i]=abs(F_cdf(temp)-cdf(TW2,temp;beta=2,num_points=300))\n",
    "            end\n",
    "        elseif β==4\n",
    "            for i=1:length(D4)\n",
    "                temp=D4[i]\n",
    "                err4[i]=abs(F_cdf(temp/(2^(1/6)))-cdf(TW2,temp;beta=4,num_points=300))\n",
    "            end\n",
    "        end\n",
    "        for i=1:length(D1)\n",
    "            if err1[i]<10^(-16)\n",
    "                err1[i]=10^(-16)\n",
    "            end\n",
    "        end\n",
    "        for i=1:length(D2)\n",
    "            if err2[i]<10^(-16)\n",
    "                err2[i]=10^(-16)\n",
    "            end\n",
    "        end\n",
    "        for i=1:length(D4)\n",
    "            if err4[i]<10^(-16)\n",
    "                err4[i]=10^(-16)\n",
    "            end\n",
    "        end\n",
    "        if β==1\n",
    "            ers_cdf=Plots.plot!(D1,err1,lw=5,label=L\"$\\beta=1$\",yaxis=:log10,xtickfontsize=15,ytickfontsize=15,legendfontsize=10,\n",
    "                yticks=[10^(-16),10^(-15),10^(-14),10^(-13),10^(-12),10^(-11),10^(-10),10^(-9),10^(-8),10^(-7),\n",
    "                    10^(-6),10^(-5)],\n",
    "                xticks=D1[end]:2:D1[1],legend=:bottomleft)\n",
    "        elseif β==2\n",
    "            ers_cdf=Plots.plot!(D2,err2,lw=5,label=L\"$\\beta=2$\",yaxis=:log10,xtickfontsize=15,ytickfontsize=15,legendfontsize=10,\n",
    "                yticks=[10^(-16),10^(-15),10^(-14),10^(-13),10^(-12),10^(-11),10^(-10),10^(-9),10^(-8),10^(-7),\n",
    "                    10^(-6),10^(-5)],\n",
    "                xticks=D1[end]:2:D1[1],legend=:bottomleft)\n",
    "        elseif β==4\n",
    "            ers_cdf=Plots.plot!(D4,err4,lw=5,label=L\"$\\beta=4$\",yaxis=:log10,xtickfontsize=15,ytickfontsize=15,legendfontsize=10,\n",
    "                yticks=[10^(-16),10^(-15),10^(-14),10^(-13),10^(-12),10^(-11),10^(-10),10^(-9),10^(-8),10^(-7),\n",
    "                    10^(-6),10^(-5)],\n",
    "                xticks=D1[end]:2:D1[1],legend=:bottomleft)\n",
    "        end\n",
    "    end\n",
    "    return ers_cdf\n",
    "end"
   ]
  },
  {
   "cell_type": "code",
   "execution_count": null,
   "id": "b286d3f2",
   "metadata": {},
   "outputs": [],
   "source": [
    "D1=(13/sqrt(1)):-0.05:-10;\n",
    "D2=(13/sqrt(2)):-0.05:-10;\n",
    "D4=6.5:-0.05:-10;\n",
    "ers_cdf=errs_cdf(D1,D2,D4)"
   ]
  },
  {
   "cell_type": "markdown",
   "id": "35c39c2a",
   "metadata": {},
   "source": [
    "The following code outputs a table showing the absolute errors of BDF5 for $x=0,\\pm 2,\\pm 4,\\pm 6, \\pm 8$, $\\beta=1,2,4$, $\\Delta x=-0.001$, $M=8000$."
   ]
  },
  {
   "cell_type": "code",
   "execution_count": null,
   "id": "d5e9b49a",
   "metadata": {},
   "outputs": [],
   "source": [
    "X=-8:2:6;\n",
    "err=zeros(length(X),3);\n",
    "B=[1,2,4];\n",
    "for i=1:length(B)\n",
    "    global β=B[i]\n",
    "    F_cdf=TW(β;method=\"spectral\",step=\"bdf5\")\n",
    "    for j=1:length(X)\n",
    "        temp=X[j]\n",
    "        if β==4\n",
    "            err[j,3]=abs(F_cdf(temp/(2^(1/6)))-cdf(TW2,temp;beta=4,num_points=300))\n",
    "        elseif β==1\n",
    "            err[j,1]=abs(F_cdf(temp)-cdf(TW2,temp;beta=1,num_points=300))\n",
    "        elseif β==2\n",
    "            err[j,2]=abs(F_cdf(temp)-cdf(TW2,temp;beta=2,num_points=300))\n",
    "        end\n",
    "    end\n",
    "end\n",
    "err1=err[:,1];err2=err[:,2];err4=err[:,3];"
   ]
  },
  {
   "cell_type": "code",
   "execution_count": null,
   "id": "0df1662a",
   "metadata": {},
   "outputs": [],
   "source": [
    "Table(x=X,β1=err1,β2=err2,β4=err4)"
   ]
  },
  {
   "cell_type": "markdown",
   "id": "92cd51aa",
   "metadata": {},
   "source": [
    "Similarly, the following plot is for the PDF."
   ]
  },
  {
   "cell_type": "code",
   "execution_count": null,
   "id": "fa4069b6",
   "metadata": {},
   "outputs": [],
   "source": [
    "function errs_pdf(D1,D2,D4)\n",
    "    ers_pdf=Plots.plot();\n",
    "    beta=[1,2,4];\n",
    "    err1=zeros(length(D1),1);\n",
    "    err2=zeros(length(D2),1);\n",
    "    err4=zeros(length(D4),1);\n",
    "    for j=1:length(beta)\n",
    "        global β=beta[j]\n",
    "        F_pdf=TW(β;method=\"spectral\",step=\"bdf5\",pdf=true,Δx_f=-0.001)\n",
    "        if β==1\n",
    "            for i=1:length(D1)\n",
    "                temp=D1[i]\n",
    "                err1[i]=abs(F_pdf(temp)-f1(temp))\n",
    "            end\n",
    "        elseif β==2\n",
    "            for i=1:length(D2)\n",
    "                temp=D2[i]\n",
    "                err2[i]=abs(F_pdf(temp)-f2(temp))\n",
    "            end\n",
    "        elseif β==4\n",
    "            for i=1:length(D4)\n",
    "                temp=D4[i]\n",
    "                err4[i]=abs(F_pdf(temp/(2^(1/6)))*(2^(-1/6))-f4(temp))\n",
    "            end\n",
    "        end\n",
    "        for i=1:length(D1)\n",
    "            if err1[i]<10^(-16)\n",
    "                err1[i]=10^(-16)\n",
    "            end\n",
    "        end\n",
    "        for i=1:length(D2)\n",
    "            if err2[i]<10^(-16)\n",
    "                err2[i]=10^(-16)\n",
    "            end\n",
    "        end\n",
    "        for i=1:length(D4)\n",
    "            if err4[i]<10^(-16)\n",
    "                err4[i]=10^(-16)\n",
    "            end\n",
    "        end\n",
    "        if β==1\n",
    "            ers_pdf=Plots.plot!(D1,err1,lw=5,label=L\"$\\beta=1$\",yaxis=:log10,xtickfontsize=15,ytickfontsize=15,legendfontsize=10,\n",
    "                yticks=[10^(-16),10^(-14),10^(-12),10^(-10),10^(-8),10^(-6),10^(-4)],\n",
    "                xticks=D1[end]:2:D1[1],legend=:topright)\n",
    "        elseif β==2\n",
    "            ers_pdf=Plots.plot!(D2,err2,lw=5,label=L\"$\\beta=2$\",yaxis=:log10,xtickfontsize=15,ytickfontsize=15,legendfontsize=10,\n",
    "                yticks=[10^(-16),10^(-14),10^(-12),10^(-10),10^(-8),10^(-6),10^(-4)],\n",
    "                xticks=D1[end]:2:D1[1],legend=:topright)\n",
    "        elseif β==4\n",
    "            ers_pdf=Plots.plot!(D4,err4,lw=5,label=L\"$\\beta=4$\",yaxis=:log10,xtickfontsize=15,ytickfontsize=15,legendfontsize=10,\n",
    "                yticks=[10^(-16),10^(-14),10^(-12),10^(-10),10^(-8),10^(-6),10^(-4)],\n",
    "                xticks=D1[end]:2:D1[1],legend=:topright)\n",
    "        end\n",
    "    end\n",
    "    return ers_pdf\n",
    "end"
   ]
  },
  {
   "cell_type": "code",
   "execution_count": null,
   "id": "a51d0ab0",
   "metadata": {},
   "outputs": [],
   "source": [
    "D1=(13/sqrt(1)):-0.05:-10;\n",
    "D2=(13/sqrt(2)):-0.05:-10;\n",
    "D4=6.5:-0.05:-10;\n",
    "ers_pdf=errs_pdf(D1,D2,D4)"
   ]
  },
  {
   "cell_type": "markdown",
   "id": "da8ddd00",
   "metadata": {},
   "source": [
    "## Error plots with respect to $\\left|\\Delta x\\right|$ and $M$"
   ]
  },
  {
   "cell_type": "markdown",
   "id": "292a761d",
   "metadata": {},
   "source": [
    "The following plots show how the absolute error (CDF) over the entire domain $x\\in\\left[-10,13/\\sqrt{\\beta}\\right]$ changes when $\\left|\\Delta x\\right|$ decreases and $M$ increases for a fixed $\\beta$-value. $\\Delta x=-0.2,-0.1,-0.05$ and $M=8000$ are used."
   ]
  },
  {
   "cell_type": "code",
   "execution_count": null,
   "id": "0197c390",
   "metadata": {},
   "outputs": [],
   "source": [
    "function errs_cdfc(β,D)\n",
    "    ers_cdfc=Plots.plot();\n",
    "    delta_x=[-0.2,-0.1,-0.05];\n",
    "    for j=1:length(delta_x)\n",
    "        err=zeros(length(D),1)\n",
    "        dx=delta_x[j];\n",
    "        F_cdf=TW(β;method=\"spectral\",step=\"bdf5\",Δx_s=dx)\n",
    "        for i=1:length(D)\n",
    "            temp=D[i]\n",
    "            if β==4\n",
    "                err[i]=abs(F_cdf(temp/(2^(1/6)))-cdf(TW2,temp;beta=4,num_points=300))\n",
    "            elseif β==1\n",
    "                err[i]=abs(F_cdf(temp)-cdf(TW2,temp;beta=1,num_points=300))\n",
    "            elseif β==2\n",
    "                err[i]=abs(F_cdf(temp)-cdf(TW2,temp;beta=2,num_points=300))\n",
    "            end\n",
    "        end\n",
    "        for i=1:length(D)\n",
    "            if err[i]<10^(-16)\n",
    "                err[i]=10^(-16)\n",
    "            end\n",
    "        end\n",
    "        if j==1\n",
    "            ers_cdfc=Plots.plot!(D,err,lw=5,label=L\"$\\Delta x=-0.2$\",yaxis=:log10,xtickfontsize=15,ytickfontsize=15,legendfontsize=15,\n",
    "                yticks=[10^(-16),10^(-14),10^(-12),10^(-10),10^(-8),10^(-6),10^(-4),10^(-2),10^(0),10^(2),10^(4),10^(6),10^(8),\n",
    "                    10^(10),10^(12),10^(14),10^(16)],xticks=ceil(D[end]):2:floor(D[1]),legend=:bottom)\n",
    "        elseif j==2\n",
    "            ers_cdfc=Plots.plot!(D,err,lw=5,label=L\"$\\Delta x=-0.1$\",yaxis=:log10,xtickfontsize=15,ytickfontsize=15,legendfontsize=15,\n",
    "                yticks=[10^(-16),10^(-14),10^(-12),10^(-10),10^(-8),10^(-6),10^(-4),10^(-2),10^(0),10^(2),10^(4),10^(6),10^(8),\n",
    "                    10^(10),10^(12),10^(14),10^(16)],xticks=ceil(D[end]):2:floor(D[1]),legend=:bottom)\n",
    "        elseif j==3\n",
    "            ers_cdfc=Plots.plot!(D,err,lw=5,label=L\"$\\Delta x=-0.05$\",yaxis=:log10,xtickfontsize=15,ytickfontsize=15,\n",
    "                legendfontsize=15,yticks=[10^(-16),10^(-14),10^(-12),10^(-10),10^(-8),10^(-6),10^(-4),10^(-2),10^(0),10^(2),10^(4),\n",
    "                    10^(6),10^(8),10^(10),10^(12),10^(14),10^(16)],xticks=ceil(D[end]):2:floor(D[1]),legend=:bottom)\n",
    "        end\n",
    "    end\n",
    "    return ers_cdfc\n",
    "end"
   ]
  },
  {
   "cell_type": "markdown",
   "id": "5dc90b9b",
   "metadata": {},
   "source": [
    "For $\\beta=1$, we have"
   ]
  },
  {
   "cell_type": "code",
   "execution_count": null,
   "id": "5f190569",
   "metadata": {},
   "outputs": [],
   "source": [
    "D=13:-0.05:-10;\n",
    "ers_cdfc=errs_cdfc(1,D)"
   ]
  },
  {
   "cell_type": "markdown",
   "id": "a5a00d59",
   "metadata": {},
   "source": [
    "For $\\beta=2$, we have"
   ]
  },
  {
   "cell_type": "code",
   "execution_count": null,
   "id": "3691322b",
   "metadata": {},
   "outputs": [],
   "source": [
    "D=13/sqrt(2):-0.05:-10;\n",
    "ers_cdfc=errs_cdfc(2,D)"
   ]
  },
  {
   "cell_type": "markdown",
   "id": "9e7432a7",
   "metadata": {},
   "source": [
    "For $\\beta=4$, we have"
   ]
  },
  {
   "cell_type": "code",
   "execution_count": null,
   "id": "ace3aaf6",
   "metadata": {},
   "outputs": [],
   "source": [
    "D=6.5:-0.05:-10;\n",
    "ers_cdfc=errs_cdfc(4,D)"
   ]
  },
  {
   "cell_type": "markdown",
   "id": "5221d074",
   "metadata": {},
   "source": [
    "Similarly, the following algorithm is for the PDF."
   ]
  },
  {
   "cell_type": "code",
   "execution_count": null,
   "id": "31abcf94",
   "metadata": {},
   "outputs": [],
   "source": [
    "function errs_pdfc(β,D)\n",
    "    ers_pdfc=Plots.plot();\n",
    "    delta_x=[-0.2,-0.1,-0.05];\n",
    "    for j=1:length(delta_x)\n",
    "        err=zeros(length(D),1)\n",
    "        dx=delta_x[j];\n",
    "        F_pdf=TW(β;pdf=true,method=\"spectral\",step=\"bdf5\",Δx_s=dx)\n",
    "        for i=1:length(D)\n",
    "            temp=D[i]\n",
    "            if β==4\n",
    "                err[i]=abs(F_pdf(temp/(2^(1/6)))*(2^(-1/6))-f4(temp))\n",
    "            elseif β==1\n",
    "                err[i]=abs(F_pdf(temp)-f1(temp))\n",
    "            elseif β==2\n",
    "                err[i]=abs(F_pdf(temp)-f2(temp))\n",
    "            end\n",
    "        end\n",
    "        for i=1:length(D)\n",
    "            if err[i]<10^(-16)\n",
    "                err[i]=10^(-16)\n",
    "            end\n",
    "        end\n",
    "        if j==1\n",
    "            ers_pdfc=Plots.plot!(D,err,lw=5,label=L\"$\\Delta x=-0.2$\",yaxis=:log10,xtickfontsize=15,ytickfontsize=15,legendfontsize=15,\n",
    "                yticks=[10^(-16),10^(-14),10^(-12),10^(-10),10^(-8),10^(-6),10^(-4),10^(-2),10^(0),10^(2),10^(4),10^(6),10^(8),\n",
    "                    10^(10)],xticks=ceil(D[end]):2:floor(D[1]),legend=:bottom)\n",
    "        elseif j==2\n",
    "            ers_pdfc=Plots.plot!(D,err,lw=5,label=L\"$\\Delta x=-0.1$\",yaxis=:log10,xtickfontsize=15,ytickfontsize=15,legendfontsize=15,\n",
    "                yticks=[10^(-16),10^(-14),10^(-12),10^(-10),10^(-8),10^(-6),10^(-4),10^(-2),10^(0),10^(2),10^(4),10^(6),10^(8),\n",
    "                    10^(10)],xticks=ceil(D[end]):2:floor(D[1]),legend=:bottom)\n",
    "        elseif j==3\n",
    "            ers_pdfc=Plots.plot!(D,err,lw=5,label=L\"$\\Delta x=-0.05$\",yaxis=:log10,xtickfontsize=15,ytickfontsize=15,legendfontsize=15,\n",
    "                yticks=[10^(-16),10^(-14),10^(-12),10^(-10),10^(-8),10^(-6),10^(-4),10^(-2),10^(0),10^(2),10^(4),10^(6),10^(8),\n",
    "                    10^(10)],xticks=ceil(D[end]):2:floor(D[1]),legend=:bottom)\n",
    "        end\n",
    "    end\n",
    "    return ers_pdfc\n",
    "end"
   ]
  },
  {
   "cell_type": "markdown",
   "id": "89afd722",
   "metadata": {},
   "source": [
    "For $\\beta=1$, we have"
   ]
  },
  {
   "cell_type": "code",
   "execution_count": null,
   "id": "4cf50155",
   "metadata": {},
   "outputs": [],
   "source": [
    "D=13:-0.05:-10;\n",
    "ers_pdfc=errs_pdfc(1,D)"
   ]
  },
  {
   "cell_type": "markdown",
   "id": "c87280a0",
   "metadata": {},
   "source": [
    "For $\\beta=2$, we have"
   ]
  },
  {
   "cell_type": "code",
   "execution_count": null,
   "id": "631ee150",
   "metadata": {},
   "outputs": [],
   "source": [
    "D=13/sqrt(2):-0.05:-10;\n",
    "ers_pdfc=errs_pdfc(2,D)"
   ]
  },
  {
   "cell_type": "markdown",
   "id": "bf0f4b85",
   "metadata": {},
   "source": [
    "For $\\beta=4$, we have"
   ]
  },
  {
   "cell_type": "code",
   "execution_count": null,
   "id": "7e399eab",
   "metadata": {},
   "outputs": [],
   "source": [
    "D=6.5:-0.05:-10;\n",
    "ers_pdfc=errs_pdfc(4,D)"
   ]
  },
  {
   "cell_type": "markdown",
   "id": "04bc315b",
   "metadata": {},
   "source": [
    "## Order of error plot"
   ]
  },
  {
   "cell_type": "markdown",
   "id": "5409f6bf",
   "metadata": {},
   "source": [
    "The following plot shows the order of error of the spectral discretization (CDF) using trapezoidal method for $\\beta=2$, $x_{0}=\\lceil 13/\\sqrt{\\beta}\\rceil$, at $x=-2$ before interpolation with $M=8000$. We treat the case $\\Delta x=-0.001$ as the reference to compare with. $\\Delta x=-0.05,-0.04,-0.025$ are used."
   ]
  },
  {
   "cell_type": "code",
   "execution_count": null,
   "id": "13596e7b",
   "metadata": {},
   "outputs": [],
   "source": [
    "β=2;\n",
    "xx=-2;\n",
    "result_ref=TW(β;x0=ceil(13/sqrt(β)),method=\"spectral\",step=\"trapz\",interp=false,Δx_s=-0.001);\n",
    "x_ref=result_ref[1];F_ref=result_ref[2];ind=findall(x -> x == xx, x_ref)[1];"
   ]
  },
  {
   "cell_type": "code",
   "execution_count": null,
   "id": "71a9ccad",
   "metadata": {},
   "outputs": [],
   "source": [
    "del_x=[-0.05,-0.04,-0.025];\n",
    "err=zeros(1,length(del_x));\n",
    "for i=1:length(del_x)\n",
    "    dx=del_x[i];\n",
    "    result_cdf=TW(β;x0=ceil(13/sqrt(β)),method=\"spectral\",step=\"trapz\",interp=false,Δx_s=dx);\n",
    "    x_cdf=result_cdf[1];F_cdf=result_cdf[2];\n",
    "    ind2=findall(x -> x == xx, x_cdf)[1];\n",
    "    err[i]=abs(F_cdf[ind2]-F_ref[ind]);\n",
    "end"
   ]
  },
  {
   "cell_type": "code",
   "execution_count": null,
   "id": "acfa6f3e",
   "metadata": {},
   "outputs": [],
   "source": [
    "p=Plots.plot();\n",
    "p=plot!(del_x.*(-1),vec(err),lw=5,label=\"SD(Trapz)\",legend=:outerright,yaxis=:log10,xaxis=:log10,yticks=[10^(-16),10^(-15),10^(-14),\n",
    "        10^(-13),10^(-12),10^(-11),10^(-10),10^(-9),10^(-8),10^(-7),10^(-6),10^(-5),10^(-4),10^(-3),10^(-2),10^(-1),1,10],\n",
    "    marker=(:circle,5),xtickfontsize=15,ytickfontsize=15,legendfontsize=12)\n",
    "p=plot!(del_x.*(-1),10^(-1.2)*(del_x.*(-1)).^(2),lw=5,label=\"Slope=2\",yaxis=:log10,xaxis=:log10,ls=:dot,legend=:outerright)"
   ]
  },
  {
   "cell_type": "markdown",
   "id": "0ebc637a",
   "metadata": {},
   "source": [
    "The following plot shows the order of error of the spectral discretization (CDF) using BDF3 for $\\beta=2$, $x_{0}=\\lceil 13/\\sqrt{\\beta}\\rceil$, at $x=-2$ before interpolation with $M=8000$. We treat the case $\\Delta x=-0.001$ as the reference to compare with. $\\Delta x=-0.05,-0.04,-0.025$ are used."
   ]
  },
  {
   "cell_type": "code",
   "execution_count": null,
   "id": "eea9461e",
   "metadata": {},
   "outputs": [],
   "source": [
    "β=2;\n",
    "xx=-2;\n",
    "result_ref3=TW(β;x0=ceil(13/sqrt(β)),method=\"spectral\",step=\"bdf3\",interp=false,Δx_s=-0.001);\n",
    "x_ref3=result_ref3[1];F_ref3=result_ref3[2];ind3=findall(x -> x == xx, x_ref3)[1];"
   ]
  },
  {
   "cell_type": "code",
   "execution_count": null,
   "id": "b7f82d5f",
   "metadata": {},
   "outputs": [],
   "source": [
    "del_x=[-0.05,-0.04,-0.025];\n",
    "err3=zeros(1,length(del_x));\n",
    "for i=1:length(del_x)\n",
    "    dx=del_x[i];\n",
    "    result_cdf=TW(β;x0=ceil(13/sqrt(β)),method=\"spectral\",step=\"bdf3\",interp=false,Δx_s=dx);\n",
    "    x_cdf=result_cdf[1];F_cdf=result_cdf[2];\n",
    "    ind32=findall(x -> x == xx, x_cdf)[1];\n",
    "    err3[i]=abs(F_cdf[ind32]-F_ref3[ind3]);\n",
    "end"
   ]
  },
  {
   "cell_type": "code",
   "execution_count": null,
   "id": "74b52eac",
   "metadata": {},
   "outputs": [],
   "source": [
    "p=plot!(del_x.*(-1),vec(err3),lw=5,label=\"SD(BDF3)\",legend=:outerright,yaxis=:log10,xaxis=:log10,yticks=[10^(-16),10^(-15),10^(-14),\n",
    "        10^(-13),10^(-12),10^(-11),10^(-10),10^(-9),10^(-8),10^(-7),10^(-6),10^(-5),10^(-4),10^(-3),10^(-2),10^(-1),1,10],\n",
    "    marker=(:circle,5),xtickfontsize=15,ytickfontsize=15,legendfontsize=12)\n",
    "p=plot!(del_x.*(-1),10^(-1.1)*(del_x.*(-1)).^(3),lw=5,label=\"Slope=3\",yaxis=:log10,xaxis=:log10,ls=:dot,legend=:outerright)"
   ]
  },
  {
   "cell_type": "markdown",
   "id": "8d019aa9",
   "metadata": {},
   "source": [
    "The following plot shows the order of error of the spectral discretization (CDF) using BDF4 for $\\beta=2$, $x_{0}=\\lceil 13/\\sqrt{\\beta}\\rceil$, at $x=-2$ before interpolation with $M=8000$. We treat the case $\\Delta x=-0.001$ as the reference to compare with. $\\Delta x=-0.05,-0.04,-0.025$ are used."
   ]
  },
  {
   "cell_type": "code",
   "execution_count": null,
   "id": "754bf38b",
   "metadata": {},
   "outputs": [],
   "source": [
    "β=2;\n",
    "xx=-2;\n",
    "result_ref4=TW(β;x0=ceil(13/sqrt(β)),method=\"spectral\",step=\"bdf4\",interp=false,Δx_s=-0.001);\n",
    "x_ref4=result_ref4[1];F_ref4=result_ref4[2];ind4=findall(x -> x == xx, x_ref4)[1];"
   ]
  },
  {
   "cell_type": "code",
   "execution_count": null,
   "id": "69263377",
   "metadata": {},
   "outputs": [],
   "source": [
    "del_x=[-0.05,-0.04,-0.025];\n",
    "err4=zeros(1,length(del_x));\n",
    "for i=1:length(del_x)\n",
    "    dx=del_x[i];\n",
    "    result_cdf=TW(β;x0=ceil(13/sqrt(β)),method=\"spectral\",step=\"bdf4\",interp=false,Δx_s=dx);\n",
    "    x_cdf=result_cdf[1];F_cdf=result_cdf[2];\n",
    "    ind42=findall(x -> x == xx, x_cdf)[1];\n",
    "    err4[i]=abs(F_cdf[ind42]-F_ref4[ind4]);\n",
    "end"
   ]
  },
  {
   "cell_type": "code",
   "execution_count": null,
   "id": "2a32b41d",
   "metadata": {},
   "outputs": [],
   "source": [
    "p=plot!(del_x.*(-1),vec(err4),lw=5,label=\"SD(BDF4)\",legend=:outerright,yaxis=:log10,xaxis=:log10,yticks=[10^(-16),10^(-15),10^(-14),\n",
    "        10^(-13),10^(-12),10^(-11),10^(-10),10^(-9),10^(-8),10^(-7),10^(-6),10^(-5),10^(-4),10^(-3),10^(-2),10^(-1),1,10],\n",
    "    marker=(:circle,5),xtickfontsize=15,ytickfontsize=15,legendfontsize=12)\n",
    "p=plot!(del_x.*(-1),10^(-0.3)*(del_x.*(-1)).^(4),lw=5,label=\"Slope=4\",yaxis=:log10,xaxis=:log10,ls=:dot,legend=:outerright)"
   ]
  },
  {
   "cell_type": "markdown",
   "id": "84ddcbde",
   "metadata": {},
   "source": [
    "The following plot shows the order of error of the spectral discretization (CDF) using BDF5 for $\\beta=2$, $x_{0}=\\lceil 13/\\sqrt{\\beta}\\rceil$, at $x=-2$ before interpolation with $M=8000$. We treat the case $\\Delta x=-0.001$ as the reference to compare with. $\\Delta x=-0.25,-0.2,-0.1$ are used."
   ]
  },
  {
   "cell_type": "code",
   "execution_count": null,
   "id": "06867492",
   "metadata": {},
   "outputs": [],
   "source": [
    "β=2;\n",
    "xx=-2;\n",
    "result_ref5=TW(β;x0=ceil(13/sqrt(β)),method=\"spectral\",step=\"bdf5\",interp=false,Δx_s=-0.001);\n",
    "x_ref5=result_ref5[1];F_ref5=result_ref5[2];ind5=findall(x -> x == xx, x_ref5)[1];"
   ]
  },
  {
   "cell_type": "code",
   "execution_count": null,
   "id": "75bea1c2",
   "metadata": {},
   "outputs": [],
   "source": [
    "del_x=[-0.25,-0.2,-0.1];\n",
    "err5=zeros(1,length(del_x));\n",
    "for i=1:length(del_x)\n",
    "    dx=del_x[i];\n",
    "    result_cdf=TW(β;x0=ceil(13/sqrt(β)),method=\"spectral\",step=\"bdf5\",interp=false,Δx_s=dx);\n",
    "    x_cdf=result_cdf[1];F_cdf=result_cdf[2];\n",
    "    ind52=findall(x -> x == xx, x_cdf)[1];\n",
    "    err5[i]=abs(F_cdf[ind52]-F_ref5[ind5]);\n",
    "end"
   ]
  },
  {
   "cell_type": "code",
   "execution_count": null,
   "id": "460e1d8c",
   "metadata": {},
   "outputs": [],
   "source": [
    "p=Plots.plot();\n",
    "p=plot!(del_x.*(-1),vec(err5),lw=5,label=\"SD(BDF5)\",legend=:bottomright,yaxis=:log10,xaxis=:log10,yticks=[10^(-16),10^(-15),10^(-14),\n",
    "        10^(-13),10^(-12),10^(-11),10^(-10),10^(-9),10^(-8),10^(-7),10^(-6),10^(-5),10^(-4),10^(-3),10^(-2),10^(-1),1,10],\n",
    "    marker=(:circle,5),xtickfontsize=15,ytickfontsize=15,legendfontsize=15)\n",
    "p=plot!(del_x.*(-1),10^(-0.18)*(del_x.*(-1)).^(5),lw=5,label=\"Slope=5\",yaxis=:log10,xaxis=:log10,ls=:dot,legend=:bottomright)"
   ]
  },
  {
   "cell_type": "markdown",
   "id": "c61f19d5",
   "metadata": {},
   "source": [
    "The following plot shows the order of error of the spectral discretization (CDF) using BDF6 for $\\beta=2$, $x_{0}=\\lceil 13/\\sqrt{\\beta}\\rceil$, at $x=-2$ before interpolation with $M=8000$. We treat the case $\\Delta x=-0.001$ as the reference to compare with. $\\Delta x=-0.4,-0.3,-0.25$ are used."
   ]
  },
  {
   "cell_type": "code",
   "execution_count": null,
   "id": "f73170f7",
   "metadata": {},
   "outputs": [],
   "source": [
    "β=2;\n",
    "xx=-2;\n",
    "result_ref6=TW(β;x0=ceil(13/sqrt(β)),method=\"spectral\",step=\"bdf6\",interp=false,Δx_s=-0.001);\n",
    "x_ref6=result_ref6[1];F_ref6=result_ref6[2];ind6=findall(x -> x == xx, x_ref6)[1];"
   ]
  },
  {
   "cell_type": "code",
   "execution_count": null,
   "id": "c1b28065",
   "metadata": {},
   "outputs": [],
   "source": [
    "del_x=[-0.4,-0.3,-0.25];\n",
    "err6=zeros(1,length(del_x));\n",
    "for i=1:length(del_x)\n",
    "    dx=del_x[i];\n",
    "    result_cdf=TW(β;x0=ceil(13/sqrt(β)),method=\"spectral\",step=\"bdf6\",interp=false,Δx_s=dx);\n",
    "    x_cdf=result_cdf[1];F_cdf=result_cdf[2];\n",
    "    ind62=findall(x -> x == xx, x_cdf)[1];\n",
    "    err6[i]=abs(F_cdf[ind62]-F_ref6[ind6]);\n",
    "end"
   ]
  },
  {
   "cell_type": "code",
   "execution_count": null,
   "id": "9d67f3e5",
   "metadata": {},
   "outputs": [],
   "source": [
    "p=Plots.plot();\n",
    "p=plot!(del_x.*(-1),vec(err6),lw=5,label=\"SD(BDF6)\",legend=:bottomright,yaxis=:log10,xaxis=:log10,yticks=[10^(-16),10^(-15),10^(-14),\n",
    "        10^(-13),10^(-12),10^(-11),10^(-10),10^(-9),10^(-8),10^(-7),10^(-6),10^(-5),10^(-4),10^(-3),10^(-2),10^(-1),1,10],\n",
    "    marker=(:circle,5),xtickfontsize=15,ytickfontsize=15,legendfontsize=15)\n",
    "p=plot!(del_x.*(-1),10^(-0.1)*(del_x.*(-1)).^(6),lw=5,label=\"Slope=6\",yaxis=:log10,xaxis=:log10,ls=:dot,legend=:bottomright)"
   ]
  },
  {
   "cell_type": "markdown",
   "id": "20c5d027",
   "metadata": {},
   "source": [
    "## Error plots with respect to $x_{0}$"
   ]
  },
  {
   "cell_type": "markdown",
   "id": "7c624463",
   "metadata": {},
   "source": [
    "The following plot shows the absolute error of BDF5 after interpolation over $x=-8,-7,\\cdots,x_{0}$ with respect to $x_{0}$. $\\beta=1,2,4$, $x_{0}=13,12,11,10,9,8,7,6,5,4,3,2$."
   ]
  },
  {
   "cell_type": "code",
   "execution_count": null,
   "id": "de2ecd37",
   "metadata": {},
   "outputs": [],
   "source": [
    "Beta=[1,2,4];\n",
    "X=[13,12,11,10,9,8,7,6,5,4,3,2];\n",
    "p=Plots.plot();\n",
    "for i=1:length(Beta)\n",
    "    global β=Beta[i];\n",
    "    err=zeros(1,length(X));\n",
    "    for j=1:length(X)\n",
    "        x00=X[j];\n",
    "        xx=-8:1:x00\n",
    "        E=zeros(1,length(xx));\n",
    "        F_cdf=TW(β;x0=x00,method=\"spectral\",step=\"bdf5\",M_s=16000);\n",
    "        if β==4\n",
    "            for k=1:length(xx)\n",
    "                temp=xx[k]\n",
    "                E[k]=abs(F_cdf(temp/(2^(1/6)))-cdf(TW2,temp;beta=β,num_points=300));\n",
    "            end\n",
    "            err[j]=maximum(E);\n",
    "        else\n",
    "            for k=1:length(xx)\n",
    "                temp=xx[k]\n",
    "                E[k]=abs(F_cdf(temp)-cdf(TW2,temp;beta=β,num_points=300));\n",
    "            end\n",
    "            err[j]=maximum(E);\n",
    "        end\n",
    "    end\n",
    "    if β==1\n",
    "        p=plot!(X,vec(err),lw=5,label=L\"$\\beta=1$\",legend=:topright,yaxis=:log10,xticks=X,yticks=[10^(-16),10^(-14),\n",
    "            10^(-12),10^(-10),10^(-8),10^(-6),10^(-4),10^(-2)],marker=(:circle,5),xtickfontsize=15,ytickfontsize=15,legendfontsize=15)\n",
    "    elseif β==2\n",
    "        p=plot!(X,vec(err),lw=5,label=L\"$\\beta=2$\",legend=:topright,yaxis=:log10,xticks=X,yticks=[10^(-16),10^(-14),\n",
    "            10^(-12),10^(-10),10^(-8),10^(-6),10^(-4),10^(-2)],marker=(:circle,5),xtickfontsize=15,ytickfontsize=15,legendfontsize=15)\n",
    "    elseif β==4\n",
    "        p=plot!(X,vec(err),lw=5,label=L\"$\\beta=4$\",legend=:topright,yaxis=:log10,xticks=X,yticks=[10^(-16),10^(-14),\n",
    "            10^(-12),10^(-10),10^(-8),10^(-6),10^(-4),10^(-2)],marker=(:circle,5),xtickfontsize=15,ytickfontsize=15,legendfontsize=15)\n",
    "    end\n",
    "end\n",
    "p"
   ]
  }
 ],
 "metadata": {
  "@webio": {
   "lastCommId": null,
   "lastKernelId": null
  },
  "kernelspec": {
   "display_name": "Julia 1.8.3",
   "language": "julia",
   "name": "julia-1.8"
  },
  "language_info": {
   "file_extension": ".jl",
   "mimetype": "application/julia",
   "name": "julia",
   "version": "1.8.3"
  }
 },
 "nbformat": 4,
 "nbformat_minor": 5
}
